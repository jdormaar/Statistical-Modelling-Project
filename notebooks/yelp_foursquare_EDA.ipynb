{
 "cells": [
  {
   "cell_type": "markdown",
   "metadata": {},
   "source": [
    "# W3P2 - PART3 - yelp_foursquareEDA\n",
    "\n",
    "assignment file part 2"
   ]
  },
  {
   "cell_type": "code",
   "execution_count": 1,
   "metadata": {},
   "outputs": [],
   "source": [
    "from datetime import datetime\n",
    "import pandas as pd\n",
    "import requests\n",
    "import json\n",
    "import os\n",
    "import warnings\n",
    "warnings.filterwarnings('ignore')"
   ]
  },
  {
   "cell_type": "markdown",
   "metadata": {},
   "source": [
    "# Foursquare"
   ]
  },
  {
   "cell_type": "markdown",
   "metadata": {},
   "source": [
    "Send a request to Foursquare with a small radius (1000m) for all the bike stations in your city of choice. Assuming the average comfortable walking speed below, the radius of 1km should list sites available within a 15min walking distance from each bike station.\n",
    "\n",
    "$$\n",
    "1km * hour/4km \n",
    "$$"
   ]
  },
  {
   "cell_type": "code",
   "execution_count": 2,
   "metadata": {},
   "outputs": [
    {
     "data": {
      "text/plain": [
       "(655, 19)"
      ]
     },
     "execution_count": 2,
     "metadata": {},
     "output_type": "execute_result"
    }
   ],
   "source": [
    "# Import data from file\n",
    "df = pd.read_csv('../data/df_ctybks_toronto.csv')\n",
    "df.shape"
   ]
  },
  {
   "cell_type": "markdown",
   "metadata": {},
   "source": [
    "Create lat and long series from the ctyBks table:"
   ]
  },
  {
   "cell_type": "code",
   "execution_count": 3,
   "metadata": {},
   "outputs": [
    {
     "name": "stdout",
     "output_type": "stream",
     "text": [
      "43.657763,-79.389165\n"
     ]
    }
   ],
   "source": [
    "lat = df['latitude']\n",
    "long = df['longitude']\n",
    "print(f'{lat[5]},{long[5]}')"
   ]
  },
  {
   "cell_type": "code",
   "execution_count": 4,
   "metadata": {},
   "outputs": [],
   "source": [
    "numStns = len(lat)"
   ]
  },
  {
   "cell_type": "code",
   "execution_count": 5,
   "metadata": {},
   "outputs": [],
   "source": [
    "def fsqStationPOI(lat, long):\n",
    "  '''\n",
    "  input:\n",
    "  output:\n",
    "  '''\n",
    "  api_key = os.environ[\"FOURSQUARE_API_KEY\"]\n",
    "  fields = 'fsq_id,name,geocodes,categories,distance,rating,hours,hours_popular,popularity,features'\n",
    "\n",
    "  headers = {\n",
    "      \"accept\": \"application/json\",\n",
    "      \"Authorization\": api_key\n",
    "  }\n",
    "\n",
    "  fsq_url = (f'https://api.foursquare.com/v3/places/search?ll={lat},{long}&fields={fields}&radius=1000&&limit=50')\n",
    "  \n",
    "  fsqStnPOI_json = requests.get(fsq_url, headers=headers).json()\n",
    "\n",
    "  list_of_dict = []\n",
    "  for poi in fsqStnPOI_json['results']:\n",
    "    categories = poi.get('categories', None)\n",
    "    cat_id = categories[0]['id'] if len(categories) > 0 else None\n",
    "    category_name = categories[0]['name'] if len(categories) > 0 else None\n",
    "\n",
    "    poi_dict = {\n",
    "            'lat-long': f'{lat},{long}'\n",
    "          , 'fsq_id': poi['fsq_id']\n",
    "          , 'cat_id': cat_id\n",
    "          , 'category_name': category_name\n",
    "          , 'categories': categories\n",
    "          , 'name': poi.get('name', None)\n",
    "          , 'distance': poi.get('distance', None)\n",
    "          , 'latitude': poi.get('geocodes', {}).get('main', {}).get('latitude', None)\n",
    "          , 'longitude': poi.get('geocodes', {}).get('main', {}).get('longitude', None)\n",
    "          , 'address': poi.get('location', {}).get('formatted_address', None)\n",
    "          , 'popularity': poi.get('popularity', None)\n",
    "          , 'open_now': poi.get('hours', {}).get('open_now', None)\n",
    "          , 'rating': poi.get('rating', None)\n",
    "          , 'rating_count': poi.get('stats', {}).get('total_ratings', None)\n",
    "          , 'my_timestamp': datetime.now()\n",
    "      }\n",
    "      \n",
    "    list_of_dict.append(poi_dict)\n",
    "  return pd.DataFrame(list_of_dict)\n"
   ]
  },
  {
   "cell_type": "code",
   "execution_count": 6,
   "metadata": {},
   "outputs": [
    {
     "name": "stdout",
     "output_type": "stream",
     "text": [
      "43.657763,-79.389165\n"
     ]
    }
   ],
   "source": [
    "print(f'{lat[5]},{long[5]}')"
   ]
  },
  {
   "cell_type": "code",
   "execution_count": 7,
   "metadata": {},
   "outputs": [
    {
     "data": {
      "text/html": [
       "<div>\n",
       "<style scoped>\n",
       "    .dataframe tbody tr th:only-of-type {\n",
       "        vertical-align: middle;\n",
       "    }\n",
       "\n",
       "    .dataframe tbody tr th {\n",
       "        vertical-align: top;\n",
       "    }\n",
       "\n",
       "    .dataframe thead th {\n",
       "        text-align: right;\n",
       "    }\n",
       "</style>\n",
       "<table border=\"1\" class=\"dataframe\">\n",
       "  <thead>\n",
       "    <tr style=\"text-align: right;\">\n",
       "      <th></th>\n",
       "      <th>lat-long</th>\n",
       "      <th>fsq_id</th>\n",
       "      <th>cat_id</th>\n",
       "      <th>category_name</th>\n",
       "      <th>categories</th>\n",
       "      <th>name</th>\n",
       "      <th>distance</th>\n",
       "      <th>latitude</th>\n",
       "      <th>longitude</th>\n",
       "      <th>address</th>\n",
       "      <th>popularity</th>\n",
       "      <th>open_now</th>\n",
       "      <th>rating</th>\n",
       "      <th>rating_count</th>\n",
       "      <th>my_timestamp</th>\n",
       "    </tr>\n",
       "  </thead>\n",
       "  <tbody>\n",
       "    <tr>\n",
       "      <th>0</th>\n",
       "      <td>43.657763,-79.389165</td>\n",
       "      <td>537d4d6d498ec171ba22e7fe</td>\n",
       "      <td>13034</td>\n",
       "      <td>Café</td>\n",
       "      <td>[{'id': 13034, 'name': 'Café', 'icon': {'prefi...</td>\n",
       "      <td>Jimmy's Coffee</td>\n",
       "      <td>294</td>\n",
       "      <td>43.658525</td>\n",
       "      <td>-79.385436</td>\n",
       "      <td>None</td>\n",
       "      <td>0.972089</td>\n",
       "      <td>False</td>\n",
       "      <td>8.5</td>\n",
       "      <td>None</td>\n",
       "      <td>2022-12-04 20:59:14.714662</td>\n",
       "    </tr>\n",
       "  </tbody>\n",
       "</table>\n",
       "</div>"
      ],
      "text/plain": [
       "               lat-long                    fsq_id  cat_id category_name  \\\n",
       "0  43.657763,-79.389165  537d4d6d498ec171ba22e7fe   13034          Café   \n",
       "\n",
       "                                          categories            name  \\\n",
       "0  [{'id': 13034, 'name': 'Café', 'icon': {'prefi...  Jimmy's Coffee   \n",
       "\n",
       "   distance   latitude  longitude address  popularity  open_now  rating  \\\n",
       "0       294  43.658525 -79.385436    None    0.972089     False     8.5   \n",
       "\n",
       "  rating_count               my_timestamp  \n",
       "0         None 2022-12-04 20:59:14.714662  "
      ]
     },
     "execution_count": 7,
     "metadata": {},
     "output_type": "execute_result"
    }
   ],
   "source": [
    "# Test\n",
    "fsqStnPOI_df = fsqStationPOI(lat[5], long[5])\n",
    "fsqStnPOI_df.head(1)"
   ]
  },
  {
   "cell_type": "markdown",
   "metadata": {},
   "source": [
    "Generate a list of DataFrames now for each station site:"
   ]
  },
  {
   "cell_type": "code",
   "execution_count": 8,
   "metadata": {},
   "outputs": [],
   "source": [
    "fsq_dfs_list = []\n",
    "for i in range(numStns):\n",
    "  poi_df = fsqStationPOI(lat[i], long[i])\n",
    "  fsq_dfs_list.append(poi_df)"
   ]
  },
  {
   "cell_type": "markdown",
   "metadata": {},
   "source": [
    "Concatenate the DataFrames to create one large one."
   ]
  },
  {
   "cell_type": "code",
   "execution_count": 9,
   "metadata": {},
   "outputs": [],
   "source": [
    "df_fsq = pd.DataFrame()\n",
    "x = pd.DataFrame()\n",
    "\n",
    "# concatenate full df object of all stn site data:\n",
    "for poi_df in fsq_dfs_list:\n",
    "    x = pd.concat([df_fsq, poi_df])\n",
    "    df_fsq = x"
   ]
  },
  {
   "cell_type": "code",
   "execution_count": 10,
   "metadata": {},
   "outputs": [
    {
     "data": {
      "text/plain": [
       "(32709, 15)"
      ]
     },
     "execution_count": 10,
     "metadata": {},
     "output_type": "execute_result"
    }
   ],
   "source": [
    "df_fsq.shape"
   ]
  },
  {
   "cell_type": "code",
   "execution_count": 316,
   "metadata": {},
   "outputs": [],
   "source": [
    "# df_fsq = pd.read_csv('../data/fsqPOI/df_fsq_sun00h.csv')"
   ]
  },
  {
   "cell_type": "markdown",
   "metadata": {},
   "source": [
    "## Cleaning and Normalizing the nested table values:\n",
    "\n",
    "The function which created the DataFrame made sure that each POI had at least one category name and ID, but we can see above that many have two or even three which can be normalized to flatten the hierarchy."
   ]
  },
  {
   "cell_type": "code",
   "execution_count": 11,
   "metadata": {},
   "outputs": [
    {
     "data": {
      "text/html": [
       "<div>\n",
       "<style scoped>\n",
       "    .dataframe tbody tr th:only-of-type {\n",
       "        vertical-align: middle;\n",
       "    }\n",
       "\n",
       "    .dataframe tbody tr th {\n",
       "        vertical-align: top;\n",
       "    }\n",
       "\n",
       "    .dataframe thead th {\n",
       "        text-align: right;\n",
       "    }\n",
       "</style>\n",
       "<table border=\"1\" class=\"dataframe\">\n",
       "  <thead>\n",
       "    <tr style=\"text-align: right;\">\n",
       "      <th></th>\n",
       "      <th>0</th>\n",
       "      <th>1</th>\n",
       "      <th>2</th>\n",
       "    </tr>\n",
       "  </thead>\n",
       "  <tbody>\n",
       "    <tr>\n",
       "      <th>0</th>\n",
       "      <td>{'id': 17065, 'name': 'Farmers' Market', 'icon...</td>\n",
       "      <td>{'id': 17069, 'name': 'Grocery Store / Superma...</td>\n",
       "      <td>None</td>\n",
       "    </tr>\n",
       "    <tr>\n",
       "      <th>1</th>\n",
       "      <td>{'id': 13035, 'name': 'Coffee Shop', 'icon.pre...</td>\n",
       "      <td>None</td>\n",
       "      <td>None</td>\n",
       "    </tr>\n",
       "    <tr>\n",
       "      <th>2</th>\n",
       "      <td>{'id': 17119, 'name': 'Bicycle Store', 'icon.p...</td>\n",
       "      <td>None</td>\n",
       "      <td>None</td>\n",
       "    </tr>\n",
       "    <tr>\n",
       "      <th>3</th>\n",
       "      <td>{'id': 10039, 'name': 'Music Venue', 'icon.pre...</td>\n",
       "      <td>None</td>\n",
       "      <td>None</td>\n",
       "    </tr>\n",
       "    <tr>\n",
       "      <th>4</th>\n",
       "      <td>{'id': 13011, 'name': 'Gay Bar', 'icon.prefix'...</td>\n",
       "      <td>{'id': 13016, 'name': 'Lounge', 'icon.prefix':...</td>\n",
       "      <td>{'id': 13065, 'name': 'Restaurant', 'icon.pref...</td>\n",
       "    </tr>\n",
       "  </tbody>\n",
       "</table>\n",
       "</div>"
      ],
      "text/plain": [
       "                                                   0  \\\n",
       "0  {'id': 17065, 'name': 'Farmers' Market', 'icon...   \n",
       "1  {'id': 13035, 'name': 'Coffee Shop', 'icon.pre...   \n",
       "2  {'id': 17119, 'name': 'Bicycle Store', 'icon.p...   \n",
       "3  {'id': 10039, 'name': 'Music Venue', 'icon.pre...   \n",
       "4  {'id': 13011, 'name': 'Gay Bar', 'icon.prefix'...   \n",
       "\n",
       "                                                   1  \\\n",
       "0  {'id': 17069, 'name': 'Grocery Store / Superma...   \n",
       "1                                               None   \n",
       "2                                               None   \n",
       "3                                               None   \n",
       "4  {'id': 13016, 'name': 'Lounge', 'icon.prefix':...   \n",
       "\n",
       "                                                   2  \n",
       "0                                               None  \n",
       "1                                               None  \n",
       "2                                               None  \n",
       "3                                               None  \n",
       "4  {'id': 13065, 'name': 'Restaurant', 'icon.pref...  "
      ]
     },
     "execution_count": 11,
     "metadata": {},
     "output_type": "execute_result"
    }
   ],
   "source": [
    "# Normalize the categories:\n",
    "df_fsqcat = pd.json_normalize(df_fsq['categories'][0])\n",
    "df_fsqcat.head()"
   ]
  },
  {
   "cell_type": "code",
   "execution_count": 12,
   "metadata": {},
   "outputs": [
    {
     "data": {
      "text/html": [
       "<div>\n",
       "<style scoped>\n",
       "    .dataframe tbody tr th:only-of-type {\n",
       "        vertical-align: middle;\n",
       "    }\n",
       "\n",
       "    .dataframe tbody tr th {\n",
       "        vertical-align: top;\n",
       "    }\n",
       "\n",
       "    .dataframe thead th {\n",
       "        text-align: right;\n",
       "    }\n",
       "</style>\n",
       "<table border=\"1\" class=\"dataframe\">\n",
       "  <thead>\n",
       "    <tr style=\"text-align: right;\">\n",
       "      <th></th>\n",
       "      <th>id</th>\n",
       "      <th>name</th>\n",
       "      <th>icon.prefix</th>\n",
       "      <th>icon.suffix</th>\n",
       "    </tr>\n",
       "  </thead>\n",
       "  <tbody>\n",
       "    <tr>\n",
       "      <th>0</th>\n",
       "      <td>17065.0</td>\n",
       "      <td>Farmers' Market</td>\n",
       "      <td>https://ss3.4sqi.net/img/categories_v2/shops/f...</td>\n",
       "      <td>.png</td>\n",
       "    </tr>\n",
       "    <tr>\n",
       "      <th>1</th>\n",
       "      <td>13035.0</td>\n",
       "      <td>Coffee Shop</td>\n",
       "      <td>https://ss3.4sqi.net/img/categories_v2/food/co...</td>\n",
       "      <td>.png</td>\n",
       "    </tr>\n",
       "    <tr>\n",
       "      <th>2</th>\n",
       "      <td>17119.0</td>\n",
       "      <td>Bicycle Store</td>\n",
       "      <td>https://ss3.4sqi.net/img/categories_v2/shops/b...</td>\n",
       "      <td>.png</td>\n",
       "    </tr>\n",
       "    <tr>\n",
       "      <th>3</th>\n",
       "      <td>10039.0</td>\n",
       "      <td>Music Venue</td>\n",
       "      <td>https://ss3.4sqi.net/img/categories_v2/arts_en...</td>\n",
       "      <td>.png</td>\n",
       "    </tr>\n",
       "    <tr>\n",
       "      <th>4</th>\n",
       "      <td>13011.0</td>\n",
       "      <td>Gay Bar</td>\n",
       "      <td>https://ss3.4sqi.net/img/categories_v2/nightli...</td>\n",
       "      <td>.png</td>\n",
       "    </tr>\n",
       "  </tbody>\n",
       "</table>\n",
       "</div>"
      ],
      "text/plain": [
       "        id             name  \\\n",
       "0  17065.0  Farmers' Market   \n",
       "1  13035.0      Coffee Shop   \n",
       "2  17119.0    Bicycle Store   \n",
       "3  10039.0      Music Venue   \n",
       "4  13011.0          Gay Bar   \n",
       "\n",
       "                                         icon.prefix icon.suffix  \n",
       "0  https://ss3.4sqi.net/img/categories_v2/shops/f...        .png  \n",
       "1  https://ss3.4sqi.net/img/categories_v2/food/co...        .png  \n",
       "2  https://ss3.4sqi.net/img/categories_v2/shops/b...        .png  \n",
       "3  https://ss3.4sqi.net/img/categories_v2/arts_en...        .png  \n",
       "4  https://ss3.4sqi.net/img/categories_v2/nightli...        .png  "
      ]
     },
     "execution_count": 12,
     "metadata": {},
     "output_type": "execute_result"
    }
   ],
   "source": [
    "# normalize the resulting 3 columns into 3 tables in the example below:\n",
    "df_fsqcat0 = pd.json_normalize(df_fsqcat[0])\n",
    "df_fsqcat1 = pd.json_normalize(df_fsqcat[1])\n",
    "df_fsqcat2 = pd.json_normalize(df_fsqcat[2])\n",
    "df_fsqcat0.head()"
   ]
  },
  {
   "cell_type": "code",
   "execution_count": 13,
   "metadata": {},
   "outputs": [
    {
     "data": {
      "text/html": [
       "<div>\n",
       "<style scoped>\n",
       "    .dataframe tbody tr th:only-of-type {\n",
       "        vertical-align: middle;\n",
       "    }\n",
       "\n",
       "    .dataframe tbody tr th {\n",
       "        vertical-align: top;\n",
       "    }\n",
       "\n",
       "    .dataframe thead th {\n",
       "        text-align: right;\n",
       "    }\n",
       "</style>\n",
       "<table border=\"1\" class=\"dataframe\">\n",
       "  <thead>\n",
       "    <tr style=\"text-align: right;\">\n",
       "      <th></th>\n",
       "      <th>lat-long</th>\n",
       "      <th>fsq_id</th>\n",
       "      <th>name</th>\n",
       "      <th>distance</th>\n",
       "      <th>latitude</th>\n",
       "      <th>longitude</th>\n",
       "      <th>address</th>\n",
       "      <th>popularity</th>\n",
       "      <th>open_now</th>\n",
       "      <th>rating</th>\n",
       "      <th>...</th>\n",
       "      <th>cat1_icon</th>\n",
       "      <th>cat1_icon.suffix</th>\n",
       "      <th>cat2_id</th>\n",
       "      <th>cat2_name</th>\n",
       "      <th>cat2_icon</th>\n",
       "      <th>cat2_icon.suffix</th>\n",
       "      <th>cat3_id</th>\n",
       "      <th>cat3_name</th>\n",
       "      <th>cat3_icon</th>\n",
       "      <th>cat3_icon.suffix</th>\n",
       "    </tr>\n",
       "  </thead>\n",
       "  <tbody>\n",
       "    <tr>\n",
       "      <th>0</th>\n",
       "      <td>43.665269,-79.319796</td>\n",
       "      <td>4deb8ba688774880e3387c0c</td>\n",
       "      <td>Leslieville Farmers Market</td>\n",
       "      <td>40</td>\n",
       "      <td>43.664679</td>\n",
       "      <td>-79.319687</td>\n",
       "      <td>None</td>\n",
       "      <td>0.86858</td>\n",
       "      <td>False</td>\n",
       "      <td>8.6</td>\n",
       "      <td>...</td>\n",
       "      <td>https://ss3.4sqi.net/img/categories_v2/shops/f...</td>\n",
       "      <td>.png</td>\n",
       "      <td>17069</td>\n",
       "      <td>Grocery Store / Supermarket</td>\n",
       "      <td>https://ss3.4sqi.net/img/categories_v2/shops/f...</td>\n",
       "      <td>.png</td>\n",
       "      <td>&lt;NA&gt;</td>\n",
       "      <td>NaN</td>\n",
       "      <td>NaN</td>\n",
       "      <td>NaN</td>\n",
       "    </tr>\n",
       "  </tbody>\n",
       "</table>\n",
       "<p>1 rows × 24 columns</p>\n",
       "</div>"
      ],
      "text/plain": [
       "               lat-long                    fsq_id                        name  \\\n",
       "0  43.665269,-79.319796  4deb8ba688774880e3387c0c  Leslieville Farmers Market   \n",
       "\n",
       "   distance   latitude  longitude address  popularity  open_now rating  ...  \\\n",
       "0        40  43.664679 -79.319687    None     0.86858     False    8.6  ...   \n",
       "\n",
       "                                           cat1_icon cat1_icon.suffix  \\\n",
       "0  https://ss3.4sqi.net/img/categories_v2/shops/f...             .png   \n",
       "\n",
       "   cat2_id                    cat2_name  \\\n",
       "0    17069  Grocery Store / Supermarket   \n",
       "\n",
       "                                           cat2_icon cat2_icon.suffix  \\\n",
       "0  https://ss3.4sqi.net/img/categories_v2/shops/f...             .png   \n",
       "\n",
       "   cat3_id cat3_name cat3_icon cat3_icon.suffix  \n",
       "0     <NA>       NaN       NaN              NaN  \n",
       "\n",
       "[1 rows x 24 columns]"
      ]
     },
     "execution_count": 13,
     "metadata": {},
     "output_type": "execute_result"
    }
   ],
   "source": [
    "# Add new category labels back onto the df: \n",
    "df_fsq['cat1_id'] = (df_fsqcat0['id'].astype('Int64'))\n",
    "df_fsq['cat1_name'] = df_fsqcat0['name']\n",
    "df_fsq['cat1_icon'] = df_fsqcat0['icon.prefix']\n",
    "df_fsq['cat1_icon.suffix'] = df_fsqcat0['icon.suffix']\n",
    "\n",
    "df_fsq['cat2_id'] = df_fsqcat1['id'].astype('Int64')\n",
    "df_fsq['cat2_name'] = df_fsqcat1['name']\n",
    "df_fsq['cat2_icon'] = df_fsqcat1['icon.prefix']\n",
    "df_fsq['cat2_icon.suffix'] = df_fsqcat1['icon.suffix']\n",
    "\n",
    "df_fsq['cat3_id'] = df_fsqcat2['id'].astype('Int64')\n",
    "df_fsq['cat3_name'] = df_fsqcat2['name']\n",
    "df_fsq['cat3_icon'] = df_fsqcat2['icon.prefix']\n",
    "df_fsq['cat3_icon.suffix'] = df_fsqcat2['icon.suffix']\n",
    "\n",
    "# Remove the now redundant 'category' and 'name' columns:\n",
    "df_fsq = df_fsq.drop(['categories', 'category_name', 'cat_id', ], axis = 1)\n",
    "\n",
    "df_fsq.head(1)"
   ]
  },
  {
   "cell_type": "markdown",
   "metadata": {},
   "source": [
    "#### SAVE IT!!"
   ]
  },
  {
   "cell_type": "code",
   "execution_count": 14,
   "metadata": {},
   "outputs": [],
   "source": [
    "# df_fsq.to_csv(f'../data/fsqPOI/df_fsq{datetime.now()}.csv', index=False)\n",
    "df_fsq.to_csv(f'../data/fsqPOI/df_fsq_sun2311.csv', index=False)"
   ]
  },
  {
   "cell_type": "markdown",
   "metadata": {},
   "source": [
    "Parse through the response to get the POI (such as restaurants, bars, etc) details you want (ratings, name, location, etc)\n",
    "\n",
    "### FOURSQUARE POI:"
   ]
  },
  {
   "cell_type": "code",
   "execution_count": 15,
   "metadata": {},
   "outputs": [
    {
     "data": {
      "text/html": [
       "<div>\n",
       "<style scoped>\n",
       "    .dataframe tbody tr th:only-of-type {\n",
       "        vertical-align: middle;\n",
       "    }\n",
       "\n",
       "    .dataframe tbody tr th {\n",
       "        vertical-align: top;\n",
       "    }\n",
       "\n",
       "    .dataframe thead th {\n",
       "        text-align: right;\n",
       "    }\n",
       "</style>\n",
       "<table border=\"1\" class=\"dataframe\">\n",
       "  <thead>\n",
       "    <tr style=\"text-align: right;\">\n",
       "      <th></th>\n",
       "      <th>lat-long</th>\n",
       "      <th>name</th>\n",
       "      <th>distance</th>\n",
       "      <th>latitude</th>\n",
       "      <th>longitude</th>\n",
       "      <th>popularity</th>\n",
       "      <th>open_now</th>\n",
       "      <th>rating</th>\n",
       "      <th>rating_count</th>\n",
       "      <th>my_timestamp</th>\n",
       "      <th>cat1_id</th>\n",
       "      <th>cat1_name</th>\n",
       "      <th>cat2_id</th>\n",
       "      <th>cat2_name</th>\n",
       "      <th>cat3_id</th>\n",
       "      <th>cat3_name</th>\n",
       "    </tr>\n",
       "  </thead>\n",
       "  <tbody>\n",
       "    <tr>\n",
       "      <th>0</th>\n",
       "      <td>43.665269,-79.319796</td>\n",
       "      <td>Leslieville Farmers Market</td>\n",
       "      <td>40</td>\n",
       "      <td>43.664679</td>\n",
       "      <td>-79.319687</td>\n",
       "      <td>0.868580</td>\n",
       "      <td>False</td>\n",
       "      <td>8.6</td>\n",
       "      <td>None</td>\n",
       "      <td>2022-12-04 20:59:17.456850</td>\n",
       "      <td>17065</td>\n",
       "      <td>Farmers' Market</td>\n",
       "      <td>17069</td>\n",
       "      <td>Grocery Store / Supermarket</td>\n",
       "      <td>&lt;NA&gt;</td>\n",
       "      <td>NaN</td>\n",
       "    </tr>\n",
       "    <tr>\n",
       "      <th>1</th>\n",
       "      <td>43.665269,-79.319796</td>\n",
       "      <td>McDonald's</td>\n",
       "      <td>62</td>\n",
       "      <td>43.664993</td>\n",
       "      <td>-79.319222</td>\n",
       "      <td>0.995501</td>\n",
       "      <td>False</td>\n",
       "      <td>7.4</td>\n",
       "      <td>None</td>\n",
       "      <td>2022-12-04 20:59:17.456868</td>\n",
       "      <td>13035</td>\n",
       "      <td>Coffee Shop</td>\n",
       "      <td>&lt;NA&gt;</td>\n",
       "      <td>NaN</td>\n",
       "      <td>&lt;NA&gt;</td>\n",
       "      <td>NaN</td>\n",
       "    </tr>\n",
       "  </tbody>\n",
       "</table>\n",
       "</div>"
      ],
      "text/plain": [
       "               lat-long                        name  distance   latitude  \\\n",
       "0  43.665269,-79.319796  Leslieville Farmers Market        40  43.664679   \n",
       "1  43.665269,-79.319796                  McDonald's        62  43.664993   \n",
       "\n",
       "   longitude  popularity  open_now rating rating_count  \\\n",
       "0 -79.319687    0.868580     False    8.6         None   \n",
       "1 -79.319222    0.995501     False    7.4         None   \n",
       "\n",
       "                my_timestamp  cat1_id        cat1_name  cat2_id  \\\n",
       "0 2022-12-04 20:59:17.456850    17065  Farmers' Market    17069   \n",
       "1 2022-12-04 20:59:17.456868    13035      Coffee Shop     <NA>   \n",
       "\n",
       "                     cat2_name  cat3_id cat3_name  \n",
       "0  Grocery Store / Supermarket     <NA>       NaN  \n",
       "1                          NaN     <NA>       NaN  "
      ]
     },
     "execution_count": 15,
     "metadata": {},
     "output_type": "execute_result"
    }
   ],
   "source": [
    "# Clone a working copy:\n",
    "dff = df_fsq.copy()\n",
    "\n",
    "# Drop columns from our copy df not currently needed:\n",
    "dff = dff.drop(['fsq_id', 'cat1_icon', 'cat2_icon', 'cat3_icon', 'cat1_icon.suffix', 'cat2_icon.suffix', 'cat3_icon.suffix', 'address'], axis = 1)\n",
    "dff.head(2)"
   ]
  },
  {
   "cell_type": "markdown",
   "metadata": {},
   "source": [
    "Convert the timestamp data to the Toronto's time zone:"
   ]
  },
  {
   "cell_type": "code",
   "execution_count": 16,
   "metadata": {},
   "outputs": [],
   "source": [
    "from datetime import datetime\n",
    "import pytz"
   ]
  },
  {
   "cell_type": "code",
   "execution_count": 17,
   "metadata": {},
   "outputs": [
    {
     "name": "stdout",
     "output_type": "stream",
     "text": [
      "2022-12-04 20:59:17.456850\n",
      "2022-12-04 22:59:17.456850-05:00\n"
     ]
    }
   ],
   "source": [
    "# create both timezone objects\n",
    "old_timezone = pytz.timezone(\"US/Mountain\")\n",
    "new_timezone = pytz.timezone(\"US/Eastern\")\n",
    "\n",
    "# Confirm current timezone\n",
    "print(dff['my_timestamp'].iloc[0])\n",
    "\n",
    "# two-step process\n",
    "for i in range(dff.shape[0]):\n",
    "  localized_timestamp = old_timezone.localize(dff['my_timestamp'].iloc[i])\n",
    "  dff['my_timestamp'].iloc[i] = localized_timestamp.astimezone(new_timezone)\n",
    "  dff['my_timestamp'].iloc[i] = localized_timestamp.astimezone(new_timezone)\n",
    "\n",
    "\n",
    "# Has converted to new timezone:\n",
    "print(dff['my_timestamp'].iloc[0])"
   ]
  },
  {
   "cell_type": "markdown",
   "metadata": {},
   "source": [
    "Put your parsed results into a DataFrame"
   ]
  },
  {
   "cell_type": "code",
   "execution_count": 19,
   "metadata": {},
   "outputs": [
    {
     "data": {
      "text/html": [
       "<div>\n",
       "<style scoped>\n",
       "    .dataframe tbody tr th:only-of-type {\n",
       "        vertical-align: middle;\n",
       "    }\n",
       "\n",
       "    .dataframe tbody tr th {\n",
       "        vertical-align: top;\n",
       "    }\n",
       "\n",
       "    .dataframe thead th {\n",
       "        text-align: right;\n",
       "    }\n",
       "</style>\n",
       "<table border=\"1\" class=\"dataframe\">\n",
       "  <thead>\n",
       "    <tr style=\"text-align: right;\">\n",
       "      <th></th>\n",
       "      <th>lat-long</th>\n",
       "      <th>name</th>\n",
       "      <th>distance</th>\n",
       "      <th>latitude</th>\n",
       "      <th>longitude</th>\n",
       "      <th>popularity</th>\n",
       "      <th>open_now</th>\n",
       "      <th>rating</th>\n",
       "      <th>rating_count</th>\n",
       "      <th>my_timestamp</th>\n",
       "      <th>cat1_id</th>\n",
       "      <th>cat1_name</th>\n",
       "      <th>cat2_id</th>\n",
       "      <th>cat2_name</th>\n",
       "      <th>cat3_id</th>\n",
       "      <th>cat3_name</th>\n",
       "    </tr>\n",
       "  </thead>\n",
       "  <tbody>\n",
       "    <tr>\n",
       "      <th>0</th>\n",
       "      <td>43.665269,-79.319796</td>\n",
       "      <td>Leslieville Farmers Market</td>\n",
       "      <td>40</td>\n",
       "      <td>43.664679</td>\n",
       "      <td>-79.319687</td>\n",
       "      <td>0.868580</td>\n",
       "      <td>False</td>\n",
       "      <td>8.6</td>\n",
       "      <td>None</td>\n",
       "      <td>2022-12-04 22:59:17.456850-05:00</td>\n",
       "      <td>17065</td>\n",
       "      <td>Farmers' Market</td>\n",
       "      <td>17069</td>\n",
       "      <td>Grocery Store / Supermarket</td>\n",
       "      <td>&lt;NA&gt;</td>\n",
       "      <td>NaN</td>\n",
       "    </tr>\n",
       "    <tr>\n",
       "      <th>1</th>\n",
       "      <td>43.665269,-79.319796</td>\n",
       "      <td>McDonald's</td>\n",
       "      <td>62</td>\n",
       "      <td>43.664993</td>\n",
       "      <td>-79.319222</td>\n",
       "      <td>0.995501</td>\n",
       "      <td>False</td>\n",
       "      <td>7.4</td>\n",
       "      <td>None</td>\n",
       "      <td>2022-12-04 22:59:17.456868-05:00</td>\n",
       "      <td>13035</td>\n",
       "      <td>Coffee Shop</td>\n",
       "      <td>&lt;NA&gt;</td>\n",
       "      <td>NaN</td>\n",
       "      <td>&lt;NA&gt;</td>\n",
       "      <td>NaN</td>\n",
       "    </tr>\n",
       "    <tr>\n",
       "      <th>2</th>\n",
       "      <td>43.665269,-79.319796</td>\n",
       "      <td>Rorschach Brewing</td>\n",
       "      <td>194</td>\n",
       "      <td>43.663542</td>\n",
       "      <td>-79.319882</td>\n",
       "      <td>0.984511</td>\n",
       "      <td>False</td>\n",
       "      <td>8.3</td>\n",
       "      <td>None</td>\n",
       "      <td>2022-12-04 22:59:17.456875-05:00</td>\n",
       "      <td>17119</td>\n",
       "      <td>Bicycle Store</td>\n",
       "      <td>&lt;NA&gt;</td>\n",
       "      <td>NaN</td>\n",
       "      <td>&lt;NA&gt;</td>\n",
       "      <td>NaN</td>\n",
       "    </tr>\n",
       "    <tr>\n",
       "      <th>3</th>\n",
       "      <td>43.665269,-79.319796</td>\n",
       "      <td>Velotique</td>\n",
       "      <td>186</td>\n",
       "      <td>43.666157</td>\n",
       "      <td>-79.317863</td>\n",
       "      <td>0.968785</td>\n",
       "      <td>False</td>\n",
       "      <td>8.0</td>\n",
       "      <td>None</td>\n",
       "      <td>2022-12-04 22:59:17.456881-05:00</td>\n",
       "      <td>10039</td>\n",
       "      <td>Music Venue</td>\n",
       "      <td>&lt;NA&gt;</td>\n",
       "      <td>NaN</td>\n",
       "      <td>&lt;NA&gt;</td>\n",
       "      <td>NaN</td>\n",
       "    </tr>\n",
       "    <tr>\n",
       "      <th>4</th>\n",
       "      <td>43.665269,-79.319796</td>\n",
       "      <td>Chick-N-Joy</td>\n",
       "      <td>129</td>\n",
       "      <td>43.665121</td>\n",
       "      <td>-79.321347</td>\n",
       "      <td>0.035783</td>\n",
       "      <td>False</td>\n",
       "      <td>6.9</td>\n",
       "      <td>None</td>\n",
       "      <td>2022-12-04 22:59:17.456886-05:00</td>\n",
       "      <td>13011</td>\n",
       "      <td>Gay Bar</td>\n",
       "      <td>13016</td>\n",
       "      <td>Lounge</td>\n",
       "      <td>13065</td>\n",
       "      <td>Restaurant</td>\n",
       "    </tr>\n",
       "  </tbody>\n",
       "</table>\n",
       "</div>"
      ],
      "text/plain": [
       "               lat-long                        name  distance   latitude  \\\n",
       "0  43.665269,-79.319796  Leslieville Farmers Market        40  43.664679   \n",
       "1  43.665269,-79.319796                  McDonald's        62  43.664993   \n",
       "2  43.665269,-79.319796           Rorschach Brewing       194  43.663542   \n",
       "3  43.665269,-79.319796                   Velotique       186  43.666157   \n",
       "4  43.665269,-79.319796                 Chick-N-Joy       129  43.665121   \n",
       "\n",
       "   longitude  popularity  open_now rating rating_count  \\\n",
       "0 -79.319687    0.868580     False    8.6         None   \n",
       "1 -79.319222    0.995501     False    7.4         None   \n",
       "2 -79.319882    0.984511     False    8.3         None   \n",
       "3 -79.317863    0.968785     False    8.0         None   \n",
       "4 -79.321347    0.035783     False    6.9         None   \n",
       "\n",
       "                       my_timestamp  cat1_id        cat1_name  cat2_id  \\\n",
       "0  2022-12-04 22:59:17.456850-05:00    17065  Farmers' Market    17069   \n",
       "1  2022-12-04 22:59:17.456868-05:00    13035      Coffee Shop     <NA>   \n",
       "2  2022-12-04 22:59:17.456875-05:00    17119    Bicycle Store     <NA>   \n",
       "3  2022-12-04 22:59:17.456881-05:00    10039      Music Venue     <NA>   \n",
       "4  2022-12-04 22:59:17.456886-05:00    13011          Gay Bar    13016   \n",
       "\n",
       "                     cat2_name  cat3_id   cat3_name  \n",
       "0  Grocery Store / Supermarket     <NA>         NaN  \n",
       "1                          NaN     <NA>         NaN  \n",
       "2                          NaN     <NA>         NaN  \n",
       "3                          NaN     <NA>         NaN  \n",
       "4                       Lounge    13065  Restaurant  "
      ]
     },
     "execution_count": 19,
     "metadata": {},
     "output_type": "execute_result"
    }
   ],
   "source": [
    "dff.to_csv(f'../data/stats_mod/df_fsq_sun2311h.csv', index= False)\n",
    "\n",
    "dff.head(5)"
   ]
  },
  {
   "cell_type": "markdown",
   "metadata": {},
   "source": [
    "# Yelp"
   ]
  },
  {
   "cell_type": "markdown",
   "metadata": {},
   "source": [
    "Send a request to Yelp with a small radius (1000m) for all the bike stations in your city of choice. "
   ]
  },
  {
   "cell_type": "code",
   "execution_count": 20,
   "metadata": {},
   "outputs": [],
   "source": [
    "import requests\n",
    "import os\n",
    "\n",
    "def yelpStationPOI(lat, long):\n",
    "  '''\n",
    "  input:\n",
    "  output:\n",
    "  '''\n",
    "  api_key = os.environ[\"YELP_API_KEY\"]\n",
    "  yelp_url = (f'https://api.yelp.com/v3/businesses/search?latitude={lat}&longitude={long}&radius=1000&limit=50')\n",
    "  payload={}\n",
    "  headers = {\n",
    "      \"accept\": \"application/json\",\n",
    "      \"Authorization\": f'Bearer {api_key}'\n",
    "  }\n",
    "\n",
    "  yelpStnPOI_json = requests.get(yelp_url, headers=headers, data=payload).json()           #Perform get request\n",
    "  \n",
    "  list_of_dict = []\n",
    "  for poi in yelpStnPOI_json['businesses']:\n",
    "    poi_dict = {\n",
    "          'lat-long': f'{lat},{long}'\n",
    "          , 'category_name': poi['categories'][0]['alias']\n",
    "          , 'categories': poi['categories']\n",
    "          , 'name': poi['name']\n",
    "          , 'distance': poi['distance']\n",
    "          , 'latitude': poi['coordinates']['latitude']\n",
    "          , 'longitude': poi['coordinates']['longitude']\n",
    "          , 'address': poi['location']['display_address']\n",
    "          , 'price': poi.get('price', None)\n",
    "          , 'is_closed': poi.get('is_closed')\n",
    "          , 'rating': poi.get('rating')\n",
    "          , 'rating_count': poi.get('review_count')\n",
    "          , 'my_timestamp': datetime.now()\n",
    "      }\n",
    "      \n",
    "    list_of_dict.append(poi_dict)\n",
    "  return pd.DataFrame(list_of_dict)\n"
   ]
  },
  {
   "cell_type": "code",
   "execution_count": 21,
   "metadata": {},
   "outputs": [
    {
     "data": {
      "text/html": [
       "<div>\n",
       "<style scoped>\n",
       "    .dataframe tbody tr th:only-of-type {\n",
       "        vertical-align: middle;\n",
       "    }\n",
       "\n",
       "    .dataframe tbody tr th {\n",
       "        vertical-align: top;\n",
       "    }\n",
       "\n",
       "    .dataframe thead th {\n",
       "        text-align: right;\n",
       "    }\n",
       "</style>\n",
       "<table border=\"1\" class=\"dataframe\">\n",
       "  <thead>\n",
       "    <tr style=\"text-align: right;\">\n",
       "      <th></th>\n",
       "      <th>lat-long</th>\n",
       "      <th>category_name</th>\n",
       "      <th>categories</th>\n",
       "      <th>name</th>\n",
       "      <th>distance</th>\n",
       "      <th>latitude</th>\n",
       "      <th>longitude</th>\n",
       "      <th>address</th>\n",
       "      <th>price</th>\n",
       "      <th>is_closed</th>\n",
       "      <th>rating</th>\n",
       "      <th>rating_count</th>\n",
       "      <th>my_timestamp</th>\n",
       "    </tr>\n",
       "  </thead>\n",
       "  <tbody>\n",
       "    <tr>\n",
       "      <th>0</th>\n",
       "      <td>43.657763,-79.389165</td>\n",
       "      <td>ramen</td>\n",
       "      <td>[{'alias': 'ramen', 'title': 'Ramen'}, {'alias...</td>\n",
       "      <td>Sansotei Ramen</td>\n",
       "      <td>376.064159</td>\n",
       "      <td>43.655</td>\n",
       "      <td>-79.38643</td>\n",
       "      <td>[179 Dundas Street W, Toronto, ON M5G 1Z8, Can...</td>\n",
       "      <td>$$</td>\n",
       "      <td>False</td>\n",
       "      <td>4.0</td>\n",
       "      <td>925</td>\n",
       "      <td>2022-12-04 21:15:09.064598</td>\n",
       "    </tr>\n",
       "  </tbody>\n",
       "</table>\n",
       "</div>"
      ],
      "text/plain": [
       "               lat-long category_name  \\\n",
       "0  43.657763,-79.389165         ramen   \n",
       "\n",
       "                                          categories            name  \\\n",
       "0  [{'alias': 'ramen', 'title': 'Ramen'}, {'alias...  Sansotei Ramen   \n",
       "\n",
       "     distance  latitude  longitude  \\\n",
       "0  376.064159    43.655  -79.38643   \n",
       "\n",
       "                                             address price  is_closed  rating  \\\n",
       "0  [179 Dundas Street W, Toronto, ON M5G 1Z8, Can...    $$      False     4.0   \n",
       "\n",
       "   rating_count               my_timestamp  \n",
       "0           925 2022-12-04 21:15:09.064598  "
      ]
     },
     "execution_count": 21,
     "metadata": {},
     "output_type": "execute_result"
    }
   ],
   "source": [
    "# Test\n",
    "yelpStnPOI_dfTest = yelpStationPOI(lat[5], long[5])\n",
    "yelpStnPOI_dfTest.head(1)"
   ]
  },
  {
   "cell_type": "code",
   "execution_count": 22,
   "metadata": {},
   "outputs": [],
   "source": [
    "yelp_dfs_list = []\n",
    "for i in range(numStns):\n",
    "  poi_df = yelpStationPOI(lat[i], long[i])\n",
    "  yelp_dfs_list.append(poi_df)"
   ]
  },
  {
   "cell_type": "code",
   "execution_count": 23,
   "metadata": {},
   "outputs": [],
   "source": [
    "df_yelp = pd.DataFrame()\n",
    "x = pd.DataFrame()\n",
    "\n",
    "# concatenate full df object of all stn site data:\n",
    "for poi_df in yelp_dfs_list:\n",
    "    x = pd.concat([df_yelp, poi_df])\n",
    "    df_yelp = x"
   ]
  },
  {
   "cell_type": "code",
   "execution_count": 24,
   "metadata": {},
   "outputs": [
    {
     "data": {
      "text/html": [
       "<div>\n",
       "<style scoped>\n",
       "    .dataframe tbody tr th:only-of-type {\n",
       "        vertical-align: middle;\n",
       "    }\n",
       "\n",
       "    .dataframe tbody tr th {\n",
       "        vertical-align: top;\n",
       "    }\n",
       "\n",
       "    .dataframe thead th {\n",
       "        text-align: right;\n",
       "    }\n",
       "</style>\n",
       "<table border=\"1\" class=\"dataframe\">\n",
       "  <thead>\n",
       "    <tr style=\"text-align: right;\">\n",
       "      <th></th>\n",
       "      <th>lat-long</th>\n",
       "      <th>category_name</th>\n",
       "      <th>categories</th>\n",
       "      <th>name</th>\n",
       "      <th>distance</th>\n",
       "      <th>latitude</th>\n",
       "      <th>longitude</th>\n",
       "      <th>address</th>\n",
       "      <th>price</th>\n",
       "      <th>is_closed</th>\n",
       "      <th>rating</th>\n",
       "      <th>rating_count</th>\n",
       "      <th>my_timestamp</th>\n",
       "    </tr>\n",
       "  </thead>\n",
       "  <tbody>\n",
       "    <tr>\n",
       "      <th>0</th>\n",
       "      <td>43.665269,-79.319796</td>\n",
       "      <td>egyptian</td>\n",
       "      <td>[{'alias': 'egyptian', 'title': 'Egyptian'}, {...</td>\n",
       "      <td>Maha's</td>\n",
       "      <td>1004.992087</td>\n",
       "      <td>43.67167</td>\n",
       "      <td>-79.328530</td>\n",
       "      <td>[226 Greenwood Avenue, Toronto, ON M4L 2R2, Ca...</td>\n",
       "      <td>$$</td>\n",
       "      <td>False</td>\n",
       "      <td>4.0</td>\n",
       "      <td>573</td>\n",
       "      <td>2022-12-04 21:15:10.587013</td>\n",
       "    </tr>\n",
       "    <tr>\n",
       "      <th>1</th>\n",
       "      <td>43.665269,-79.319796</td>\n",
       "      <td>burgers</td>\n",
       "      <td>[{'alias': 'burgers', 'title': 'Burgers'}]</td>\n",
       "      <td>The Burger's Priest</td>\n",
       "      <td>374.238073</td>\n",
       "      <td>43.66670</td>\n",
       "      <td>-79.315585</td>\n",
       "      <td>[1636 Queen Street E, Toronto, ON M4L 1G3, Can...</td>\n",
       "      <td>$$</td>\n",
       "      <td>False</td>\n",
       "      <td>3.5</td>\n",
       "      <td>498</td>\n",
       "      <td>2022-12-04 21:15:10.587024</td>\n",
       "    </tr>\n",
       "  </tbody>\n",
       "</table>\n",
       "</div>"
      ],
      "text/plain": [
       "               lat-long category_name  \\\n",
       "0  43.665269,-79.319796      egyptian   \n",
       "1  43.665269,-79.319796       burgers   \n",
       "\n",
       "                                          categories                 name  \\\n",
       "0  [{'alias': 'egyptian', 'title': 'Egyptian'}, {...               Maha's   \n",
       "1         [{'alias': 'burgers', 'title': 'Burgers'}]  The Burger's Priest   \n",
       "\n",
       "      distance  latitude  longitude  \\\n",
       "0  1004.992087  43.67167 -79.328530   \n",
       "1   374.238073  43.66670 -79.315585   \n",
       "\n",
       "                                             address price  is_closed  rating  \\\n",
       "0  [226 Greenwood Avenue, Toronto, ON M4L 2R2, Ca...    $$      False     4.0   \n",
       "1  [1636 Queen Street E, Toronto, ON M4L 1G3, Can...    $$      False     3.5   \n",
       "\n",
       "   rating_count               my_timestamp  \n",
       "0           573 2022-12-04 21:15:10.587013  \n",
       "1           498 2022-12-04 21:15:10.587024  "
      ]
     },
     "execution_count": 24,
     "metadata": {},
     "output_type": "execute_result"
    }
   ],
   "source": [
    "df_yelp.head(2)"
   ]
  },
  {
   "cell_type": "code",
   "execution_count": 25,
   "metadata": {},
   "outputs": [
    {
     "data": {
      "text/plain": [
       "(30828, 13)"
      ]
     },
     "execution_count": 25,
     "metadata": {},
     "output_type": "execute_result"
    }
   ],
   "source": [
    "df_yelp.shape"
   ]
  },
  {
   "cell_type": "markdown",
   "metadata": {},
   "source": [
    "## Cleaning and Normalizing the nested table values:\n",
    "\n",
    "The function which created the DataFrame made sure that each POI had at least one category name and alias, but we can see above that many have two or even three which can be normalized to flatten the hierarchy."
   ]
  },
  {
   "cell_type": "code",
   "execution_count": 26,
   "metadata": {},
   "outputs": [
    {
     "data": {
      "text/html": [
       "<div>\n",
       "<style scoped>\n",
       "    .dataframe tbody tr th:only-of-type {\n",
       "        vertical-align: middle;\n",
       "    }\n",
       "\n",
       "    .dataframe tbody tr th {\n",
       "        vertical-align: top;\n",
       "    }\n",
       "\n",
       "    .dataframe thead th {\n",
       "        text-align: right;\n",
       "    }\n",
       "</style>\n",
       "<table border=\"1\" class=\"dataframe\">\n",
       "  <thead>\n",
       "    <tr style=\"text-align: right;\">\n",
       "      <th></th>\n",
       "      <th>0</th>\n",
       "      <th>1</th>\n",
       "      <th>2</th>\n",
       "    </tr>\n",
       "  </thead>\n",
       "  <tbody>\n",
       "    <tr>\n",
       "      <th>0</th>\n",
       "      <td>{'alias': 'egyptian', 'title': 'Egyptian'}</td>\n",
       "      <td>{'alias': 'vegan', 'title': 'Vegan'}</td>\n",
       "      <td>{'alias': 'sandwiches', 'title': 'Sandwiches'}</td>\n",
       "    </tr>\n",
       "    <tr>\n",
       "      <th>1</th>\n",
       "      <td>{'alias': 'italian', 'title': 'Italian'}</td>\n",
       "      <td>None</td>\n",
       "      <td>None</td>\n",
       "    </tr>\n",
       "    <tr>\n",
       "      <th>2</th>\n",
       "      <td>{'alias': 'burgers', 'title': 'Burgers'}</td>\n",
       "      <td>None</td>\n",
       "      <td>None</td>\n",
       "    </tr>\n",
       "    <tr>\n",
       "      <th>3</th>\n",
       "      <td>{'alias': 'newcanadian', 'title': 'Canadian (N...</td>\n",
       "      <td>None</td>\n",
       "      <td>None</td>\n",
       "    </tr>\n",
       "    <tr>\n",
       "      <th>4</th>\n",
       "      <td>{'alias': 'japanese', 'title': 'Japanese'}</td>\n",
       "      <td>{'alias': 'pubs', 'title': 'Pubs'}</td>\n",
       "      <td>None</td>\n",
       "    </tr>\n",
       "  </tbody>\n",
       "</table>\n",
       "</div>"
      ],
      "text/plain": [
       "                                                   0  \\\n",
       "0         {'alias': 'egyptian', 'title': 'Egyptian'}   \n",
       "1           {'alias': 'italian', 'title': 'Italian'}   \n",
       "2           {'alias': 'burgers', 'title': 'Burgers'}   \n",
       "3  {'alias': 'newcanadian', 'title': 'Canadian (N...   \n",
       "4         {'alias': 'japanese', 'title': 'Japanese'}   \n",
       "\n",
       "                                      1  \\\n",
       "0  {'alias': 'vegan', 'title': 'Vegan'}   \n",
       "1                                  None   \n",
       "2                                  None   \n",
       "3                                  None   \n",
       "4    {'alias': 'pubs', 'title': 'Pubs'}   \n",
       "\n",
       "                                                2  \n",
       "0  {'alias': 'sandwiches', 'title': 'Sandwiches'}  \n",
       "1                                            None  \n",
       "2                                            None  \n",
       "3                                            None  \n",
       "4                                            None  "
      ]
     },
     "execution_count": 26,
     "metadata": {},
     "output_type": "execute_result"
    }
   ],
   "source": [
    "# Normalize the categories:\n",
    "df_yelpcat = pd.json_normalize(df_yelp['categories'][0])\n",
    "df_yelpcat.head()"
   ]
  },
  {
   "cell_type": "code",
   "execution_count": 27,
   "metadata": {},
   "outputs": [
    {
     "data": {
      "text/html": [
       "<div>\n",
       "<style scoped>\n",
       "    .dataframe tbody tr th:only-of-type {\n",
       "        vertical-align: middle;\n",
       "    }\n",
       "\n",
       "    .dataframe tbody tr th {\n",
       "        vertical-align: top;\n",
       "    }\n",
       "\n",
       "    .dataframe thead th {\n",
       "        text-align: right;\n",
       "    }\n",
       "</style>\n",
       "<table border=\"1\" class=\"dataframe\">\n",
       "  <thead>\n",
       "    <tr style=\"text-align: right;\">\n",
       "      <th></th>\n",
       "      <th>alias</th>\n",
       "      <th>title</th>\n",
       "    </tr>\n",
       "  </thead>\n",
       "  <tbody>\n",
       "    <tr>\n",
       "      <th>0</th>\n",
       "      <td>egyptian</td>\n",
       "      <td>Egyptian</td>\n",
       "    </tr>\n",
       "    <tr>\n",
       "      <th>1</th>\n",
       "      <td>italian</td>\n",
       "      <td>Italian</td>\n",
       "    </tr>\n",
       "    <tr>\n",
       "      <th>2</th>\n",
       "      <td>burgers</td>\n",
       "      <td>Burgers</td>\n",
       "    </tr>\n",
       "    <tr>\n",
       "      <th>3</th>\n",
       "      <td>newcanadian</td>\n",
       "      <td>Canadian (New)</td>\n",
       "    </tr>\n",
       "    <tr>\n",
       "      <th>4</th>\n",
       "      <td>japanese</td>\n",
       "      <td>Japanese</td>\n",
       "    </tr>\n",
       "  </tbody>\n",
       "</table>\n",
       "</div>"
      ],
      "text/plain": [
       "         alias           title\n",
       "0     egyptian        Egyptian\n",
       "1      italian         Italian\n",
       "2      burgers         Burgers\n",
       "3  newcanadian  Canadian (New)\n",
       "4     japanese        Japanese"
      ]
     },
     "execution_count": 27,
     "metadata": {},
     "output_type": "execute_result"
    }
   ],
   "source": [
    "# normalize the resulting 3 columns into 3 tables in the example below:\n",
    "df_yelpcat0 = pd.json_normalize(df_yelpcat[0])\n",
    "df_yelpcat1 = pd.json_normalize(df_yelpcat[1])\n",
    "df_yelpcat2 = pd.json_normalize(df_yelpcat[2])\n",
    "df_yelpcat0.head()"
   ]
  },
  {
   "cell_type": "code",
   "execution_count": 28,
   "metadata": {},
   "outputs": [
    {
     "data": {
      "text/html": [
       "<div>\n",
       "<style scoped>\n",
       "    .dataframe tbody tr th:only-of-type {\n",
       "        vertical-align: middle;\n",
       "    }\n",
       "\n",
       "    .dataframe tbody tr th {\n",
       "        vertical-align: top;\n",
       "    }\n",
       "\n",
       "    .dataframe thead th {\n",
       "        text-align: right;\n",
       "    }\n",
       "</style>\n",
       "<table border=\"1\" class=\"dataframe\">\n",
       "  <thead>\n",
       "    <tr style=\"text-align: right;\">\n",
       "      <th></th>\n",
       "      <th>lat-long</th>\n",
       "      <th>name</th>\n",
       "      <th>distance</th>\n",
       "      <th>latitude</th>\n",
       "      <th>longitude</th>\n",
       "      <th>address</th>\n",
       "      <th>price</th>\n",
       "      <th>is_closed</th>\n",
       "      <th>rating</th>\n",
       "      <th>rating_count</th>\n",
       "      <th>my_timestamp</th>\n",
       "      <th>cat1_alias</th>\n",
       "      <th>cat1_title</th>\n",
       "      <th>cat2_alias</th>\n",
       "      <th>cat2_title</th>\n",
       "      <th>cat3_alias</th>\n",
       "      <th>cat3_title</th>\n",
       "    </tr>\n",
       "  </thead>\n",
       "  <tbody>\n",
       "    <tr>\n",
       "      <th>0</th>\n",
       "      <td>43.665269,-79.319796</td>\n",
       "      <td>Maha's</td>\n",
       "      <td>1004.992087</td>\n",
       "      <td>43.67167</td>\n",
       "      <td>-79.32853</td>\n",
       "      <td>[226 Greenwood Avenue, Toronto, ON M4L 2R2, Ca...</td>\n",
       "      <td>$$</td>\n",
       "      <td>False</td>\n",
       "      <td>4.0</td>\n",
       "      <td>573</td>\n",
       "      <td>2022-12-04 21:15:10.587013</td>\n",
       "      <td>egyptian</td>\n",
       "      <td>Egyptian</td>\n",
       "      <td>vegan</td>\n",
       "      <td>Vegan</td>\n",
       "      <td>sandwiches</td>\n",
       "      <td>Sandwiches</td>\n",
       "    </tr>\n",
       "  </tbody>\n",
       "</table>\n",
       "</div>"
      ],
      "text/plain": [
       "               lat-long    name     distance  latitude  longitude  \\\n",
       "0  43.665269,-79.319796  Maha's  1004.992087  43.67167  -79.32853   \n",
       "\n",
       "                                             address price  is_closed  rating  \\\n",
       "0  [226 Greenwood Avenue, Toronto, ON M4L 2R2, Ca...    $$      False     4.0   \n",
       "\n",
       "   rating_count               my_timestamp cat1_alias cat1_title cat2_alias  \\\n",
       "0           573 2022-12-04 21:15:10.587013   egyptian   Egyptian      vegan   \n",
       "\n",
       "  cat2_title  cat3_alias  cat3_title  \n",
       "0      Vegan  sandwiches  Sandwiches  "
      ]
     },
     "execution_count": 28,
     "metadata": {},
     "output_type": "execute_result"
    }
   ],
   "source": [
    "# Add new category labels back onto the df: \n",
    "df_yelp['cat1_alias'] = df_yelpcat0['alias']\n",
    "df_yelp['cat1_title'] = df_yelpcat0['title']\n",
    "\n",
    "df_yelp['cat2_alias'] = df_yelpcat1['alias']\n",
    "df_yelp['cat2_title'] = df_yelpcat1['title']\n",
    "\n",
    "df_yelp['cat3_alias'] = df_yelpcat2['alias']\n",
    "df_yelp['cat3_title'] = df_yelpcat2['title']\n",
    "\n",
    "# Remove the now redundant 'category' and 'name' columns:\n",
    "df_yelp = df_yelp.drop(['categories', 'category_name'], axis = 1)\n",
    "\n",
    "df_yelp.head(1)"
   ]
  },
  {
   "cell_type": "markdown",
   "metadata": {},
   "source": [
    "### SAVE IT!!!"
   ]
  },
  {
   "cell_type": "code",
   "execution_count": 29,
   "metadata": {},
   "outputs": [],
   "source": [
    "# df_yelp.to_csv(f'../data/yelpPOI/df_yelp{datetime.now()}.csv', index=False)\n",
    "df_yelp.to_csv(f'../data/yelpPOI/df_yelp_sun2326h.csv', index=False)"
   ]
  },
  {
   "cell_type": "markdown",
   "metadata": {},
   "source": [
    "Parse through the response to get the POI (such as restaurants, bars, etc) details you want (ratings, name, location, etc)\n",
    "\n",
    "### YELP POI:"
   ]
  },
  {
   "cell_type": "code",
   "execution_count": 30,
   "metadata": {},
   "outputs": [],
   "source": [
    "# Clone a working copy:\n",
    "df = df_yelp.copy()"
   ]
  },
  {
   "cell_type": "markdown",
   "metadata": {},
   "source": [
    "the addresses look chunky which diminishes the aesthetic of the table, and I expect this format might be useful for printing them in mailing format.  I won't be using it for my analysis at this point anyway, but I would certainly research this more before I made decisions about changing the format.  \n"
   ]
  },
  {
   "cell_type": "code",
   "execution_count": 31,
   "metadata": {},
   "outputs": [
    {
     "data": {
      "text/html": [
       "<div>\n",
       "<style scoped>\n",
       "    .dataframe tbody tr th:only-of-type {\n",
       "        vertical-align: middle;\n",
       "    }\n",
       "\n",
       "    .dataframe tbody tr th {\n",
       "        vertical-align: top;\n",
       "    }\n",
       "\n",
       "    .dataframe thead th {\n",
       "        text-align: right;\n",
       "    }\n",
       "</style>\n",
       "<table border=\"1\" class=\"dataframe\">\n",
       "  <thead>\n",
       "    <tr style=\"text-align: right;\">\n",
       "      <th></th>\n",
       "      <th>lat-long</th>\n",
       "      <th>name</th>\n",
       "      <th>distance</th>\n",
       "      <th>latitude</th>\n",
       "      <th>longitude</th>\n",
       "      <th>price</th>\n",
       "      <th>is_closed</th>\n",
       "      <th>rating</th>\n",
       "      <th>rating_count</th>\n",
       "      <th>my_timestamp</th>\n",
       "      <th>cat1_title</th>\n",
       "      <th>cat2_title</th>\n",
       "      <th>cat3_title</th>\n",
       "    </tr>\n",
       "  </thead>\n",
       "  <tbody>\n",
       "    <tr>\n",
       "      <th>0</th>\n",
       "      <td>43.665269,-79.319796</td>\n",
       "      <td>Maha's</td>\n",
       "      <td>1004.992087</td>\n",
       "      <td>43.67167</td>\n",
       "      <td>-79.328530</td>\n",
       "      <td>$$</td>\n",
       "      <td>False</td>\n",
       "      <td>4.0</td>\n",
       "      <td>573</td>\n",
       "      <td>2022-12-04 21:15:10.587013</td>\n",
       "      <td>Egyptian</td>\n",
       "      <td>Vegan</td>\n",
       "      <td>Sandwiches</td>\n",
       "    </tr>\n",
       "    <tr>\n",
       "      <th>1</th>\n",
       "      <td>43.665269,-79.319796</td>\n",
       "      <td>The Burger's Priest</td>\n",
       "      <td>374.238073</td>\n",
       "      <td>43.66670</td>\n",
       "      <td>-79.315585</td>\n",
       "      <td>$$</td>\n",
       "      <td>False</td>\n",
       "      <td>3.5</td>\n",
       "      <td>498</td>\n",
       "      <td>2022-12-04 21:15:10.587024</td>\n",
       "      <td>Italian</td>\n",
       "      <td>NaN</td>\n",
       "      <td>NaN</td>\n",
       "    </tr>\n",
       "  </tbody>\n",
       "</table>\n",
       "</div>"
      ],
      "text/plain": [
       "               lat-long                 name     distance  latitude  \\\n",
       "0  43.665269,-79.319796               Maha's  1004.992087  43.67167   \n",
       "1  43.665269,-79.319796  The Burger's Priest   374.238073  43.66670   \n",
       "\n",
       "   longitude price  is_closed  rating  rating_count  \\\n",
       "0 -79.328530    $$      False     4.0           573   \n",
       "1 -79.315585    $$      False     3.5           498   \n",
       "\n",
       "                my_timestamp cat1_title cat2_title  cat3_title  \n",
       "0 2022-12-04 21:15:10.587013   Egyptian      Vegan  Sandwiches  \n",
       "1 2022-12-04 21:15:10.587024    Italian        NaN         NaN  "
      ]
     },
     "execution_count": 31,
     "metadata": {},
     "output_type": "execute_result"
    }
   ],
   "source": [
    "# Drop columns from our copy df not currently needed:\n",
    "df = df.drop(['address', 'cat1_alias', 'cat2_alias', 'cat3_alias'], axis = 1)\n",
    "df.head(2)"
   ]
  },
  {
   "cell_type": "markdown",
   "metadata": {},
   "source": [
    "flip the \"is_closed\" column to remove the confusing double negative, and enable foursquare comparison:"
   ]
  },
  {
   "cell_type": "code",
   "execution_count": 32,
   "metadata": {},
   "outputs": [
    {
     "data": {
      "text/html": [
       "<div>\n",
       "<style scoped>\n",
       "    .dataframe tbody tr th:only-of-type {\n",
       "        vertical-align: middle;\n",
       "    }\n",
       "\n",
       "    .dataframe tbody tr th {\n",
       "        vertical-align: top;\n",
       "    }\n",
       "\n",
       "    .dataframe thead th {\n",
       "        text-align: right;\n",
       "    }\n",
       "</style>\n",
       "<table border=\"1\" class=\"dataframe\">\n",
       "  <thead>\n",
       "    <tr style=\"text-align: right;\">\n",
       "      <th></th>\n",
       "      <th>lat-long</th>\n",
       "      <th>name</th>\n",
       "      <th>distance</th>\n",
       "      <th>latitude</th>\n",
       "      <th>longitude</th>\n",
       "      <th>price</th>\n",
       "      <th>is_open</th>\n",
       "      <th>rating</th>\n",
       "      <th>rating_count</th>\n",
       "      <th>my_timestamp</th>\n",
       "      <th>cat1_title</th>\n",
       "      <th>cat2_title</th>\n",
       "      <th>cat3_title</th>\n",
       "    </tr>\n",
       "  </thead>\n",
       "  <tbody>\n",
       "    <tr>\n",
       "      <th>0</th>\n",
       "      <td>43.665269,-79.319796</td>\n",
       "      <td>Maha's</td>\n",
       "      <td>1004.992087</td>\n",
       "      <td>43.67167</td>\n",
       "      <td>-79.328530</td>\n",
       "      <td>$$</td>\n",
       "      <td>True</td>\n",
       "      <td>4.0</td>\n",
       "      <td>573</td>\n",
       "      <td>2022-12-04 21:15:10.587013</td>\n",
       "      <td>Egyptian</td>\n",
       "      <td>Vegan</td>\n",
       "      <td>Sandwiches</td>\n",
       "    </tr>\n",
       "    <tr>\n",
       "      <th>1</th>\n",
       "      <td>43.665269,-79.319796</td>\n",
       "      <td>The Burger's Priest</td>\n",
       "      <td>374.238073</td>\n",
       "      <td>43.66670</td>\n",
       "      <td>-79.315585</td>\n",
       "      <td>$$</td>\n",
       "      <td>True</td>\n",
       "      <td>3.5</td>\n",
       "      <td>498</td>\n",
       "      <td>2022-12-04 21:15:10.587024</td>\n",
       "      <td>Italian</td>\n",
       "      <td>NaN</td>\n",
       "      <td>NaN</td>\n",
       "    </tr>\n",
       "  </tbody>\n",
       "</table>\n",
       "</div>"
      ],
      "text/plain": [
       "               lat-long                 name     distance  latitude  \\\n",
       "0  43.665269,-79.319796               Maha's  1004.992087  43.67167   \n",
       "1  43.665269,-79.319796  The Burger's Priest   374.238073  43.66670   \n",
       "\n",
       "   longitude price  is_open  rating  rating_count               my_timestamp  \\\n",
       "0 -79.328530    $$     True     4.0           573 2022-12-04 21:15:10.587013   \n",
       "1 -79.315585    $$     True     3.5           498 2022-12-04 21:15:10.587024   \n",
       "\n",
       "  cat1_title cat2_title  cat3_title  \n",
       "0   Egyptian      Vegan  Sandwiches  \n",
       "1    Italian        NaN         NaN  "
      ]
     },
     "execution_count": 32,
     "metadata": {},
     "output_type": "execute_result"
    }
   ],
   "source": [
    "df['is_closed'] = df['is_closed'] == False\n",
    "# Rename the heading to match:\n",
    "df = df.rename(columns = {'is_closed':'is_open'})\n",
    "df.head(2)"
   ]
  },
  {
   "cell_type": "markdown",
   "metadata": {},
   "source": [
    "Convert the timestamp data to the Toronto's time zone:"
   ]
  },
  {
   "cell_type": "code",
   "execution_count": 33,
   "metadata": {},
   "outputs": [],
   "source": [
    "from datetime import datetime\n",
    "import pytz"
   ]
  },
  {
   "cell_type": "code",
   "execution_count": 34,
   "metadata": {},
   "outputs": [
    {
     "name": "stdout",
     "output_type": "stream",
     "text": [
      "2022-12-04 21:15:10.587013\n",
      "2022-12-04 23:15:10.587013-05:00\n"
     ]
    }
   ],
   "source": [
    "# create both timezone objects\n",
    "old_timezone = pytz.timezone(\"US/Mountain\")\n",
    "new_timezone = pytz.timezone(\"US/Eastern\")\n",
    "\n",
    "# Confirm current timezone\n",
    "print(df['my_timestamp'].iloc[0])\n",
    "\n",
    "# two-step process\n",
    "for i in range(df.shape[0]):\n",
    "  localized_timestamp = old_timezone.localize(df['my_timestamp'].iloc[i])\n",
    "  df['my_timestamp'].iloc[i] = localized_timestamp.astimezone(new_timezone)\n",
    "  df['my_timestamp'].iloc[i] = localized_timestamp.astimezone(new_timezone)\n",
    "\n",
    "\n",
    "# Has converted to new timezone:\n",
    "print(df['my_timestamp'].iloc[0])"
   ]
  },
  {
   "cell_type": "code",
   "execution_count": 35,
   "metadata": {},
   "outputs": [
    {
     "data": {
      "text/html": [
       "<div>\n",
       "<style scoped>\n",
       "    .dataframe tbody tr th:only-of-type {\n",
       "        vertical-align: middle;\n",
       "    }\n",
       "\n",
       "    .dataframe tbody tr th {\n",
       "        vertical-align: top;\n",
       "    }\n",
       "\n",
       "    .dataframe thead th {\n",
       "        text-align: right;\n",
       "    }\n",
       "</style>\n",
       "<table border=\"1\" class=\"dataframe\">\n",
       "  <thead>\n",
       "    <tr style=\"text-align: right;\">\n",
       "      <th></th>\n",
       "      <th>lat-long</th>\n",
       "      <th>name</th>\n",
       "      <th>distance</th>\n",
       "      <th>latitude</th>\n",
       "      <th>longitude</th>\n",
       "      <th>price</th>\n",
       "      <th>is_open</th>\n",
       "      <th>rating</th>\n",
       "      <th>rating_count</th>\n",
       "      <th>my_timestamp</th>\n",
       "      <th>cat1_title</th>\n",
       "      <th>cat2_title</th>\n",
       "      <th>cat3_title</th>\n",
       "    </tr>\n",
       "  </thead>\n",
       "  <tbody>\n",
       "    <tr>\n",
       "      <th>0</th>\n",
       "      <td>43.665269,-79.319796</td>\n",
       "      <td>Maha's</td>\n",
       "      <td>1005.0</td>\n",
       "      <td>43.67167</td>\n",
       "      <td>-79.328530</td>\n",
       "      <td>$$</td>\n",
       "      <td>True</td>\n",
       "      <td>4.0</td>\n",
       "      <td>573</td>\n",
       "      <td>2022-12-04 23:15:10.587013-05:00</td>\n",
       "      <td>Egyptian</td>\n",
       "      <td>Vegan</td>\n",
       "      <td>Sandwiches</td>\n",
       "    </tr>\n",
       "    <tr>\n",
       "      <th>1</th>\n",
       "      <td>43.665269,-79.319796</td>\n",
       "      <td>The Burger's Priest</td>\n",
       "      <td>374.2</td>\n",
       "      <td>43.66670</td>\n",
       "      <td>-79.315585</td>\n",
       "      <td>$$</td>\n",
       "      <td>True</td>\n",
       "      <td>3.5</td>\n",
       "      <td>498</td>\n",
       "      <td>2022-12-04 23:15:10.587024-05:00</td>\n",
       "      <td>Italian</td>\n",
       "      <td>NaN</td>\n",
       "      <td>NaN</td>\n",
       "    </tr>\n",
       "  </tbody>\n",
       "</table>\n",
       "</div>"
      ],
      "text/plain": [
       "               lat-long                 name  distance  latitude  longitude  \\\n",
       "0  43.665269,-79.319796               Maha's    1005.0  43.67167 -79.328530   \n",
       "1  43.665269,-79.319796  The Burger's Priest     374.2  43.66670 -79.315585   \n",
       "\n",
       "  price  is_open  rating  rating_count                      my_timestamp  \\\n",
       "0    $$     True     4.0           573  2022-12-04 23:15:10.587013-05:00   \n",
       "1    $$     True     3.5           498  2022-12-04 23:15:10.587024-05:00   \n",
       "\n",
       "  cat1_title cat2_title  cat3_title  \n",
       "0   Egyptian      Vegan  Sandwiches  \n",
       "1    Italian        NaN         NaN  "
      ]
     },
     "execution_count": 35,
     "metadata": {},
     "output_type": "execute_result"
    }
   ],
   "source": [
    "df['distance'] = round(df['distance'], 1)\n",
    "df.head(2)"
   ]
  },
  {
   "cell_type": "code",
   "execution_count": 36,
   "metadata": {},
   "outputs": [
    {
     "name": "stdout",
     "output_type": "stream",
     "text": [
      "2022-12-04 23:15:10.587013-05:00\n",
      "2022-12-04\n",
      "23:15:10.587013\n",
      "16\n"
     ]
    }
   ],
   "source": [
    "test = df['my_timestamp'].iloc[0]\n",
    "print(test)\n",
    "print(datetime.date(test))\n",
    "print(datetime.time(test))\n",
    "print(len('2022-12-04 00:09'))"
   ]
  },
  {
   "cell_type": "markdown",
   "metadata": {},
   "source": [
    "##### Categorical encoding: price\n"
   ]
  },
  {
   "cell_type": "code",
   "execution_count": 37,
   "metadata": {},
   "outputs": [
    {
     "name": "stdout",
     "output_type": "stream",
     "text": [
      "$$      16243\n",
      "$        5224\n",
      "$$$      2891\n",
      "$$$$      929\n",
      "Name: price, dtype: int64\n",
      "False    25287\n",
      "True      5541\n",
      "Name: price, dtype: int64\n"
     ]
    },
    {
     "data": {
      "text/plain": [
       "array(['$$', '$', '$$$', None, '$$$$'], dtype=object)"
      ]
     },
     "execution_count": 37,
     "metadata": {},
     "output_type": "execute_result"
    }
   ],
   "source": [
    "print(df['price'].value_counts())\n",
    "print(df['price'].isna().value_counts())\n",
    "df['price'].unique()"
   ]
  },
  {
   "cell_type": "code",
   "execution_count": 38,
   "metadata": {},
   "outputs": [
    {
     "data": {
      "text/plain": [
       "{'$$': 2, '$': 1, '$$$': 3, None: None, '$$$$': 4}"
      ]
     },
     "execution_count": 38,
     "metadata": {},
     "output_type": "execute_result"
    }
   ],
   "source": [
    "# order in array above will be same as the keys,\n",
    "keys = df['price'].unique()\n",
    "# Setting ordinal numerical values to match the order:\n",
    "values = [2, 1, 3, None, 4]\n",
    "price_map = dict(zip(keys, values))\n",
    "price_map"
   ]
  },
  {
   "cell_type": "code",
   "execution_count": 39,
   "metadata": {},
   "outputs": [
    {
     "name": "stdout",
     "output_type": "stream",
     "text": [
      "2.0    16243\n",
      "1.0     5224\n",
      "3.0     2891\n",
      "4.0      929\n",
      "Name: price, dtype: int64\n"
     ]
    },
    {
     "data": {
      "text/html": [
       "<div>\n",
       "<style scoped>\n",
       "    .dataframe tbody tr th:only-of-type {\n",
       "        vertical-align: middle;\n",
       "    }\n",
       "\n",
       "    .dataframe tbody tr th {\n",
       "        vertical-align: top;\n",
       "    }\n",
       "\n",
       "    .dataframe thead th {\n",
       "        text-align: right;\n",
       "    }\n",
       "</style>\n",
       "<table border=\"1\" class=\"dataframe\">\n",
       "  <thead>\n",
       "    <tr style=\"text-align: right;\">\n",
       "      <th></th>\n",
       "      <th>lat-long</th>\n",
       "      <th>name</th>\n",
       "      <th>distance</th>\n",
       "      <th>latitude</th>\n",
       "      <th>longitude</th>\n",
       "      <th>price</th>\n",
       "      <th>is_open</th>\n",
       "      <th>rating</th>\n",
       "      <th>rating_count</th>\n",
       "      <th>my_timestamp</th>\n",
       "      <th>cat1_title</th>\n",
       "      <th>cat2_title</th>\n",
       "      <th>cat3_title</th>\n",
       "    </tr>\n",
       "  </thead>\n",
       "  <tbody>\n",
       "    <tr>\n",
       "      <th>0</th>\n",
       "      <td>43.665269,-79.319796</td>\n",
       "      <td>Maha's</td>\n",
       "      <td>1005.0</td>\n",
       "      <td>43.67167</td>\n",
       "      <td>-79.32853</td>\n",
       "      <td>2.0</td>\n",
       "      <td>True</td>\n",
       "      <td>4.0</td>\n",
       "      <td>573</td>\n",
       "      <td>2022-12-04 23:15:10.587013-05:00</td>\n",
       "      <td>Egyptian</td>\n",
       "      <td>Vegan</td>\n",
       "      <td>Sandwiches</td>\n",
       "    </tr>\n",
       "  </tbody>\n",
       "</table>\n",
       "</div>"
      ],
      "text/plain": [
       "               lat-long    name  distance  latitude  longitude  price  \\\n",
       "0  43.665269,-79.319796  Maha's    1005.0  43.67167  -79.32853    2.0   \n",
       "\n",
       "   is_open  rating  rating_count                      my_timestamp cat1_title  \\\n",
       "0     True     4.0           573  2022-12-04 23:15:10.587013-05:00   Egyptian   \n",
       "\n",
       "  cat2_title  cat3_title  \n",
       "0      Vegan  Sandwiches  "
      ]
     },
     "execution_count": 39,
     "metadata": {},
     "output_type": "execute_result"
    }
   ],
   "source": [
    "# Replace\n",
    "df['price'] = df['price'].map(price_map)\n",
    "# Validate counts unaffected:\n",
    "print(df['price'].value_counts())\n",
    "\n",
    "df.head(1)"
   ]
  },
  {
   "cell_type": "markdown",
   "metadata": {},
   "source": [
    "Put your parsed results into a DataFrame"
   ]
  },
  {
   "cell_type": "code",
   "execution_count": 40,
   "metadata": {},
   "outputs": [
    {
     "data": {
      "text/html": [
       "<div>\n",
       "<style scoped>\n",
       "    .dataframe tbody tr th:only-of-type {\n",
       "        vertical-align: middle;\n",
       "    }\n",
       "\n",
       "    .dataframe tbody tr th {\n",
       "        vertical-align: top;\n",
       "    }\n",
       "\n",
       "    .dataframe thead th {\n",
       "        text-align: right;\n",
       "    }\n",
       "</style>\n",
       "<table border=\"1\" class=\"dataframe\">\n",
       "  <thead>\n",
       "    <tr style=\"text-align: right;\">\n",
       "      <th></th>\n",
       "      <th>lat-long</th>\n",
       "      <th>name</th>\n",
       "      <th>distance</th>\n",
       "      <th>latitude</th>\n",
       "      <th>longitude</th>\n",
       "      <th>price</th>\n",
       "      <th>is_open</th>\n",
       "      <th>rating</th>\n",
       "      <th>rating_count</th>\n",
       "      <th>my_timestamp</th>\n",
       "      <th>cat1_title</th>\n",
       "      <th>cat2_title</th>\n",
       "      <th>cat3_title</th>\n",
       "    </tr>\n",
       "  </thead>\n",
       "  <tbody>\n",
       "    <tr>\n",
       "      <th>0</th>\n",
       "      <td>43.665269,-79.319796</td>\n",
       "      <td>Maha's</td>\n",
       "      <td>1005.0</td>\n",
       "      <td>43.671670</td>\n",
       "      <td>-79.328530</td>\n",
       "      <td>2.0</td>\n",
       "      <td>True</td>\n",
       "      <td>4.0</td>\n",
       "      <td>573</td>\n",
       "      <td>2022-12-04 23:15:10.587013-05:00</td>\n",
       "      <td>Egyptian</td>\n",
       "      <td>Vegan</td>\n",
       "      <td>Sandwiches</td>\n",
       "    </tr>\n",
       "    <tr>\n",
       "      <th>1</th>\n",
       "      <td>43.665269,-79.319796</td>\n",
       "      <td>The Burger's Priest</td>\n",
       "      <td>374.2</td>\n",
       "      <td>43.666700</td>\n",
       "      <td>-79.315585</td>\n",
       "      <td>2.0</td>\n",
       "      <td>True</td>\n",
       "      <td>3.5</td>\n",
       "      <td>498</td>\n",
       "      <td>2022-12-04 23:15:10.587024-05:00</td>\n",
       "      <td>Italian</td>\n",
       "      <td>NaN</td>\n",
       "      <td>NaN</td>\n",
       "    </tr>\n",
       "    <tr>\n",
       "      <th>2</th>\n",
       "      <td>43.665269,-79.319796</td>\n",
       "      <td>Chino Locos Original</td>\n",
       "      <td>467.1</td>\n",
       "      <td>43.664482</td>\n",
       "      <td>-79.325501</td>\n",
       "      <td>1.0</td>\n",
       "      <td>True</td>\n",
       "      <td>4.0</td>\n",
       "      <td>190</td>\n",
       "      <td>2022-12-04 23:15:10.587028-05:00</td>\n",
       "      <td>Burgers</td>\n",
       "      <td>NaN</td>\n",
       "      <td>NaN</td>\n",
       "    </tr>\n",
       "    <tr>\n",
       "      <th>3</th>\n",
       "      <td>43.665269,-79.319796</td>\n",
       "      <td>Lahore Tikka House</td>\n",
       "      <td>787.5</td>\n",
       "      <td>43.671480</td>\n",
       "      <td>-79.324510</td>\n",
       "      <td>2.0</td>\n",
       "      <td>True</td>\n",
       "      <td>3.5</td>\n",
       "      <td>537</td>\n",
       "      <td>2022-12-04 23:15:10.587031-05:00</td>\n",
       "      <td>Canadian (New)</td>\n",
       "      <td>NaN</td>\n",
       "      <td>NaN</td>\n",
       "    </tr>\n",
       "    <tr>\n",
       "      <th>4</th>\n",
       "      <td>43.665269,-79.319796</td>\n",
       "      <td>Gio Rana's Really Really Nice Restaurant</td>\n",
       "      <td>881.1</td>\n",
       "      <td>43.663335</td>\n",
       "      <td>-79.330419</td>\n",
       "      <td>3.0</td>\n",
       "      <td>True</td>\n",
       "      <td>4.0</td>\n",
       "      <td>227</td>\n",
       "      <td>2022-12-04 23:15:10.587034-05:00</td>\n",
       "      <td>Japanese</td>\n",
       "      <td>Pubs</td>\n",
       "      <td>NaN</td>\n",
       "    </tr>\n",
       "  </tbody>\n",
       "</table>\n",
       "</div>"
      ],
      "text/plain": [
       "               lat-long                                      name  distance  \\\n",
       "0  43.665269,-79.319796                                    Maha's    1005.0   \n",
       "1  43.665269,-79.319796                       The Burger's Priest     374.2   \n",
       "2  43.665269,-79.319796                      Chino Locos Original     467.1   \n",
       "3  43.665269,-79.319796                        Lahore Tikka House     787.5   \n",
       "4  43.665269,-79.319796  Gio Rana's Really Really Nice Restaurant     881.1   \n",
       "\n",
       "    latitude  longitude  price  is_open  rating  rating_count  \\\n",
       "0  43.671670 -79.328530    2.0     True     4.0           573   \n",
       "1  43.666700 -79.315585    2.0     True     3.5           498   \n",
       "2  43.664482 -79.325501    1.0     True     4.0           190   \n",
       "3  43.671480 -79.324510    2.0     True     3.5           537   \n",
       "4  43.663335 -79.330419    3.0     True     4.0           227   \n",
       "\n",
       "                       my_timestamp      cat1_title cat2_title  cat3_title  \n",
       "0  2022-12-04 23:15:10.587013-05:00        Egyptian      Vegan  Sandwiches  \n",
       "1  2022-12-04 23:15:10.587024-05:00         Italian        NaN         NaN  \n",
       "2  2022-12-04 23:15:10.587028-05:00         Burgers        NaN         NaN  \n",
       "3  2022-12-04 23:15:10.587031-05:00  Canadian (New)        NaN         NaN  \n",
       "4  2022-12-04 23:15:10.587034-05:00        Japanese       Pubs         NaN  "
      ]
     },
     "execution_count": 40,
     "metadata": {},
     "output_type": "execute_result"
    }
   ],
   "source": [
    "df.to_csv(f'../data/df_yelp_1440h.csv', index= False)\n",
    "\n",
    "df.head(5)"
   ]
  },
  {
   "cell_type": "code",
   "execution_count": 41,
   "metadata": {},
   "outputs": [],
   "source": [
    "df.to_csv(f'../data/stats_mod/df_yelp_sun2326h.csv', index=False)\n"
   ]
  },
  {
   "cell_type": "markdown",
   "metadata": {},
   "source": [
    "# Comparing Results"
   ]
  },
  {
   "cell_type": "markdown",
   "metadata": {},
   "source": [
    "Which API provided you with more complete data? Provide an explanation. \n",
    "\n",
    "#### Number of POIs per bike station site:\n",
    "\n",
    "Both API get request limits were set to 50, but you can see below that yelp was less able to meet that max.  "
   ]
  },
  {
   "cell_type": "code",
   "execution_count": 263,
   "metadata": {},
   "outputs": [
    {
     "data": {
      "text/plain": [
       "43.72268,-79.37644                       9\n",
       "43.6856,-79.3718                         8\n",
       "43.7805505,-79.1301203                   7\n",
       "43.685924,-79.376304                     7\n",
       "43.6834703,-79.5108942                   7\n",
       "43.747854,-79.199327                     7\n",
       "43.727365488246306,-79.3814254607724     6\n",
       "43.778015,-79.131911                     4\n",
       "43.788319,-79.123505                     2\n",
       "43.645835578756525,-79.32088910859937    1\n",
       "Name: lat-long, dtype: int64"
      ]
     },
     "execution_count": 263,
     "metadata": {},
     "output_type": "execute_result"
    }
   ],
   "source": [
    "df['lat-long'].value_counts().tail(10)"
   ]
  },
  {
   "cell_type": "code",
   "execution_count": 264,
   "metadata": {},
   "outputs": [
    {
     "data": {
      "text/plain": [
       "43.657024,-79.377257                     50\n",
       "43.662862,-79.383572                     50\n",
       "43.652276,-79.380701                     50\n",
       "43.7063473,-79.40161                     50\n",
       "43.6978701,-79.39419                     50\n",
       "43.696708,-79.40045                      50\n",
       "43.6476616,-79.37549                     50\n",
       "43.772445,-79.511912                     50\n",
       "43.788319,-79.123505                     45\n",
       "43.645835578756525,-79.32088910859937    14\n",
       "Name: lat-long, dtype: int64"
      ]
     },
     "execution_count": 264,
     "metadata": {},
     "output_type": "execute_result"
    }
   ],
   "source": [
    "dff['lat-long'].value_counts().tail(10)"
   ]
  },
  {
   "cell_type": "markdown",
   "metadata": {},
   "source": [
    "This is likely because the yelp API appears to restrict it's results to food or restaurant vendors, where as foursquare returned a broader range of venues:"
   ]
  },
  {
   "cell_type": "code",
   "execution_count": 266,
   "metadata": {},
   "outputs": [
    {
     "name": "stdout",
     "output_type": "stream",
     "text": [
      "21\n"
     ]
    },
    {
     "data": {
      "text/plain": [
       "Japanese                     6706\n",
       "Thai                         3617\n",
       "Italian                      3081\n",
       "Breakfast & Brunch           1868\n",
       "Pizza                        1866\n",
       "Seafood                      1847\n",
       "Egyptian                     1278\n",
       "Burgers                      1264\n",
       "Middle Eastern               1229\n",
       "Mexican                      1187\n",
       "Canadian (New)                653\n",
       "Ramen                         652\n",
       "Lounges                       647\n",
       "Sandwiches                    646\n",
       "Tapas/Small Plates            641\n",
       "Vietnamese                    631\n",
       "Ice Cream & Frozen Yogurt     626\n",
       "American (Traditional)        613\n",
       "French                        599\n",
       "Aquariums                     595\n",
       "Steakhouses                   582\n",
       "Name: cat1_title, dtype: int64"
      ]
     },
     "execution_count": 266,
     "metadata": {},
     "output_type": "execute_result"
    }
   ],
   "source": [
    "\n",
    "print(df['cat1_title'].nunique())\n",
    "df['cat1_title'].value_counts()"
   ]
  },
  {
   "cell_type": "code",
   "execution_count": 267,
   "metadata": {},
   "outputs": [
    {
     "data": {
      "text/plain": [
       "Café                               3924\n",
       "Park                               2617\n",
       "Japanese Restaurant                1962\n",
       "Coffee Shop                        1310\n",
       "Farmers' Market                    1309\n",
       "Poutine Restaurant                 1308\n",
       "Pizzeria                           1308\n",
       "Dessert Shop                       1307\n",
       "Gay Bar                             655\n",
       "BBQ Joint                           655\n",
       "Hair Salon                          655\n",
       "Italian Restaurant                  655\n",
       "Bookstore                           655\n",
       "Music Venue                         655\n",
       "Miscellaneous Store                 655\n",
       "Bicycle Store                       655\n",
       "Asian Restaurant                    654\n",
       "Diner                               654\n",
       "Seafood Restaurant                  654\n",
       "Bar                                 654\n",
       "Hot Dog Joint                       654\n",
       "Vegan and Vegetarian Restaurant     654\n",
       "Chocolate Store                     654\n",
       "Bakery                              654\n",
       "Restaurant                          654\n",
       "Drugstore                           654\n",
       "Convenience Store                   654\n",
       "Beer Bar                            654\n",
       "Burrito Restaurant                  654\n",
       "Clothing Store                      654\n",
       "Bank                                654\n",
       "Ice Cream Parlor                    654\n",
       "Bistro                              654\n",
       "Australian Restaurant               653\n",
       "Plaza                               653\n",
       "Name: cat1_name, dtype: int64"
      ]
     },
     "execution_count": 267,
     "metadata": {},
     "output_type": "execute_result"
    }
   ],
   "source": [
    "dff['cat1_name'].nunique()\n",
    "dff['cat1_name'].value_counts()"
   ]
  },
  {
   "cell_type": "code",
   "execution_count": 288,
   "metadata": {},
   "outputs": [
    {
     "data": {
      "text/html": [
       "<div>\n",
       "<style scoped>\n",
       "    .dataframe tbody tr th:only-of-type {\n",
       "        vertical-align: middle;\n",
       "    }\n",
       "\n",
       "    .dataframe tbody tr th {\n",
       "        vertical-align: top;\n",
       "    }\n",
       "\n",
       "    .dataframe thead th {\n",
       "        text-align: right;\n",
       "    }\n",
       "</style>\n",
       "<table border=\"1\" class=\"dataframe\">\n",
       "  <thead>\n",
       "    <tr style=\"text-align: right;\">\n",
       "      <th></th>\n",
       "      <th>cat1_name</th>\n",
       "    </tr>\n",
       "    <tr>\n",
       "      <th>catType</th>\n",
       "      <th></th>\n",
       "    </tr>\n",
       "  </thead>\n",
       "  <tbody>\n",
       "    <tr>\n",
       "      <th>10000</th>\n",
       "      <td>655</td>\n",
       "    </tr>\n",
       "    <tr>\n",
       "      <th>11000</th>\n",
       "      <td>1309</td>\n",
       "    </tr>\n",
       "    <tr>\n",
       "      <th>13000</th>\n",
       "      <td>21585</td>\n",
       "    </tr>\n",
       "    <tr>\n",
       "      <th>16000</th>\n",
       "      <td>3270</td>\n",
       "    </tr>\n",
       "    <tr>\n",
       "      <th>17000</th>\n",
       "      <td>5890</td>\n",
       "    </tr>\n",
       "  </tbody>\n",
       "</table>\n",
       "</div>"
      ],
      "text/plain": [
       "         cat1_name\n",
       "catType           \n",
       "10000          655\n",
       "11000         1309\n",
       "13000        21585\n",
       "16000         3270\n",
       "17000         5890"
      ]
     },
     "execution_count": 288,
     "metadata": {},
     "output_type": "execute_result"
    }
   ],
   "source": [
    "# Category titles:\n",
    "dff2 = dff.copy()\n",
    "dff2['catType'] = ((dff['cat1_id']//1000)*1000)\n",
    "\n",
    "dff2[['catType', 'cat1_name']].groupby('catType').count()\n"
   ]
  },
  {
   "cell_type": "markdown",
   "metadata": {},
   "source": [
    "- 10000:\tArts and Entertainment\n",
    "- 11000:  Business and Professional Services\n",
    "- 13000:  Dining and Drinking\n",
    "- 16000:  Landmarks and Outdoors\n",
    "- 17000:  Retail\n"
   ]
  },
  {
   "cell_type": "code",
   "execution_count": 283,
   "metadata": {},
   "outputs": [
    {
     "data": {
      "text/html": [
       "<div>\n",
       "<style scoped>\n",
       "    .dataframe tbody tr th:only-of-type {\n",
       "        vertical-align: middle;\n",
       "    }\n",
       "\n",
       "    .dataframe tbody tr th {\n",
       "        vertical-align: top;\n",
       "    }\n",
       "\n",
       "    .dataframe thead th {\n",
       "        text-align: right;\n",
       "    }\n",
       "</style>\n",
       "<table border=\"1\" class=\"dataframe\">\n",
       "  <thead>\n",
       "    <tr style=\"text-align: right;\">\n",
       "      <th></th>\n",
       "      <th></th>\n",
       "      <th>rating</th>\n",
       "    </tr>\n",
       "    <tr>\n",
       "      <th>cat1_id</th>\n",
       "      <th>cat1_name</th>\n",
       "      <th></th>\n",
       "    </tr>\n",
       "  </thead>\n",
       "  <tbody>\n",
       "    <tr>\n",
       "      <th>13034</th>\n",
       "      <th>Café</th>\n",
       "      <td>2902</td>\n",
       "    </tr>\n",
       "    <tr>\n",
       "      <th>16032</th>\n",
       "      <th>Park</th>\n",
       "      <td>1903</td>\n",
       "    </tr>\n",
       "    <tr>\n",
       "      <th>13263</th>\n",
       "      <th>Japanese Restaurant</th>\n",
       "      <td>1468</td>\n",
       "    </tr>\n",
       "    <tr>\n",
       "      <th>13035</th>\n",
       "      <th>Coffee Shop</th>\n",
       "      <td>1103</td>\n",
       "    </tr>\n",
       "    <tr>\n",
       "      <th>17065</th>\n",
       "      <th>Farmers' Market</th>\n",
       "      <td>1084</td>\n",
       "    </tr>\n",
       "    <tr>\n",
       "      <th>13064</th>\n",
       "      <th>Pizzeria</th>\n",
       "      <td>969</td>\n",
       "    </tr>\n",
       "    <tr>\n",
       "      <th>13326</th>\n",
       "      <th>Poutine Restaurant</th>\n",
       "      <td>918</td>\n",
       "    </tr>\n",
       "    <tr>\n",
       "      <th>13040</th>\n",
       "      <th>Dessert Shop</th>\n",
       "      <td>908</td>\n",
       "    </tr>\n",
       "    <tr>\n",
       "      <th>17119</th>\n",
       "      <th>Bicycle Store</th>\n",
       "      <td>556</td>\n",
       "    </tr>\n",
       "    <tr>\n",
       "      <th>10039</th>\n",
       "      <th>Music Venue</th>\n",
       "      <td>548</td>\n",
       "    </tr>\n",
       "    <tr>\n",
       "      <th>13011</th>\n",
       "      <th>Gay Bar</th>\n",
       "      <td>548</td>\n",
       "    </tr>\n",
       "    <tr>\n",
       "      <th>13026</th>\n",
       "      <th>BBQ Joint</th>\n",
       "      <td>533</td>\n",
       "    </tr>\n",
       "    <tr>\n",
       "      <th>17096</th>\n",
       "      <th>Miscellaneous Store</th>\n",
       "      <td>525</td>\n",
       "    </tr>\n",
       "    <tr>\n",
       "      <th>11064</th>\n",
       "      <th>Hair Salon</th>\n",
       "      <td>514</td>\n",
       "    </tr>\n",
       "    <tr>\n",
       "      <th>13236</th>\n",
       "      <th>Italian Restaurant</th>\n",
       "      <td>512</td>\n",
       "    </tr>\n",
       "  </tbody>\n",
       "</table>\n",
       "</div>"
      ],
      "text/plain": [
       "                             rating\n",
       "cat1_id cat1_name                  \n",
       "13034   Café                   2902\n",
       "16032   Park                   1903\n",
       "13263   Japanese Restaurant    1468\n",
       "13035   Coffee Shop            1103\n",
       "17065   Farmers' Market        1084\n",
       "13064   Pizzeria                969\n",
       "13326   Poutine Restaurant      918\n",
       "13040   Dessert Shop            908\n",
       "17119   Bicycle Store           556\n",
       "10039   Music Venue             548\n",
       "13011   Gay Bar                 548\n",
       "13026   BBQ Joint               533\n",
       "17096   Miscellaneous Store     525\n",
       "11064   Hair Salon              514\n",
       "13236   Italian Restaurant      512"
      ]
     },
     "execution_count": 283,
     "metadata": {},
     "output_type": "execute_result"
    }
   ],
   "source": [
    "# Category titles:\n",
    "dff2[['cat1_id', 'cat1_name', 'rating']].groupby(['cat1_id', 'cat1_name']).count().sort_values('rating', ascending=False).head(15)"
   ]
  },
  {
   "cell_type": "markdown",
   "metadata": {},
   "source": [
    "foursquare gives a much wider range of venues to research rather than just restaurants this data set for the bike station sites from foursquare also includes parks, farmers' markets, bike shops, music venues, and other misc stores."
   ]
  },
  {
   "cell_type": "markdown",
   "metadata": {},
   "source": [
    "### Get the top 10 restaurants according to their rating\n",
    "\n",
    "using foursquare:"
   ]
  },
  {
   "cell_type": "code",
   "execution_count": 298,
   "metadata": {},
   "outputs": [
    {
     "data": {
      "text/html": [
       "<div>\n",
       "<style scoped>\n",
       "    .dataframe tbody tr th:only-of-type {\n",
       "        vertical-align: middle;\n",
       "    }\n",
       "\n",
       "    .dataframe tbody tr th {\n",
       "        vertical-align: top;\n",
       "    }\n",
       "\n",
       "    .dataframe thead th {\n",
       "        text-align: right;\n",
       "    }\n",
       "</style>\n",
       "<table border=\"1\" class=\"dataframe\">\n",
       "  <thead>\n",
       "    <tr style=\"text-align: right;\">\n",
       "      <th></th>\n",
       "      <th>name</th>\n",
       "      <th>rating</th>\n",
       "    </tr>\n",
       "  </thead>\n",
       "  <tbody>\n",
       "    <tr>\n",
       "      <th>42</th>\n",
       "      <td>Booster Juice</td>\n",
       "      <td>9.5</td>\n",
       "    </tr>\n",
       "    <tr>\n",
       "      <th>21</th>\n",
       "      <td>Booster Juice</td>\n",
       "      <td>9.5</td>\n",
       "    </tr>\n",
       "    <tr>\n",
       "      <th>12</th>\n",
       "      <td>Paradise Grapevine</td>\n",
       "      <td>9.5</td>\n",
       "    </tr>\n",
       "    <tr>\n",
       "      <th>23</th>\n",
       "      <td>Paradise Grapevine</td>\n",
       "      <td>9.5</td>\n",
       "    </tr>\n",
       "    <tr>\n",
       "      <th>31</th>\n",
       "      <td>Paradise Grapevine</td>\n",
       "      <td>9.5</td>\n",
       "    </tr>\n",
       "    <tr>\n",
       "      <th>45</th>\n",
       "      <td>Booster Juice</td>\n",
       "      <td>9.5</td>\n",
       "    </tr>\n",
       "    <tr>\n",
       "      <th>14</th>\n",
       "      <td>Booster Juice</td>\n",
       "      <td>9.5</td>\n",
       "    </tr>\n",
       "    <tr>\n",
       "      <th>43</th>\n",
       "      <td>Booster Juice</td>\n",
       "      <td>9.5</td>\n",
       "    </tr>\n",
       "    <tr>\n",
       "      <th>38</th>\n",
       "      <td>Booster Juice</td>\n",
       "      <td>9.5</td>\n",
       "    </tr>\n",
       "    <tr>\n",
       "      <th>31</th>\n",
       "      <td>Booster Juice</td>\n",
       "      <td>9.5</td>\n",
       "    </tr>\n",
       "    <tr>\n",
       "      <th>14</th>\n",
       "      <td>Paradise Grapevine</td>\n",
       "      <td>9.5</td>\n",
       "    </tr>\n",
       "    <tr>\n",
       "      <th>48</th>\n",
       "      <td>Fiesta Farms</td>\n",
       "      <td>9.5</td>\n",
       "    </tr>\n",
       "    <tr>\n",
       "      <th>9</th>\n",
       "      <td>Long and McQuade</td>\n",
       "      <td>9.4</td>\n",
       "    </tr>\n",
       "    <tr>\n",
       "      <th>45</th>\n",
       "      <td>Body Blitz Spa</td>\n",
       "      <td>9.4</td>\n",
       "    </tr>\n",
       "    <tr>\n",
       "      <th>14</th>\n",
       "      <td>Cumbrae's</td>\n",
       "      <td>9.4</td>\n",
       "    </tr>\n",
       "  </tbody>\n",
       "</table>\n",
       "</div>"
      ],
      "text/plain": [
       "                  name rating\n",
       "42       Booster Juice    9.5\n",
       "21       Booster Juice    9.5\n",
       "12  Paradise Grapevine    9.5\n",
       "23  Paradise Grapevine    9.5\n",
       "31  Paradise Grapevine    9.5\n",
       "45       Booster Juice    9.5\n",
       "14       Booster Juice    9.5\n",
       "43       Booster Juice    9.5\n",
       "38       Booster Juice    9.5\n",
       "31       Booster Juice    9.5\n",
       "14  Paradise Grapevine    9.5\n",
       "48        Fiesta Farms    9.5\n",
       "9     Long and McQuade    9.4\n",
       "45      Body Blitz Spa    9.4\n",
       "14           Cumbrae's    9.4"
      ]
     },
     "execution_count": 298,
     "metadata": {},
     "output_type": "execute_result"
    }
   ],
   "source": [
    "restaurants = dff2[dff2['cat1_id'].between(13062, 13380)]\n",
    "restaurants[['name', 'rating']].sort_values('rating', ascending=False).head(15)"
   ]
  },
  {
   "cell_type": "markdown",
   "metadata": {},
   "source": [
    "more time might need to be spend understanding how exactly their category id classification system works, but the range chose above references their [category taxonomy table](https://location.foursquare.com/places/docs/categories) for the id numbers categorized by:\n",
    ">Dining and Drinking > Restaurant >\n",
    "\n",
    "using the Yelp results:"
   ]
  },
  {
   "cell_type": "code",
   "execution_count": 306,
   "metadata": {},
   "outputs": [
    {
     "name": "stdout",
     "output_type": "stream",
     "text": [
      "9\n"
     ]
    },
    {
     "data": {
      "text/html": [
       "<div>\n",
       "<style scoped>\n",
       "    .dataframe tbody tr th:only-of-type {\n",
       "        vertical-align: middle;\n",
       "    }\n",
       "\n",
       "    .dataframe tbody tr th {\n",
       "        vertical-align: top;\n",
       "    }\n",
       "\n",
       "    .dataframe thead th {\n",
       "        text-align: right;\n",
       "    }\n",
       "</style>\n",
       "<table border=\"1\" class=\"dataframe\">\n",
       "  <thead>\n",
       "    <tr style=\"text-align: right;\">\n",
       "      <th></th>\n",
       "      <th>name</th>\n",
       "    </tr>\n",
       "    <tr>\n",
       "      <th>rating</th>\n",
       "      <th></th>\n",
       "    </tr>\n",
       "  </thead>\n",
       "  <tbody>\n",
       "    <tr>\n",
       "      <th>1.0</th>\n",
       "      <td>103</td>\n",
       "    </tr>\n",
       "    <tr>\n",
       "      <th>1.5</th>\n",
       "      <td>99</td>\n",
       "    </tr>\n",
       "    <tr>\n",
       "      <th>2.0</th>\n",
       "      <td>220</td>\n",
       "    </tr>\n",
       "    <tr>\n",
       "      <th>2.5</th>\n",
       "      <td>461</td>\n",
       "    </tr>\n",
       "    <tr>\n",
       "      <th>3.0</th>\n",
       "      <td>1192</td>\n",
       "    </tr>\n",
       "    <tr>\n",
       "      <th>3.5</th>\n",
       "      <td>5862</td>\n",
       "    </tr>\n",
       "    <tr>\n",
       "      <th>4.0</th>\n",
       "      <td>13656</td>\n",
       "    </tr>\n",
       "    <tr>\n",
       "      <th>4.5</th>\n",
       "      <td>8178</td>\n",
       "    </tr>\n",
       "    <tr>\n",
       "      <th>5.0</th>\n",
       "      <td>1057</td>\n",
       "    </tr>\n",
       "  </tbody>\n",
       "</table>\n",
       "</div>"
      ],
      "text/plain": [
       "         name\n",
       "rating       \n",
       "1.0       103\n",
       "1.5        99\n",
       "2.0       220\n",
       "2.5       461\n",
       "3.0      1192\n",
       "3.5      5862\n",
       "4.0     13656\n",
       "4.5      8178\n",
       "5.0      1057"
      ]
     },
     "execution_count": 306,
     "metadata": {},
     "output_type": "execute_result"
    }
   ],
   "source": [
    "print(df['rating'].nunique())\n",
    "df[['rating', 'name']].groupby('rating').count()"
   ]
  },
  {
   "cell_type": "markdown",
   "metadata": {},
   "source": [
    "this suggests any 10 of the 1057 '5.0' rated venues could be in the top ten.  So I'll account for popularity or frequncy of 5.0 ratings,"
   ]
  },
  {
   "cell_type": "code",
   "execution_count": 309,
   "metadata": {},
   "outputs": [
    {
     "data": {
      "text/html": [
       "<div>\n",
       "<style scoped>\n",
       "    .dataframe tbody tr th:only-of-type {\n",
       "        vertical-align: middle;\n",
       "    }\n",
       "\n",
       "    .dataframe tbody tr th {\n",
       "        vertical-align: top;\n",
       "    }\n",
       "\n",
       "    .dataframe thead th {\n",
       "        text-align: right;\n",
       "    }\n",
       "</style>\n",
       "<table border=\"1\" class=\"dataframe\">\n",
       "  <thead>\n",
       "    <tr style=\"text-align: right;\">\n",
       "      <th></th>\n",
       "      <th>rating_count</th>\n",
       "    </tr>\n",
       "    <tr>\n",
       "      <th>name</th>\n",
       "      <th></th>\n",
       "    </tr>\n",
       "  </thead>\n",
       "  <tbody>\n",
       "    <tr>\n",
       "      <th>Grandma Loves You</th>\n",
       "      <td>25</td>\n",
       "    </tr>\n",
       "    <tr>\n",
       "      <th>Mallo</th>\n",
       "      <td>24</td>\n",
       "    </tr>\n",
       "    <tr>\n",
       "      <th>Brewhaha At Bandit Brewery</th>\n",
       "      <td>22</td>\n",
       "    </tr>\n",
       "    <tr>\n",
       "      <th>The Maker Bean Cafe</th>\n",
       "      <td>22</td>\n",
       "    </tr>\n",
       "    <tr>\n",
       "      <th>Super Wash N Dry Coin Laundry</th>\n",
       "      <td>17</td>\n",
       "    </tr>\n",
       "    <tr>\n",
       "      <th>COBS Bread</th>\n",
       "      <td>17</td>\n",
       "    </tr>\n",
       "    <tr>\n",
       "      <th>Stock In Trade</th>\n",
       "      <td>15</td>\n",
       "    </tr>\n",
       "    <tr>\n",
       "      <th>Bello Pizza</th>\n",
       "      <td>15</td>\n",
       "    </tr>\n",
       "    <tr>\n",
       "      <th>De Floured</th>\n",
       "      <td>13</td>\n",
       "    </tr>\n",
       "    <tr>\n",
       "      <th>Gurume Sushi</th>\n",
       "      <td>13</td>\n",
       "    </tr>\n",
       "  </tbody>\n",
       "</table>\n",
       "</div>"
      ],
      "text/plain": [
       "                               rating_count\n",
       "name                                       \n",
       "Grandma Loves You                        25\n",
       "Mallo                                    24\n",
       "Brewhaha At Bandit Brewery               22\n",
       "The Maker Bean Cafe                      22\n",
       "Super Wash N Dry Coin Laundry            17\n",
       "COBS Bread                               17\n",
       "Stock In Trade                           15\n",
       "Bello Pizza                              15\n",
       "De Floured                               13\n",
       "Gurume Sushi                             13"
      ]
     },
     "execution_count": 309,
     "metadata": {},
     "output_type": "execute_result"
    }
   ],
   "source": [
    "topRate = df[df['rating']==5.0]\n",
    "topRate[['name', 'rating_count']].groupby('name').count().sort_values('rating_count', ascending=False).head(10)"
   ]
  }
 ],
 "metadata": {
  "kernelspec": {
   "display_name": "Python 3.10.8 ('base_env')",
   "language": "python",
   "name": "python3"
  },
  "language_info": {
   "codemirror_mode": {
    "name": "ipython",
    "version": 3
   },
   "file_extension": ".py",
   "mimetype": "text/x-python",
   "name": "python",
   "nbconvert_exporter": "python",
   "pygments_lexer": "ipython3",
   "version": "3.10.8"
  },
  "vscode": {
   "interpreter": {
    "hash": "39512f3c2a1741d7f752d45a133d4514127029333ea14bc2f3c6c5e6759b9029"
   }
  }
 },
 "nbformat": 4,
 "nbformat_minor": 4
}
