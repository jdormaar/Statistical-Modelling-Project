{
 "cells": [
  {
   "cell_type": "markdown",
   "metadata": {},
   "source": [
    "# W3P2 - PART3 - yelp_foursquareEDA\n",
    "\n",
    "assignment file part 2"
   ]
  },
  {
   "cell_type": "code",
   "execution_count": 1,
   "metadata": {},
   "outputs": [],
   "source": [
    "from datetime import datetime\n",
    "import pandas as pd\n",
    "import requests\n",
    "import json\n",
    "import os"
   ]
  },
  {
   "cell_type": "markdown",
   "metadata": {},
   "source": [
    "# Foursquare"
   ]
  },
  {
   "cell_type": "markdown",
   "metadata": {},
   "source": [
    "Send a request to Foursquare with a small radius (1000m) for all the bike stations in your city of choice. Assuming the average comfortable walking speed below, the radius of 1km should list sites available within a 15min walking distance from each bike station.\n",
    "\n",
    "$$\n",
    "1km * hour/4km \n",
    "$$"
   ]
  },
  {
   "cell_type": "code",
   "execution_count": 2,
   "metadata": {},
   "outputs": [
    {
     "data": {
      "text/plain": [
       "(655, 19)"
      ]
     },
     "execution_count": 2,
     "metadata": {},
     "output_type": "execute_result"
    }
   ],
   "source": [
    "# Import data from file\n",
    "df = pd.read_csv('../data/df_ctybks_toronto.csv')\n",
    "df.shape"
   ]
  },
  {
   "cell_type": "markdown",
   "metadata": {},
   "source": [
    "Create lat and long series from the ctyBks table:"
   ]
  },
  {
   "cell_type": "code",
   "execution_count": 3,
   "metadata": {},
   "outputs": [
    {
     "name": "stdout",
     "output_type": "stream",
     "text": [
      "43.657763,-79.389165\n"
     ]
    }
   ],
   "source": [
    "lat = df['latitude']\n",
    "long = df['longitude']\n",
    "print(f'{lat[5]},{long[5]}')"
   ]
  },
  {
   "cell_type": "code",
   "execution_count": 4,
   "metadata": {},
   "outputs": [],
   "source": [
    "numStns = len(lat)"
   ]
  },
  {
   "cell_type": "code",
   "execution_count": 5,
   "metadata": {},
   "outputs": [],
   "source": [
    "def fsqStationPOI(lat, long):\n",
    "  '''\n",
    "  input:\n",
    "  output:\n",
    "  '''\n",
    "  api_key = os.environ[\"FOURSQUARE_API_KEY\"]\n",
    "  fields = 'fsq_id,name,geocodes,categories,distance,rating,hours,hours_popular,popularity,features'\n",
    "\n",
    "  headers = {\n",
    "      \"accept\": \"application/json\",\n",
    "      \"Authorization\": api_key\n",
    "  }\n",
    "\n",
    "  fsq_url = (f'https://api.foursquare.com/v3/places/search?ll={lat},{long}&fields={fields}&radius=1000&&limit=50')\n",
    "  \n",
    "  fsqStnPOI_json = requests.get(fsq_url, headers=headers).json()\n",
    "\n",
    "  list_of_dict = []\n",
    "  for poi in fsqStnPOI_json['results']:\n",
    "    categories = poi.get('categories', None)\n",
    "    cat_id = categories[0]['id'] if len(categories) > 0 else None\n",
    "    category_name = categories[0]['name'] if len(categories) > 0 else None\n",
    "\n",
    "    poi_dict = {\n",
    "            'lat-long': f'{lat},{long}'\n",
    "          , 'fsq_id': poi['fsq_id']\n",
    "          , 'cat_id': cat_id\n",
    "          , 'category_name': category_name\n",
    "          , 'categories': categories\n",
    "          , 'name': poi.get('name', None)\n",
    "          , 'distance': poi.get('distance', None)\n",
    "          , 'latitude': poi.get('geocodes', {}).get('main', {}).get('latitude', None)\n",
    "          , 'longitude': poi.get('geocodes', {}).get('main', {}).get('longitude', None)\n",
    "          , 'address': poi.get('location', {}).get('formatted_address', None)\n",
    "          , 'popularity': poi.get('popularity', None)\n",
    "          , 'open_now': poi.get('hours', {}).get('open_now', None)\n",
    "          , 'rating': poi.get('rating', None)\n",
    "          , 'rating_count': poi.get('stats', {}).get('total_ratings', None)\n",
    "          , 'my_timestamp': datetime.now()\n",
    "      }\n",
    "      \n",
    "    list_of_dict.append(poi_dict)\n",
    "  return pd.DataFrame(list_of_dict)\n"
   ]
  },
  {
   "cell_type": "code",
   "execution_count": 6,
   "metadata": {},
   "outputs": [],
   "source": [
    "# datetime.astimezone(tz=pytz.timezone('America/Toronto'))"
   ]
  },
  {
   "cell_type": "code",
   "execution_count": 7,
   "metadata": {},
   "outputs": [],
   "source": [
    "# I guess I'll figure out how to convert it later..\n",
    "\n",
    "# utc = '2022-12-03T18:32:24.600000Z'\n",
    "# date = datetime.strptime(utc, '%Y-%m-%dT%H:%M:%S.%fZ')\n",
    "# converted = date.astimezone(tz=pytz.timezone('America/Toronto'))\n",
    "\n",
    "# print(converted)"
   ]
  },
  {
   "cell_type": "code",
   "execution_count": 8,
   "metadata": {},
   "outputs": [
    {
     "name": "stdout",
     "output_type": "stream",
     "text": [
      "43.657763,-79.389165\n"
     ]
    }
   ],
   "source": [
    "print(f'{lat[5]},{long[5]}')"
   ]
  },
  {
   "cell_type": "code",
   "execution_count": 9,
   "metadata": {},
   "outputs": [
    {
     "data": {
      "text/html": [
       "<div>\n",
       "<style scoped>\n",
       "    .dataframe tbody tr th:only-of-type {\n",
       "        vertical-align: middle;\n",
       "    }\n",
       "\n",
       "    .dataframe tbody tr th {\n",
       "        vertical-align: top;\n",
       "    }\n",
       "\n",
       "    .dataframe thead th {\n",
       "        text-align: right;\n",
       "    }\n",
       "</style>\n",
       "<table border=\"1\" class=\"dataframe\">\n",
       "  <thead>\n",
       "    <tr style=\"text-align: right;\">\n",
       "      <th></th>\n",
       "      <th>lat-long</th>\n",
       "      <th>fsq_id</th>\n",
       "      <th>cat_id</th>\n",
       "      <th>category_name</th>\n",
       "      <th>categories</th>\n",
       "      <th>name</th>\n",
       "      <th>distance</th>\n",
       "      <th>latitude</th>\n",
       "      <th>longitude</th>\n",
       "      <th>address</th>\n",
       "      <th>popularity</th>\n",
       "      <th>open_now</th>\n",
       "      <th>rating</th>\n",
       "      <th>rating_count</th>\n",
       "      <th>my_timestamp</th>\n",
       "    </tr>\n",
       "  </thead>\n",
       "  <tbody>\n",
       "    <tr>\n",
       "      <th>0</th>\n",
       "      <td>43.657763,-79.389165</td>\n",
       "      <td>537d4d6d498ec171ba22e7fe</td>\n",
       "      <td>13034</td>\n",
       "      <td>Café</td>\n",
       "      <td>[{'id': 13034, 'name': 'Café', 'icon': {'prefi...</td>\n",
       "      <td>Jimmy's Coffee</td>\n",
       "      <td>294</td>\n",
       "      <td>43.658525</td>\n",
       "      <td>-79.385436</td>\n",
       "      <td>None</td>\n",
       "      <td>0.972089</td>\n",
       "      <td>False</td>\n",
       "      <td>8.5</td>\n",
       "      <td>None</td>\n",
       "      <td>2022-12-03 19:38:44.660853</td>\n",
       "    </tr>\n",
       "  </tbody>\n",
       "</table>\n",
       "</div>"
      ],
      "text/plain": [
       "               lat-long                    fsq_id  cat_id category_name  \\\n",
       "0  43.657763,-79.389165  537d4d6d498ec171ba22e7fe   13034          Café   \n",
       "\n",
       "                                          categories            name  \\\n",
       "0  [{'id': 13034, 'name': 'Café', 'icon': {'prefi...  Jimmy's Coffee   \n",
       "\n",
       "   distance   latitude  longitude address  popularity  open_now  rating  \\\n",
       "0       294  43.658525 -79.385436    None    0.972089     False     8.5   \n",
       "\n",
       "  rating_count               my_timestamp  \n",
       "0         None 2022-12-03 19:38:44.660853  "
      ]
     },
     "execution_count": 9,
     "metadata": {},
     "output_type": "execute_result"
    }
   ],
   "source": [
    "# Test\n",
    "fsqStnPOI_df = fsqStationPOI(lat[5], long[5])\n",
    "fsqStnPOI_df.head(1)"
   ]
  },
  {
   "cell_type": "markdown",
   "metadata": {},
   "source": [
    "Generate a list of DataFrames now for each station site:"
   ]
  },
  {
   "cell_type": "code",
   "execution_count": 22,
   "metadata": {},
   "outputs": [],
   "source": [
    "fsq_dfs_list = []\n",
    "for i in range(numStns):\n",
    "  poi_df = fsqStationPOI(lat[i], long[i])\n",
    "  fsq_dfs_list.append(poi_df)"
   ]
  },
  {
   "cell_type": "markdown",
   "metadata": {},
   "source": [
    "Concatenate the DataFrames to create one large one."
   ]
  },
  {
   "cell_type": "code",
   "execution_count": 23,
   "metadata": {},
   "outputs": [],
   "source": [
    "df_fsq = x = pd.DataFrame()\n",
    "x = x = pd.DataFrame()\n",
    "\n",
    "# concatenate full df object of all stn site data:\n",
    "for poi_df in fsq_dfs_list:\n",
    "    x = pd.concat([df_fsq, poi_df])\n",
    "    df_fsq = x"
   ]
  },
  {
   "cell_type": "code",
   "execution_count": 24,
   "metadata": {},
   "outputs": [
    {
     "data": {
      "text/plain": [
       "(32709, 15)"
      ]
     },
     "execution_count": 24,
     "metadata": {},
     "output_type": "execute_result"
    }
   ],
   "source": [
    "df_fsq.shape"
   ]
  },
  {
   "cell_type": "markdown",
   "metadata": {},
   "source": [
    "#### SAVE IT!!"
   ]
  },
  {
   "cell_type": "code",
   "execution_count": 25,
   "metadata": {},
   "outputs": [],
   "source": [
    "df_fsq.to_csv(f'../data/fsqPOI/df_fsq{datetime.now()}.csv', index=False)"
   ]
  },
  {
   "cell_type": "markdown",
   "metadata": {},
   "source": [
    "Parse through the response to get the POI (such as restaurants, bars, etc) details you want (ratings, name, location, etc)"
   ]
  },
  {
   "cell_type": "code",
   "execution_count": null,
   "metadata": {},
   "outputs": [],
   "source": []
  },
  {
   "cell_type": "markdown",
   "metadata": {},
   "source": [
    "Put your parsed results into a DataFrame"
   ]
  },
  {
   "cell_type": "code",
   "execution_count": null,
   "metadata": {},
   "outputs": [],
   "source": []
  },
  {
   "cell_type": "markdown",
   "metadata": {},
   "source": [
    "# Yelp"
   ]
  },
  {
   "cell_type": "markdown",
   "metadata": {},
   "source": [
    "Send a request to Yelp with a small radius (1000m) for all the bike stations in your city of choice. "
   ]
  },
  {
   "cell_type": "code",
   "execution_count": 15,
   "metadata": {},
   "outputs": [],
   "source": [
    "import requests\n",
    "import os\n",
    "\n",
    "def yelpStationPOI(lat, long):\n",
    "  '''\n",
    "  input:\n",
    "  output:\n",
    "  '''\n",
    "  api_key = os.environ[\"YELP_API_KEY\"]\n",
    "  yelp_url = (f'https://api.yelp.com/v3/businesses/search?latitude={lat}&longitude={long}&radius=1000')\n",
    "  payload={}\n",
    "  headers = {\n",
    "      \"accept\": \"application/json\",\n",
    "      \"Authorization\": f'Bearer {api_key}'\n",
    "  }\n",
    "\n",
    "  yelpStnPOI_json = requests.get(yelp_url, headers=headers, data=payload).json()           #Perform get request\n",
    "  \n",
    "  list_of_dict = []\n",
    "  for poi in yelpStnPOI_json['businesses']:\n",
    "    poi_dict = {\n",
    "          'lat-long': f'{lat},{long}'\n",
    "          , 'category_name': poi['categories'][0]['alias']\n",
    "          , 'categories': poi['categories']\n",
    "          , 'name': poi['name']\n",
    "          , 'distance': poi['distance']\n",
    "          , 'latitude': poi['coordinates']['latitude']\n",
    "          , 'longitude': poi['coordinates']['longitude']\n",
    "          , 'address': poi['location']['display_address']\n",
    "          , 'price': poi.get('price', None)\n",
    "          , 'is_closed': poi.get('is_closed')\n",
    "          , 'rating': poi.get('rating')\n",
    "          , 'rating_count': poi.get('review_count')\n",
    "          , 'my_timestamp': datetime.now()\n",
    "      }\n",
    "      \n",
    "    list_of_dict.append(poi_dict)\n",
    "  return pd.DataFrame(list_of_dict)\n"
   ]
  },
  {
   "cell_type": "code",
   "execution_count": 17,
   "metadata": {},
   "outputs": [
    {
     "data": {
      "text/html": [
       "<div>\n",
       "<style scoped>\n",
       "    .dataframe tbody tr th:only-of-type {\n",
       "        vertical-align: middle;\n",
       "    }\n",
       "\n",
       "    .dataframe tbody tr th {\n",
       "        vertical-align: top;\n",
       "    }\n",
       "\n",
       "    .dataframe thead th {\n",
       "        text-align: right;\n",
       "    }\n",
       "</style>\n",
       "<table border=\"1\" class=\"dataframe\">\n",
       "  <thead>\n",
       "    <tr style=\"text-align: right;\">\n",
       "      <th></th>\n",
       "      <th>lat-long</th>\n",
       "      <th>category_name</th>\n",
       "      <th>categories</th>\n",
       "      <th>name</th>\n",
       "      <th>distance</th>\n",
       "      <th>latitude</th>\n",
       "      <th>longitude</th>\n",
       "      <th>address</th>\n",
       "      <th>price</th>\n",
       "      <th>is_closed</th>\n",
       "      <th>rating</th>\n",
       "      <th>rating_count</th>\n",
       "      <th>my_timestamp</th>\n",
       "    </tr>\n",
       "  </thead>\n",
       "  <tbody>\n",
       "    <tr>\n",
       "      <th>0</th>\n",
       "      <td>43.657763,-79.389165</td>\n",
       "      <td>ramen</td>\n",
       "      <td>[{'alias': 'ramen', 'title': 'Ramen'}, {'alias...</td>\n",
       "      <td>Sansotei Ramen</td>\n",
       "      <td>376.064159</td>\n",
       "      <td>43.655</td>\n",
       "      <td>-79.38643</td>\n",
       "      <td>[179 Dundas Street W, Toronto, ON M5G 1Z8, Can...</td>\n",
       "      <td>$$</td>\n",
       "      <td>False</td>\n",
       "      <td>4.0</td>\n",
       "      <td>925</td>\n",
       "      <td>2022-12-03 20:17:17.368564</td>\n",
       "    </tr>\n",
       "  </tbody>\n",
       "</table>\n",
       "</div>"
      ],
      "text/plain": [
       "               lat-long category_name  \\\n",
       "0  43.657763,-79.389165         ramen   \n",
       "\n",
       "                                          categories            name  \\\n",
       "0  [{'alias': 'ramen', 'title': 'Ramen'}, {'alias...  Sansotei Ramen   \n",
       "\n",
       "     distance  latitude  longitude  \\\n",
       "0  376.064159    43.655  -79.38643   \n",
       "\n",
       "                                             address price  is_closed  rating  \\\n",
       "0  [179 Dundas Street W, Toronto, ON M5G 1Z8, Can...    $$      False     4.0   \n",
       "\n",
       "   rating_count               my_timestamp  \n",
       "0           925 2022-12-03 20:17:17.368564  "
      ]
     },
     "execution_count": 17,
     "metadata": {},
     "output_type": "execute_result"
    }
   ],
   "source": [
    "# Test\n",
    "yelpStnPOI_dfTest = yelpStationPOI(lat[5], long[5])\n",
    "yelpStnPOI_dfTest.head(1)"
   ]
  },
  {
   "cell_type": "code",
   "execution_count": 26,
   "metadata": {},
   "outputs": [],
   "source": [
    "yelp_dfs_list = []\n",
    "for i in range(numStns):\n",
    "  poi_df = yelpStationPOI(lat[i], long[i])\n",
    "  yelp_dfs_list.append(poi_df)"
   ]
  },
  {
   "cell_type": "code",
   "execution_count": 47,
   "metadata": {},
   "outputs": [],
   "source": [
    "df_yelp = x = pd.DataFrame()\n",
    "x = x = pd.DataFrame()\n",
    "\n",
    "# concatenate full df object of all stn site data:\n",
    "for poi_df in yelp_dfs_list:\n",
    "    x = pd.concat([df_yelp, poi_df])\n",
    "    df_yelp = x"
   ]
  },
  {
   "cell_type": "code",
   "execution_count": 48,
   "metadata": {},
   "outputs": [
    {
     "data": {
      "text/html": [
       "<div>\n",
       "<style scoped>\n",
       "    .dataframe tbody tr th:only-of-type {\n",
       "        vertical-align: middle;\n",
       "    }\n",
       "\n",
       "    .dataframe tbody tr th {\n",
       "        vertical-align: top;\n",
       "    }\n",
       "\n",
       "    .dataframe thead th {\n",
       "        text-align: right;\n",
       "    }\n",
       "</style>\n",
       "<table border=\"1\" class=\"dataframe\">\n",
       "  <thead>\n",
       "    <tr style=\"text-align: right;\">\n",
       "      <th></th>\n",
       "      <th>lat-long</th>\n",
       "      <th>category_name</th>\n",
       "      <th>categories</th>\n",
       "      <th>name</th>\n",
       "      <th>distance</th>\n",
       "      <th>latitude</th>\n",
       "      <th>longitude</th>\n",
       "      <th>address</th>\n",
       "      <th>price</th>\n",
       "      <th>is_closed</th>\n",
       "      <th>rating</th>\n",
       "      <th>rating_count</th>\n",
       "      <th>my_timestamp</th>\n",
       "    </tr>\n",
       "  </thead>\n",
       "  <tbody>\n",
       "    <tr>\n",
       "      <th>0</th>\n",
       "      <td>43.665269,-79.319796</td>\n",
       "      <td>egyptian</td>\n",
       "      <td>[{'alias': 'egyptian', 'title': 'Egyptian'}, {...</td>\n",
       "      <td>Maha's</td>\n",
       "      <td>1004.992087</td>\n",
       "      <td>43.671670</td>\n",
       "      <td>-79.328530</td>\n",
       "      <td>[226 Greenwood Avenue, Toronto, ON M4L 2R2, Ca...</td>\n",
       "      <td>$$</td>\n",
       "      <td>False</td>\n",
       "      <td>4.0</td>\n",
       "      <td>572</td>\n",
       "      <td>2022-12-03 22:09:56.323402</td>\n",
       "    </tr>\n",
       "    <tr>\n",
       "      <th>1</th>\n",
       "      <td>43.665269,-79.319796</td>\n",
       "      <td>burgers</td>\n",
       "      <td>[{'alias': 'burgers', 'title': 'Burgers'}]</td>\n",
       "      <td>The Burger's Priest</td>\n",
       "      <td>374.238073</td>\n",
       "      <td>43.666700</td>\n",
       "      <td>-79.315585</td>\n",
       "      <td>[1636 Queen Street E, Toronto, ON M4L 1G3, Can...</td>\n",
       "      <td>$$</td>\n",
       "      <td>False</td>\n",
       "      <td>3.5</td>\n",
       "      <td>498</td>\n",
       "      <td>2022-12-03 22:09:56.323415</td>\n",
       "    </tr>\n",
       "    <tr>\n",
       "      <th>2</th>\n",
       "      <td>43.665269,-79.319796</td>\n",
       "      <td>mexican</td>\n",
       "      <td>[{'alias': 'mexican', 'title': 'Mexican'}]</td>\n",
       "      <td>Chino Locos Original</td>\n",
       "      <td>467.122546</td>\n",
       "      <td>43.664482</td>\n",
       "      <td>-79.325501</td>\n",
       "      <td>[4 Greenwood Avenue, Toronto, ON M4L 2P4, Canada]</td>\n",
       "      <td>$</td>\n",
       "      <td>False</td>\n",
       "      <td>4.0</td>\n",
       "      <td>190</td>\n",
       "      <td>2022-12-03 22:09:56.323420</td>\n",
       "    </tr>\n",
       "    <tr>\n",
       "      <th>3</th>\n",
       "      <td>43.665269,-79.319796</td>\n",
       "      <td>halal</td>\n",
       "      <td>[{'alias': 'halal', 'title': 'Halal'}, {'alias...</td>\n",
       "      <td>Lahore Tikka House</td>\n",
       "      <td>787.473798</td>\n",
       "      <td>43.671480</td>\n",
       "      <td>-79.324510</td>\n",
       "      <td>[1365 Gerrard Street E, Toronto, ON M4L 1Z3, C...</td>\n",
       "      <td>$$</td>\n",
       "      <td>False</td>\n",
       "      <td>3.5</td>\n",
       "      <td>537</td>\n",
       "      <td>2022-12-03 22:09:56.323424</td>\n",
       "    </tr>\n",
       "    <tr>\n",
       "      <th>4</th>\n",
       "      <td>43.665269,-79.319796</td>\n",
       "      <td>italian</td>\n",
       "      <td>[{'alias': 'italian', 'title': 'Italian'}, {'a...</td>\n",
       "      <td>Gio Rana's Really Really Nice Restaurant</td>\n",
       "      <td>881.124117</td>\n",
       "      <td>43.663335</td>\n",
       "      <td>-79.330419</td>\n",
       "      <td>[1220 Queen Street East, Toronto, ON M4M 1L7, ...</td>\n",
       "      <td>$$$</td>\n",
       "      <td>False</td>\n",
       "      <td>4.0</td>\n",
       "      <td>226</td>\n",
       "      <td>2022-12-03 22:09:56.323428</td>\n",
       "    </tr>\n",
       "  </tbody>\n",
       "</table>\n",
       "</div>"
      ],
      "text/plain": [
       "               lat-long category_name  \\\n",
       "0  43.665269,-79.319796      egyptian   \n",
       "1  43.665269,-79.319796       burgers   \n",
       "2  43.665269,-79.319796       mexican   \n",
       "3  43.665269,-79.319796         halal   \n",
       "4  43.665269,-79.319796       italian   \n",
       "\n",
       "                                          categories  \\\n",
       "0  [{'alias': 'egyptian', 'title': 'Egyptian'}, {...   \n",
       "1         [{'alias': 'burgers', 'title': 'Burgers'}]   \n",
       "2         [{'alias': 'mexican', 'title': 'Mexican'}]   \n",
       "3  [{'alias': 'halal', 'title': 'Halal'}, {'alias...   \n",
       "4  [{'alias': 'italian', 'title': 'Italian'}, {'a...   \n",
       "\n",
       "                                       name     distance   latitude  \\\n",
       "0                                    Maha's  1004.992087  43.671670   \n",
       "1                       The Burger's Priest   374.238073  43.666700   \n",
       "2                      Chino Locos Original   467.122546  43.664482   \n",
       "3                        Lahore Tikka House   787.473798  43.671480   \n",
       "4  Gio Rana's Really Really Nice Restaurant   881.124117  43.663335   \n",
       "\n",
       "   longitude                                            address price  \\\n",
       "0 -79.328530  [226 Greenwood Avenue, Toronto, ON M4L 2R2, Ca...    $$   \n",
       "1 -79.315585  [1636 Queen Street E, Toronto, ON M4L 1G3, Can...    $$   \n",
       "2 -79.325501  [4 Greenwood Avenue, Toronto, ON M4L 2P4, Canada]     $   \n",
       "3 -79.324510  [1365 Gerrard Street E, Toronto, ON M4L 1Z3, C...    $$   \n",
       "4 -79.330419  [1220 Queen Street East, Toronto, ON M4M 1L7, ...   $$$   \n",
       "\n",
       "   is_closed  rating  rating_count               my_timestamp  \n",
       "0      False     4.0           572 2022-12-03 22:09:56.323402  \n",
       "1      False     3.5           498 2022-12-03 22:09:56.323415  \n",
       "2      False     4.0           190 2022-12-03 22:09:56.323420  \n",
       "3      False     3.5           537 2022-12-03 22:09:56.323424  \n",
       "4      False     4.0           226 2022-12-03 22:09:56.323428  "
      ]
     },
     "execution_count": 48,
     "metadata": {},
     "output_type": "execute_result"
    }
   ],
   "source": [
    "df_yelp.head()"
   ]
  },
  {
   "cell_type": "code",
   "execution_count": 49,
   "metadata": {},
   "outputs": [
    {
     "data": {
      "text/plain": [
       "(12827, 13)"
      ]
     },
     "execution_count": 49,
     "metadata": {},
     "output_type": "execute_result"
    }
   ],
   "source": [
    "df_yelp.shape"
   ]
  },
  {
   "cell_type": "markdown",
   "metadata": {},
   "source": [
    "### SAVE IT!!!"
   ]
  },
  {
   "cell_type": "code",
   "execution_count": 30,
   "metadata": {},
   "outputs": [],
   "source": [
    "df_yelp.to_csv(f'../data/yelpPOI/df_yelp{datetime.now()}.csv', index=False)"
   ]
  },
  {
   "cell_type": "markdown",
   "metadata": {},
   "source": [
    "Parse through the response to get the POI (such as restaurants, bars, etc) details you want (ratings, name, location, etc)\n",
    "\n",
    "## Cleaning and Normalizing the nested table values:\n",
    "\n",
    "### YELP POI:"
   ]
  },
  {
   "cell_type": "markdown",
   "metadata": {},
   "source": [
    "The function which created the DataFrame made sure that each POI had at least one category name and alias, but we can see above that many have two or even three which can be normalized to flatten the hierarchy."
   ]
  },
  {
   "cell_type": "code",
   "execution_count": 82,
   "metadata": {},
   "outputs": [
    {
     "data": {
      "text/html": [
       "<div>\n",
       "<style scoped>\n",
       "    .dataframe tbody tr th:only-of-type {\n",
       "        vertical-align: middle;\n",
       "    }\n",
       "\n",
       "    .dataframe tbody tr th {\n",
       "        vertical-align: top;\n",
       "    }\n",
       "\n",
       "    .dataframe thead th {\n",
       "        text-align: right;\n",
       "    }\n",
       "</style>\n",
       "<table border=\"1\" class=\"dataframe\">\n",
       "  <thead>\n",
       "    <tr style=\"text-align: right;\">\n",
       "      <th></th>\n",
       "      <th>0</th>\n",
       "      <th>1</th>\n",
       "      <th>2</th>\n",
       "    </tr>\n",
       "  </thead>\n",
       "  <tbody>\n",
       "    <tr>\n",
       "      <th>0</th>\n",
       "      <td>{'alias': 'egyptian', 'title': 'Egyptian'}</td>\n",
       "      <td>{'alias': 'vegan', 'title': 'Vegan'}</td>\n",
       "      <td>{'alias': 'sandwiches', 'title': 'Sandwiches'}</td>\n",
       "    </tr>\n",
       "    <tr>\n",
       "      <th>1</th>\n",
       "      <td>{'alias': 'italian', 'title': 'Italian'}</td>\n",
       "      <td>None</td>\n",
       "      <td>None</td>\n",
       "    </tr>\n",
       "    <tr>\n",
       "      <th>2</th>\n",
       "      <td>{'alias': 'burgers', 'title': 'Burgers'}</td>\n",
       "      <td>None</td>\n",
       "      <td>None</td>\n",
       "    </tr>\n",
       "    <tr>\n",
       "      <th>3</th>\n",
       "      <td>{'alias': 'newcanadian', 'title': 'Canadian (N...</td>\n",
       "      <td>None</td>\n",
       "      <td>None</td>\n",
       "    </tr>\n",
       "    <tr>\n",
       "      <th>4</th>\n",
       "      <td>{'alias': 'japanese', 'title': 'Japanese'}</td>\n",
       "      <td>{'alias': 'pubs', 'title': 'Pubs'}</td>\n",
       "      <td>None</td>\n",
       "    </tr>\n",
       "  </tbody>\n",
       "</table>\n",
       "</div>"
      ],
      "text/plain": [
       "                                                   0  \\\n",
       "0         {'alias': 'egyptian', 'title': 'Egyptian'}   \n",
       "1           {'alias': 'italian', 'title': 'Italian'}   \n",
       "2           {'alias': 'burgers', 'title': 'Burgers'}   \n",
       "3  {'alias': 'newcanadian', 'title': 'Canadian (N...   \n",
       "4         {'alias': 'japanese', 'title': 'Japanese'}   \n",
       "\n",
       "                                      1  \\\n",
       "0  {'alias': 'vegan', 'title': 'Vegan'}   \n",
       "1                                  None   \n",
       "2                                  None   \n",
       "3                                  None   \n",
       "4    {'alias': 'pubs', 'title': 'Pubs'}   \n",
       "\n",
       "                                                2  \n",
       "0  {'alias': 'sandwiches', 'title': 'Sandwiches'}  \n",
       "1                                            None  \n",
       "2                                            None  \n",
       "3                                            None  \n",
       "4                                            None  "
      ]
     },
     "execution_count": 82,
     "metadata": {},
     "output_type": "execute_result"
    }
   ],
   "source": [
    "# Clone a working copy:\n",
    "df = df_yelp.copy()\n",
    "\n",
    "# Normalize the categories:\n",
    "dfcat = pd.json_normalize(df['categories'][0])\n",
    "dfcat.head()"
   ]
  },
  {
   "cell_type": "code",
   "execution_count": 83,
   "metadata": {},
   "outputs": [
    {
     "data": {
      "text/html": [
       "<div>\n",
       "<style scoped>\n",
       "    .dataframe tbody tr th:only-of-type {\n",
       "        vertical-align: middle;\n",
       "    }\n",
       "\n",
       "    .dataframe tbody tr th {\n",
       "        vertical-align: top;\n",
       "    }\n",
       "\n",
       "    .dataframe thead th {\n",
       "        text-align: right;\n",
       "    }\n",
       "</style>\n",
       "<table border=\"1\" class=\"dataframe\">\n",
       "  <thead>\n",
       "    <tr style=\"text-align: right;\">\n",
       "      <th></th>\n",
       "      <th>alias</th>\n",
       "      <th>title</th>\n",
       "    </tr>\n",
       "  </thead>\n",
       "  <tbody>\n",
       "    <tr>\n",
       "      <th>0</th>\n",
       "      <td>egyptian</td>\n",
       "      <td>Egyptian</td>\n",
       "    </tr>\n",
       "    <tr>\n",
       "      <th>1</th>\n",
       "      <td>italian</td>\n",
       "      <td>Italian</td>\n",
       "    </tr>\n",
       "    <tr>\n",
       "      <th>2</th>\n",
       "      <td>burgers</td>\n",
       "      <td>Burgers</td>\n",
       "    </tr>\n",
       "    <tr>\n",
       "      <th>3</th>\n",
       "      <td>newcanadian</td>\n",
       "      <td>Canadian (New)</td>\n",
       "    </tr>\n",
       "    <tr>\n",
       "      <th>4</th>\n",
       "      <td>japanese</td>\n",
       "      <td>Japanese</td>\n",
       "    </tr>\n",
       "  </tbody>\n",
       "</table>\n",
       "</div>"
      ],
      "text/plain": [
       "         alias           title\n",
       "0     egyptian        Egyptian\n",
       "1      italian         Italian\n",
       "2      burgers         Burgers\n",
       "3  newcanadian  Canadian (New)\n",
       "4     japanese        Japanese"
      ]
     },
     "execution_count": 83,
     "metadata": {},
     "output_type": "execute_result"
    }
   ],
   "source": [
    "# normalize the resulting 3 columns into 3 tables in the example below:\n",
    "dfcat0 = pd.json_normalize(dfcat[0])\n",
    "dfcat1 = pd.json_normalize(dfcat[1])\n",
    "dfcat2 = pd.json_normalize(dfcat[2])\n",
    "dfcat0.head()"
   ]
  },
  {
   "cell_type": "code",
   "execution_count": 84,
   "metadata": {},
   "outputs": [
    {
     "data": {
      "text/html": [
       "<div>\n",
       "<style scoped>\n",
       "    .dataframe tbody tr th:only-of-type {\n",
       "        vertical-align: middle;\n",
       "    }\n",
       "\n",
       "    .dataframe tbody tr th {\n",
       "        vertical-align: top;\n",
       "    }\n",
       "\n",
       "    .dataframe thead th {\n",
       "        text-align: right;\n",
       "    }\n",
       "</style>\n",
       "<table border=\"1\" class=\"dataframe\">\n",
       "  <thead>\n",
       "    <tr style=\"text-align: right;\">\n",
       "      <th></th>\n",
       "      <th>lat-long</th>\n",
       "      <th>name</th>\n",
       "      <th>distance</th>\n",
       "      <th>latitude</th>\n",
       "      <th>longitude</th>\n",
       "      <th>address</th>\n",
       "      <th>price</th>\n",
       "      <th>is_closed</th>\n",
       "      <th>rating</th>\n",
       "      <th>rating_count</th>\n",
       "      <th>my_timestamp</th>\n",
       "      <th>cat1_alias</th>\n",
       "      <th>cat1_title</th>\n",
       "      <th>cat2_alias</th>\n",
       "      <th>cat2_title</th>\n",
       "      <th>cat3_alias</th>\n",
       "      <th>cat3_title</th>\n",
       "    </tr>\n",
       "  </thead>\n",
       "  <tbody>\n",
       "    <tr>\n",
       "      <th>0</th>\n",
       "      <td>43.665269,-79.319796</td>\n",
       "      <td>Maha's</td>\n",
       "      <td>1004.992087</td>\n",
       "      <td>43.67167</td>\n",
       "      <td>-79.32853</td>\n",
       "      <td>[226 Greenwood Avenue, Toronto, ON M4L 2R2, Ca...</td>\n",
       "      <td>$$</td>\n",
       "      <td>False</td>\n",
       "      <td>4.0</td>\n",
       "      <td>572</td>\n",
       "      <td>2022-12-03 22:09:56.323402</td>\n",
       "      <td>egyptian</td>\n",
       "      <td>Egyptian</td>\n",
       "      <td>vegan</td>\n",
       "      <td>Vegan</td>\n",
       "      <td>sandwiches</td>\n",
       "      <td>Sandwiches</td>\n",
       "    </tr>\n",
       "  </tbody>\n",
       "</table>\n",
       "</div>"
      ],
      "text/plain": [
       "               lat-long    name     distance  latitude  longitude  \\\n",
       "0  43.665269,-79.319796  Maha's  1004.992087  43.67167  -79.32853   \n",
       "\n",
       "                                             address price  is_closed  rating  \\\n",
       "0  [226 Greenwood Avenue, Toronto, ON M4L 2R2, Ca...    $$      False     4.0   \n",
       "\n",
       "   rating_count               my_timestamp cat1_alias cat1_title cat2_alias  \\\n",
       "0           572 2022-12-03 22:09:56.323402   egyptian   Egyptian      vegan   \n",
       "\n",
       "  cat2_title  cat3_alias  cat3_title  \n",
       "0      Vegan  sandwiches  Sandwiches  "
      ]
     },
     "execution_count": 84,
     "metadata": {},
     "output_type": "execute_result"
    }
   ],
   "source": [
    "# Add new category labels back onto the df: \n",
    "df['cat1_alias'] = dfcat0['alias']\n",
    "df['cat1_title'] = dfcat0['title']\n",
    "\n",
    "df['cat2_alias'] = dfcat1['alias']\n",
    "df['cat2_title'] = dfcat1['title']\n",
    "\n",
    "df['cat3_alias'] = dfcat2['alias']\n",
    "df['cat3_title'] = dfcat2['title']\n",
    "\n",
    "# Remove the now redundant 'category' and 'name' columns:\n",
    "df = df.drop(['categories', 'category_name'], axis = 1)\n",
    "\n",
    "df.head(1)"
   ]
  },
  {
   "cell_type": "markdown",
   "metadata": {},
   "source": [
    "the addresses look chunky which diminishes the aesthetic of the table, and I expect this format might be useful for printing them in mailing format.  I won't be using it for my analysis at this point anyway, but I would certainly research this more before I made decisions about changing the format.  \n"
   ]
  },
  {
   "cell_type": "code",
   "execution_count": 93,
   "metadata": {},
   "outputs": [
    {
     "data": {
      "text/html": [
       "<div>\n",
       "<style scoped>\n",
       "    .dataframe tbody tr th:only-of-type {\n",
       "        vertical-align: middle;\n",
       "    }\n",
       "\n",
       "    .dataframe tbody tr th {\n",
       "        vertical-align: top;\n",
       "    }\n",
       "\n",
       "    .dataframe thead th {\n",
       "        text-align: right;\n",
       "    }\n",
       "</style>\n",
       "<table border=\"1\" class=\"dataframe\">\n",
       "  <thead>\n",
       "    <tr style=\"text-align: right;\">\n",
       "      <th></th>\n",
       "      <th>lat-long</th>\n",
       "      <th>name</th>\n",
       "      <th>distance</th>\n",
       "      <th>latitude</th>\n",
       "      <th>longitude</th>\n",
       "      <th>price</th>\n",
       "      <th>is_closed</th>\n",
       "      <th>rating</th>\n",
       "      <th>rating_count</th>\n",
       "      <th>my_timestamp</th>\n",
       "      <th>cat1_title</th>\n",
       "      <th>cat2_title</th>\n",
       "      <th>cat3_title</th>\n",
       "    </tr>\n",
       "  </thead>\n",
       "  <tbody>\n",
       "    <tr>\n",
       "      <th>0</th>\n",
       "      <td>43.665269,-79.319796</td>\n",
       "      <td>Maha's</td>\n",
       "      <td>1004.99</td>\n",
       "      <td>43.67167</td>\n",
       "      <td>-79.328530</td>\n",
       "      <td>2.0</td>\n",
       "      <td>False</td>\n",
       "      <td>4.0</td>\n",
       "      <td>572</td>\n",
       "      <td>2022-12-03 22:09:56.323402</td>\n",
       "      <td>Egyptian</td>\n",
       "      <td>Vegan</td>\n",
       "      <td>Sandwiches</td>\n",
       "    </tr>\n",
       "    <tr>\n",
       "      <th>1</th>\n",
       "      <td>43.665269,-79.319796</td>\n",
       "      <td>The Burger's Priest</td>\n",
       "      <td>374.24</td>\n",
       "      <td>43.66670</td>\n",
       "      <td>-79.315585</td>\n",
       "      <td>2.0</td>\n",
       "      <td>False</td>\n",
       "      <td>3.5</td>\n",
       "      <td>498</td>\n",
       "      <td>2022-12-03 22:09:56.323415</td>\n",
       "      <td>Italian</td>\n",
       "      <td>NaN</td>\n",
       "      <td>NaN</td>\n",
       "    </tr>\n",
       "  </tbody>\n",
       "</table>\n",
       "</div>"
      ],
      "text/plain": [
       "               lat-long                 name  distance  latitude  longitude  \\\n",
       "0  43.665269,-79.319796               Maha's   1004.99  43.67167 -79.328530   \n",
       "1  43.665269,-79.319796  The Burger's Priest    374.24  43.66670 -79.315585   \n",
       "\n",
       "   price  is_closed  rating  rating_count               my_timestamp  \\\n",
       "0    2.0      False     4.0           572 2022-12-03 22:09:56.323402   \n",
       "1    2.0      False     3.5           498 2022-12-03 22:09:56.323415   \n",
       "\n",
       "  cat1_title cat2_title  cat3_title  \n",
       "0   Egyptian      Vegan  Sandwiches  \n",
       "1    Italian        NaN         NaN  "
      ]
     },
     "execution_count": 93,
     "metadata": {},
     "output_type": "execute_result"
    }
   ],
   "source": [
    "# Drop columns from our copy df not currently needed:\n",
    "df = df.drop(['address', 'cat1_alias', 'cat2_alias', 'cat3_alias'], axis = 1)\n",
    "df.head(2)"
   ]
  },
  {
   "cell_type": "markdown",
   "metadata": {},
   "source": [
    "flip the \"is_closed\" column to remove the confusing double negative, and enable foursquare comparison:"
   ]
  },
  {
   "cell_type": "code",
   "execution_count": 96,
   "metadata": {},
   "outputs": [
    {
     "data": {
      "text/html": [
       "<div>\n",
       "<style scoped>\n",
       "    .dataframe tbody tr th:only-of-type {\n",
       "        vertical-align: middle;\n",
       "    }\n",
       "\n",
       "    .dataframe tbody tr th {\n",
       "        vertical-align: top;\n",
       "    }\n",
       "\n",
       "    .dataframe thead th {\n",
       "        text-align: right;\n",
       "    }\n",
       "</style>\n",
       "<table border=\"1\" class=\"dataframe\">\n",
       "  <thead>\n",
       "    <tr style=\"text-align: right;\">\n",
       "      <th></th>\n",
       "      <th>lat-long</th>\n",
       "      <th>name</th>\n",
       "      <th>distance</th>\n",
       "      <th>latitude</th>\n",
       "      <th>longitude</th>\n",
       "      <th>price</th>\n",
       "      <th>is_open</th>\n",
       "      <th>rating</th>\n",
       "      <th>rating_count</th>\n",
       "      <th>my_timestamp</th>\n",
       "      <th>cat1_title</th>\n",
       "      <th>cat2_title</th>\n",
       "      <th>cat3_title</th>\n",
       "    </tr>\n",
       "  </thead>\n",
       "  <tbody>\n",
       "    <tr>\n",
       "      <th>0</th>\n",
       "      <td>43.665269,-79.319796</td>\n",
       "      <td>Maha's</td>\n",
       "      <td>1004.99</td>\n",
       "      <td>43.67167</td>\n",
       "      <td>-79.328530</td>\n",
       "      <td>2.0</td>\n",
       "      <td>True</td>\n",
       "      <td>4.0</td>\n",
       "      <td>572</td>\n",
       "      <td>2022-12-03 22:09:56.323402</td>\n",
       "      <td>Egyptian</td>\n",
       "      <td>Vegan</td>\n",
       "      <td>Sandwiches</td>\n",
       "    </tr>\n",
       "    <tr>\n",
       "      <th>1</th>\n",
       "      <td>43.665269,-79.319796</td>\n",
       "      <td>The Burger's Priest</td>\n",
       "      <td>374.24</td>\n",
       "      <td>43.66670</td>\n",
       "      <td>-79.315585</td>\n",
       "      <td>2.0</td>\n",
       "      <td>True</td>\n",
       "      <td>3.5</td>\n",
       "      <td>498</td>\n",
       "      <td>2022-12-03 22:09:56.323415</td>\n",
       "      <td>Italian</td>\n",
       "      <td>NaN</td>\n",
       "      <td>NaN</td>\n",
       "    </tr>\n",
       "  </tbody>\n",
       "</table>\n",
       "</div>"
      ],
      "text/plain": [
       "               lat-long                 name  distance  latitude  longitude  \\\n",
       "0  43.665269,-79.319796               Maha's   1004.99  43.67167 -79.328530   \n",
       "1  43.665269,-79.319796  The Burger's Priest    374.24  43.66670 -79.315585   \n",
       "\n",
       "   price  is_open  rating  rating_count               my_timestamp cat1_title  \\\n",
       "0    2.0     True     4.0           572 2022-12-03 22:09:56.323402   Egyptian   \n",
       "1    2.0     True     3.5           498 2022-12-03 22:09:56.323415    Italian   \n",
       "\n",
       "  cat2_title  cat3_title  \n",
       "0      Vegan  Sandwiches  \n",
       "1        NaN         NaN  "
      ]
     },
     "execution_count": 96,
     "metadata": {},
     "output_type": "execute_result"
    }
   ],
   "source": [
    "df['is_closed'] = df['is_closed'] == False\n",
    "# Rename the heading to match:\n",
    "df = df.rename(columns = {'is_closed':'is_open'})\n",
    "df.head(2)"
   ]
  },
  {
   "cell_type": "markdown",
   "metadata": {},
   "source": [
    "Convert the timestamp data to the Toronto's time zone:"
   ]
  },
  {
   "cell_type": "code",
   "execution_count": 99,
   "metadata": {},
   "outputs": [],
   "source": [
    "from datetime import datetime\n",
    "import pytz"
   ]
  },
  {
   "cell_type": "code",
   "execution_count": 106,
   "metadata": {},
   "outputs": [
    {
     "data": {
      "text/plain": [
       "Timestamp('2022-12-04 00:09:56.323402-0500', tz='US/Eastern')"
      ]
     },
     "execution_count": 106,
     "metadata": {},
     "output_type": "execute_result"
    }
   ],
   "source": [
    "# create both timezone objects\n",
    "old_timezone = pytz.timezone(\"US/Mountain\")\n",
    "new_timezone = pytz.timezone(\"US/Eastern\")\n",
    "\n",
    "# two-step process\n",
    "localized_timestamp = old_timezone.localize(testdate)\n",
    "new_testdate = localized_timestamp.astimezone(new_timezone)\n",
    "new_testdate"
   ]
  },
  {
   "cell_type": "code",
   "execution_count": 109,
   "metadata": {},
   "outputs": [
    {
     "name": "stderr",
     "output_type": "stream",
     "text": [
      "/var/folders/sy/_mmt08610_3_rz06wyv14lxh0000gn/T/ipykernel_35521/1236673304.py:4: SettingWithCopyWarning: \n",
      "A value is trying to be set on a copy of a slice from a DataFrame\n",
      "\n",
      "See the caveats in the documentation: https://pandas.pydata.org/pandas-docs/stable/user_guide/indexing.html#returning-a-view-versus-a-copy\n",
      "  df['my_timestamp'].iloc[i] = localized_timestamp.astimezone(new_timezone)\n"
     ]
    },
    {
     "data": {
      "text/plain": [
       "Timestamp('2022-12-04 00:09:56.323402-0500', tz='US/Eastern')"
      ]
     },
     "execution_count": 109,
     "metadata": {},
     "output_type": "execute_result"
    }
   ],
   "source": [
    "# create both timezone objects\n",
    "old_timezone = pytz.timezone(\"US/Mountain\")\n",
    "new_timezone = pytz.timezone(\"US/Eastern\")\n",
    "\n",
    "# Confirm current timezone\n",
    "print(df['my_timestamp'].iloc[0])\n",
    "\n",
    "# two-step process\n",
    "for i in range(df.shape[0]):\n",
    "  localized_timestamp = old_timezone.localize(df['my_timestamp'].iloc[i])\n",
    "  df['my_timestamp'].iloc[i] = localized_timestamp.astimezone(new_timezone)\n",
    "\n",
    "# Has converted to new timezone:\n",
    "print(df['my_timestamp'].iloc[0])"
   ]
  },
  {
   "cell_type": "code",
   "execution_count": 105,
   "metadata": {},
   "outputs": [
    {
     "name": "stdout",
     "output_type": "stream",
     "text": [
      "2022-12-03 22:09:56.323402\n"
     ]
    }
   ],
   "source": [
    "testdate = df['my_timestamp'].iloc[0]\n",
    "print(testdate)\n",
    "# testdate = testdate.timestamp.astimezone(tz=pytz.timezone('America/Toronto'))\n",
    "# print(testdate)"
   ]
  },
  {
   "cell_type": "code",
   "execution_count": null,
   "metadata": {},
   "outputs": [],
   "source": [
    "from datetime import datetime\n",
    "import pytz\n",
    "\n",
    "utc = '2022-12-03T18:32:24.600000Z'\n",
    "date = datetime.strptime(utc, '%Y-%m-%dT%H:%M:%S.%fZ')\n",
    "converted = date.astimezone(tz=pytz.timezone('America/Toronto'))\n",
    "\n",
    "print(converted)"
   ]
  },
  {
   "cell_type": "code",
   "execution_count": 92,
   "metadata": {},
   "outputs": [
    {
     "data": {
      "text/html": [
       "<div>\n",
       "<style scoped>\n",
       "    .dataframe tbody tr th:only-of-type {\n",
       "        vertical-align: middle;\n",
       "    }\n",
       "\n",
       "    .dataframe tbody tr th {\n",
       "        vertical-align: top;\n",
       "    }\n",
       "\n",
       "    .dataframe thead th {\n",
       "        text-align: right;\n",
       "    }\n",
       "</style>\n",
       "<table border=\"1\" class=\"dataframe\">\n",
       "  <thead>\n",
       "    <tr style=\"text-align: right;\">\n",
       "      <th></th>\n",
       "      <th>lat-long</th>\n",
       "      <th>name</th>\n",
       "      <th>distance</th>\n",
       "      <th>latitude</th>\n",
       "      <th>longitude</th>\n",
       "      <th>price</th>\n",
       "      <th>is_closed</th>\n",
       "      <th>rating</th>\n",
       "      <th>rating_count</th>\n",
       "      <th>my_timestamp</th>\n",
       "      <th>cat1_alias</th>\n",
       "      <th>cat1_title</th>\n",
       "      <th>cat2_title</th>\n",
       "      <th>cat3_title</th>\n",
       "    </tr>\n",
       "  </thead>\n",
       "  <tbody>\n",
       "    <tr>\n",
       "      <th>0</th>\n",
       "      <td>43.665269,-79.319796</td>\n",
       "      <td>Maha's</td>\n",
       "      <td>1004.99</td>\n",
       "      <td>43.67167</td>\n",
       "      <td>-79.328530</td>\n",
       "      <td>2.0</td>\n",
       "      <td>False</td>\n",
       "      <td>4.0</td>\n",
       "      <td>572</td>\n",
       "      <td>2022-12-03 22:09:56.323402</td>\n",
       "      <td>egyptian</td>\n",
       "      <td>Egyptian</td>\n",
       "      <td>Vegan</td>\n",
       "      <td>Sandwiches</td>\n",
       "    </tr>\n",
       "    <tr>\n",
       "      <th>1</th>\n",
       "      <td>43.665269,-79.319796</td>\n",
       "      <td>The Burger's Priest</td>\n",
       "      <td>374.24</td>\n",
       "      <td>43.66670</td>\n",
       "      <td>-79.315585</td>\n",
       "      <td>2.0</td>\n",
       "      <td>False</td>\n",
       "      <td>3.5</td>\n",
       "      <td>498</td>\n",
       "      <td>2022-12-03 22:09:56.323415</td>\n",
       "      <td>italian</td>\n",
       "      <td>Italian</td>\n",
       "      <td>NaN</td>\n",
       "      <td>NaN</td>\n",
       "    </tr>\n",
       "  </tbody>\n",
       "</table>\n",
       "</div>"
      ],
      "text/plain": [
       "               lat-long                 name  distance  latitude  longitude  \\\n",
       "0  43.665269,-79.319796               Maha's   1004.99  43.67167 -79.328530   \n",
       "1  43.665269,-79.319796  The Burger's Priest    374.24  43.66670 -79.315585   \n",
       "\n",
       "   price  is_closed  rating  rating_count               my_timestamp  \\\n",
       "0    2.0      False     4.0           572 2022-12-03 22:09:56.323402   \n",
       "1    2.0      False     3.5           498 2022-12-03 22:09:56.323415   \n",
       "\n",
       "  cat1_alias cat1_title cat2_title  cat3_title  \n",
       "0   egyptian   Egyptian      Vegan  Sandwiches  \n",
       "1    italian    Italian        NaN         NaN  "
      ]
     },
     "execution_count": 92,
     "metadata": {},
     "output_type": "execute_result"
    }
   ],
   "source": [
    "df['distance'] = round(df['distance'], 2)\n",
    "df.head(2)"
   ]
  },
  {
   "cell_type": "markdown",
   "metadata": {},
   "source": [
    "##### Categorical encoding: price\n"
   ]
  },
  {
   "cell_type": "code",
   "execution_count": 85,
   "metadata": {},
   "outputs": [
    {
     "name": "stdout",
     "output_type": "stream",
     "text": [
      "$$      7356\n",
      "$       2190\n",
      "$$$     1210\n",
      "$$$$     524\n",
      "Name: price, dtype: int64\n",
      "False    11280\n",
      "True      1547\n",
      "Name: price, dtype: int64\n"
     ]
    },
    {
     "data": {
      "text/plain": [
       "array(['$$', '$', '$$$', None, '$$$$'], dtype=object)"
      ]
     },
     "execution_count": 85,
     "metadata": {},
     "output_type": "execute_result"
    }
   ],
   "source": [
    "print(df['price'].value_counts())\n",
    "print(df['price'].isna().value_counts())\n",
    "df['price'].unique()"
   ]
  },
  {
   "cell_type": "code",
   "execution_count": 86,
   "metadata": {},
   "outputs": [
    {
     "data": {
      "text/plain": [
       "{'$$': 2, '$': 1, '$$$': 3, None: None, '$$$$': 4}"
      ]
     },
     "execution_count": 86,
     "metadata": {},
     "output_type": "execute_result"
    }
   ],
   "source": [
    "# order in array above will be same as the keys,\n",
    "keys = df['price'].unique()\n",
    "# Setting ordinal numerical values to match the order:\n",
    "values = [2, 1, 3, None, 4]\n",
    "price_map = dict(zip(keys, values))\n",
    "price_map"
   ]
  },
  {
   "cell_type": "code",
   "execution_count": 87,
   "metadata": {},
   "outputs": [
    {
     "name": "stdout",
     "output_type": "stream",
     "text": [
      "2.0    7356\n",
      "1.0    2190\n",
      "3.0    1210\n",
      "4.0     524\n",
      "Name: price, dtype: int64\n"
     ]
    },
    {
     "data": {
      "text/html": [
       "<div>\n",
       "<style scoped>\n",
       "    .dataframe tbody tr th:only-of-type {\n",
       "        vertical-align: middle;\n",
       "    }\n",
       "\n",
       "    .dataframe tbody tr th {\n",
       "        vertical-align: top;\n",
       "    }\n",
       "\n",
       "    .dataframe thead th {\n",
       "        text-align: right;\n",
       "    }\n",
       "</style>\n",
       "<table border=\"1\" class=\"dataframe\">\n",
       "  <thead>\n",
       "    <tr style=\"text-align: right;\">\n",
       "      <th></th>\n",
       "      <th>lat-long</th>\n",
       "      <th>name</th>\n",
       "      <th>distance</th>\n",
       "      <th>latitude</th>\n",
       "      <th>longitude</th>\n",
       "      <th>address</th>\n",
       "      <th>price</th>\n",
       "      <th>is_closed</th>\n",
       "      <th>rating</th>\n",
       "      <th>rating_count</th>\n",
       "      <th>my_timestamp</th>\n",
       "      <th>cat1_alias</th>\n",
       "      <th>cat1_title</th>\n",
       "      <th>cat2_alias</th>\n",
       "      <th>cat2_title</th>\n",
       "      <th>cat3_alias</th>\n",
       "      <th>cat3_title</th>\n",
       "    </tr>\n",
       "  </thead>\n",
       "  <tbody>\n",
       "    <tr>\n",
       "      <th>0</th>\n",
       "      <td>43.665269,-79.319796</td>\n",
       "      <td>Maha's</td>\n",
       "      <td>1004.992087</td>\n",
       "      <td>43.671670</td>\n",
       "      <td>-79.328530</td>\n",
       "      <td>[226 Greenwood Avenue, Toronto, ON M4L 2R2, Ca...</td>\n",
       "      <td>2.0</td>\n",
       "      <td>False</td>\n",
       "      <td>4.0</td>\n",
       "      <td>572</td>\n",
       "      <td>2022-12-03 22:09:56.323402</td>\n",
       "      <td>egyptian</td>\n",
       "      <td>Egyptian</td>\n",
       "      <td>vegan</td>\n",
       "      <td>Vegan</td>\n",
       "      <td>sandwiches</td>\n",
       "      <td>Sandwiches</td>\n",
       "    </tr>\n",
       "    <tr>\n",
       "      <th>1</th>\n",
       "      <td>43.665269,-79.319796</td>\n",
       "      <td>The Burger's Priest</td>\n",
       "      <td>374.238073</td>\n",
       "      <td>43.666700</td>\n",
       "      <td>-79.315585</td>\n",
       "      <td>[1636 Queen Street E, Toronto, ON M4L 1G3, Can...</td>\n",
       "      <td>2.0</td>\n",
       "      <td>False</td>\n",
       "      <td>3.5</td>\n",
       "      <td>498</td>\n",
       "      <td>2022-12-03 22:09:56.323415</td>\n",
       "      <td>italian</td>\n",
       "      <td>Italian</td>\n",
       "      <td>NaN</td>\n",
       "      <td>NaN</td>\n",
       "      <td>NaN</td>\n",
       "      <td>NaN</td>\n",
       "    </tr>\n",
       "    <tr>\n",
       "      <th>2</th>\n",
       "      <td>43.665269,-79.319796</td>\n",
       "      <td>Chino Locos Original</td>\n",
       "      <td>467.122546</td>\n",
       "      <td>43.664482</td>\n",
       "      <td>-79.325501</td>\n",
       "      <td>[4 Greenwood Avenue, Toronto, ON M4L 2P4, Canada]</td>\n",
       "      <td>1.0</td>\n",
       "      <td>False</td>\n",
       "      <td>4.0</td>\n",
       "      <td>190</td>\n",
       "      <td>2022-12-03 22:09:56.323420</td>\n",
       "      <td>burgers</td>\n",
       "      <td>Burgers</td>\n",
       "      <td>NaN</td>\n",
       "      <td>NaN</td>\n",
       "      <td>NaN</td>\n",
       "      <td>NaN</td>\n",
       "    </tr>\n",
       "    <tr>\n",
       "      <th>3</th>\n",
       "      <td>43.665269,-79.319796</td>\n",
       "      <td>Lahore Tikka House</td>\n",
       "      <td>787.473798</td>\n",
       "      <td>43.671480</td>\n",
       "      <td>-79.324510</td>\n",
       "      <td>[1365 Gerrard Street E, Toronto, ON M4L 1Z3, C...</td>\n",
       "      <td>2.0</td>\n",
       "      <td>False</td>\n",
       "      <td>3.5</td>\n",
       "      <td>537</td>\n",
       "      <td>2022-12-03 22:09:56.323424</td>\n",
       "      <td>newcanadian</td>\n",
       "      <td>Canadian (New)</td>\n",
       "      <td>NaN</td>\n",
       "      <td>NaN</td>\n",
       "      <td>NaN</td>\n",
       "      <td>NaN</td>\n",
       "    </tr>\n",
       "    <tr>\n",
       "      <th>4</th>\n",
       "      <td>43.665269,-79.319796</td>\n",
       "      <td>Gio Rana's Really Really Nice Restaurant</td>\n",
       "      <td>881.124117</td>\n",
       "      <td>43.663335</td>\n",
       "      <td>-79.330419</td>\n",
       "      <td>[1220 Queen Street East, Toronto, ON M4M 1L7, ...</td>\n",
       "      <td>3.0</td>\n",
       "      <td>False</td>\n",
       "      <td>4.0</td>\n",
       "      <td>226</td>\n",
       "      <td>2022-12-03 22:09:56.323428</td>\n",
       "      <td>japanese</td>\n",
       "      <td>Japanese</td>\n",
       "      <td>pubs</td>\n",
       "      <td>Pubs</td>\n",
       "      <td>NaN</td>\n",
       "      <td>NaN</td>\n",
       "    </tr>\n",
       "  </tbody>\n",
       "</table>\n",
       "</div>"
      ],
      "text/plain": [
       "               lat-long                                      name  \\\n",
       "0  43.665269,-79.319796                                    Maha's   \n",
       "1  43.665269,-79.319796                       The Burger's Priest   \n",
       "2  43.665269,-79.319796                      Chino Locos Original   \n",
       "3  43.665269,-79.319796                        Lahore Tikka House   \n",
       "4  43.665269,-79.319796  Gio Rana's Really Really Nice Restaurant   \n",
       "\n",
       "      distance   latitude  longitude  \\\n",
       "0  1004.992087  43.671670 -79.328530   \n",
       "1   374.238073  43.666700 -79.315585   \n",
       "2   467.122546  43.664482 -79.325501   \n",
       "3   787.473798  43.671480 -79.324510   \n",
       "4   881.124117  43.663335 -79.330419   \n",
       "\n",
       "                                             address  price  is_closed  \\\n",
       "0  [226 Greenwood Avenue, Toronto, ON M4L 2R2, Ca...    2.0      False   \n",
       "1  [1636 Queen Street E, Toronto, ON M4L 1G3, Can...    2.0      False   \n",
       "2  [4 Greenwood Avenue, Toronto, ON M4L 2P4, Canada]    1.0      False   \n",
       "3  [1365 Gerrard Street E, Toronto, ON M4L 1Z3, C...    2.0      False   \n",
       "4  [1220 Queen Street East, Toronto, ON M4M 1L7, ...    3.0      False   \n",
       "\n",
       "   rating  rating_count               my_timestamp   cat1_alias  \\\n",
       "0     4.0           572 2022-12-03 22:09:56.323402     egyptian   \n",
       "1     3.5           498 2022-12-03 22:09:56.323415      italian   \n",
       "2     4.0           190 2022-12-03 22:09:56.323420      burgers   \n",
       "3     3.5           537 2022-12-03 22:09:56.323424  newcanadian   \n",
       "4     4.0           226 2022-12-03 22:09:56.323428     japanese   \n",
       "\n",
       "       cat1_title cat2_alias cat2_title  cat3_alias  cat3_title  \n",
       "0        Egyptian      vegan      Vegan  sandwiches  Sandwiches  \n",
       "1         Italian        NaN        NaN         NaN         NaN  \n",
       "2         Burgers        NaN        NaN         NaN         NaN  \n",
       "3  Canadian (New)        NaN        NaN         NaN         NaN  \n",
       "4        Japanese       pubs       Pubs         NaN         NaN  "
      ]
     },
     "execution_count": 87,
     "metadata": {},
     "output_type": "execute_result"
    }
   ],
   "source": [
    "# Replace\n",
    "df['price'] = df['price'].map(price_map)\n",
    "# Validate counts unaffected:\n",
    "print(df['price'].value_counts())\n",
    "\n",
    "df.head(1)"
   ]
  },
  {
   "cell_type": "code",
   "execution_count": 88,
   "metadata": {},
   "outputs": [
    {
     "data": {
      "text/plain": [
       "japanese            1936\n",
       "italian             1282\n",
       "egyptian            1278\n",
       "breakfast_brunch    1277\n",
       "burgers              653\n",
       "newcanadian          653\n",
       "ramen                652\n",
       "lounges              647\n",
       "sandwiches           646\n",
       "seafood              643\n",
       "tapasmallplates      641\n",
       "thai                 638\n",
       "vietnamese           631\n",
       "icecream             626\n",
       "pizza                624\n",
       "Name: cat1_alias, dtype: int64"
      ]
     },
     "execution_count": 88,
     "metadata": {},
     "output_type": "execute_result"
    }
   ],
   "source": [
    "df['cat1_alias'].value_counts()"
   ]
  },
  {
   "cell_type": "code",
   "execution_count": null,
   "metadata": {},
   "outputs": [],
   "source": []
  },
  {
   "cell_type": "code",
   "execution_count": null,
   "metadata": {},
   "outputs": [],
   "source": []
  },
  {
   "cell_type": "markdown",
   "metadata": {},
   "source": [
    "Put your parsed results into a DataFrame"
   ]
  },
  {
   "cell_type": "markdown",
   "metadata": {},
   "source": []
  },
  {
   "cell_type": "markdown",
   "metadata": {},
   "source": [
    "# Comparing Results"
   ]
  },
  {
   "cell_type": "markdown",
   "metadata": {},
   "source": [
    "Which API provided you with more complete data? Provide an explanation. "
   ]
  },
  {
   "cell_type": "markdown",
   "metadata": {},
   "source": []
  },
  {
   "cell_type": "markdown",
   "metadata": {},
   "source": [
    "Get the top 10 restaurants according to their rating"
   ]
  },
  {
   "cell_type": "code",
   "execution_count": null,
   "metadata": {},
   "outputs": [],
   "source": []
  }
 ],
 "metadata": {
  "kernelspec": {
   "display_name": "Python 3.10.8 ('base_env')",
   "language": "python",
   "name": "python3"
  },
  "language_info": {
   "codemirror_mode": {
    "name": "ipython",
    "version": 3
   },
   "file_extension": ".py",
   "mimetype": "text/x-python",
   "name": "python",
   "nbconvert_exporter": "python",
   "pygments_lexer": "ipython3",
   "version": "3.10.8"
  },
  "vscode": {
   "interpreter": {
    "hash": "39512f3c2a1741d7f752d45a133d4514127029333ea14bc2f3c6c5e6759b9029"
   }
  }
 },
 "nbformat": 4,
 "nbformat_minor": 4
}
