{
 "cells": [
  {
   "cell_type": "markdown",
   "metadata": {},
   "source": [
    "# W3P2 - PART3 - yelp_foursquareEDA\n",
    "\n",
    "assignment file part 2"
   ]
  },
  {
   "cell_type": "code",
   "execution_count": 112,
   "metadata": {},
   "outputs": [],
   "source": [
    "from datetime import datetime\n",
    "import pandas as pd\n",
    "import requests\n",
    "import json\n",
    "import os\n",
    "import warnings\n",
    "warnings.filterwarnings('ignore')"
   ]
  },
  {
   "cell_type": "markdown",
   "metadata": {},
   "source": [
    "# Foursquare"
   ]
  },
  {
   "cell_type": "markdown",
   "metadata": {},
   "source": [
    "Send a request to Foursquare with a small radius (1000m) for all the bike stations in your city of choice. Assuming the average comfortable walking speed below, the radius of 1km should list sites available within a 15min walking distance from each bike station.\n",
    "\n",
    "$$\n",
    "1km * hour/4km \n",
    "$$"
   ]
  },
  {
   "cell_type": "code",
   "execution_count": 113,
   "metadata": {},
   "outputs": [
    {
     "data": {
      "text/plain": [
       "(655, 19)"
      ]
     },
     "execution_count": 113,
     "metadata": {},
     "output_type": "execute_result"
    }
   ],
   "source": [
    "# Import data from file\n",
    "df = pd.read_csv('../data/df_ctybks_toronto.csv')\n",
    "df.shape"
   ]
  },
  {
   "cell_type": "markdown",
   "metadata": {},
   "source": [
    "Create lat and long series from the ctyBks table:"
   ]
  },
  {
   "cell_type": "code",
   "execution_count": 114,
   "metadata": {},
   "outputs": [
    {
     "name": "stdout",
     "output_type": "stream",
     "text": [
      "43.657763,-79.389165\n"
     ]
    }
   ],
   "source": [
    "lat = df['latitude']\n",
    "long = df['longitude']\n",
    "print(f'{lat[5]},{long[5]}')"
   ]
  },
  {
   "cell_type": "code",
   "execution_count": 115,
   "metadata": {},
   "outputs": [],
   "source": [
    "numStns = len(lat)"
   ]
  },
  {
   "cell_type": "code",
   "execution_count": 116,
   "metadata": {},
   "outputs": [],
   "source": [
    "def fsqStationPOI(lat, long):\n",
    "  '''\n",
    "  input:\n",
    "  output:\n",
    "  '''\n",
    "  api_key = os.environ[\"FOURSQUARE_API_KEY\"]\n",
    "  fields = 'fsq_id,name,geocodes,categories,distance,rating,hours,hours_popular,popularity,features'\n",
    "\n",
    "  headers = {\n",
    "      \"accept\": \"application/json\",\n",
    "      \"Authorization\": api_key\n",
    "  }\n",
    "\n",
    "  fsq_url = (f'https://api.foursquare.com/v3/places/search?ll={lat},{long}&fields={fields}&radius=350&&limit=50')\n",
    "  \n",
    "  fsqStnPOI_json = requests.get(fsq_url, headers=headers).json()\n",
    "\n",
    "  list_of_dict = []\n",
    "  for poi in fsqStnPOI_json['results']:\n",
    "    categories = poi.get('categories', None)\n",
    "    cat_id = categories[0]['id'] if len(categories) > 0 else None\n",
    "    category_name = categories[0]['name'] if len(categories) > 0 else None\n",
    "\n",
    "    poi_dict = {\n",
    "            'lat-long': f'{lat},{long}'\n",
    "          , 'fsq_id': poi['fsq_id']\n",
    "          , 'cat_id': cat_id\n",
    "          , 'category_name': category_name\n",
    "          , 'categories': categories\n",
    "          , 'name': poi.get('name', None)\n",
    "          , 'distance': poi.get('distance', None)\n",
    "          , 'latitude': poi.get('geocodes', {}).get('main', {}).get('latitude', None)\n",
    "          , 'longitude': poi.get('geocodes', {}).get('main', {}).get('longitude', None)\n",
    "          , 'address': poi.get('location', {}).get('formatted_address', None)\n",
    "          , 'popularity': poi.get('popularity', None)\n",
    "          , 'open_now': poi.get('hours', {}).get('open_now', None)\n",
    "          , 'rating': poi.get('rating', None)\n",
    "          , 'rating_count': poi.get('stats', {}).get('total_ratings', None)\n",
    "          , 'my_timestamp': datetime.now()\n",
    "      }\n",
    "      \n",
    "    list_of_dict.append(poi_dict)\n",
    "  return pd.DataFrame(list_of_dict)\n"
   ]
  },
  {
   "cell_type": "code",
   "execution_count": 117,
   "metadata": {},
   "outputs": [
    {
     "name": "stdout",
     "output_type": "stream",
     "text": [
      "43.657763,-79.389165\n"
     ]
    }
   ],
   "source": [
    "print(f'{lat[5]},{long[5]}')"
   ]
  },
  {
   "cell_type": "code",
   "execution_count": 118,
   "metadata": {},
   "outputs": [
    {
     "data": {
      "text/html": [
       "<div>\n",
       "<style scoped>\n",
       "    .dataframe tbody tr th:only-of-type {\n",
       "        vertical-align: middle;\n",
       "    }\n",
       "\n",
       "    .dataframe tbody tr th {\n",
       "        vertical-align: top;\n",
       "    }\n",
       "\n",
       "    .dataframe thead th {\n",
       "        text-align: right;\n",
       "    }\n",
       "</style>\n",
       "<table border=\"1\" class=\"dataframe\">\n",
       "  <thead>\n",
       "    <tr style=\"text-align: right;\">\n",
       "      <th></th>\n",
       "      <th>lat-long</th>\n",
       "      <th>fsq_id</th>\n",
       "      <th>cat_id</th>\n",
       "      <th>category_name</th>\n",
       "      <th>categories</th>\n",
       "      <th>name</th>\n",
       "      <th>distance</th>\n",
       "      <th>latitude</th>\n",
       "      <th>longitude</th>\n",
       "      <th>address</th>\n",
       "      <th>popularity</th>\n",
       "      <th>open_now</th>\n",
       "      <th>rating</th>\n",
       "      <th>rating_count</th>\n",
       "      <th>my_timestamp</th>\n",
       "    </tr>\n",
       "  </thead>\n",
       "  <tbody>\n",
       "    <tr>\n",
       "      <th>0</th>\n",
       "      <td>43.657763,-79.389165</td>\n",
       "      <td>5187d8e9498e1f88b1f50ec7</td>\n",
       "      <td>17018</td>\n",
       "      <td>Bookstore</td>\n",
       "      <td>[{'id': 17018, 'name': 'Bookstore', 'icon': {'...</td>\n",
       "      <td>Indigo</td>\n",
       "      <td>40</td>\n",
       "      <td>43.657694</td>\n",
       "      <td>-79.389932</td>\n",
       "      <td>None</td>\n",
       "      <td>0.914967</td>\n",
       "      <td>False</td>\n",
       "      <td>6.9</td>\n",
       "      <td>None</td>\n",
       "      <td>2022-12-05 09:31:42.228305</td>\n",
       "    </tr>\n",
       "  </tbody>\n",
       "</table>\n",
       "</div>"
      ],
      "text/plain": [
       "               lat-long                    fsq_id  cat_id category_name  \\\n",
       "0  43.657763,-79.389165  5187d8e9498e1f88b1f50ec7   17018     Bookstore   \n",
       "\n",
       "                                          categories    name  distance  \\\n",
       "0  [{'id': 17018, 'name': 'Bookstore', 'icon': {'...  Indigo        40   \n",
       "\n",
       "    latitude  longitude address  popularity  open_now  rating rating_count  \\\n",
       "0  43.657694 -79.389932    None    0.914967     False     6.9         None   \n",
       "\n",
       "                my_timestamp  \n",
       "0 2022-12-05 09:31:42.228305  "
      ]
     },
     "execution_count": 118,
     "metadata": {},
     "output_type": "execute_result"
    }
   ],
   "source": [
    "# Test\n",
    "fsqStnPOI_df = fsqStationPOI(lat[5], long[5])\n",
    "fsqStnPOI_df.head(1)"
   ]
  },
  {
   "cell_type": "markdown",
   "metadata": {},
   "source": [
    "Generate a list of DataFrames now for each station site:"
   ]
  },
  {
   "cell_type": "code",
   "execution_count": 119,
   "metadata": {},
   "outputs": [],
   "source": [
    "fsq_dfs_list = []\n",
    "for i in range(numStns):\n",
    "  poi_df = fsqStationPOI(lat[i], long[i])\n",
    "  fsq_dfs_list.append(poi_df)"
   ]
  },
  {
   "cell_type": "markdown",
   "metadata": {},
   "source": [
    "Concatenate the DataFrames to create one large one."
   ]
  },
  {
   "cell_type": "code",
   "execution_count": 120,
   "metadata": {},
   "outputs": [],
   "source": [
    "df_fsq = pd.DataFrame()\n",
    "x = pd.DataFrame()\n",
    "\n",
    "# concatenate full df object of all stn site data:\n",
    "for poi_df in fsq_dfs_list:\n",
    "    x = pd.concat([df_fsq, poi_df])\n",
    "    df_fsq = x"
   ]
  },
  {
   "cell_type": "code",
   "execution_count": 121,
   "metadata": {},
   "outputs": [
    {
     "data": {
      "text/plain": [
       "(29955, 15)"
      ]
     },
     "execution_count": 121,
     "metadata": {},
     "output_type": "execute_result"
    }
   ],
   "source": [
    "df_fsq.shape"
   ]
  },
  {
   "cell_type": "code",
   "execution_count": 122,
   "metadata": {},
   "outputs": [],
   "source": [
    "# df_fsq = pd.read_csv('../data/fsqPOI/df_fsq_sun00h.csv')"
   ]
  },
  {
   "cell_type": "markdown",
   "metadata": {},
   "source": [
    "## Cleaning and Normalizing the nested table values:\n",
    "\n",
    "The function which created the DataFrame made sure that each POI had at least one category name and ID, but we can see above that many have two or even three which can be normalized to flatten the hierarchy."
   ]
  },
  {
   "cell_type": "code",
   "execution_count": 123,
   "metadata": {},
   "outputs": [
    {
     "data": {
      "text/html": [
       "<div>\n",
       "<style scoped>\n",
       "    .dataframe tbody tr th:only-of-type {\n",
       "        vertical-align: middle;\n",
       "    }\n",
       "\n",
       "    .dataframe tbody tr th {\n",
       "        vertical-align: top;\n",
       "    }\n",
       "\n",
       "    .dataframe thead th {\n",
       "        text-align: right;\n",
       "    }\n",
       "</style>\n",
       "<table border=\"1\" class=\"dataframe\">\n",
       "  <thead>\n",
       "    <tr style=\"text-align: right;\">\n",
       "      <th></th>\n",
       "      <th>0</th>\n",
       "      <th>1</th>\n",
       "      <th>2</th>\n",
       "    </tr>\n",
       "  </thead>\n",
       "  <tbody>\n",
       "    <tr>\n",
       "      <th>0</th>\n",
       "      <td>{'id': 17065, 'name': 'Farmers' Market', 'icon...</td>\n",
       "      <td>{'id': 17069, 'name': 'Grocery Store / Superma...</td>\n",
       "      <td>None</td>\n",
       "    </tr>\n",
       "    <tr>\n",
       "      <th>1</th>\n",
       "      <td>{'id': 16037, 'name': 'Playground', 'icon.pref...</td>\n",
       "      <td>None</td>\n",
       "      <td>None</td>\n",
       "    </tr>\n",
       "    <tr>\n",
       "      <th>2</th>\n",
       "      <td>{'id': 17119, 'name': 'Bicycle Store', 'icon.p...</td>\n",
       "      <td>None</td>\n",
       "      <td>None</td>\n",
       "    </tr>\n",
       "    <tr>\n",
       "      <th>3</th>\n",
       "      <td>{'id': 13309, 'name': 'Middle Eastern Restaura...</td>\n",
       "      <td>None</td>\n",
       "      <td>None</td>\n",
       "    </tr>\n",
       "    <tr>\n",
       "      <th>4</th>\n",
       "      <td>{'id': 13276, 'name': 'Sushi Restaurant', 'ico...</td>\n",
       "      <td>None</td>\n",
       "      <td>None</td>\n",
       "    </tr>\n",
       "  </tbody>\n",
       "</table>\n",
       "</div>"
      ],
      "text/plain": [
       "                                                   0  \\\n",
       "0  {'id': 17065, 'name': 'Farmers' Market', 'icon...   \n",
       "1  {'id': 16037, 'name': 'Playground', 'icon.pref...   \n",
       "2  {'id': 17119, 'name': 'Bicycle Store', 'icon.p...   \n",
       "3  {'id': 13309, 'name': 'Middle Eastern Restaura...   \n",
       "4  {'id': 13276, 'name': 'Sushi Restaurant', 'ico...   \n",
       "\n",
       "                                                   1     2  \n",
       "0  {'id': 17069, 'name': 'Grocery Store / Superma...  None  \n",
       "1                                               None  None  \n",
       "2                                               None  None  \n",
       "3                                               None  None  \n",
       "4                                               None  None  "
      ]
     },
     "execution_count": 123,
     "metadata": {},
     "output_type": "execute_result"
    }
   ],
   "source": [
    "# Normalize the categories:\n",
    "df_fsqcat = pd.json_normalize(df_fsq['categories'][0])\n",
    "df_fsqcat.head()"
   ]
  },
  {
   "cell_type": "code",
   "execution_count": 124,
   "metadata": {},
   "outputs": [
    {
     "data": {
      "text/html": [
       "<div>\n",
       "<style scoped>\n",
       "    .dataframe tbody tr th:only-of-type {\n",
       "        vertical-align: middle;\n",
       "    }\n",
       "\n",
       "    .dataframe tbody tr th {\n",
       "        vertical-align: top;\n",
       "    }\n",
       "\n",
       "    .dataframe thead th {\n",
       "        text-align: right;\n",
       "    }\n",
       "</style>\n",
       "<table border=\"1\" class=\"dataframe\">\n",
       "  <thead>\n",
       "    <tr style=\"text-align: right;\">\n",
       "      <th></th>\n",
       "      <th>id</th>\n",
       "      <th>name</th>\n",
       "      <th>icon.prefix</th>\n",
       "      <th>icon.suffix</th>\n",
       "    </tr>\n",
       "  </thead>\n",
       "  <tbody>\n",
       "    <tr>\n",
       "      <th>0</th>\n",
       "      <td>17065.0</td>\n",
       "      <td>Farmers' Market</td>\n",
       "      <td>https://ss3.4sqi.net/img/categories_v2/shops/f...</td>\n",
       "      <td>.png</td>\n",
       "    </tr>\n",
       "    <tr>\n",
       "      <th>1</th>\n",
       "      <td>16037.0</td>\n",
       "      <td>Playground</td>\n",
       "      <td>https://ss3.4sqi.net/img/categories_v2/parks_o...</td>\n",
       "      <td>.png</td>\n",
       "    </tr>\n",
       "    <tr>\n",
       "      <th>2</th>\n",
       "      <td>17119.0</td>\n",
       "      <td>Bicycle Store</td>\n",
       "      <td>https://ss3.4sqi.net/img/categories_v2/shops/b...</td>\n",
       "      <td>.png</td>\n",
       "    </tr>\n",
       "    <tr>\n",
       "      <th>3</th>\n",
       "      <td>13309.0</td>\n",
       "      <td>Middle Eastern Restaurant</td>\n",
       "      <td>https://ss3.4sqi.net/img/categories_v2/food/mi...</td>\n",
       "      <td>.png</td>\n",
       "    </tr>\n",
       "    <tr>\n",
       "      <th>4</th>\n",
       "      <td>13276.0</td>\n",
       "      <td>Sushi Restaurant</td>\n",
       "      <td>https://ss3.4sqi.net/img/categories_v2/food/su...</td>\n",
       "      <td>.png</td>\n",
       "    </tr>\n",
       "  </tbody>\n",
       "</table>\n",
       "</div>"
      ],
      "text/plain": [
       "        id                       name  \\\n",
       "0  17065.0            Farmers' Market   \n",
       "1  16037.0                 Playground   \n",
       "2  17119.0              Bicycle Store   \n",
       "3  13309.0  Middle Eastern Restaurant   \n",
       "4  13276.0           Sushi Restaurant   \n",
       "\n",
       "                                         icon.prefix icon.suffix  \n",
       "0  https://ss3.4sqi.net/img/categories_v2/shops/f...        .png  \n",
       "1  https://ss3.4sqi.net/img/categories_v2/parks_o...        .png  \n",
       "2  https://ss3.4sqi.net/img/categories_v2/shops/b...        .png  \n",
       "3  https://ss3.4sqi.net/img/categories_v2/food/mi...        .png  \n",
       "4  https://ss3.4sqi.net/img/categories_v2/food/su...        .png  "
      ]
     },
     "execution_count": 124,
     "metadata": {},
     "output_type": "execute_result"
    }
   ],
   "source": [
    "# normalize the resulting 3 columns into 3 tables in the example below:\n",
    "df_fsqcat0 = pd.json_normalize(df_fsqcat[0])\n",
    "df_fsqcat1 = pd.json_normalize(df_fsqcat[1])\n",
    "df_fsqcat2 = pd.json_normalize(df_fsqcat[2])\n",
    "df_fsqcat0.head()"
   ]
  },
  {
   "cell_type": "code",
   "execution_count": 125,
   "metadata": {},
   "outputs": [
    {
     "data": {
      "text/html": [
       "<div>\n",
       "<style scoped>\n",
       "    .dataframe tbody tr th:only-of-type {\n",
       "        vertical-align: middle;\n",
       "    }\n",
       "\n",
       "    .dataframe tbody tr th {\n",
       "        vertical-align: top;\n",
       "    }\n",
       "\n",
       "    .dataframe thead th {\n",
       "        text-align: right;\n",
       "    }\n",
       "</style>\n",
       "<table border=\"1\" class=\"dataframe\">\n",
       "  <thead>\n",
       "    <tr style=\"text-align: right;\">\n",
       "      <th></th>\n",
       "      <th>lat-long</th>\n",
       "      <th>fsq_id</th>\n",
       "      <th>name</th>\n",
       "      <th>distance</th>\n",
       "      <th>latitude</th>\n",
       "      <th>longitude</th>\n",
       "      <th>address</th>\n",
       "      <th>popularity</th>\n",
       "      <th>open_now</th>\n",
       "      <th>rating</th>\n",
       "      <th>...</th>\n",
       "      <th>cat1_icon</th>\n",
       "      <th>cat1_icon.suffix</th>\n",
       "      <th>cat2_id</th>\n",
       "      <th>cat2_name</th>\n",
       "      <th>cat2_icon</th>\n",
       "      <th>cat2_icon.suffix</th>\n",
       "      <th>cat3_id</th>\n",
       "      <th>cat3_name</th>\n",
       "      <th>cat3_icon</th>\n",
       "      <th>cat3_icon.suffix</th>\n",
       "    </tr>\n",
       "  </thead>\n",
       "  <tbody>\n",
       "    <tr>\n",
       "      <th>0</th>\n",
       "      <td>43.665269,-79.319796</td>\n",
       "      <td>4deb8ba688774880e3387c0c</td>\n",
       "      <td>Leslieville Farmers Market</td>\n",
       "      <td>40</td>\n",
       "      <td>43.664679</td>\n",
       "      <td>-79.319687</td>\n",
       "      <td>None</td>\n",
       "      <td>0.86858</td>\n",
       "      <td>False</td>\n",
       "      <td>8.6</td>\n",
       "      <td>...</td>\n",
       "      <td>https://ss3.4sqi.net/img/categories_v2/shops/f...</td>\n",
       "      <td>.png</td>\n",
       "      <td>17069</td>\n",
       "      <td>Grocery Store / Supermarket</td>\n",
       "      <td>https://ss3.4sqi.net/img/categories_v2/shops/f...</td>\n",
       "      <td>.png</td>\n",
       "      <td>&lt;NA&gt;</td>\n",
       "      <td>NaN</td>\n",
       "      <td>NaN</td>\n",
       "      <td>NaN</td>\n",
       "    </tr>\n",
       "  </tbody>\n",
       "</table>\n",
       "<p>1 rows × 24 columns</p>\n",
       "</div>"
      ],
      "text/plain": [
       "               lat-long                    fsq_id                        name  \\\n",
       "0  43.665269,-79.319796  4deb8ba688774880e3387c0c  Leslieville Farmers Market   \n",
       "\n",
       "   distance   latitude  longitude address popularity  open_now rating  ...  \\\n",
       "0        40  43.664679 -79.319687    None    0.86858     False    8.6  ...   \n",
       "\n",
       "                                           cat1_icon cat1_icon.suffix  \\\n",
       "0  https://ss3.4sqi.net/img/categories_v2/shops/f...             .png   \n",
       "\n",
       "   cat2_id                    cat2_name  \\\n",
       "0    17069  Grocery Store / Supermarket   \n",
       "\n",
       "                                           cat2_icon cat2_icon.suffix  \\\n",
       "0  https://ss3.4sqi.net/img/categories_v2/shops/f...             .png   \n",
       "\n",
       "   cat3_id cat3_name cat3_icon cat3_icon.suffix  \n",
       "0     <NA>       NaN       NaN              NaN  \n",
       "\n",
       "[1 rows x 24 columns]"
      ]
     },
     "execution_count": 125,
     "metadata": {},
     "output_type": "execute_result"
    }
   ],
   "source": [
    "# Add new category labels back onto the df: \n",
    "df_fsq['cat1_id'] = (df_fsqcat0['id'].astype('Int64'))\n",
    "df_fsq['cat1_name'] = df_fsqcat0['name']\n",
    "df_fsq['cat1_icon'] = df_fsqcat0['icon.prefix']\n",
    "df_fsq['cat1_icon.suffix'] = df_fsqcat0['icon.suffix']\n",
    "\n",
    "df_fsq['cat2_id'] = df_fsqcat1['id'].astype('Int64')\n",
    "df_fsq['cat2_name'] = df_fsqcat1['name']\n",
    "df_fsq['cat2_icon'] = df_fsqcat1['icon.prefix']\n",
    "df_fsq['cat2_icon.suffix'] = df_fsqcat1['icon.suffix']\n",
    "\n",
    "df_fsq['cat3_id'] = df_fsqcat2['id'].astype('Int64')\n",
    "df_fsq['cat3_name'] = df_fsqcat2['name']\n",
    "df_fsq['cat3_icon'] = df_fsqcat2['icon.prefix']\n",
    "df_fsq['cat3_icon.suffix'] = df_fsqcat2['icon.suffix']\n",
    "\n",
    "# Remove the now redundant 'category' and 'name' columns:\n",
    "df_fsq = df_fsq.drop(['categories', 'category_name', 'cat_id', ], axis = 1)\n",
    "\n",
    "df_fsq.head(1)"
   ]
  },
  {
   "cell_type": "markdown",
   "metadata": {},
   "source": [
    "#### SAVE IT!!"
   ]
  },
  {
   "cell_type": "code",
   "execution_count": 126,
   "metadata": {},
   "outputs": [],
   "source": [
    "# df_fsq.to_csv(f'../data/fsqPOI/df_fsq{datetime.now()}.csv', index=False)\n",
    "df_fsq.to_csv(f'../data/fsqPOI/df_fsq_mon1130.csv', index=False)"
   ]
  },
  {
   "cell_type": "markdown",
   "metadata": {},
   "source": [
    "Parse through the response to get the POI (such as restaurants, bars, etc) details you want (ratings, name, location, etc)\n",
    "\n",
    "### FOURSQUARE POI:"
   ]
  },
  {
   "cell_type": "code",
   "execution_count": 127,
   "metadata": {},
   "outputs": [
    {
     "data": {
      "text/html": [
       "<div>\n",
       "<style scoped>\n",
       "    .dataframe tbody tr th:only-of-type {\n",
       "        vertical-align: middle;\n",
       "    }\n",
       "\n",
       "    .dataframe tbody tr th {\n",
       "        vertical-align: top;\n",
       "    }\n",
       "\n",
       "    .dataframe thead th {\n",
       "        text-align: right;\n",
       "    }\n",
       "</style>\n",
       "<table border=\"1\" class=\"dataframe\">\n",
       "  <thead>\n",
       "    <tr style=\"text-align: right;\">\n",
       "      <th></th>\n",
       "      <th>lat-long</th>\n",
       "      <th>name</th>\n",
       "      <th>distance</th>\n",
       "      <th>latitude</th>\n",
       "      <th>longitude</th>\n",
       "      <th>popularity</th>\n",
       "      <th>open_now</th>\n",
       "      <th>rating</th>\n",
       "      <th>rating_count</th>\n",
       "      <th>my_timestamp</th>\n",
       "      <th>cat1_id</th>\n",
       "      <th>cat1_name</th>\n",
       "      <th>cat2_id</th>\n",
       "      <th>cat2_name</th>\n",
       "      <th>cat3_id</th>\n",
       "      <th>cat3_name</th>\n",
       "    </tr>\n",
       "  </thead>\n",
       "  <tbody>\n",
       "    <tr>\n",
       "      <th>0</th>\n",
       "      <td>43.665269,-79.319796</td>\n",
       "      <td>Leslieville Farmers Market</td>\n",
       "      <td>40</td>\n",
       "      <td>43.664679</td>\n",
       "      <td>-79.319687</td>\n",
       "      <td>0.86858</td>\n",
       "      <td>False</td>\n",
       "      <td>8.6</td>\n",
       "      <td>None</td>\n",
       "      <td>2022-12-05 09:31:42.842959</td>\n",
       "      <td>17065</td>\n",
       "      <td>Farmers' Market</td>\n",
       "      <td>17069</td>\n",
       "      <td>Grocery Store / Supermarket</td>\n",
       "      <td>&lt;NA&gt;</td>\n",
       "      <td>NaN</td>\n",
       "    </tr>\n",
       "    <tr>\n",
       "      <th>1</th>\n",
       "      <td>43.665269,-79.319796</td>\n",
       "      <td>McDonald's</td>\n",
       "      <td>62</td>\n",
       "      <td>43.664993</td>\n",
       "      <td>-79.319222</td>\n",
       "      <td>0.995501</td>\n",
       "      <td>True</td>\n",
       "      <td>7.4</td>\n",
       "      <td>None</td>\n",
       "      <td>2022-12-05 09:31:42.842978</td>\n",
       "      <td>16037</td>\n",
       "      <td>Playground</td>\n",
       "      <td>&lt;NA&gt;</td>\n",
       "      <td>NaN</td>\n",
       "      <td>&lt;NA&gt;</td>\n",
       "      <td>NaN</td>\n",
       "    </tr>\n",
       "  </tbody>\n",
       "</table>\n",
       "</div>"
      ],
      "text/plain": [
       "               lat-long                        name  distance   latitude  \\\n",
       "0  43.665269,-79.319796  Leslieville Farmers Market        40  43.664679   \n",
       "1  43.665269,-79.319796                  McDonald's        62  43.664993   \n",
       "\n",
       "   longitude popularity  open_now rating rating_count  \\\n",
       "0 -79.319687    0.86858     False    8.6         None   \n",
       "1 -79.319222   0.995501      True    7.4         None   \n",
       "\n",
       "                my_timestamp  cat1_id        cat1_name  cat2_id  \\\n",
       "0 2022-12-05 09:31:42.842959    17065  Farmers' Market    17069   \n",
       "1 2022-12-05 09:31:42.842978    16037       Playground     <NA>   \n",
       "\n",
       "                     cat2_name  cat3_id cat3_name  \n",
       "0  Grocery Store / Supermarket     <NA>       NaN  \n",
       "1                          NaN     <NA>       NaN  "
      ]
     },
     "execution_count": 127,
     "metadata": {},
     "output_type": "execute_result"
    }
   ],
   "source": [
    "# Clone a working copy:\n",
    "dff = df_fsq.copy()\n",
    "\n",
    "# Drop columns from our copy df not currently needed:\n",
    "dff = dff.drop(['fsq_id', 'cat1_icon', 'cat2_icon', 'cat3_icon', 'cat1_icon.suffix', 'cat2_icon.suffix', 'cat3_icon.suffix', 'address'], axis = 1)\n",
    "dff.head(2)"
   ]
  },
  {
   "cell_type": "markdown",
   "metadata": {},
   "source": [
    "Convert the timestamp data to the Toronto's time zone:"
   ]
  },
  {
   "cell_type": "code",
   "execution_count": 128,
   "metadata": {},
   "outputs": [],
   "source": [
    "from datetime import datetime\n",
    "import pytz"
   ]
  },
  {
   "cell_type": "code",
   "execution_count": 129,
   "metadata": {},
   "outputs": [
    {
     "name": "stdout",
     "output_type": "stream",
     "text": [
      "2022-12-05 09:31:42.842959\n",
      "2022-12-05 11:31:42.842959-05:00\n"
     ]
    }
   ],
   "source": [
    "# create both timezone objects\n",
    "old_timezone = pytz.timezone(\"US/Mountain\")\n",
    "new_timezone = pytz.timezone(\"US/Eastern\")\n",
    "\n",
    "# Confirm current timezone\n",
    "print(dff['my_timestamp'].iloc[0])\n",
    "\n",
    "# two-step process\n",
    "for i in range(dff.shape[0]):\n",
    "  localized_timestamp = old_timezone.localize(dff['my_timestamp'].iloc[i])\n",
    "  dff['my_timestamp'].iloc[i] = localized_timestamp.astimezone(new_timezone)\n",
    "  dff['my_timestamp'].iloc[i] = localized_timestamp.astimezone(new_timezone)\n",
    "\n",
    "\n",
    "# Has converted to new timezone:\n",
    "print(dff['my_timestamp'].iloc[0])"
   ]
  },
  {
   "cell_type": "markdown",
   "metadata": {},
   "source": [
    "Put your parsed results into a DataFrame"
   ]
  },
  {
   "cell_type": "code",
   "execution_count": 130,
   "metadata": {},
   "outputs": [
    {
     "data": {
      "text/html": [
       "<div>\n",
       "<style scoped>\n",
       "    .dataframe tbody tr th:only-of-type {\n",
       "        vertical-align: middle;\n",
       "    }\n",
       "\n",
       "    .dataframe tbody tr th {\n",
       "        vertical-align: top;\n",
       "    }\n",
       "\n",
       "    .dataframe thead th {\n",
       "        text-align: right;\n",
       "    }\n",
       "</style>\n",
       "<table border=\"1\" class=\"dataframe\">\n",
       "  <thead>\n",
       "    <tr style=\"text-align: right;\">\n",
       "      <th></th>\n",
       "      <th>lat-long</th>\n",
       "      <th>name</th>\n",
       "      <th>distance</th>\n",
       "      <th>latitude</th>\n",
       "      <th>longitude</th>\n",
       "      <th>popularity</th>\n",
       "      <th>open_now</th>\n",
       "      <th>rating</th>\n",
       "      <th>rating_count</th>\n",
       "      <th>my_timestamp</th>\n",
       "      <th>cat1_id</th>\n",
       "      <th>cat1_name</th>\n",
       "      <th>cat2_id</th>\n",
       "      <th>cat2_name</th>\n",
       "      <th>cat3_id</th>\n",
       "      <th>cat3_name</th>\n",
       "    </tr>\n",
       "  </thead>\n",
       "  <tbody>\n",
       "    <tr>\n",
       "      <th>0</th>\n",
       "      <td>43.665269,-79.319796</td>\n",
       "      <td>Leslieville Farmers Market</td>\n",
       "      <td>40</td>\n",
       "      <td>43.664679</td>\n",
       "      <td>-79.319687</td>\n",
       "      <td>0.86858</td>\n",
       "      <td>False</td>\n",
       "      <td>8.6</td>\n",
       "      <td>None</td>\n",
       "      <td>2022-12-05 11:31:42.842959-05:00</td>\n",
       "      <td>17065</td>\n",
       "      <td>Farmers' Market</td>\n",
       "      <td>17069</td>\n",
       "      <td>Grocery Store / Supermarket</td>\n",
       "      <td>&lt;NA&gt;</td>\n",
       "      <td>NaN</td>\n",
       "    </tr>\n",
       "    <tr>\n",
       "      <th>1</th>\n",
       "      <td>43.665269,-79.319796</td>\n",
       "      <td>McDonald's</td>\n",
       "      <td>62</td>\n",
       "      <td>43.664993</td>\n",
       "      <td>-79.319222</td>\n",
       "      <td>0.995501</td>\n",
       "      <td>True</td>\n",
       "      <td>7.4</td>\n",
       "      <td>None</td>\n",
       "      <td>2022-12-05 11:31:42.842978-05:00</td>\n",
       "      <td>16037</td>\n",
       "      <td>Playground</td>\n",
       "      <td>&lt;NA&gt;</td>\n",
       "      <td>NaN</td>\n",
       "      <td>&lt;NA&gt;</td>\n",
       "      <td>NaN</td>\n",
       "    </tr>\n",
       "    <tr>\n",
       "      <th>2</th>\n",
       "      <td>43.665269,-79.319796</td>\n",
       "      <td>Jonathan Ashbridge Park</td>\n",
       "      <td>63</td>\n",
       "      <td>43.664672</td>\n",
       "      <td>-79.319780</td>\n",
       "      <td>0.952623</td>\n",
       "      <td>False</td>\n",
       "      <td>NaN</td>\n",
       "      <td>None</td>\n",
       "      <td>2022-12-05 11:31:42.842985-05:00</td>\n",
       "      <td>17119</td>\n",
       "      <td>Bicycle Store</td>\n",
       "      <td>&lt;NA&gt;</td>\n",
       "      <td>NaN</td>\n",
       "      <td>&lt;NA&gt;</td>\n",
       "      <td>NaN</td>\n",
       "    </tr>\n",
       "    <tr>\n",
       "      <th>3</th>\n",
       "      <td>43.665269,-79.319796</td>\n",
       "      <td>Ashdale Medical Centre</td>\n",
       "      <td>73</td>\n",
       "      <td>43.665967</td>\n",
       "      <td>-79.318955</td>\n",
       "      <td>0.575147</td>\n",
       "      <td>True</td>\n",
       "      <td>NaN</td>\n",
       "      <td>None</td>\n",
       "      <td>2022-12-05 11:31:42.842992-05:00</td>\n",
       "      <td>13309</td>\n",
       "      <td>Middle Eastern Restaurant</td>\n",
       "      <td>&lt;NA&gt;</td>\n",
       "      <td>NaN</td>\n",
       "      <td>&lt;NA&gt;</td>\n",
       "      <td>NaN</td>\n",
       "    </tr>\n",
       "    <tr>\n",
       "      <th>4</th>\n",
       "      <td>43.665269,-79.319796</td>\n",
       "      <td>Chick-N-Joy</td>\n",
       "      <td>129</td>\n",
       "      <td>43.665121</td>\n",
       "      <td>-79.321347</td>\n",
       "      <td>0.035783</td>\n",
       "      <td>True</td>\n",
       "      <td>6.9</td>\n",
       "      <td>None</td>\n",
       "      <td>2022-12-05 11:31:42.842999-05:00</td>\n",
       "      <td>13276</td>\n",
       "      <td>Sushi Restaurant</td>\n",
       "      <td>&lt;NA&gt;</td>\n",
       "      <td>NaN</td>\n",
       "      <td>&lt;NA&gt;</td>\n",
       "      <td>NaN</td>\n",
       "    </tr>\n",
       "  </tbody>\n",
       "</table>\n",
       "</div>"
      ],
      "text/plain": [
       "               lat-long                        name  distance   latitude  \\\n",
       "0  43.665269,-79.319796  Leslieville Farmers Market        40  43.664679   \n",
       "1  43.665269,-79.319796                  McDonald's        62  43.664993   \n",
       "2  43.665269,-79.319796     Jonathan Ashbridge Park        63  43.664672   \n",
       "3  43.665269,-79.319796      Ashdale Medical Centre        73  43.665967   \n",
       "4  43.665269,-79.319796                 Chick-N-Joy       129  43.665121   \n",
       "\n",
       "   longitude popularity  open_now rating rating_count  \\\n",
       "0 -79.319687    0.86858     False    8.6         None   \n",
       "1 -79.319222   0.995501      True    7.4         None   \n",
       "2 -79.319780   0.952623     False    NaN         None   \n",
       "3 -79.318955   0.575147      True    NaN         None   \n",
       "4 -79.321347   0.035783      True    6.9         None   \n",
       "\n",
       "                       my_timestamp  cat1_id                  cat1_name  \\\n",
       "0  2022-12-05 11:31:42.842959-05:00    17065            Farmers' Market   \n",
       "1  2022-12-05 11:31:42.842978-05:00    16037                 Playground   \n",
       "2  2022-12-05 11:31:42.842985-05:00    17119              Bicycle Store   \n",
       "3  2022-12-05 11:31:42.842992-05:00    13309  Middle Eastern Restaurant   \n",
       "4  2022-12-05 11:31:42.842999-05:00    13276           Sushi Restaurant   \n",
       "\n",
       "   cat2_id                    cat2_name  cat3_id cat3_name  \n",
       "0    17069  Grocery Store / Supermarket     <NA>       NaN  \n",
       "1     <NA>                          NaN     <NA>       NaN  \n",
       "2     <NA>                          NaN     <NA>       NaN  \n",
       "3     <NA>                          NaN     <NA>       NaN  \n",
       "4     <NA>                          NaN     <NA>       NaN  "
      ]
     },
     "execution_count": 130,
     "metadata": {},
     "output_type": "execute_result"
    }
   ],
   "source": [
    "dff.to_csv(f'../data/stats_mod/df_fsq_mon1130h.csv', index= False)\n",
    "\n",
    "dff.head(5)"
   ]
  },
  {
   "cell_type": "markdown",
   "metadata": {},
   "source": [
    "# Yelp"
   ]
  },
  {
   "cell_type": "markdown",
   "metadata": {},
   "source": [
    "Send a request to Yelp with a small radius (1000m) for all the bike stations in your city of choice. "
   ]
  },
  {
   "cell_type": "code",
   "execution_count": 131,
   "metadata": {},
   "outputs": [],
   "source": [
    "import requests\n",
    "import os\n",
    "\n",
    "def yelpStationPOI(lat, long):\n",
    "  '''\n",
    "  input:\n",
    "  output:\n",
    "  '''\n",
    "  api_key = os.environ[\"YELP_API_KEY\"]\n",
    "  yelp_url = (f'https://api.yelp.com/v3/businesses/search?latitude={lat}&longitude={long}&radius=350&limit=50')\n",
    "  payload={}\n",
    "  headers = {\n",
    "      \"accept\": \"application/json\",\n",
    "      \"Authorization\": f'Bearer {api_key}'\n",
    "  }\n",
    "\n",
    "  yelpStnPOI_json = requests.get(yelp_url, headers=headers, data=payload).json()           #Perform get request\n",
    "  \n",
    "  list_of_dict = []\n",
    "  for poi in yelpStnPOI_json['businesses']:\n",
    "    poi_dict = {\n",
    "          'lat-long': f'{lat},{long}'\n",
    "          , 'category_name': poi['categories'][0]['alias']\n",
    "          , 'categories': poi['categories']\n",
    "          , 'name': poi['name']\n",
    "          , 'distance': poi['distance']\n",
    "          , 'latitude': poi['coordinates']['latitude']\n",
    "          , 'longitude': poi['coordinates']['longitude']\n",
    "          , 'address': poi['location']['display_address']\n",
    "          , 'price': poi.get('price', None)\n",
    "          , 'is_closed': poi.get('is_closed')\n",
    "          , 'rating': poi.get('rating')\n",
    "          , 'rating_count': poi.get('review_count')\n",
    "          , 'my_timestamp': datetime.now()\n",
    "      }\n",
    "      \n",
    "    list_of_dict.append(poi_dict)\n",
    "  return pd.DataFrame(list_of_dict)\n"
   ]
  },
  {
   "cell_type": "code",
   "execution_count": 132,
   "metadata": {},
   "outputs": [
    {
     "data": {
      "text/html": [
       "<div>\n",
       "<style scoped>\n",
       "    .dataframe tbody tr th:only-of-type {\n",
       "        vertical-align: middle;\n",
       "    }\n",
       "\n",
       "    .dataframe tbody tr th {\n",
       "        vertical-align: top;\n",
       "    }\n",
       "\n",
       "    .dataframe thead th {\n",
       "        text-align: right;\n",
       "    }\n",
       "</style>\n",
       "<table border=\"1\" class=\"dataframe\">\n",
       "  <thead>\n",
       "    <tr style=\"text-align: right;\">\n",
       "      <th></th>\n",
       "      <th>lat-long</th>\n",
       "      <th>category_name</th>\n",
       "      <th>categories</th>\n",
       "      <th>name</th>\n",
       "      <th>distance</th>\n",
       "      <th>latitude</th>\n",
       "      <th>longitude</th>\n",
       "      <th>address</th>\n",
       "      <th>price</th>\n",
       "      <th>is_closed</th>\n",
       "      <th>rating</th>\n",
       "      <th>rating_count</th>\n",
       "      <th>my_timestamp</th>\n",
       "    </tr>\n",
       "  </thead>\n",
       "  <tbody>\n",
       "    <tr>\n",
       "      <th>0</th>\n",
       "      <td>43.657763,-79.389165</td>\n",
       "      <td>ramen</td>\n",
       "      <td>[{'alias': 'ramen', 'title': 'Ramen'}, {'alias...</td>\n",
       "      <td>Sansotei Ramen</td>\n",
       "      <td>376.064159</td>\n",
       "      <td>43.655</td>\n",
       "      <td>-79.38643</td>\n",
       "      <td>[179 Dundas Street W, Toronto, ON M5G 1Z8, Can...</td>\n",
       "      <td>$$</td>\n",
       "      <td>False</td>\n",
       "      <td>4.0</td>\n",
       "      <td>925</td>\n",
       "      <td>2022-12-05 09:39:10.294035</td>\n",
       "    </tr>\n",
       "  </tbody>\n",
       "</table>\n",
       "</div>"
      ],
      "text/plain": [
       "               lat-long category_name  \\\n",
       "0  43.657763,-79.389165         ramen   \n",
       "\n",
       "                                          categories            name  \\\n",
       "0  [{'alias': 'ramen', 'title': 'Ramen'}, {'alias...  Sansotei Ramen   \n",
       "\n",
       "     distance  latitude  longitude  \\\n",
       "0  376.064159    43.655  -79.38643   \n",
       "\n",
       "                                             address price  is_closed  rating  \\\n",
       "0  [179 Dundas Street W, Toronto, ON M5G 1Z8, Can...    $$      False     4.0   \n",
       "\n",
       "   rating_count               my_timestamp  \n",
       "0           925 2022-12-05 09:39:10.294035  "
      ]
     },
     "execution_count": 132,
     "metadata": {},
     "output_type": "execute_result"
    }
   ],
   "source": [
    "# Test\n",
    "yelpStnPOI_dfTest = yelpStationPOI(lat[5], long[5])\n",
    "yelpStnPOI_dfTest.head(1)"
   ]
  },
  {
   "cell_type": "code",
   "execution_count": 134,
   "metadata": {},
   "outputs": [],
   "source": [
    "yelp_dfs_list = []\n",
    "for i in range(numStns):\n",
    "  poi_df = yelpStationPOI(lat[i], long[i])\n",
    "  yelp_dfs_list.append(poi_df)"
   ]
  },
  {
   "cell_type": "code",
   "execution_count": null,
   "metadata": {},
   "outputs": [],
   "source": [
    "df_yelp = pd.DataFrame()\n",
    "x = pd.DataFrame()\n",
    "\n",
    "# concatenate full df object of all stn site data:\n",
    "for poi_df in yelp_dfs_list:\n",
    "    x = pd.concat([df_yelp, poi_df])\n",
    "    df_yelp = x"
   ]
  },
  {
   "cell_type": "code",
   "execution_count": null,
   "metadata": {},
   "outputs": [
    {
     "data": {
      "text/html": [
       "<div>\n",
       "<style scoped>\n",
       "    .dataframe tbody tr th:only-of-type {\n",
       "        vertical-align: middle;\n",
       "    }\n",
       "\n",
       "    .dataframe tbody tr th {\n",
       "        vertical-align: top;\n",
       "    }\n",
       "\n",
       "    .dataframe thead th {\n",
       "        text-align: right;\n",
       "    }\n",
       "</style>\n",
       "<table border=\"1\" class=\"dataframe\">\n",
       "  <thead>\n",
       "    <tr style=\"text-align: right;\">\n",
       "      <th></th>\n",
       "      <th>lat-long</th>\n",
       "      <th>category_name</th>\n",
       "      <th>categories</th>\n",
       "      <th>name</th>\n",
       "      <th>distance</th>\n",
       "      <th>latitude</th>\n",
       "      <th>longitude</th>\n",
       "      <th>address</th>\n",
       "      <th>price</th>\n",
       "      <th>is_closed</th>\n",
       "      <th>rating</th>\n",
       "      <th>rating_count</th>\n",
       "      <th>my_timestamp</th>\n",
       "    </tr>\n",
       "  </thead>\n",
       "  <tbody>\n",
       "    <tr>\n",
       "      <th>0</th>\n",
       "      <td>43.665269,-79.319796</td>\n",
       "      <td>burgers</td>\n",
       "      <td>[{'alias': 'burgers', 'title': 'Burgers'}]</td>\n",
       "      <td>The Burger's Priest</td>\n",
       "      <td>374.238073</td>\n",
       "      <td>43.66670</td>\n",
       "      <td>-79.315585</td>\n",
       "      <td>[1636 Queen Street E, Toronto, ON M4L 1G3, Can...</td>\n",
       "      <td>$$</td>\n",
       "      <td>False</td>\n",
       "      <td>3.5</td>\n",
       "      <td>498</td>\n",
       "      <td>2022-12-05 04:14:43.742563</td>\n",
       "    </tr>\n",
       "    <tr>\n",
       "      <th>1</th>\n",
       "      <td>43.665269,-79.319796</td>\n",
       "      <td>hotdogs</td>\n",
       "      <td>[{'alias': 'hotdogs', 'title': 'Fast Food'}, {...</td>\n",
       "      <td>Chick-N-Joy</td>\n",
       "      <td>125.483132</td>\n",
       "      <td>43.66509</td>\n",
       "      <td>-79.321320</td>\n",
       "      <td>[1483 Queen Street E, Toronto, ON M4L 1E2, Can...</td>\n",
       "      <td>$</td>\n",
       "      <td>False</td>\n",
       "      <td>4.0</td>\n",
       "      <td>54</td>\n",
       "      <td>2022-12-05 04:14:43.742587</td>\n",
       "    </tr>\n",
       "  </tbody>\n",
       "</table>\n",
       "</div>"
      ],
      "text/plain": [
       "               lat-long category_name  \\\n",
       "0  43.665269,-79.319796       burgers   \n",
       "1  43.665269,-79.319796       hotdogs   \n",
       "\n",
       "                                          categories                 name  \\\n",
       "0         [{'alias': 'burgers', 'title': 'Burgers'}]  The Burger's Priest   \n",
       "1  [{'alias': 'hotdogs', 'title': 'Fast Food'}, {...          Chick-N-Joy   \n",
       "\n",
       "     distance  latitude  longitude  \\\n",
       "0  374.238073  43.66670 -79.315585   \n",
       "1  125.483132  43.66509 -79.321320   \n",
       "\n",
       "                                             address price  is_closed  rating  \\\n",
       "0  [1636 Queen Street E, Toronto, ON M4L 1G3, Can...    $$      False     3.5   \n",
       "1  [1483 Queen Street E, Toronto, ON M4L 1E2, Can...     $      False     4.0   \n",
       "\n",
       "   rating_count               my_timestamp  \n",
       "0           498 2022-12-05 04:14:43.742563  \n",
       "1            54 2022-12-05 04:14:43.742587  "
      ]
     },
     "execution_count": 78,
     "metadata": {},
     "output_type": "execute_result"
    }
   ],
   "source": [
    "df_yelp.head(2)"
   ]
  },
  {
   "cell_type": "code",
   "execution_count": null,
   "metadata": {},
   "outputs": [
    {
     "data": {
      "text/plain": [
       "(18659, 13)"
      ]
     },
     "execution_count": 79,
     "metadata": {},
     "output_type": "execute_result"
    }
   ],
   "source": [
    "df_yelp.shape"
   ]
  },
  {
   "cell_type": "markdown",
   "metadata": {},
   "source": [
    "## Cleaning and Normalizing the nested table values:\n",
    "\n",
    "The function which created the DataFrame made sure that each POI had at least one category name and alias, but we can see above that many have two or even three which can be normalized to flatten the hierarchy."
   ]
  },
  {
   "cell_type": "code",
   "execution_count": null,
   "metadata": {},
   "outputs": [
    {
     "data": {
      "text/html": [
       "<div>\n",
       "<style scoped>\n",
       "    .dataframe tbody tr th:only-of-type {\n",
       "        vertical-align: middle;\n",
       "    }\n",
       "\n",
       "    .dataframe tbody tr th {\n",
       "        vertical-align: top;\n",
       "    }\n",
       "\n",
       "    .dataframe thead th {\n",
       "        text-align: right;\n",
       "    }\n",
       "</style>\n",
       "<table border=\"1\" class=\"dataframe\">\n",
       "  <thead>\n",
       "    <tr style=\"text-align: right;\">\n",
       "      <th></th>\n",
       "      <th>0</th>\n",
       "      <th>1</th>\n",
       "      <th>2</th>\n",
       "    </tr>\n",
       "  </thead>\n",
       "  <tbody>\n",
       "    <tr>\n",
       "      <th>0</th>\n",
       "      <td>{'alias': 'burgers', 'title': 'Burgers'}</td>\n",
       "      <td>None</td>\n",
       "      <td>None</td>\n",
       "    </tr>\n",
       "    <tr>\n",
       "      <th>1</th>\n",
       "      <td>{'alias': 'chickenshop', 'title': 'Chicken Shop'}</td>\n",
       "      <td>None</td>\n",
       "      <td>None</td>\n",
       "    </tr>\n",
       "    <tr>\n",
       "      <th>2</th>\n",
       "      <td>{'alias': 'burgers', 'title': 'Burgers'}</td>\n",
       "      <td>None</td>\n",
       "      <td>None</td>\n",
       "    </tr>\n",
       "    <tr>\n",
       "      <th>3</th>\n",
       "      <td>{'alias': 'newcanadian', 'title': 'Canadian (N...</td>\n",
       "      <td>None</td>\n",
       "      <td>None</td>\n",
       "    </tr>\n",
       "    <tr>\n",
       "      <th>4</th>\n",
       "      <td>{'alias': 'japanese', 'title': 'Japanese'}</td>\n",
       "      <td>{'alias': 'sushi', 'title': 'Sushi Bars'}</td>\n",
       "      <td>{'alias': 'tapasmallplates', 'title': 'Tapas/S...</td>\n",
       "    </tr>\n",
       "  </tbody>\n",
       "</table>\n",
       "</div>"
      ],
      "text/plain": [
       "                                                   0  \\\n",
       "0           {'alias': 'burgers', 'title': 'Burgers'}   \n",
       "1  {'alias': 'chickenshop', 'title': 'Chicken Shop'}   \n",
       "2           {'alias': 'burgers', 'title': 'Burgers'}   \n",
       "3  {'alias': 'newcanadian', 'title': 'Canadian (N...   \n",
       "4         {'alias': 'japanese', 'title': 'Japanese'}   \n",
       "\n",
       "                                           1  \\\n",
       "0                                       None   \n",
       "1                                       None   \n",
       "2                                       None   \n",
       "3                                       None   \n",
       "4  {'alias': 'sushi', 'title': 'Sushi Bars'}   \n",
       "\n",
       "                                                   2  \n",
       "0                                               None  \n",
       "1                                               None  \n",
       "2                                               None  \n",
       "3                                               None  \n",
       "4  {'alias': 'tapasmallplates', 'title': 'Tapas/S...  "
      ]
     },
     "execution_count": 80,
     "metadata": {},
     "output_type": "execute_result"
    }
   ],
   "source": [
    "# Normalize the categories:\n",
    "df_yelpcat = pd.json_normalize(df_yelp['categories'][0])\n",
    "df_yelpcat.head()"
   ]
  },
  {
   "cell_type": "code",
   "execution_count": null,
   "metadata": {},
   "outputs": [
    {
     "data": {
      "text/html": [
       "<div>\n",
       "<style scoped>\n",
       "    .dataframe tbody tr th:only-of-type {\n",
       "        vertical-align: middle;\n",
       "    }\n",
       "\n",
       "    .dataframe tbody tr th {\n",
       "        vertical-align: top;\n",
       "    }\n",
       "\n",
       "    .dataframe thead th {\n",
       "        text-align: right;\n",
       "    }\n",
       "</style>\n",
       "<table border=\"1\" class=\"dataframe\">\n",
       "  <thead>\n",
       "    <tr style=\"text-align: right;\">\n",
       "      <th></th>\n",
       "      <th>alias</th>\n",
       "      <th>title</th>\n",
       "    </tr>\n",
       "  </thead>\n",
       "  <tbody>\n",
       "    <tr>\n",
       "      <th>0</th>\n",
       "      <td>burgers</td>\n",
       "      <td>Burgers</td>\n",
       "    </tr>\n",
       "    <tr>\n",
       "      <th>1</th>\n",
       "      <td>chickenshop</td>\n",
       "      <td>Chicken Shop</td>\n",
       "    </tr>\n",
       "    <tr>\n",
       "      <th>2</th>\n",
       "      <td>burgers</td>\n",
       "      <td>Burgers</td>\n",
       "    </tr>\n",
       "    <tr>\n",
       "      <th>3</th>\n",
       "      <td>newcanadian</td>\n",
       "      <td>Canadian (New)</td>\n",
       "    </tr>\n",
       "    <tr>\n",
       "      <th>4</th>\n",
       "      <td>japanese</td>\n",
       "      <td>Japanese</td>\n",
       "    </tr>\n",
       "  </tbody>\n",
       "</table>\n",
       "</div>"
      ],
      "text/plain": [
       "         alias           title\n",
       "0      burgers         Burgers\n",
       "1  chickenshop    Chicken Shop\n",
       "2      burgers         Burgers\n",
       "3  newcanadian  Canadian (New)\n",
       "4     japanese        Japanese"
      ]
     },
     "execution_count": 81,
     "metadata": {},
     "output_type": "execute_result"
    }
   ],
   "source": [
    "# normalize the resulting 3 columns into 3 tables in the example below:\n",
    "df_yelpcat0 = pd.json_normalize(df_yelpcat[0])\n",
    "df_yelpcat1 = pd.json_normalize(df_yelpcat[1])\n",
    "df_yelpcat2 = pd.json_normalize(df_yelpcat[2])\n",
    "df_yelpcat0.head()"
   ]
  },
  {
   "cell_type": "code",
   "execution_count": null,
   "metadata": {},
   "outputs": [
    {
     "data": {
      "text/html": [
       "<div>\n",
       "<style scoped>\n",
       "    .dataframe tbody tr th:only-of-type {\n",
       "        vertical-align: middle;\n",
       "    }\n",
       "\n",
       "    .dataframe tbody tr th {\n",
       "        vertical-align: top;\n",
       "    }\n",
       "\n",
       "    .dataframe thead th {\n",
       "        text-align: right;\n",
       "    }\n",
       "</style>\n",
       "<table border=\"1\" class=\"dataframe\">\n",
       "  <thead>\n",
       "    <tr style=\"text-align: right;\">\n",
       "      <th></th>\n",
       "      <th>lat-long</th>\n",
       "      <th>name</th>\n",
       "      <th>distance</th>\n",
       "      <th>latitude</th>\n",
       "      <th>longitude</th>\n",
       "      <th>address</th>\n",
       "      <th>price</th>\n",
       "      <th>is_closed</th>\n",
       "      <th>rating</th>\n",
       "      <th>rating_count</th>\n",
       "      <th>my_timestamp</th>\n",
       "      <th>cat1_alias</th>\n",
       "      <th>cat1_title</th>\n",
       "      <th>cat2_alias</th>\n",
       "      <th>cat2_title</th>\n",
       "      <th>cat3_alias</th>\n",
       "      <th>cat3_title</th>\n",
       "    </tr>\n",
       "  </thead>\n",
       "  <tbody>\n",
       "    <tr>\n",
       "      <th>0</th>\n",
       "      <td>43.665269,-79.319796</td>\n",
       "      <td>The Burger's Priest</td>\n",
       "      <td>374.238073</td>\n",
       "      <td>43.6667</td>\n",
       "      <td>-79.315585</td>\n",
       "      <td>[1636 Queen Street E, Toronto, ON M4L 1G3, Can...</td>\n",
       "      <td>$$</td>\n",
       "      <td>False</td>\n",
       "      <td>3.5</td>\n",
       "      <td>498</td>\n",
       "      <td>2022-12-05 04:14:43.742563</td>\n",
       "      <td>burgers</td>\n",
       "      <td>Burgers</td>\n",
       "      <td>NaN</td>\n",
       "      <td>NaN</td>\n",
       "      <td>NaN</td>\n",
       "      <td>NaN</td>\n",
       "    </tr>\n",
       "  </tbody>\n",
       "</table>\n",
       "</div>"
      ],
      "text/plain": [
       "               lat-long                 name    distance  latitude  longitude  \\\n",
       "0  43.665269,-79.319796  The Burger's Priest  374.238073   43.6667 -79.315585   \n",
       "\n",
       "                                             address price  is_closed  rating  \\\n",
       "0  [1636 Queen Street E, Toronto, ON M4L 1G3, Can...    $$      False     3.5   \n",
       "\n",
       "   rating_count               my_timestamp cat1_alias cat1_title cat2_alias  \\\n",
       "0           498 2022-12-05 04:14:43.742563    burgers    Burgers        NaN   \n",
       "\n",
       "  cat2_title cat3_alias cat3_title  \n",
       "0        NaN        NaN        NaN  "
      ]
     },
     "execution_count": 82,
     "metadata": {},
     "output_type": "execute_result"
    }
   ],
   "source": [
    "# Add new category labels back onto the df: \n",
    "df_yelp['cat1_alias'] = df_yelpcat0['alias']\n",
    "df_yelp['cat1_title'] = df_yelpcat0['title']\n",
    "\n",
    "df_yelp['cat2_alias'] = df_yelpcat1['alias']\n",
    "df_yelp['cat2_title'] = df_yelpcat1['title']\n",
    "\n",
    "df_yelp['cat3_alias'] = df_yelpcat2['alias']\n",
    "df_yelp['cat3_title'] = df_yelpcat2['title']\n",
    "\n",
    "# Remove the now redundant 'category' and 'name' columns:\n",
    "df_yelp = df_yelp.drop(['categories', 'category_name'], axis = 1)\n",
    "\n",
    "df_yelp.head(1)"
   ]
  },
  {
   "cell_type": "markdown",
   "metadata": {},
   "source": [
    "### SAVE IT!!!"
   ]
  },
  {
   "cell_type": "code",
   "execution_count": null,
   "metadata": {},
   "outputs": [],
   "source": [
    "# df_yelp.to_csv(f'../data/yelpPOI/df_yelp{datetime.now()}.csv', index=False)\n",
    "df_yelp.to_csv(f'../data/yelpPOI/df_yelp_mon1130h.csv', index=False)"
   ]
  },
  {
   "cell_type": "markdown",
   "metadata": {},
   "source": [
    "Parse through the response to get the POI (such as restaurants, bars, etc) details you want (ratings, name, location, etc)\n",
    "\n",
    "### YELP POI:"
   ]
  },
  {
   "cell_type": "code",
   "execution_count": null,
   "metadata": {},
   "outputs": [],
   "source": [
    "# Clone a working copy:\n",
    "df = df_yelp.copy()"
   ]
  },
  {
   "cell_type": "markdown",
   "metadata": {},
   "source": [
    "the addresses look chunky which diminishes the aesthetic of the table, and I expect this format might be useful for printing them in mailing format.  I won't be using it for my analysis at this point anyway, but I would certainly research this more before I made decisions about changing the format.  \n"
   ]
  },
  {
   "cell_type": "code",
   "execution_count": null,
   "metadata": {},
   "outputs": [
    {
     "data": {
      "text/html": [
       "<div>\n",
       "<style scoped>\n",
       "    .dataframe tbody tr th:only-of-type {\n",
       "        vertical-align: middle;\n",
       "    }\n",
       "\n",
       "    .dataframe tbody tr th {\n",
       "        vertical-align: top;\n",
       "    }\n",
       "\n",
       "    .dataframe thead th {\n",
       "        text-align: right;\n",
       "    }\n",
       "</style>\n",
       "<table border=\"1\" class=\"dataframe\">\n",
       "  <thead>\n",
       "    <tr style=\"text-align: right;\">\n",
       "      <th></th>\n",
       "      <th>lat-long</th>\n",
       "      <th>name</th>\n",
       "      <th>distance</th>\n",
       "      <th>latitude</th>\n",
       "      <th>longitude</th>\n",
       "      <th>price</th>\n",
       "      <th>is_closed</th>\n",
       "      <th>rating</th>\n",
       "      <th>rating_count</th>\n",
       "      <th>my_timestamp</th>\n",
       "      <th>cat1_title</th>\n",
       "      <th>cat2_title</th>\n",
       "      <th>cat3_title</th>\n",
       "    </tr>\n",
       "  </thead>\n",
       "  <tbody>\n",
       "    <tr>\n",
       "      <th>0</th>\n",
       "      <td>43.665269,-79.319796</td>\n",
       "      <td>The Burger's Priest</td>\n",
       "      <td>374.238073</td>\n",
       "      <td>43.66670</td>\n",
       "      <td>-79.315585</td>\n",
       "      <td>$$</td>\n",
       "      <td>False</td>\n",
       "      <td>3.5</td>\n",
       "      <td>498</td>\n",
       "      <td>2022-12-05 04:14:43.742563</td>\n",
       "      <td>Burgers</td>\n",
       "      <td>NaN</td>\n",
       "      <td>NaN</td>\n",
       "    </tr>\n",
       "    <tr>\n",
       "      <th>1</th>\n",
       "      <td>43.665269,-79.319796</td>\n",
       "      <td>Chick-N-Joy</td>\n",
       "      <td>125.483132</td>\n",
       "      <td>43.66509</td>\n",
       "      <td>-79.321320</td>\n",
       "      <td>$</td>\n",
       "      <td>False</td>\n",
       "      <td>4.0</td>\n",
       "      <td>54</td>\n",
       "      <td>2022-12-05 04:14:43.742587</td>\n",
       "      <td>Chicken Shop</td>\n",
       "      <td>NaN</td>\n",
       "      <td>NaN</td>\n",
       "    </tr>\n",
       "  </tbody>\n",
       "</table>\n",
       "</div>"
      ],
      "text/plain": [
       "               lat-long                 name    distance  latitude  longitude  \\\n",
       "0  43.665269,-79.319796  The Burger's Priest  374.238073  43.66670 -79.315585   \n",
       "1  43.665269,-79.319796          Chick-N-Joy  125.483132  43.66509 -79.321320   \n",
       "\n",
       "  price  is_closed  rating  rating_count               my_timestamp  \\\n",
       "0    $$      False     3.5           498 2022-12-05 04:14:43.742563   \n",
       "1     $      False     4.0            54 2022-12-05 04:14:43.742587   \n",
       "\n",
       "     cat1_title cat2_title cat3_title  \n",
       "0       Burgers        NaN        NaN  \n",
       "1  Chicken Shop        NaN        NaN  "
      ]
     },
     "execution_count": 85,
     "metadata": {},
     "output_type": "execute_result"
    }
   ],
   "source": [
    "# Drop columns from our copy df not currently needed:\n",
    "df = df.drop(['address', 'cat1_alias', 'cat2_alias', 'cat3_alias'], axis = 1)\n",
    "df.head(2)"
   ]
  },
  {
   "cell_type": "markdown",
   "metadata": {},
   "source": [
    "flip the \"is_closed\" column to remove the confusing double negative, and enable foursquare comparison:"
   ]
  },
  {
   "cell_type": "code",
   "execution_count": null,
   "metadata": {},
   "outputs": [
    {
     "data": {
      "text/html": [
       "<div>\n",
       "<style scoped>\n",
       "    .dataframe tbody tr th:only-of-type {\n",
       "        vertical-align: middle;\n",
       "    }\n",
       "\n",
       "    .dataframe tbody tr th {\n",
       "        vertical-align: top;\n",
       "    }\n",
       "\n",
       "    .dataframe thead th {\n",
       "        text-align: right;\n",
       "    }\n",
       "</style>\n",
       "<table border=\"1\" class=\"dataframe\">\n",
       "  <thead>\n",
       "    <tr style=\"text-align: right;\">\n",
       "      <th></th>\n",
       "      <th>lat-long</th>\n",
       "      <th>name</th>\n",
       "      <th>distance</th>\n",
       "      <th>latitude</th>\n",
       "      <th>longitude</th>\n",
       "      <th>price</th>\n",
       "      <th>is_open</th>\n",
       "      <th>rating</th>\n",
       "      <th>rating_count</th>\n",
       "      <th>my_timestamp</th>\n",
       "      <th>cat1_title</th>\n",
       "      <th>cat2_title</th>\n",
       "      <th>cat3_title</th>\n",
       "    </tr>\n",
       "  </thead>\n",
       "  <tbody>\n",
       "    <tr>\n",
       "      <th>0</th>\n",
       "      <td>43.665269,-79.319796</td>\n",
       "      <td>The Burger's Priest</td>\n",
       "      <td>374.238073</td>\n",
       "      <td>43.66670</td>\n",
       "      <td>-79.315585</td>\n",
       "      <td>$$</td>\n",
       "      <td>True</td>\n",
       "      <td>3.5</td>\n",
       "      <td>498</td>\n",
       "      <td>2022-12-05 04:14:43.742563</td>\n",
       "      <td>Burgers</td>\n",
       "      <td>NaN</td>\n",
       "      <td>NaN</td>\n",
       "    </tr>\n",
       "    <tr>\n",
       "      <th>1</th>\n",
       "      <td>43.665269,-79.319796</td>\n",
       "      <td>Chick-N-Joy</td>\n",
       "      <td>125.483132</td>\n",
       "      <td>43.66509</td>\n",
       "      <td>-79.321320</td>\n",
       "      <td>$</td>\n",
       "      <td>True</td>\n",
       "      <td>4.0</td>\n",
       "      <td>54</td>\n",
       "      <td>2022-12-05 04:14:43.742587</td>\n",
       "      <td>Chicken Shop</td>\n",
       "      <td>NaN</td>\n",
       "      <td>NaN</td>\n",
       "    </tr>\n",
       "  </tbody>\n",
       "</table>\n",
       "</div>"
      ],
      "text/plain": [
       "               lat-long                 name    distance  latitude  longitude  \\\n",
       "0  43.665269,-79.319796  The Burger's Priest  374.238073  43.66670 -79.315585   \n",
       "1  43.665269,-79.319796          Chick-N-Joy  125.483132  43.66509 -79.321320   \n",
       "\n",
       "  price  is_open  rating  rating_count               my_timestamp  \\\n",
       "0    $$     True     3.5           498 2022-12-05 04:14:43.742563   \n",
       "1     $     True     4.0            54 2022-12-05 04:14:43.742587   \n",
       "\n",
       "     cat1_title cat2_title cat3_title  \n",
       "0       Burgers        NaN        NaN  \n",
       "1  Chicken Shop        NaN        NaN  "
      ]
     },
     "execution_count": 86,
     "metadata": {},
     "output_type": "execute_result"
    }
   ],
   "source": [
    "df['is_closed'] = df['is_closed'] == False\n",
    "# Rename the heading to match:\n",
    "df = df.rename(columns = {'is_closed':'is_open'})\n",
    "df.head(2)"
   ]
  },
  {
   "cell_type": "markdown",
   "metadata": {},
   "source": [
    "Convert the timestamp data to the Toronto's time zone:"
   ]
  },
  {
   "cell_type": "code",
   "execution_count": null,
   "metadata": {},
   "outputs": [],
   "source": [
    "from datetime import datetime\n",
    "import pytz"
   ]
  },
  {
   "cell_type": "code",
   "execution_count": null,
   "metadata": {},
   "outputs": [
    {
     "name": "stdout",
     "output_type": "stream",
     "text": [
      "2022-12-05 04:14:43.742563\n",
      "2022-12-05 06:14:43.742563-05:00\n"
     ]
    }
   ],
   "source": [
    "# create both timezone objects\n",
    "old_timezone = pytz.timezone(\"US/Mountain\")\n",
    "new_timezone = pytz.timezone(\"US/Eastern\")\n",
    "\n",
    "# Confirm current timezone\n",
    "print(df['my_timestamp'].iloc[0])\n",
    "\n",
    "# two-step process\n",
    "for i in range(df.shape[0]):\n",
    "  localized_timestamp = old_timezone.localize(df['my_timestamp'].iloc[i])\n",
    "  df['my_timestamp'].iloc[i] = localized_timestamp.astimezone(new_timezone)\n",
    "  df['my_timestamp'].iloc[i] = localized_timestamp.astimezone(new_timezone)\n",
    "\n",
    "\n",
    "# Has converted to new timezone:\n",
    "print(df['my_timestamp'].iloc[0])"
   ]
  },
  {
   "cell_type": "code",
   "execution_count": null,
   "metadata": {},
   "outputs": [
    {
     "data": {
      "text/html": [
       "<div>\n",
       "<style scoped>\n",
       "    .dataframe tbody tr th:only-of-type {\n",
       "        vertical-align: middle;\n",
       "    }\n",
       "\n",
       "    .dataframe tbody tr th {\n",
       "        vertical-align: top;\n",
       "    }\n",
       "\n",
       "    .dataframe thead th {\n",
       "        text-align: right;\n",
       "    }\n",
       "</style>\n",
       "<table border=\"1\" class=\"dataframe\">\n",
       "  <thead>\n",
       "    <tr style=\"text-align: right;\">\n",
       "      <th></th>\n",
       "      <th>lat-long</th>\n",
       "      <th>name</th>\n",
       "      <th>distance</th>\n",
       "      <th>latitude</th>\n",
       "      <th>longitude</th>\n",
       "      <th>price</th>\n",
       "      <th>is_open</th>\n",
       "      <th>rating</th>\n",
       "      <th>rating_count</th>\n",
       "      <th>my_timestamp</th>\n",
       "      <th>cat1_title</th>\n",
       "      <th>cat2_title</th>\n",
       "      <th>cat3_title</th>\n",
       "    </tr>\n",
       "  </thead>\n",
       "  <tbody>\n",
       "    <tr>\n",
       "      <th>0</th>\n",
       "      <td>43.665269,-79.319796</td>\n",
       "      <td>The Burger's Priest</td>\n",
       "      <td>374.2</td>\n",
       "      <td>43.66670</td>\n",
       "      <td>-79.315585</td>\n",
       "      <td>$$</td>\n",
       "      <td>True</td>\n",
       "      <td>3.5</td>\n",
       "      <td>498</td>\n",
       "      <td>2022-12-05 06:14:43.742563-05:00</td>\n",
       "      <td>Burgers</td>\n",
       "      <td>NaN</td>\n",
       "      <td>NaN</td>\n",
       "    </tr>\n",
       "    <tr>\n",
       "      <th>1</th>\n",
       "      <td>43.665269,-79.319796</td>\n",
       "      <td>Chick-N-Joy</td>\n",
       "      <td>125.5</td>\n",
       "      <td>43.66509</td>\n",
       "      <td>-79.321320</td>\n",
       "      <td>$</td>\n",
       "      <td>True</td>\n",
       "      <td>4.0</td>\n",
       "      <td>54</td>\n",
       "      <td>2022-12-05 06:14:43.742587-05:00</td>\n",
       "      <td>Chicken Shop</td>\n",
       "      <td>NaN</td>\n",
       "      <td>NaN</td>\n",
       "    </tr>\n",
       "  </tbody>\n",
       "</table>\n",
       "</div>"
      ],
      "text/plain": [
       "               lat-long                 name  distance  latitude  longitude  \\\n",
       "0  43.665269,-79.319796  The Burger's Priest     374.2  43.66670 -79.315585   \n",
       "1  43.665269,-79.319796          Chick-N-Joy     125.5  43.66509 -79.321320   \n",
       "\n",
       "  price  is_open  rating  rating_count                      my_timestamp  \\\n",
       "0    $$     True     3.5           498  2022-12-05 06:14:43.742563-05:00   \n",
       "1     $     True     4.0            54  2022-12-05 06:14:43.742587-05:00   \n",
       "\n",
       "     cat1_title cat2_title cat3_title  \n",
       "0       Burgers        NaN        NaN  \n",
       "1  Chicken Shop        NaN        NaN  "
      ]
     },
     "execution_count": 89,
     "metadata": {},
     "output_type": "execute_result"
    }
   ],
   "source": [
    "df['distance'] = round(df['distance'], 1)\n",
    "df.head(2)"
   ]
  },
  {
   "cell_type": "code",
   "execution_count": null,
   "metadata": {},
   "outputs": [
    {
     "name": "stdout",
     "output_type": "stream",
     "text": [
      "2022-12-05 06:14:43.742563-05:00\n",
      "2022-12-05\n",
      "06:14:43.742563\n",
      "16\n"
     ]
    }
   ],
   "source": [
    "test = df['my_timestamp'].iloc[0]\n",
    "print(test)\n",
    "print(datetime.date(test))\n",
    "print(datetime.time(test))\n",
    "print(len('2022-12-04 00:09'))"
   ]
  },
  {
   "cell_type": "markdown",
   "metadata": {},
   "source": [
    "##### Categorical encoding: price\n"
   ]
  },
  {
   "cell_type": "code",
   "execution_count": null,
   "metadata": {},
   "outputs": [
    {
     "name": "stdout",
     "output_type": "stream",
     "text": [
      "$$      7731\n",
      "$       3170\n",
      "$$$     1248\n",
      "$$$$     269\n",
      "Name: price, dtype: int64\n",
      "False    12418\n",
      "True      6241\n",
      "Name: price, dtype: int64\n"
     ]
    },
    {
     "data": {
      "text/plain": [
       "array(['$$', '$', None, '$$$', '$$$$'], dtype=object)"
      ]
     },
     "execution_count": 91,
     "metadata": {},
     "output_type": "execute_result"
    }
   ],
   "source": [
    "print(df['price'].value_counts())\n",
    "print(df['price'].isna().value_counts())\n",
    "df['price'].unique()"
   ]
  },
  {
   "cell_type": "code",
   "execution_count": null,
   "metadata": {},
   "outputs": [
    {
     "data": {
      "text/plain": [
       "{'$$': 2, '$': 1, None: 3, '$$$': None, '$$$$': 4}"
      ]
     },
     "execution_count": 92,
     "metadata": {},
     "output_type": "execute_result"
    }
   ],
   "source": [
    "# order in array above will be same as the keys,\n",
    "keys = df['price'].unique()\n",
    "# Setting ordinal numerical values to match the order:\n",
    "values = [2, 1, 3, None, 4]\n",
    "price_map = dict(zip(keys, values))\n",
    "price_map"
   ]
  },
  {
   "cell_type": "code",
   "execution_count": null,
   "metadata": {},
   "outputs": [
    {
     "name": "stdout",
     "output_type": "stream",
     "text": [
      "2.0    7731\n",
      "3.0    6241\n",
      "1.0    3170\n",
      "4.0     269\n",
      "Name: price, dtype: int64\n"
     ]
    },
    {
     "data": {
      "text/html": [
       "<div>\n",
       "<style scoped>\n",
       "    .dataframe tbody tr th:only-of-type {\n",
       "        vertical-align: middle;\n",
       "    }\n",
       "\n",
       "    .dataframe tbody tr th {\n",
       "        vertical-align: top;\n",
       "    }\n",
       "\n",
       "    .dataframe thead th {\n",
       "        text-align: right;\n",
       "    }\n",
       "</style>\n",
       "<table border=\"1\" class=\"dataframe\">\n",
       "  <thead>\n",
       "    <tr style=\"text-align: right;\">\n",
       "      <th></th>\n",
       "      <th>lat-long</th>\n",
       "      <th>name</th>\n",
       "      <th>distance</th>\n",
       "      <th>latitude</th>\n",
       "      <th>longitude</th>\n",
       "      <th>price</th>\n",
       "      <th>is_open</th>\n",
       "      <th>rating</th>\n",
       "      <th>rating_count</th>\n",
       "      <th>my_timestamp</th>\n",
       "      <th>cat1_title</th>\n",
       "      <th>cat2_title</th>\n",
       "      <th>cat3_title</th>\n",
       "    </tr>\n",
       "  </thead>\n",
       "  <tbody>\n",
       "    <tr>\n",
       "      <th>0</th>\n",
       "      <td>43.665269,-79.319796</td>\n",
       "      <td>The Burger's Priest</td>\n",
       "      <td>374.2</td>\n",
       "      <td>43.6667</td>\n",
       "      <td>-79.315585</td>\n",
       "      <td>2.0</td>\n",
       "      <td>True</td>\n",
       "      <td>3.5</td>\n",
       "      <td>498</td>\n",
       "      <td>2022-12-05 06:14:43.742563-05:00</td>\n",
       "      <td>Burgers</td>\n",
       "      <td>NaN</td>\n",
       "      <td>NaN</td>\n",
       "    </tr>\n",
       "  </tbody>\n",
       "</table>\n",
       "</div>"
      ],
      "text/plain": [
       "               lat-long                 name  distance  latitude  longitude  \\\n",
       "0  43.665269,-79.319796  The Burger's Priest     374.2   43.6667 -79.315585   \n",
       "\n",
       "   price  is_open  rating  rating_count                      my_timestamp  \\\n",
       "0    2.0     True     3.5           498  2022-12-05 06:14:43.742563-05:00   \n",
       "\n",
       "  cat1_title cat2_title cat3_title  \n",
       "0    Burgers        NaN        NaN  "
      ]
     },
     "execution_count": 93,
     "metadata": {},
     "output_type": "execute_result"
    }
   ],
   "source": [
    "# Replace\n",
    "df['price'] = df['price'].map(price_map)\n",
    "# Validate counts unaffected:\n",
    "print(df['price'].value_counts())\n",
    "\n",
    "df.head(1)"
   ]
  },
  {
   "cell_type": "markdown",
   "metadata": {},
   "source": [
    "Put your parsed results into a DataFrame"
   ]
  },
  {
   "cell_type": "code",
   "execution_count": null,
   "metadata": {},
   "outputs": [],
   "source": [
    "yorkUniversity = [7759, 7758, 7756, 7679, 7585, 7586, 7584, 7759, 7679, 7678, 7587, 7588, 7589, 7590]\n",
    "yorkUni = (7759, 7758, 7756, 7679, 7585, 7586, 7584, 7759, 7679, 7678, 7587, 7588, 7589, 7590)\n",
    "\n",
    "scarboroughUni = [7612, 7613, 7624, 7614, 7615, 7616, 7617, 7645, 7626]\n",
    "scarUni = (7612, 7613, 7624, 7614, 7615, 7616, 7617, 7645, 7626)\n",
    "\n",
    "uni = (7612, 7613, 7624, 7614, 7615, 7616, 7617, 7645, 7626, 7759, 7758, 7756, 7679, 7585, 7586, 7584, 7759, 7679, 7678, 7587, 7588, 7589, 7590)"
   ]
  },
  {
   "cell_type": "code",
   "execution_count": null,
   "metadata": {},
   "outputs": [],
   "source": [
    "yelpPOIcoord = df[['latitude', 'longitude', 'lat-long']]\n",
    "df[['latitude', 'longitude', 'lat-long']].to_csv(f'../data/df_yelp_POIs_for_map.csv', index= False)\n",
    "\n",
    "fsqPOIcoord = dff[['latitude', 'longitude', 'lat-long']]\n",
    "dff[['latitude', 'longitude', 'lat-long']].to_csv(f'../data/df_fsq_POIs_for_map.csv', index= False)\n"
   ]
  },
  {
   "cell_type": "code",
   "execution_count": null,
   "metadata": {},
   "outputs": [
    {
     "data": {
      "text/plain": [
       "(1736, 3)"
      ]
     },
     "execution_count": 96,
     "metadata": {},
     "output_type": "execute_result"
    }
   ],
   "source": [
    "fsqPOIcoord_cafe = fsqPOIcoord[dff['cat1_id']==13034]\n",
    "fsqPOIcoord_cafe.sort_values('latitude', inplace=True)\n",
    "fsqPOIcoord_cafe.drop_duplicates(keep=False, inplace=True)\n",
    "fsqPOIcoord_cafe.to_csv(f'../data/df_fsqCafe_POIs_for_map.csv', index= False)\n",
    "\n",
    "fsqPOIcoord_cafe.shape"
   ]
  },
  {
   "cell_type": "code",
   "execution_count": null,
   "metadata": {},
   "outputs": [
    {
     "data": {
      "text/plain": [
       "(1108, 3)"
      ]
     },
     "execution_count": 97,
     "metadata": {},
     "output_type": "execute_result"
    }
   ],
   "source": [
    "\n",
    "fsqPOIcoord_parks = fsqPOIcoord[dff['cat1_id']==16032]\n",
    "fsqPOIcoord_parks.sort_values('latitude', inplace=True)\n",
    "fsqPOIcoord_parks.drop_duplicates(keep=False, inplace=True)\n",
    "fsqPOIcoord_parks.to_csv(f'../data/df_fsqparks_POIs_for_map.csv', index= False)\n",
    "\n",
    "fsqPOIcoord_parks.shape"
   ]
  },
  {
   "cell_type": "code",
   "execution_count": null,
   "metadata": {},
   "outputs": [],
   "source": [
    "yelpPOIcoord_lounges.to_csv(f'../data/df_yelpLounges_POIs_for_map.csv', index= False)\n"
   ]
  },
  {
   "cell_type": "code",
   "execution_count": null,
   "metadata": {},
   "outputs": [
    {
     "data": {
      "text/plain": [
       "(0, 3)"
      ]
     },
     "execution_count": 99,
     "metadata": {},
     "output_type": "execute_result"
    }
   ],
   "source": [
    "yelpPOIcoord_lounges = yelpPOIcoord[df['cat1_title']=='Lounges']\n",
    "yelpPOIcoord_lounges.shape"
   ]
  },
  {
   "cell_type": "code",
   "execution_count": null,
   "metadata": {},
   "outputs": [],
   "source": [
    "yelpPOIcoord_lounges.to_csv(f'../data/df_yelpLounges_POIs_for_map.csv', index= False)\n"
   ]
  },
  {
   "cell_type": "code",
   "execution_count": null,
   "metadata": {},
   "outputs": [
    {
     "data": {
      "text/html": [
       "<div>\n",
       "<style scoped>\n",
       "    .dataframe tbody tr th:only-of-type {\n",
       "        vertical-align: middle;\n",
       "    }\n",
       "\n",
       "    .dataframe tbody tr th {\n",
       "        vertical-align: top;\n",
       "    }\n",
       "\n",
       "    .dataframe thead th {\n",
       "        text-align: right;\n",
       "    }\n",
       "</style>\n",
       "<table border=\"1\" class=\"dataframe\">\n",
       "  <thead>\n",
       "    <tr style=\"text-align: right;\">\n",
       "      <th></th>\n",
       "      <th>lat-long</th>\n",
       "      <th>name</th>\n",
       "      <th>distance</th>\n",
       "      <th>latitude</th>\n",
       "      <th>longitude</th>\n",
       "      <th>price</th>\n",
       "      <th>is_open</th>\n",
       "      <th>rating</th>\n",
       "      <th>rating_count</th>\n",
       "      <th>my_timestamp</th>\n",
       "      <th>cat1_title</th>\n",
       "      <th>cat2_title</th>\n",
       "      <th>cat3_title</th>\n",
       "    </tr>\n",
       "  </thead>\n",
       "  <tbody>\n",
       "    <tr>\n",
       "      <th>0</th>\n",
       "      <td>43.665269,-79.319796</td>\n",
       "      <td>The Burger's Priest</td>\n",
       "      <td>374.2</td>\n",
       "      <td>43.666700</td>\n",
       "      <td>-79.315585</td>\n",
       "      <td>2.0</td>\n",
       "      <td>True</td>\n",
       "      <td>3.5</td>\n",
       "      <td>498</td>\n",
       "      <td>2022-12-05 06:14:43.742563-05:00</td>\n",
       "      <td>Burgers</td>\n",
       "      <td>NaN</td>\n",
       "      <td>NaN</td>\n",
       "    </tr>\n",
       "    <tr>\n",
       "      <th>1</th>\n",
       "      <td>43.665269,-79.319796</td>\n",
       "      <td>Chick-N-Joy</td>\n",
       "      <td>125.5</td>\n",
       "      <td>43.665090</td>\n",
       "      <td>-79.321320</td>\n",
       "      <td>1.0</td>\n",
       "      <td>True</td>\n",
       "      <td>4.0</td>\n",
       "      <td>54</td>\n",
       "      <td>2022-12-05 06:14:43.742587-05:00</td>\n",
       "      <td>Chicken Shop</td>\n",
       "      <td>NaN</td>\n",
       "      <td>NaN</td>\n",
       "    </tr>\n",
       "    <tr>\n",
       "      <th>2</th>\n",
       "      <td>43.665269,-79.319796</td>\n",
       "      <td>O Sushi</td>\n",
       "      <td>277.6</td>\n",
       "      <td>43.666540</td>\n",
       "      <td>-79.316930</td>\n",
       "      <td>2.0</td>\n",
       "      <td>True</td>\n",
       "      <td>4.0</td>\n",
       "      <td>57</td>\n",
       "      <td>2022-12-05 06:14:43.742593-05:00</td>\n",
       "      <td>Burgers</td>\n",
       "      <td>NaN</td>\n",
       "      <td>NaN</td>\n",
       "    </tr>\n",
       "    <tr>\n",
       "      <th>3</th>\n",
       "      <td>43.665269,-79.319796</td>\n",
       "      <td>Jaclyn's</td>\n",
       "      <td>172.4</td>\n",
       "      <td>43.666270</td>\n",
       "      <td>-79.318020</td>\n",
       "      <td>3.0</td>\n",
       "      <td>True</td>\n",
       "      <td>4.5</td>\n",
       "      <td>14</td>\n",
       "      <td>2022-12-05 06:14:43.742599-05:00</td>\n",
       "      <td>Canadian (New)</td>\n",
       "      <td>NaN</td>\n",
       "      <td>NaN</td>\n",
       "    </tr>\n",
       "    <tr>\n",
       "      <th>4</th>\n",
       "      <td>43.665269,-79.319796</td>\n",
       "      <td>Burrito Bandidos</td>\n",
       "      <td>286.2</td>\n",
       "      <td>43.666561</td>\n",
       "      <td>-79.316422</td>\n",
       "      <td>2.0</td>\n",
       "      <td>True</td>\n",
       "      <td>3.5</td>\n",
       "      <td>57</td>\n",
       "      <td>2022-12-05 06:14:43.742604-05:00</td>\n",
       "      <td>Japanese</td>\n",
       "      <td>Sushi Bars</td>\n",
       "      <td>Tapas/Small Plates</td>\n",
       "    </tr>\n",
       "  </tbody>\n",
       "</table>\n",
       "</div>"
      ],
      "text/plain": [
       "               lat-long                 name  distance   latitude  longitude  \\\n",
       "0  43.665269,-79.319796  The Burger's Priest     374.2  43.666700 -79.315585   \n",
       "1  43.665269,-79.319796          Chick-N-Joy     125.5  43.665090 -79.321320   \n",
       "2  43.665269,-79.319796              O Sushi     277.6  43.666540 -79.316930   \n",
       "3  43.665269,-79.319796             Jaclyn's     172.4  43.666270 -79.318020   \n",
       "4  43.665269,-79.319796     Burrito Bandidos     286.2  43.666561 -79.316422   \n",
       "\n",
       "   price  is_open  rating  rating_count                      my_timestamp  \\\n",
       "0    2.0     True     3.5           498  2022-12-05 06:14:43.742563-05:00   \n",
       "1    1.0     True     4.0            54  2022-12-05 06:14:43.742587-05:00   \n",
       "2    2.0     True     4.0            57  2022-12-05 06:14:43.742593-05:00   \n",
       "3    3.0     True     4.5            14  2022-12-05 06:14:43.742599-05:00   \n",
       "4    2.0     True     3.5            57  2022-12-05 06:14:43.742604-05:00   \n",
       "\n",
       "       cat1_title  cat2_title          cat3_title  \n",
       "0         Burgers         NaN                 NaN  \n",
       "1    Chicken Shop         NaN                 NaN  \n",
       "2         Burgers         NaN                 NaN  \n",
       "3  Canadian (New)         NaN                 NaN  \n",
       "4        Japanese  Sushi Bars  Tapas/Small Plates  "
      ]
     },
     "execution_count": 101,
     "metadata": {},
     "output_type": "execute_result"
    }
   ],
   "source": [
    "df.to_csv(f'../data/df_yelp_mon1130h.csv', index= False)\n",
    "\n",
    "df.head(5)"
   ]
  },
  {
   "cell_type": "code",
   "execution_count": null,
   "metadata": {},
   "outputs": [],
   "source": [
    "df.to_csv(f'../data/stats_mod/df_yelp_mon1130h.csv', index=False)\n"
   ]
  },
  {
   "cell_type": "markdown",
   "metadata": {},
   "source": [
    "# Comparing Results"
   ]
  },
  {
   "cell_type": "markdown",
   "metadata": {},
   "source": [
    "Which API provided you with more complete data? Provide an explanation. \n",
    "\n",
    "#### Number of POIs per bike station site:\n",
    "\n",
    "Both API get request limits were set to 50, but you can see below that yelp was less able to meet that max.  "
   ]
  },
  {
   "cell_type": "code",
   "execution_count": null,
   "metadata": {},
   "outputs": [
    {
     "data": {
      "text/plain": [
       "43.697490048103,-79.25655146462776      1\n",
       "43.7777114,-79.1659711                  1\n",
       "43.779353,-79.193023                    1\n",
       "43.6615467,-79.498398                   1\n",
       "43.720645,-79.355474                    1\n",
       "43.6954486,-79.4026176                  1\n",
       "43.693256,-79.383238                    1\n",
       "43.69413548199171,-79.30058718775287    1\n",
       "43.6750806,-79.3068697                  1\n",
       "43.63855,-79.46693                      1\n",
       "Name: lat-long, dtype: int64"
      ]
     },
     "execution_count": 103,
     "metadata": {},
     "output_type": "execute_result"
    }
   ],
   "source": [
    "df['lat-long'].value_counts().tail(10)"
   ]
  },
  {
   "cell_type": "code",
   "execution_count": null,
   "metadata": {},
   "outputs": [
    {
     "data": {
      "text/plain": [
       "43.63771,-79.458173                      8\n",
       "43.7611741,-79.5114452                   8\n",
       "43.7027268,-79.33368089999999            7\n",
       "43.688148,-79.362101                     6\n",
       "43.6314,-79.4304                         6\n",
       "43.7561681,-79.2026694                   5\n",
       "43.788319,-79.123505                     5\n",
       "43.720233,-79.362092                     4\n",
       "43.645835578756525,-79.32088910859937    1\n",
       "43.720645,-79.355474                     1\n",
       "Name: lat-long, dtype: int64"
      ]
     },
     "execution_count": 104,
     "metadata": {},
     "output_type": "execute_result"
    }
   ],
   "source": [
    "dff['lat-long'].value_counts().tail(10)"
   ]
  },
  {
   "cell_type": "markdown",
   "metadata": {},
   "source": [
    "This is likely because the yelp API appears to restrict it's results to food or restaurant vendors, where as foursquare returned a broader range of venues:"
   ]
  },
  {
   "cell_type": "code",
   "execution_count": null,
   "metadata": {},
   "outputs": [
    {
     "name": "stdout",
     "output_type": "stream",
     "text": [
      "31\n"
     ]
    },
    {
     "data": {
      "text/plain": [
       "Japanese                     1655\n",
       "Ramen                        1523\n",
       "Burgers                      1210\n",
       "Pizza                        1148\n",
       "Canadian (New)                862\n",
       "Cafes                         799\n",
       "Chinese                       793\n",
       "Seafood                       730\n",
       "Mexican                       645\n",
       "Barbeque                      610\n",
       "Venezuelan                    609\n",
       "Chicken Shop                  598\n",
       "Bakeries                      504\n",
       "Coffee Roasteries             501\n",
       "Sandwiches                    498\n",
       "Tapas/Small Plates            481\n",
       "Breakfast & Brunch            471\n",
       "Museums                       463\n",
       "Dog Parks                     454\n",
       "Vietnamese                    436\n",
       "Ice Cream & Frozen Yogurt     421\n",
       "Gluten-Free                   412\n",
       "Caterers                      399\n",
       "Sushi Bars                    359\n",
       "Golf                          350\n",
       "Filipino                      341\n",
       "Middle Eastern                325\n",
       "Comfort Food                  317\n",
       "Indian                        272\n",
       "Parks                         251\n",
       "Botanical Gardens             222\n",
       "Name: cat1_title, dtype: int64"
      ]
     },
     "execution_count": 105,
     "metadata": {},
     "output_type": "execute_result"
    }
   ],
   "source": [
    "\n",
    "print(df['cat1_title'].nunique())\n",
    "df['cat1_title'].value_counts()"
   ]
  },
  {
   "cell_type": "code",
   "execution_count": null,
   "metadata": {},
   "outputs": [
    {
     "data": {
      "text/plain": [
       "Pizzeria                           1825\n",
       "Restaurant                         1810\n",
       "Café                               1750\n",
       "Bookstore                          1287\n",
       "Coffee Shop                        1260\n",
       "Farmers' Market                    1246\n",
       "Convenience Store                  1199\n",
       "Sushi Restaurant                   1186\n",
       "Japanese Restaurant                1184\n",
       "Park                               1120\n",
       "Dessert Shop                       1120\n",
       "Middle Eastern Restaurant           652\n",
       "Bicycle Store                       652\n",
       "Playground                          652\n",
       "Juice Bar                           647\n",
       "BBQ Joint                           646\n",
       "Italian Restaurant                  639\n",
       "Other Great Outdoors                629\n",
       "Bistro                              627\n",
       "Car Wash and Detail                 619\n",
       "Professional Cleaning Service       614\n",
       "Health and Medicine                 613\n",
       "Beer Bar                            607\n",
       "Burrito Restaurant                  605\n",
       "Bubble Tea Shop                     584\n",
       "Vegan and Vegetarian Restaurant     582\n",
       "Fast Food Restaurant                572\n",
       "Media Agency                        566\n",
       "Bank                                562\n",
       "Bar                                 559\n",
       "Church                              555\n",
       "Metals Supplier                     554\n",
       "Discount Store                      554\n",
       "Hot Dog Joint                       554\n",
       "Department Store                    540\n",
       "Name: cat1_name, dtype: int64"
      ]
     },
     "execution_count": 106,
     "metadata": {},
     "output_type": "execute_result"
    }
   ],
   "source": [
    "dff['cat1_name'].nunique()\n",
    "dff['cat1_name'].value_counts()"
   ]
  },
  {
   "cell_type": "code",
   "execution_count": null,
   "metadata": {},
   "outputs": [
    {
     "data": {
      "text/html": [
       "<div>\n",
       "<style scoped>\n",
       "    .dataframe tbody tr th:only-of-type {\n",
       "        vertical-align: middle;\n",
       "    }\n",
       "\n",
       "    .dataframe tbody tr th {\n",
       "        vertical-align: top;\n",
       "    }\n",
       "\n",
       "    .dataframe thead th {\n",
       "        text-align: right;\n",
       "    }\n",
       "</style>\n",
       "<table border=\"1\" class=\"dataframe\">\n",
       "  <thead>\n",
       "    <tr style=\"text-align: right;\">\n",
       "      <th></th>\n",
       "      <th>cat1_name</th>\n",
       "    </tr>\n",
       "    <tr>\n",
       "      <th>catType</th>\n",
       "      <th></th>\n",
       "    </tr>\n",
       "  </thead>\n",
       "  <tbody>\n",
       "    <tr>\n",
       "      <th>11000</th>\n",
       "      <td>2915</td>\n",
       "    </tr>\n",
       "    <tr>\n",
       "      <th>12000</th>\n",
       "      <td>555</td>\n",
       "    </tr>\n",
       "    <tr>\n",
       "      <th>13000</th>\n",
       "      <td>17409</td>\n",
       "    </tr>\n",
       "    <tr>\n",
       "      <th>15000</th>\n",
       "      <td>613</td>\n",
       "    </tr>\n",
       "    <tr>\n",
       "      <th>16000</th>\n",
       "      <td>2401</td>\n",
       "    </tr>\n",
       "    <tr>\n",
       "      <th>17000</th>\n",
       "      <td>5478</td>\n",
       "    </tr>\n",
       "  </tbody>\n",
       "</table>\n",
       "</div>"
      ],
      "text/plain": [
       "         cat1_name\n",
       "catType           \n",
       "11000         2915\n",
       "12000          555\n",
       "13000        17409\n",
       "15000          613\n",
       "16000         2401\n",
       "17000         5478"
      ]
     },
     "execution_count": 107,
     "metadata": {},
     "output_type": "execute_result"
    }
   ],
   "source": [
    "# Category titles:\n",
    "dff2 = dff.copy()\n",
    "dff2['catType'] = ((dff['cat1_id']//1000)*1000)\n",
    "\n",
    "dff2[['catType', 'cat1_name']].groupby('catType').count()\n"
   ]
  },
  {
   "cell_type": "markdown",
   "metadata": {},
   "source": [
    "- 10000:\tArts and Entertainment\n",
    "- 11000:  Business and Professional Services\n",
    "- 13000:  Dining and Drinking\n",
    "- 16000:  Landmarks and Outdoors\n",
    "- 17000:  Retail\n"
   ]
  },
  {
   "cell_type": "code",
   "execution_count": null,
   "metadata": {},
   "outputs": [
    {
     "data": {
      "text/html": [
       "<div>\n",
       "<style scoped>\n",
       "    .dataframe tbody tr th:only-of-type {\n",
       "        vertical-align: middle;\n",
       "    }\n",
       "\n",
       "    .dataframe tbody tr th {\n",
       "        vertical-align: top;\n",
       "    }\n",
       "\n",
       "    .dataframe thead th {\n",
       "        text-align: right;\n",
       "    }\n",
       "</style>\n",
       "<table border=\"1\" class=\"dataframe\">\n",
       "  <thead>\n",
       "    <tr style=\"text-align: right;\">\n",
       "      <th></th>\n",
       "      <th></th>\n",
       "      <th>rating</th>\n",
       "    </tr>\n",
       "    <tr>\n",
       "      <th>cat1_id</th>\n",
       "      <th>cat1_name</th>\n",
       "      <th></th>\n",
       "    </tr>\n",
       "  </thead>\n",
       "  <tbody>\n",
       "    <tr>\n",
       "      <th>17065</th>\n",
       "      <th>Farmers' Market</th>\n",
       "      <td>660</td>\n",
       "    </tr>\n",
       "    <tr>\n",
       "      <th>13065</th>\n",
       "      <th>Restaurant</th>\n",
       "      <td>610</td>\n",
       "    </tr>\n",
       "    <tr>\n",
       "      <th>13064</th>\n",
       "      <th>Pizzeria</th>\n",
       "      <td>587</td>\n",
       "    </tr>\n",
       "    <tr>\n",
       "      <th>13034</th>\n",
       "      <th>Café</th>\n",
       "      <td>552</td>\n",
       "    </tr>\n",
       "    <tr>\n",
       "      <th>17018</th>\n",
       "      <th>Bookstore</th>\n",
       "      <td>547</td>\n",
       "    </tr>\n",
       "    <tr>\n",
       "      <th>13276</th>\n",
       "      <th>Sushi Restaurant</th>\n",
       "      <td>470</td>\n",
       "    </tr>\n",
       "    <tr>\n",
       "      <th>13035</th>\n",
       "      <th>Coffee Shop</th>\n",
       "      <td>428</td>\n",
       "    </tr>\n",
       "    <tr>\n",
       "      <th>16037</th>\n",
       "      <th>Playground</th>\n",
       "      <td>417</td>\n",
       "    </tr>\n",
       "    <tr>\n",
       "      <th>17029</th>\n",
       "      <th>Convenience Store</th>\n",
       "      <td>395</td>\n",
       "    </tr>\n",
       "    <tr>\n",
       "      <th>13263</th>\n",
       "      <th>Japanese Restaurant</th>\n",
       "      <td>382</td>\n",
       "    </tr>\n",
       "    <tr>\n",
       "      <th>17119</th>\n",
       "      <th>Bicycle Store</th>\n",
       "      <td>367</td>\n",
       "    </tr>\n",
       "    <tr>\n",
       "      <th>16032</th>\n",
       "      <th>Park</th>\n",
       "      <td>341</td>\n",
       "    </tr>\n",
       "    <tr>\n",
       "      <th>13040</th>\n",
       "      <th>Dessert Shop</th>\n",
       "      <td>339</td>\n",
       "    </tr>\n",
       "    <tr>\n",
       "      <th>13309</th>\n",
       "      <th>Middle Eastern Restaurant</th>\n",
       "      <td>336</td>\n",
       "    </tr>\n",
       "    <tr>\n",
       "      <th>13059</th>\n",
       "      <th>Juice Bar</th>\n",
       "      <td>281</td>\n",
       "    </tr>\n",
       "  </tbody>\n",
       "</table>\n",
       "</div>"
      ],
      "text/plain": [
       "                                   rating\n",
       "cat1_id cat1_name                        \n",
       "17065   Farmers' Market               660\n",
       "13065   Restaurant                    610\n",
       "13064   Pizzeria                      587\n",
       "13034   Café                          552\n",
       "17018   Bookstore                     547\n",
       "13276   Sushi Restaurant              470\n",
       "13035   Coffee Shop                   428\n",
       "16037   Playground                    417\n",
       "17029   Convenience Store             395\n",
       "13263   Japanese Restaurant           382\n",
       "17119   Bicycle Store                 367\n",
       "16032   Park                          341\n",
       "13040   Dessert Shop                  339\n",
       "13309   Middle Eastern Restaurant     336\n",
       "13059   Juice Bar                     281"
      ]
     },
     "execution_count": 108,
     "metadata": {},
     "output_type": "execute_result"
    }
   ],
   "source": [
    "# Category titles:\n",
    "dff2[['cat1_id', 'cat1_name', 'rating']].groupby(['cat1_id', 'cat1_name']).count().sort_values('rating', ascending=False).head(15)"
   ]
  },
  {
   "cell_type": "markdown",
   "metadata": {},
   "source": [
    "foursquare gives a much wider range of venues to research rather than just restaurants this data set for the bike station sites from foursquare also includes parks, farmers' markets, bike shops, music venues, and other misc stores."
   ]
  },
  {
   "cell_type": "markdown",
   "metadata": {},
   "source": [
    "### Get the top 10 restaurants according to their rating\n",
    "\n",
    "using foursquare:"
   ]
  },
  {
   "cell_type": "code",
   "execution_count": null,
   "metadata": {},
   "outputs": [
    {
     "data": {
      "text/html": [
       "<div>\n",
       "<style scoped>\n",
       "    .dataframe tbody tr th:only-of-type {\n",
       "        vertical-align: middle;\n",
       "    }\n",
       "\n",
       "    .dataframe tbody tr th {\n",
       "        vertical-align: top;\n",
       "    }\n",
       "\n",
       "    .dataframe thead th {\n",
       "        text-align: right;\n",
       "    }\n",
       "</style>\n",
       "<table border=\"1\" class=\"dataframe\">\n",
       "  <thead>\n",
       "    <tr style=\"text-align: right;\">\n",
       "      <th></th>\n",
       "      <th>name</th>\n",
       "      <th>rating</th>\n",
       "    </tr>\n",
       "  </thead>\n",
       "  <tbody>\n",
       "    <tr>\n",
       "      <th>3</th>\n",
       "      <td>Fiesta Farms</td>\n",
       "      <td>9.5</td>\n",
       "    </tr>\n",
       "    <tr>\n",
       "      <th>3</th>\n",
       "      <td>Booster Juice</td>\n",
       "      <td>9.5</td>\n",
       "    </tr>\n",
       "    <tr>\n",
       "      <th>9</th>\n",
       "      <td>Vdev</td>\n",
       "      <td>9.4</td>\n",
       "    </tr>\n",
       "    <tr>\n",
       "      <th>3</th>\n",
       "      <td>Vdev</td>\n",
       "      <td>9.4</td>\n",
       "    </tr>\n",
       "    <tr>\n",
       "      <th>9</th>\n",
       "      <td>Cumbrae's</td>\n",
       "      <td>9.4</td>\n",
       "    </tr>\n",
       "    <tr>\n",
       "      <th>49</th>\n",
       "      <td>Vdev</td>\n",
       "      <td>9.4</td>\n",
       "    </tr>\n",
       "    <tr>\n",
       "      <th>35</th>\n",
       "      <td>Hawk and Chick Food Inc</td>\n",
       "      <td>9.4</td>\n",
       "    </tr>\n",
       "    <tr>\n",
       "      <th>45</th>\n",
       "      <td>Montgomery's</td>\n",
       "      <td>9.3</td>\n",
       "    </tr>\n",
       "    <tr>\n",
       "      <th>4</th>\n",
       "      <td>Food &amp; Liquor</td>\n",
       "      <td>9.3</td>\n",
       "    </tr>\n",
       "    <tr>\n",
       "      <th>21</th>\n",
       "      <td>Montgomery's</td>\n",
       "      <td>9.3</td>\n",
       "    </tr>\n",
       "    <tr>\n",
       "      <th>12</th>\n",
       "      <td>Underpass Park</td>\n",
       "      <td>9.3</td>\n",
       "    </tr>\n",
       "    <tr>\n",
       "      <th>45</th>\n",
       "      <td>Burdock</td>\n",
       "      <td>9.2</td>\n",
       "    </tr>\n",
       "    <tr>\n",
       "      <th>31</th>\n",
       "      <td>Porchetta &amp; Co</td>\n",
       "      <td>9.2</td>\n",
       "    </tr>\n",
       "    <tr>\n",
       "      <th>9</th>\n",
       "      <td>Porchetta &amp; Co</td>\n",
       "      <td>9.2</td>\n",
       "    </tr>\n",
       "    <tr>\n",
       "      <th>33</th>\n",
       "      <td>The Distillery Historic District</td>\n",
       "      <td>9.2</td>\n",
       "    </tr>\n",
       "  </tbody>\n",
       "</table>\n",
       "</div>"
      ],
      "text/plain": [
       "                                name rating\n",
       "3                       Fiesta Farms    9.5\n",
       "3                      Booster Juice    9.5\n",
       "9                               Vdev    9.4\n",
       "3                               Vdev    9.4\n",
       "9                          Cumbrae's    9.4\n",
       "49                              Vdev    9.4\n",
       "35           Hawk and Chick Food Inc    9.4\n",
       "45                      Montgomery's    9.3\n",
       "4                      Food & Liquor    9.3\n",
       "21                      Montgomery's    9.3\n",
       "12                    Underpass Park    9.3\n",
       "45                           Burdock    9.2\n",
       "31                    Porchetta & Co    9.2\n",
       "9                     Porchetta & Co    9.2\n",
       "33  The Distillery Historic District    9.2"
      ]
     },
     "execution_count": 109,
     "metadata": {},
     "output_type": "execute_result"
    }
   ],
   "source": [
    "restaurants = dff2[dff2['cat1_id'].between(13062, 13380)]\n",
    "restaurants[['name', 'rating']].sort_values('rating', ascending=False).head(15)"
   ]
  },
  {
   "cell_type": "markdown",
   "metadata": {},
   "source": [
    "more time might need to be spend understanding how exactly their category id classification system works, but the range chose above references their [category taxonomy table](https://location.foursquare.com/places/docs/categories) for the id numbers categorized by:\n",
    ">Dining and Drinking > Restaurant >\n",
    "\n",
    "using the Yelp results:"
   ]
  },
  {
   "cell_type": "code",
   "execution_count": null,
   "metadata": {},
   "outputs": [
    {
     "name": "stdout",
     "output_type": "stream",
     "text": [
      "9\n"
     ]
    },
    {
     "data": {
      "text/html": [
       "<div>\n",
       "<style scoped>\n",
       "    .dataframe tbody tr th:only-of-type {\n",
       "        vertical-align: middle;\n",
       "    }\n",
       "\n",
       "    .dataframe tbody tr th {\n",
       "        vertical-align: top;\n",
       "    }\n",
       "\n",
       "    .dataframe thead th {\n",
       "        text-align: right;\n",
       "    }\n",
       "</style>\n",
       "<table border=\"1\" class=\"dataframe\">\n",
       "  <thead>\n",
       "    <tr style=\"text-align: right;\">\n",
       "      <th></th>\n",
       "      <th>name</th>\n",
       "    </tr>\n",
       "    <tr>\n",
       "      <th>rating</th>\n",
       "      <th></th>\n",
       "    </tr>\n",
       "  </thead>\n",
       "  <tbody>\n",
       "    <tr>\n",
       "      <th>1.0</th>\n",
       "      <td>209</td>\n",
       "    </tr>\n",
       "    <tr>\n",
       "      <th>1.5</th>\n",
       "      <td>184</td>\n",
       "    </tr>\n",
       "    <tr>\n",
       "      <th>2.0</th>\n",
       "      <td>534</td>\n",
       "    </tr>\n",
       "    <tr>\n",
       "      <th>2.5</th>\n",
       "      <td>912</td>\n",
       "    </tr>\n",
       "    <tr>\n",
       "      <th>3.0</th>\n",
       "      <td>1861</td>\n",
       "    </tr>\n",
       "    <tr>\n",
       "      <th>3.5</th>\n",
       "      <td>4705</td>\n",
       "    </tr>\n",
       "    <tr>\n",
       "      <th>4.0</th>\n",
       "      <td>5890</td>\n",
       "    </tr>\n",
       "    <tr>\n",
       "      <th>4.5</th>\n",
       "      <td>3237</td>\n",
       "    </tr>\n",
       "    <tr>\n",
       "      <th>5.0</th>\n",
       "      <td>1127</td>\n",
       "    </tr>\n",
       "  </tbody>\n",
       "</table>\n",
       "</div>"
      ],
      "text/plain": [
       "        name\n",
       "rating      \n",
       "1.0      209\n",
       "1.5      184\n",
       "2.0      534\n",
       "2.5      912\n",
       "3.0     1861\n",
       "3.5     4705\n",
       "4.0     5890\n",
       "4.5     3237\n",
       "5.0     1127"
      ]
     },
     "execution_count": 110,
     "metadata": {},
     "output_type": "execute_result"
    }
   ],
   "source": [
    "print(df['rating'].nunique())\n",
    "df[['rating', 'name']].groupby('rating').count()"
   ]
  },
  {
   "cell_type": "markdown",
   "metadata": {},
   "source": [
    "this suggests any 10 of the 1057 '5.0' rated venues could be in the top ten.  So I'll account for popularity or frequncy of 5.0 ratings,"
   ]
  },
  {
   "cell_type": "code",
   "execution_count": null,
   "metadata": {},
   "outputs": [
    {
     "data": {
      "text/html": [
       "<div>\n",
       "<style scoped>\n",
       "    .dataframe tbody tr th:only-of-type {\n",
       "        vertical-align: middle;\n",
       "    }\n",
       "\n",
       "    .dataframe tbody tr th {\n",
       "        vertical-align: top;\n",
       "    }\n",
       "\n",
       "    .dataframe thead th {\n",
       "        text-align: right;\n",
       "    }\n",
       "</style>\n",
       "<table border=\"1\" class=\"dataframe\">\n",
       "  <thead>\n",
       "    <tr style=\"text-align: right;\">\n",
       "      <th></th>\n",
       "      <th>rating_count</th>\n",
       "    </tr>\n",
       "    <tr>\n",
       "      <th>name</th>\n",
       "      <th></th>\n",
       "    </tr>\n",
       "  </thead>\n",
       "  <tbody>\n",
       "    <tr>\n",
       "      <th>Starbucks</th>\n",
       "      <td>13</td>\n",
       "    </tr>\n",
       "    <tr>\n",
       "      <th>Gong Cha</th>\n",
       "      <td>10</td>\n",
       "    </tr>\n",
       "    <tr>\n",
       "      <th>Fahrenheit Coffee</th>\n",
       "      <td>9</td>\n",
       "    </tr>\n",
       "    <tr>\n",
       "      <th>Old Town Bodega</th>\n",
       "      <td>9</td>\n",
       "    </tr>\n",
       "    <tr>\n",
       "      <th>Gurume Sushi</th>\n",
       "      <td>9</td>\n",
       "    </tr>\n",
       "    <tr>\n",
       "      <th>Jamican</th>\n",
       "      <td>8</td>\n",
       "    </tr>\n",
       "    <tr>\n",
       "      <th>The Maker Bean Cafe</th>\n",
       "      <td>8</td>\n",
       "    </tr>\n",
       "    <tr>\n",
       "      <th>Super Wash N Dry Coin Laundry</th>\n",
       "      <td>8</td>\n",
       "    </tr>\n",
       "    <tr>\n",
       "      <th>Little Canada</th>\n",
       "      <td>8</td>\n",
       "    </tr>\n",
       "    <tr>\n",
       "      <th>Tim Hortons</th>\n",
       "      <td>8</td>\n",
       "    </tr>\n",
       "  </tbody>\n",
       "</table>\n",
       "</div>"
      ],
      "text/plain": [
       "                               rating_count\n",
       "name                                       \n",
       "Starbucks                                13\n",
       "Gong Cha                                 10\n",
       "Fahrenheit Coffee                         9\n",
       "Old Town Bodega                           9\n",
       "Gurume Sushi                              9\n",
       "Jamican                                   8\n",
       "The Maker Bean Cafe                       8\n",
       "Super Wash N Dry Coin Laundry             8\n",
       "Little Canada                             8\n",
       "Tim Hortons                               8"
      ]
     },
     "execution_count": 111,
     "metadata": {},
     "output_type": "execute_result"
    }
   ],
   "source": [
    "topRate = df[df['rating']==5.0]\n",
    "topRate[['name', 'rating_count']].groupby('name').count().sort_values('rating_count', ascending=False).head(10)"
   ]
  }
 ],
 "metadata": {
  "kernelspec": {
   "display_name": "Python 3.10.8 ('base_env')",
   "language": "python",
   "name": "python3"
  },
  "language_info": {
   "codemirror_mode": {
    "name": "ipython",
    "version": 3
   },
   "file_extension": ".py",
   "mimetype": "text/x-python",
   "name": "python",
   "nbconvert_exporter": "python",
   "pygments_lexer": "ipython3",
   "version": "3.10.8"
  },
  "vscode": {
   "interpreter": {
    "hash": "39512f3c2a1741d7f752d45a133d4514127029333ea14bc2f3c6c5e6759b9029"
   }
  }
 },
 "nbformat": 4,
 "nbformat_minor": 4
}
