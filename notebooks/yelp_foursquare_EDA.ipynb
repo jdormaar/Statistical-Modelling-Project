{
 "cells": [
  {
   "cell_type": "markdown",
   "metadata": {},
   "source": [
    "# W3P2 - PART3 - yelp_foursquareEDA\n",
    "\n",
    "assignment file part 2"
   ]
  },
  {
   "cell_type": "code",
   "execution_count": 110,
   "metadata": {},
   "outputs": [],
   "source": [
    "from datetime import datetime\n",
    "import pandas as pd\n",
    "import requests\n",
    "import json\n",
    "import os\n",
    "import warnings\n",
    "warnings.filterwarnings('ignore')"
   ]
  },
  {
   "cell_type": "markdown",
   "metadata": {},
   "source": [
    "# Foursquare"
   ]
  },
  {
   "cell_type": "markdown",
   "metadata": {},
   "source": [
    "Send a request to Foursquare with a small radius (1000m) for all the bike stations in your city of choice. Assuming the average comfortable walking speed below, the radius of 1km should list sites available within a 15min walking distance from each bike station.\n",
    "\n",
    "$$\n",
    "1km * hour/4km \n",
    "$$"
   ]
  },
  {
   "cell_type": "code",
   "execution_count": 2,
   "metadata": {},
   "outputs": [
    {
     "data": {
      "text/plain": [
       "(655, 19)"
      ]
     },
     "execution_count": 2,
     "metadata": {},
     "output_type": "execute_result"
    }
   ],
   "source": [
    "# Import data from file\n",
    "df = pd.read_csv('../data/df_ctybks_toronto.csv')\n",
    "df.shape"
   ]
  },
  {
   "cell_type": "markdown",
   "metadata": {},
   "source": [
    "Create lat and long series from the ctyBks table:"
   ]
  },
  {
   "cell_type": "code",
   "execution_count": 3,
   "metadata": {},
   "outputs": [
    {
     "name": "stdout",
     "output_type": "stream",
     "text": [
      "43.657763,-79.389165\n"
     ]
    }
   ],
   "source": [
    "lat = df['latitude']\n",
    "long = df['longitude']\n",
    "print(f'{lat[5]},{long[5]}')"
   ]
  },
  {
   "cell_type": "code",
   "execution_count": 4,
   "metadata": {},
   "outputs": [],
   "source": [
    "numStns = len(lat)"
   ]
  },
  {
   "cell_type": "code",
   "execution_count": 5,
   "metadata": {},
   "outputs": [],
   "source": [
    "def fsqStationPOI(lat, long):\n",
    "  '''\n",
    "  input:\n",
    "  output:\n",
    "  '''\n",
    "  api_key = os.environ[\"FOURSQUARE_API_KEY\"]\n",
    "  fields = 'fsq_id,name,geocodes,categories,distance,rating,hours,hours_popular,popularity,features'\n",
    "\n",
    "  headers = {\n",
    "      \"accept\": \"application/json\",\n",
    "      \"Authorization\": api_key\n",
    "  }\n",
    "\n",
    "  fsq_url = (f'https://api.foursquare.com/v3/places/search?ll={lat},{long}&fields={fields}&radius=1000&&limit=50')\n",
    "  \n",
    "  fsqStnPOI_json = requests.get(fsq_url, headers=headers).json()\n",
    "\n",
    "  list_of_dict = []\n",
    "  for poi in fsqStnPOI_json['results']:\n",
    "    categories = poi.get('categories', None)\n",
    "    cat_id = categories[0]['id'] if len(categories) > 0 else None\n",
    "    category_name = categories[0]['name'] if len(categories) > 0 else None\n",
    "\n",
    "    poi_dict = {\n",
    "            'lat-long': f'{lat},{long}'\n",
    "          , 'fsq_id': poi['fsq_id']\n",
    "          , 'cat_id': cat_id\n",
    "          , 'category_name': category_name\n",
    "          , 'categories': categories\n",
    "          , 'name': poi.get('name', None)\n",
    "          , 'distance': poi.get('distance', None)\n",
    "          , 'latitude': poi.get('geocodes', {}).get('main', {}).get('latitude', None)\n",
    "          , 'longitude': poi.get('geocodes', {}).get('main', {}).get('longitude', None)\n",
    "          , 'address': poi.get('location', {}).get('formatted_address', None)\n",
    "          , 'popularity': poi.get('popularity', None)\n",
    "          , 'open_now': poi.get('hours', {}).get('open_now', None)\n",
    "          , 'rating': poi.get('rating', None)\n",
    "          , 'rating_count': poi.get('stats', {}).get('total_ratings', None)\n",
    "          , 'my_timestamp': datetime.now()\n",
    "      }\n",
    "      \n",
    "    list_of_dict.append(poi_dict)\n",
    "  return pd.DataFrame(list_of_dict)\n"
   ]
  },
  {
   "cell_type": "code",
   "execution_count": 8,
   "metadata": {},
   "outputs": [
    {
     "name": "stdout",
     "output_type": "stream",
     "text": [
      "43.657763,-79.389165\n"
     ]
    }
   ],
   "source": [
    "print(f'{lat[5]},{long[5]}')"
   ]
  },
  {
   "cell_type": "code",
   "execution_count": 9,
   "metadata": {},
   "outputs": [
    {
     "data": {
      "text/html": [
       "<div>\n",
       "<style scoped>\n",
       "    .dataframe tbody tr th:only-of-type {\n",
       "        vertical-align: middle;\n",
       "    }\n",
       "\n",
       "    .dataframe tbody tr th {\n",
       "        vertical-align: top;\n",
       "    }\n",
       "\n",
       "    .dataframe thead th {\n",
       "        text-align: right;\n",
       "    }\n",
       "</style>\n",
       "<table border=\"1\" class=\"dataframe\">\n",
       "  <thead>\n",
       "    <tr style=\"text-align: right;\">\n",
       "      <th></th>\n",
       "      <th>lat-long</th>\n",
       "      <th>fsq_id</th>\n",
       "      <th>cat_id</th>\n",
       "      <th>category_name</th>\n",
       "      <th>categories</th>\n",
       "      <th>name</th>\n",
       "      <th>distance</th>\n",
       "      <th>latitude</th>\n",
       "      <th>longitude</th>\n",
       "      <th>address</th>\n",
       "      <th>popularity</th>\n",
       "      <th>open_now</th>\n",
       "      <th>rating</th>\n",
       "      <th>rating_count</th>\n",
       "      <th>my_timestamp</th>\n",
       "    </tr>\n",
       "  </thead>\n",
       "  <tbody>\n",
       "    <tr>\n",
       "      <th>0</th>\n",
       "      <td>43.657763,-79.389165</td>\n",
       "      <td>537d4d6d498ec171ba22e7fe</td>\n",
       "      <td>13034</td>\n",
       "      <td>Café</td>\n",
       "      <td>[{'id': 13034, 'name': 'Café', 'icon': {'prefi...</td>\n",
       "      <td>Jimmy's Coffee</td>\n",
       "      <td>294</td>\n",
       "      <td>43.658525</td>\n",
       "      <td>-79.385436</td>\n",
       "      <td>None</td>\n",
       "      <td>0.972089</td>\n",
       "      <td>False</td>\n",
       "      <td>8.5</td>\n",
       "      <td>None</td>\n",
       "      <td>2022-12-03 19:38:44.660853</td>\n",
       "    </tr>\n",
       "  </tbody>\n",
       "</table>\n",
       "</div>"
      ],
      "text/plain": [
       "               lat-long                    fsq_id  cat_id category_name  \\\n",
       "0  43.657763,-79.389165  537d4d6d498ec171ba22e7fe   13034          Café   \n",
       "\n",
       "                                          categories            name  \\\n",
       "0  [{'id': 13034, 'name': 'Café', 'icon': {'prefi...  Jimmy's Coffee   \n",
       "\n",
       "   distance   latitude  longitude address  popularity  open_now  rating  \\\n",
       "0       294  43.658525 -79.385436    None    0.972089     False     8.5   \n",
       "\n",
       "  rating_count               my_timestamp  \n",
       "0         None 2022-12-03 19:38:44.660853  "
      ]
     },
     "execution_count": 9,
     "metadata": {},
     "output_type": "execute_result"
    }
   ],
   "source": [
    "# Test\n",
    "fsqStnPOI_df = fsqStationPOI(lat[5], long[5])\n",
    "fsqStnPOI_df.head(1)"
   ]
  },
  {
   "cell_type": "markdown",
   "metadata": {},
   "source": [
    "Generate a list of DataFrames now for each station site:"
   ]
  },
  {
   "cell_type": "code",
   "execution_count": 137,
   "metadata": {},
   "outputs": [],
   "source": [
    "fsq_dfs_list = []\n",
    "for i in range(numStns):\n",
    "  poi_df = fsqStationPOI(lat[i], long[i])\n",
    "  fsq_dfs_list.append(poi_df)"
   ]
  },
  {
   "cell_type": "markdown",
   "metadata": {},
   "source": [
    "Concatenate the DataFrames to create one large one."
   ]
  },
  {
   "cell_type": "code",
   "execution_count": 226,
   "metadata": {},
   "outputs": [],
   "source": [
    "df_fsq = pd.DataFrame()\n",
    "x = pd.DataFrame()\n",
    "\n",
    "# concatenate full df object of all stn site data:\n",
    "for poi_df in fsq_dfs_list:\n",
    "    x = pd.concat([df_fsq, poi_df])\n",
    "    df_fsq = x"
   ]
  },
  {
   "cell_type": "code",
   "execution_count": 227,
   "metadata": {},
   "outputs": [
    {
     "data": {
      "text/plain": [
       "(32709, 15)"
      ]
     },
     "execution_count": 227,
     "metadata": {},
     "output_type": "execute_result"
    }
   ],
   "source": [
    "df_fsq.shape"
   ]
  },
  {
   "cell_type": "markdown",
   "metadata": {},
   "source": [
    "## Cleaning and Normalizing the nested table values:\n",
    "\n",
    "The function which created the DataFrame made sure that each POI had at least one category name and ID, but we can see above that many have two or even three which can be normalized to flatten the hierarchy."
   ]
  },
  {
   "cell_type": "code",
   "execution_count": 228,
   "metadata": {},
   "outputs": [
    {
     "data": {
      "text/html": [
       "<div>\n",
       "<style scoped>\n",
       "    .dataframe tbody tr th:only-of-type {\n",
       "        vertical-align: middle;\n",
       "    }\n",
       "\n",
       "    .dataframe tbody tr th {\n",
       "        vertical-align: top;\n",
       "    }\n",
       "\n",
       "    .dataframe thead th {\n",
       "        text-align: right;\n",
       "    }\n",
       "</style>\n",
       "<table border=\"1\" class=\"dataframe\">\n",
       "  <thead>\n",
       "    <tr style=\"text-align: right;\">\n",
       "      <th></th>\n",
       "      <th>0</th>\n",
       "      <th>1</th>\n",
       "      <th>2</th>\n",
       "    </tr>\n",
       "  </thead>\n",
       "  <tbody>\n",
       "    <tr>\n",
       "      <th>0</th>\n",
       "      <td>{'id': 17065, 'name': 'Farmers' Market', 'icon...</td>\n",
       "      <td>{'id': 17069, 'name': 'Grocery Store / Superma...</td>\n",
       "      <td>None</td>\n",
       "    </tr>\n",
       "    <tr>\n",
       "      <th>1</th>\n",
       "      <td>{'id': 13035, 'name': 'Coffee Shop', 'icon.pre...</td>\n",
       "      <td>None</td>\n",
       "      <td>None</td>\n",
       "    </tr>\n",
       "    <tr>\n",
       "      <th>2</th>\n",
       "      <td>{'id': 17119, 'name': 'Bicycle Store', 'icon.p...</td>\n",
       "      <td>None</td>\n",
       "      <td>None</td>\n",
       "    </tr>\n",
       "    <tr>\n",
       "      <th>3</th>\n",
       "      <td>{'id': 10039, 'name': 'Music Venue', 'icon.pre...</td>\n",
       "      <td>None</td>\n",
       "      <td>None</td>\n",
       "    </tr>\n",
       "    <tr>\n",
       "      <th>4</th>\n",
       "      <td>{'id': 13011, 'name': 'Gay Bar', 'icon.prefix'...</td>\n",
       "      <td>{'id': 13016, 'name': 'Lounge', 'icon.prefix':...</td>\n",
       "      <td>{'id': 13065, 'name': 'Restaurant', 'icon.pref...</td>\n",
       "    </tr>\n",
       "  </tbody>\n",
       "</table>\n",
       "</div>"
      ],
      "text/plain": [
       "                                                   0  \\\n",
       "0  {'id': 17065, 'name': 'Farmers' Market', 'icon...   \n",
       "1  {'id': 13035, 'name': 'Coffee Shop', 'icon.pre...   \n",
       "2  {'id': 17119, 'name': 'Bicycle Store', 'icon.p...   \n",
       "3  {'id': 10039, 'name': 'Music Venue', 'icon.pre...   \n",
       "4  {'id': 13011, 'name': 'Gay Bar', 'icon.prefix'...   \n",
       "\n",
       "                                                   1  \\\n",
       "0  {'id': 17069, 'name': 'Grocery Store / Superma...   \n",
       "1                                               None   \n",
       "2                                               None   \n",
       "3                                               None   \n",
       "4  {'id': 13016, 'name': 'Lounge', 'icon.prefix':...   \n",
       "\n",
       "                                                   2  \n",
       "0                                               None  \n",
       "1                                               None  \n",
       "2                                               None  \n",
       "3                                               None  \n",
       "4  {'id': 13065, 'name': 'Restaurant', 'icon.pref...  "
      ]
     },
     "execution_count": 228,
     "metadata": {},
     "output_type": "execute_result"
    }
   ],
   "source": [
    "# Normalize the categories:\n",
    "df_fsqcat = pd.json_normalize(df_fsq['categories'][0])\n",
    "df_fsqcat.head()"
   ]
  },
  {
   "cell_type": "code",
   "execution_count": 229,
   "metadata": {},
   "outputs": [
    {
     "data": {
      "text/html": [
       "<div>\n",
       "<style scoped>\n",
       "    .dataframe tbody tr th:only-of-type {\n",
       "        vertical-align: middle;\n",
       "    }\n",
       "\n",
       "    .dataframe tbody tr th {\n",
       "        vertical-align: top;\n",
       "    }\n",
       "\n",
       "    .dataframe thead th {\n",
       "        text-align: right;\n",
       "    }\n",
       "</style>\n",
       "<table border=\"1\" class=\"dataframe\">\n",
       "  <thead>\n",
       "    <tr style=\"text-align: right;\">\n",
       "      <th></th>\n",
       "      <th>id</th>\n",
       "      <th>name</th>\n",
       "      <th>icon.prefix</th>\n",
       "      <th>icon.suffix</th>\n",
       "    </tr>\n",
       "  </thead>\n",
       "  <tbody>\n",
       "    <tr>\n",
       "      <th>0</th>\n",
       "      <td>17065.0</td>\n",
       "      <td>Farmers' Market</td>\n",
       "      <td>https://ss3.4sqi.net/img/categories_v2/shops/f...</td>\n",
       "      <td>.png</td>\n",
       "    </tr>\n",
       "    <tr>\n",
       "      <th>1</th>\n",
       "      <td>13035.0</td>\n",
       "      <td>Coffee Shop</td>\n",
       "      <td>https://ss3.4sqi.net/img/categories_v2/food/co...</td>\n",
       "      <td>.png</td>\n",
       "    </tr>\n",
       "    <tr>\n",
       "      <th>2</th>\n",
       "      <td>17119.0</td>\n",
       "      <td>Bicycle Store</td>\n",
       "      <td>https://ss3.4sqi.net/img/categories_v2/shops/b...</td>\n",
       "      <td>.png</td>\n",
       "    </tr>\n",
       "    <tr>\n",
       "      <th>3</th>\n",
       "      <td>10039.0</td>\n",
       "      <td>Music Venue</td>\n",
       "      <td>https://ss3.4sqi.net/img/categories_v2/arts_en...</td>\n",
       "      <td>.png</td>\n",
       "    </tr>\n",
       "    <tr>\n",
       "      <th>4</th>\n",
       "      <td>13011.0</td>\n",
       "      <td>Gay Bar</td>\n",
       "      <td>https://ss3.4sqi.net/img/categories_v2/nightli...</td>\n",
       "      <td>.png</td>\n",
       "    </tr>\n",
       "  </tbody>\n",
       "</table>\n",
       "</div>"
      ],
      "text/plain": [
       "        id             name  \\\n",
       "0  17065.0  Farmers' Market   \n",
       "1  13035.0      Coffee Shop   \n",
       "2  17119.0    Bicycle Store   \n",
       "3  10039.0      Music Venue   \n",
       "4  13011.0          Gay Bar   \n",
       "\n",
       "                                         icon.prefix icon.suffix  \n",
       "0  https://ss3.4sqi.net/img/categories_v2/shops/f...        .png  \n",
       "1  https://ss3.4sqi.net/img/categories_v2/food/co...        .png  \n",
       "2  https://ss3.4sqi.net/img/categories_v2/shops/b...        .png  \n",
       "3  https://ss3.4sqi.net/img/categories_v2/arts_en...        .png  \n",
       "4  https://ss3.4sqi.net/img/categories_v2/nightli...        .png  "
      ]
     },
     "execution_count": 229,
     "metadata": {},
     "output_type": "execute_result"
    }
   ],
   "source": [
    "# normalize the resulting 3 columns into 3 tables in the example below:\n",
    "df_fsqcat0 = pd.json_normalize(df_fsqcat[0])\n",
    "df_fsqcat1 = pd.json_normalize(df_fsqcat[1])\n",
    "df_fsqcat2 = pd.json_normalize(df_fsqcat[2])\n",
    "df_fsqcat0.head()"
   ]
  },
  {
   "cell_type": "code",
   "execution_count": 230,
   "metadata": {},
   "outputs": [
    {
     "data": {
      "text/html": [
       "<div>\n",
       "<style scoped>\n",
       "    .dataframe tbody tr th:only-of-type {\n",
       "        vertical-align: middle;\n",
       "    }\n",
       "\n",
       "    .dataframe tbody tr th {\n",
       "        vertical-align: top;\n",
       "    }\n",
       "\n",
       "    .dataframe thead th {\n",
       "        text-align: right;\n",
       "    }\n",
       "</style>\n",
       "<table border=\"1\" class=\"dataframe\">\n",
       "  <thead>\n",
       "    <tr style=\"text-align: right;\">\n",
       "      <th></th>\n",
       "      <th>lat-long</th>\n",
       "      <th>fsq_id</th>\n",
       "      <th>name</th>\n",
       "      <th>distance</th>\n",
       "      <th>latitude</th>\n",
       "      <th>longitude</th>\n",
       "      <th>address</th>\n",
       "      <th>popularity</th>\n",
       "      <th>open_now</th>\n",
       "      <th>rating</th>\n",
       "      <th>...</th>\n",
       "      <th>cat1_icon</th>\n",
       "      <th>cat1_icon.suffix</th>\n",
       "      <th>cat2_id</th>\n",
       "      <th>cat2_name</th>\n",
       "      <th>cat2_icon</th>\n",
       "      <th>cat2_icon.suffix</th>\n",
       "      <th>cat3_id</th>\n",
       "      <th>cat3_name</th>\n",
       "      <th>cat3_icon</th>\n",
       "      <th>cat3_icon.suffix</th>\n",
       "    </tr>\n",
       "  </thead>\n",
       "  <tbody>\n",
       "    <tr>\n",
       "      <th>0</th>\n",
       "      <td>43.665269,-79.319796</td>\n",
       "      <td>4deb8ba688774880e3387c0c</td>\n",
       "      <td>Leslieville Farmers Market</td>\n",
       "      <td>40</td>\n",
       "      <td>43.664679</td>\n",
       "      <td>-79.319687</td>\n",
       "      <td>None</td>\n",
       "      <td>0.86858</td>\n",
       "      <td>False</td>\n",
       "      <td>8.6</td>\n",
       "      <td>...</td>\n",
       "      <td>https://ss3.4sqi.net/img/categories_v2/shops/f...</td>\n",
       "      <td>.png</td>\n",
       "      <td>17069</td>\n",
       "      <td>Grocery Store / Supermarket</td>\n",
       "      <td>https://ss3.4sqi.net/img/categories_v2/shops/f...</td>\n",
       "      <td>.png</td>\n",
       "      <td>&lt;NA&gt;</td>\n",
       "      <td>NaN</td>\n",
       "      <td>NaN</td>\n",
       "      <td>NaN</td>\n",
       "    </tr>\n",
       "  </tbody>\n",
       "</table>\n",
       "<p>1 rows × 24 columns</p>\n",
       "</div>"
      ],
      "text/plain": [
       "               lat-long                    fsq_id                        name  \\\n",
       "0  43.665269,-79.319796  4deb8ba688774880e3387c0c  Leslieville Farmers Market   \n",
       "\n",
       "   distance   latitude  longitude address  popularity  open_now rating  ...  \\\n",
       "0        40  43.664679 -79.319687    None     0.86858     False    8.6  ...   \n",
       "\n",
       "                                           cat1_icon cat1_icon.suffix  \\\n",
       "0  https://ss3.4sqi.net/img/categories_v2/shops/f...             .png   \n",
       "\n",
       "   cat2_id                    cat2_name  \\\n",
       "0    17069  Grocery Store / Supermarket   \n",
       "\n",
       "                                           cat2_icon cat2_icon.suffix  \\\n",
       "0  https://ss3.4sqi.net/img/categories_v2/shops/f...             .png   \n",
       "\n",
       "   cat3_id cat3_name cat3_icon cat3_icon.suffix  \n",
       "0     <NA>       NaN       NaN              NaN  \n",
       "\n",
       "[1 rows x 24 columns]"
      ]
     },
     "execution_count": 230,
     "metadata": {},
     "output_type": "execute_result"
    }
   ],
   "source": [
    "# Add new category labels back onto the df: \n",
    "df_fsq['cat1_id'] = (df_fsqcat0['id'].astype('Int64'))\n",
    "df_fsq['cat1_name'] = df_fsqcat0['name']\n",
    "df_fsq['cat1_icon'] = df_fsqcat0['icon.prefix']\n",
    "df_fsq['cat1_icon.suffix'] = df_fsqcat0['icon.suffix']\n",
    "\n",
    "df_fsq['cat2_id'] = df_fsqcat1['id'].astype('Int64')\n",
    "df_fsq['cat2_name'] = df_fsqcat1['name']\n",
    "df_fsq['cat2_icon'] = df_fsqcat1['icon.prefix']\n",
    "df_fsq['cat2_icon.suffix'] = df_fsqcat1['icon.suffix']\n",
    "\n",
    "df_fsq['cat3_id'] = df_fsqcat2['id'].astype('Int64')\n",
    "df_fsq['cat3_name'] = df_fsqcat2['name']\n",
    "df_fsq['cat3_icon'] = df_fsqcat2['icon.prefix']\n",
    "df_fsq['cat3_icon.suffix'] = df_fsqcat2['icon.suffix']\n",
    "\n",
    "# Remove the now redundant 'category' and 'name' columns:\n",
    "df_fsq = df_fsq.drop(['categories', 'category_name', 'cat_id', ], axis = 1)\n",
    "\n",
    "df_fsq.head(1)"
   ]
  },
  {
   "cell_type": "markdown",
   "metadata": {},
   "source": [
    "#### SAVE IT!!"
   ]
  },
  {
   "cell_type": "code",
   "execution_count": 231,
   "metadata": {},
   "outputs": [],
   "source": [
    "df_fsq.to_csv(f'../data/fsqPOI/df_fsq{datetime.now()}.csv', index=False)"
   ]
  },
  {
   "cell_type": "markdown",
   "metadata": {},
   "source": [
    "Parse through the response to get the POI (such as restaurants, bars, etc) details you want (ratings, name, location, etc)\n",
    "\n",
    "### FOURSQUARE POI:"
   ]
  },
  {
   "cell_type": "code",
   "execution_count": 232,
   "metadata": {},
   "outputs": [
    {
     "data": {
      "text/html": [
       "<div>\n",
       "<style scoped>\n",
       "    .dataframe tbody tr th:only-of-type {\n",
       "        vertical-align: middle;\n",
       "    }\n",
       "\n",
       "    .dataframe tbody tr th {\n",
       "        vertical-align: top;\n",
       "    }\n",
       "\n",
       "    .dataframe thead th {\n",
       "        text-align: right;\n",
       "    }\n",
       "</style>\n",
       "<table border=\"1\" class=\"dataframe\">\n",
       "  <thead>\n",
       "    <tr style=\"text-align: right;\">\n",
       "      <th></th>\n",
       "      <th>lat-long</th>\n",
       "      <th>name</th>\n",
       "      <th>distance</th>\n",
       "      <th>latitude</th>\n",
       "      <th>longitude</th>\n",
       "      <th>popularity</th>\n",
       "      <th>open_now</th>\n",
       "      <th>rating</th>\n",
       "      <th>rating_count</th>\n",
       "      <th>my_timestamp</th>\n",
       "      <th>cat1_id</th>\n",
       "      <th>cat1_name</th>\n",
       "      <th>cat2_id</th>\n",
       "      <th>cat2_name</th>\n",
       "      <th>cat3_id</th>\n",
       "      <th>cat3_name</th>\n",
       "    </tr>\n",
       "  </thead>\n",
       "  <tbody>\n",
       "    <tr>\n",
       "      <th>0</th>\n",
       "      <td>43.665269,-79.319796</td>\n",
       "      <td>Leslieville Farmers Market</td>\n",
       "      <td>40</td>\n",
       "      <td>43.664679</td>\n",
       "      <td>-79.319687</td>\n",
       "      <td>0.868580</td>\n",
       "      <td>False</td>\n",
       "      <td>8.6</td>\n",
       "      <td>None</td>\n",
       "      <td>2022-12-04 12:07:13.609094</td>\n",
       "      <td>17065</td>\n",
       "      <td>Farmers' Market</td>\n",
       "      <td>17069</td>\n",
       "      <td>Grocery Store / Supermarket</td>\n",
       "      <td>&lt;NA&gt;</td>\n",
       "      <td>NaN</td>\n",
       "    </tr>\n",
       "    <tr>\n",
       "      <th>1</th>\n",
       "      <td>43.665269,-79.319796</td>\n",
       "      <td>McDonald's</td>\n",
       "      <td>62</td>\n",
       "      <td>43.664993</td>\n",
       "      <td>-79.319222</td>\n",
       "      <td>0.995501</td>\n",
       "      <td>True</td>\n",
       "      <td>7.4</td>\n",
       "      <td>None</td>\n",
       "      <td>2022-12-04 12:07:13.609111</td>\n",
       "      <td>13035</td>\n",
       "      <td>Coffee Shop</td>\n",
       "      <td>&lt;NA&gt;</td>\n",
       "      <td>NaN</td>\n",
       "      <td>&lt;NA&gt;</td>\n",
       "      <td>NaN</td>\n",
       "    </tr>\n",
       "  </tbody>\n",
       "</table>\n",
       "</div>"
      ],
      "text/plain": [
       "               lat-long                        name  distance   latitude  \\\n",
       "0  43.665269,-79.319796  Leslieville Farmers Market        40  43.664679   \n",
       "1  43.665269,-79.319796                  McDonald's        62  43.664993   \n",
       "\n",
       "   longitude  popularity  open_now rating rating_count  \\\n",
       "0 -79.319687    0.868580     False    8.6         None   \n",
       "1 -79.319222    0.995501      True    7.4         None   \n",
       "\n",
       "                my_timestamp  cat1_id        cat1_name  cat2_id  \\\n",
       "0 2022-12-04 12:07:13.609094    17065  Farmers' Market    17069   \n",
       "1 2022-12-04 12:07:13.609111    13035      Coffee Shop     <NA>   \n",
       "\n",
       "                     cat2_name  cat3_id cat3_name  \n",
       "0  Grocery Store / Supermarket     <NA>       NaN  \n",
       "1                          NaN     <NA>       NaN  "
      ]
     },
     "execution_count": 232,
     "metadata": {},
     "output_type": "execute_result"
    }
   ],
   "source": [
    "# Clone a working copy:\n",
    "dff = df_fsq.copy()\n",
    "\n",
    "# Drop columns from our copy df not currently needed:\n",
    "dff = dff.drop(['fsq_id', 'cat1_icon', 'cat2_icon', 'cat3_icon', 'cat1_icon.suffix', 'cat2_icon.suffix', 'cat3_icon.suffix', 'address'], axis = 1)\n",
    "dff.head(2)"
   ]
  },
  {
   "cell_type": "markdown",
   "metadata": {},
   "source": [
    "Convert the timestamp data to the Toronto's time zone:"
   ]
  },
  {
   "cell_type": "code",
   "execution_count": 233,
   "metadata": {},
   "outputs": [],
   "source": [
    "from datetime import datetime\n",
    "import pytz"
   ]
  },
  {
   "cell_type": "code",
   "execution_count": 234,
   "metadata": {},
   "outputs": [
    {
     "name": "stdout",
     "output_type": "stream",
     "text": [
      "2022-12-04 12:07:13.609094\n",
      "2022-12-04 14:07:13.609094-05:00\n"
     ]
    }
   ],
   "source": [
    "# create both timezone objects\n",
    "old_timezone = pytz.timezone(\"US/Mountain\")\n",
    "new_timezone = pytz.timezone(\"US/Eastern\")\n",
    "\n",
    "# Confirm current timezone\n",
    "print(dff['my_timestamp'].iloc[0])\n",
    "\n",
    "# two-step process\n",
    "for i in range(dff.shape[0]):\n",
    "  localized_timestamp = old_timezone.localize(dff['my_timestamp'].iloc[i])\n",
    "  dff['my_timestamp'].iloc[i] = localized_timestamp.astimezone(new_timezone)\n",
    "  dff['my_timestamp'].iloc[i] = localized_timestamp.astimezone(new_timezone)\n",
    "\n",
    "\n",
    "# Has converted to new timezone:\n",
    "print(dff['my_timestamp'].iloc[0])"
   ]
  },
  {
   "cell_type": "markdown",
   "metadata": {},
   "source": [
    "Put your parsed results into a DataFrame"
   ]
  },
  {
   "cell_type": "code",
   "execution_count": 235,
   "metadata": {},
   "outputs": [
    {
     "data": {
      "text/html": [
       "<div>\n",
       "<style scoped>\n",
       "    .dataframe tbody tr th:only-of-type {\n",
       "        vertical-align: middle;\n",
       "    }\n",
       "\n",
       "    .dataframe tbody tr th {\n",
       "        vertical-align: top;\n",
       "    }\n",
       "\n",
       "    .dataframe thead th {\n",
       "        text-align: right;\n",
       "    }\n",
       "</style>\n",
       "<table border=\"1\" class=\"dataframe\">\n",
       "  <thead>\n",
       "    <tr style=\"text-align: right;\">\n",
       "      <th></th>\n",
       "      <th>lat-long</th>\n",
       "      <th>name</th>\n",
       "      <th>distance</th>\n",
       "      <th>latitude</th>\n",
       "      <th>longitude</th>\n",
       "      <th>popularity</th>\n",
       "      <th>open_now</th>\n",
       "      <th>rating</th>\n",
       "      <th>rating_count</th>\n",
       "      <th>my_timestamp</th>\n",
       "      <th>cat1_id</th>\n",
       "      <th>cat1_name</th>\n",
       "      <th>cat2_id</th>\n",
       "      <th>cat2_name</th>\n",
       "      <th>cat3_id</th>\n",
       "      <th>cat3_name</th>\n",
       "    </tr>\n",
       "  </thead>\n",
       "  <tbody>\n",
       "    <tr>\n",
       "      <th>0</th>\n",
       "      <td>43.665269,-79.319796</td>\n",
       "      <td>Leslieville Farmers Market</td>\n",
       "      <td>40</td>\n",
       "      <td>43.664679</td>\n",
       "      <td>-79.319687</td>\n",
       "      <td>0.868580</td>\n",
       "      <td>False</td>\n",
       "      <td>8.6</td>\n",
       "      <td>None</td>\n",
       "      <td>2022-12-04 14:07:13.609094-05:00</td>\n",
       "      <td>17065</td>\n",
       "      <td>Farmers' Market</td>\n",
       "      <td>17069</td>\n",
       "      <td>Grocery Store / Supermarket</td>\n",
       "      <td>&lt;NA&gt;</td>\n",
       "      <td>NaN</td>\n",
       "    </tr>\n",
       "    <tr>\n",
       "      <th>1</th>\n",
       "      <td>43.665269,-79.319796</td>\n",
       "      <td>McDonald's</td>\n",
       "      <td>62</td>\n",
       "      <td>43.664993</td>\n",
       "      <td>-79.319222</td>\n",
       "      <td>0.995501</td>\n",
       "      <td>True</td>\n",
       "      <td>7.4</td>\n",
       "      <td>None</td>\n",
       "      <td>2022-12-04 14:07:13.609111-05:00</td>\n",
       "      <td>13035</td>\n",
       "      <td>Coffee Shop</td>\n",
       "      <td>&lt;NA&gt;</td>\n",
       "      <td>NaN</td>\n",
       "      <td>&lt;NA&gt;</td>\n",
       "      <td>NaN</td>\n",
       "    </tr>\n",
       "    <tr>\n",
       "      <th>2</th>\n",
       "      <td>43.665269,-79.319796</td>\n",
       "      <td>Rorschach Brewing</td>\n",
       "      <td>194</td>\n",
       "      <td>43.663542</td>\n",
       "      <td>-79.319882</td>\n",
       "      <td>0.984511</td>\n",
       "      <td>True</td>\n",
       "      <td>8.3</td>\n",
       "      <td>None</td>\n",
       "      <td>2022-12-04 14:07:13.609117-05:00</td>\n",
       "      <td>17119</td>\n",
       "      <td>Bicycle Store</td>\n",
       "      <td>&lt;NA&gt;</td>\n",
       "      <td>NaN</td>\n",
       "      <td>&lt;NA&gt;</td>\n",
       "      <td>NaN</td>\n",
       "    </tr>\n",
       "    <tr>\n",
       "      <th>3</th>\n",
       "      <td>43.665269,-79.319796</td>\n",
       "      <td>Velotique</td>\n",
       "      <td>186</td>\n",
       "      <td>43.666157</td>\n",
       "      <td>-79.317863</td>\n",
       "      <td>0.968785</td>\n",
       "      <td>True</td>\n",
       "      <td>8.0</td>\n",
       "      <td>None</td>\n",
       "      <td>2022-12-04 14:07:13.609123-05:00</td>\n",
       "      <td>10039</td>\n",
       "      <td>Music Venue</td>\n",
       "      <td>&lt;NA&gt;</td>\n",
       "      <td>NaN</td>\n",
       "      <td>&lt;NA&gt;</td>\n",
       "      <td>NaN</td>\n",
       "    </tr>\n",
       "    <tr>\n",
       "      <th>4</th>\n",
       "      <td>43.665269,-79.319796</td>\n",
       "      <td>Chick-N-Joy</td>\n",
       "      <td>129</td>\n",
       "      <td>43.665121</td>\n",
       "      <td>-79.321347</td>\n",
       "      <td>0.035783</td>\n",
       "      <td>True</td>\n",
       "      <td>6.9</td>\n",
       "      <td>None</td>\n",
       "      <td>2022-12-04 14:07:13.609129-05:00</td>\n",
       "      <td>13011</td>\n",
       "      <td>Gay Bar</td>\n",
       "      <td>13016</td>\n",
       "      <td>Lounge</td>\n",
       "      <td>13065</td>\n",
       "      <td>Restaurant</td>\n",
       "    </tr>\n",
       "    <tr>\n",
       "      <th>5</th>\n",
       "      <td>43.665269,-79.319796</td>\n",
       "      <td>Jonathan Ashbridge Park</td>\n",
       "      <td>63</td>\n",
       "      <td>43.664672</td>\n",
       "      <td>-79.319780</td>\n",
       "      <td>0.952623</td>\n",
       "      <td>False</td>\n",
       "      <td>NaN</td>\n",
       "      <td>None</td>\n",
       "      <td>2022-12-04 14:07:13.609135-05:00</td>\n",
       "      <td>13034</td>\n",
       "      <td>Café</td>\n",
       "      <td>13035</td>\n",
       "      <td>Coffee Shop</td>\n",
       "      <td>13065</td>\n",
       "      <td>Restaurant</td>\n",
       "    </tr>\n",
       "    <tr>\n",
       "      <th>6</th>\n",
       "      <td>43.665269,-79.319796</td>\n",
       "      <td>O Sushi</td>\n",
       "      <td>300</td>\n",
       "      <td>43.666623</td>\n",
       "      <td>-79.316861</td>\n",
       "      <td>0.936468</td>\n",
       "      <td>True</td>\n",
       "      <td>7.4</td>\n",
       "      <td>None</td>\n",
       "      <td>2022-12-04 14:07:13.609140-05:00</td>\n",
       "      <td>17096</td>\n",
       "      <td>Miscellaneous Store</td>\n",
       "      <td>&lt;NA&gt;</td>\n",
       "      <td>NaN</td>\n",
       "      <td>&lt;NA&gt;</td>\n",
       "      <td>NaN</td>\n",
       "    </tr>\n",
       "    <tr>\n",
       "      <th>7</th>\n",
       "      <td>43.665269,-79.319796</td>\n",
       "      <td>Woodbine Park</td>\n",
       "      <td>379</td>\n",
       "      <td>43.662983</td>\n",
       "      <td>-79.312827</td>\n",
       "      <td>0.992987</td>\n",
       "      <td>False</td>\n",
       "      <td>8.2</td>\n",
       "      <td>None</td>\n",
       "      <td>2022-12-04 14:07:13.609145-05:00</td>\n",
       "      <td>13026</td>\n",
       "      <td>BBQ Joint</td>\n",
       "      <td>13289</td>\n",
       "      <td>Korean Restaurant</td>\n",
       "      <td>&lt;NA&gt;</td>\n",
       "      <td>NaN</td>\n",
       "    </tr>\n",
       "    <tr>\n",
       "      <th>8</th>\n",
       "      <td>43.665269,-79.319796</td>\n",
       "      <td>Null</td>\n",
       "      <td>377</td>\n",
       "      <td>43.666781</td>\n",
       "      <td>-79.315436</td>\n",
       "      <td>0.950868</td>\n",
       "      <td>True</td>\n",
       "      <td>8.0</td>\n",
       "      <td>None</td>\n",
       "      <td>2022-12-04 14:07:13.609150-05:00</td>\n",
       "      <td>11064</td>\n",
       "      <td>Hair Salon</td>\n",
       "      <td>&lt;NA&gt;</td>\n",
       "      <td>NaN</td>\n",
       "      <td>&lt;NA&gt;</td>\n",
       "      <td>NaN</td>\n",
       "    </tr>\n",
       "    <tr>\n",
       "      <th>9</th>\n",
       "      <td>43.665269,-79.319796</td>\n",
       "      <td>Lcbo</td>\n",
       "      <td>420</td>\n",
       "      <td>43.666880</td>\n",
       "      <td>-79.314844</td>\n",
       "      <td>0.976800</td>\n",
       "      <td>True</td>\n",
       "      <td>8.3</td>\n",
       "      <td>None</td>\n",
       "      <td>2022-12-04 14:07:13.609155-05:00</td>\n",
       "      <td>13236</td>\n",
       "      <td>Italian Restaurant</td>\n",
       "      <td>13302</td>\n",
       "      <td>Mediterranean Restaurant</td>\n",
       "      <td>13338</td>\n",
       "      <td>Seafood Restaurant</td>\n",
       "    </tr>\n",
       "  </tbody>\n",
       "</table>\n",
       "</div>"
      ],
      "text/plain": [
       "               lat-long                        name  distance   latitude  \\\n",
       "0  43.665269,-79.319796  Leslieville Farmers Market        40  43.664679   \n",
       "1  43.665269,-79.319796                  McDonald's        62  43.664993   \n",
       "2  43.665269,-79.319796           Rorschach Brewing       194  43.663542   \n",
       "3  43.665269,-79.319796                   Velotique       186  43.666157   \n",
       "4  43.665269,-79.319796                 Chick-N-Joy       129  43.665121   \n",
       "5  43.665269,-79.319796     Jonathan Ashbridge Park        63  43.664672   \n",
       "6  43.665269,-79.319796                     O Sushi       300  43.666623   \n",
       "7  43.665269,-79.319796               Woodbine Park       379  43.662983   \n",
       "8  43.665269,-79.319796                        Null       377  43.666781   \n",
       "9  43.665269,-79.319796                        Lcbo       420  43.666880   \n",
       "\n",
       "   longitude  popularity  open_now rating rating_count  \\\n",
       "0 -79.319687    0.868580     False    8.6         None   \n",
       "1 -79.319222    0.995501      True    7.4         None   \n",
       "2 -79.319882    0.984511      True    8.3         None   \n",
       "3 -79.317863    0.968785      True    8.0         None   \n",
       "4 -79.321347    0.035783      True    6.9         None   \n",
       "5 -79.319780    0.952623     False    NaN         None   \n",
       "6 -79.316861    0.936468      True    7.4         None   \n",
       "7 -79.312827    0.992987     False    8.2         None   \n",
       "8 -79.315436    0.950868      True    8.0         None   \n",
       "9 -79.314844    0.976800      True    8.3         None   \n",
       "\n",
       "                       my_timestamp  cat1_id            cat1_name  cat2_id  \\\n",
       "0  2022-12-04 14:07:13.609094-05:00    17065      Farmers' Market    17069   \n",
       "1  2022-12-04 14:07:13.609111-05:00    13035          Coffee Shop     <NA>   \n",
       "2  2022-12-04 14:07:13.609117-05:00    17119        Bicycle Store     <NA>   \n",
       "3  2022-12-04 14:07:13.609123-05:00    10039          Music Venue     <NA>   \n",
       "4  2022-12-04 14:07:13.609129-05:00    13011              Gay Bar    13016   \n",
       "5  2022-12-04 14:07:13.609135-05:00    13034                 Café    13035   \n",
       "6  2022-12-04 14:07:13.609140-05:00    17096  Miscellaneous Store     <NA>   \n",
       "7  2022-12-04 14:07:13.609145-05:00    13026            BBQ Joint    13289   \n",
       "8  2022-12-04 14:07:13.609150-05:00    11064           Hair Salon     <NA>   \n",
       "9  2022-12-04 14:07:13.609155-05:00    13236   Italian Restaurant    13302   \n",
       "\n",
       "                     cat2_name  cat3_id           cat3_name  \n",
       "0  Grocery Store / Supermarket     <NA>                 NaN  \n",
       "1                          NaN     <NA>                 NaN  \n",
       "2                          NaN     <NA>                 NaN  \n",
       "3                          NaN     <NA>                 NaN  \n",
       "4                       Lounge    13065          Restaurant  \n",
       "5                  Coffee Shop    13065          Restaurant  \n",
       "6                          NaN     <NA>                 NaN  \n",
       "7            Korean Restaurant     <NA>                 NaN  \n",
       "8                          NaN     <NA>                 NaN  \n",
       "9     Mediterranean Restaurant    13338  Seafood Restaurant  "
      ]
     },
     "execution_count": 235,
     "metadata": {},
     "output_type": "execute_result"
    }
   ],
   "source": [
    "dff.head(10)"
   ]
  },
  {
   "cell_type": "markdown",
   "metadata": {},
   "source": [
    "# Yelp"
   ]
  },
  {
   "cell_type": "markdown",
   "metadata": {},
   "source": [
    "Send a request to Yelp with a small radius (1000m) for all the bike stations in your city of choice. "
   ]
  },
  {
   "cell_type": "code",
   "execution_count": 165,
   "metadata": {},
   "outputs": [],
   "source": [
    "import requests\n",
    "import os\n",
    "\n",
    "def yelpStationPOI(lat, long):\n",
    "  '''\n",
    "  input:\n",
    "  output:\n",
    "  '''\n",
    "  api_key = os.environ[\"YELP_API_KEY\"]\n",
    "  yelp_url = (f'https://api.yelp.com/v3/businesses/search?latitude={lat}&longitude={long}&radius=1000&limit=50')\n",
    "  payload={}\n",
    "  headers = {\n",
    "      \"accept\": \"application/json\",\n",
    "      \"Authorization\": f'Bearer {api_key}'\n",
    "  }\n",
    "\n",
    "  yelpStnPOI_json = requests.get(yelp_url, headers=headers, data=payload).json()           #Perform get request\n",
    "  \n",
    "  list_of_dict = []\n",
    "  for poi in yelpStnPOI_json['businesses']:\n",
    "    poi_dict = {\n",
    "          'lat-long': f'{lat},{long}'\n",
    "          , 'category_name': poi['categories'][0]['alias']\n",
    "          , 'categories': poi['categories']\n",
    "          , 'name': poi['name']\n",
    "          , 'distance': poi['distance']\n",
    "          , 'latitude': poi['coordinates']['latitude']\n",
    "          , 'longitude': poi['coordinates']['longitude']\n",
    "          , 'address': poi['location']['display_address']\n",
    "          , 'price': poi.get('price', None)\n",
    "          , 'is_closed': poi.get('is_closed')\n",
    "          , 'rating': poi.get('rating')\n",
    "          , 'rating_count': poi.get('review_count')\n",
    "          , 'my_timestamp': datetime.now()\n",
    "      }\n",
    "      \n",
    "    list_of_dict.append(poi_dict)\n",
    "  return pd.DataFrame(list_of_dict)\n"
   ]
  },
  {
   "cell_type": "code",
   "execution_count": 166,
   "metadata": {},
   "outputs": [
    {
     "data": {
      "text/html": [
       "<div>\n",
       "<style scoped>\n",
       "    .dataframe tbody tr th:only-of-type {\n",
       "        vertical-align: middle;\n",
       "    }\n",
       "\n",
       "    .dataframe tbody tr th {\n",
       "        vertical-align: top;\n",
       "    }\n",
       "\n",
       "    .dataframe thead th {\n",
       "        text-align: right;\n",
       "    }\n",
       "</style>\n",
       "<table border=\"1\" class=\"dataframe\">\n",
       "  <thead>\n",
       "    <tr style=\"text-align: right;\">\n",
       "      <th></th>\n",
       "      <th>lat-long</th>\n",
       "      <th>category_name</th>\n",
       "      <th>categories</th>\n",
       "      <th>name</th>\n",
       "      <th>distance</th>\n",
       "      <th>latitude</th>\n",
       "      <th>longitude</th>\n",
       "      <th>address</th>\n",
       "      <th>price</th>\n",
       "      <th>is_closed</th>\n",
       "      <th>rating</th>\n",
       "      <th>rating_count</th>\n",
       "      <th>my_timestamp</th>\n",
       "    </tr>\n",
       "  </thead>\n",
       "  <tbody>\n",
       "    <tr>\n",
       "      <th>0</th>\n",
       "      <td>43.657763,-79.389165</td>\n",
       "      <td>ramen</td>\n",
       "      <td>[{'alias': 'ramen', 'title': 'Ramen'}, {'alias...</td>\n",
       "      <td>Sansotei Ramen</td>\n",
       "      <td>376.064159</td>\n",
       "      <td>43.655</td>\n",
       "      <td>-79.38643</td>\n",
       "      <td>[179 Dundas Street W, Toronto, ON M5G 1Z8, Can...</td>\n",
       "      <td>$$</td>\n",
       "      <td>False</td>\n",
       "      <td>4.0</td>\n",
       "      <td>925</td>\n",
       "      <td>2022-12-04 12:44:09.123808</td>\n",
       "    </tr>\n",
       "  </tbody>\n",
       "</table>\n",
       "</div>"
      ],
      "text/plain": [
       "               lat-long category_name  \\\n",
       "0  43.657763,-79.389165         ramen   \n",
       "\n",
       "                                          categories            name  \\\n",
       "0  [{'alias': 'ramen', 'title': 'Ramen'}, {'alias...  Sansotei Ramen   \n",
       "\n",
       "     distance  latitude  longitude  \\\n",
       "0  376.064159    43.655  -79.38643   \n",
       "\n",
       "                                             address price  is_closed  rating  \\\n",
       "0  [179 Dundas Street W, Toronto, ON M5G 1Z8, Can...    $$      False     4.0   \n",
       "\n",
       "   rating_count               my_timestamp  \n",
       "0           925 2022-12-04 12:44:09.123808  "
      ]
     },
     "execution_count": 166,
     "metadata": {},
     "output_type": "execute_result"
    }
   ],
   "source": [
    "# Test\n",
    "yelpStnPOI_dfTest = yelpStationPOI(lat[5], long[5])\n",
    "yelpStnPOI_dfTest.head(1)"
   ]
  },
  {
   "cell_type": "code",
   "execution_count": 167,
   "metadata": {},
   "outputs": [],
   "source": [
    "yelp_dfs_list = []\n",
    "for i in range(numStns):\n",
    "  poi_df = yelpStationPOI(lat[i], long[i])\n",
    "  yelp_dfs_list.append(poi_df)"
   ]
  },
  {
   "cell_type": "code",
   "execution_count": 168,
   "metadata": {},
   "outputs": [],
   "source": [
    "df_yelp = x = pd.DataFrame()\n",
    "x = x = pd.DataFrame()\n",
    "\n",
    "# concatenate full df object of all stn site data:\n",
    "for poi_df in yelp_dfs_list:\n",
    "    x = pd.concat([df_yelp, poi_df])\n",
    "    df_yelp = x"
   ]
  },
  {
   "cell_type": "code",
   "execution_count": 169,
   "metadata": {},
   "outputs": [
    {
     "data": {
      "text/html": [
       "<div>\n",
       "<style scoped>\n",
       "    .dataframe tbody tr th:only-of-type {\n",
       "        vertical-align: middle;\n",
       "    }\n",
       "\n",
       "    .dataframe tbody tr th {\n",
       "        vertical-align: top;\n",
       "    }\n",
       "\n",
       "    .dataframe thead th {\n",
       "        text-align: right;\n",
       "    }\n",
       "</style>\n",
       "<table border=\"1\" class=\"dataframe\">\n",
       "  <thead>\n",
       "    <tr style=\"text-align: right;\">\n",
       "      <th></th>\n",
       "      <th>lat-long</th>\n",
       "      <th>category_name</th>\n",
       "      <th>categories</th>\n",
       "      <th>name</th>\n",
       "      <th>distance</th>\n",
       "      <th>latitude</th>\n",
       "      <th>longitude</th>\n",
       "      <th>address</th>\n",
       "      <th>price</th>\n",
       "      <th>is_closed</th>\n",
       "      <th>rating</th>\n",
       "      <th>rating_count</th>\n",
       "      <th>my_timestamp</th>\n",
       "    </tr>\n",
       "  </thead>\n",
       "  <tbody>\n",
       "    <tr>\n",
       "      <th>0</th>\n",
       "      <td>43.665269,-79.319796</td>\n",
       "      <td>egyptian</td>\n",
       "      <td>[{'alias': 'egyptian', 'title': 'Egyptian'}, {...</td>\n",
       "      <td>Maha's</td>\n",
       "      <td>1004.992087</td>\n",
       "      <td>43.671670</td>\n",
       "      <td>-79.328530</td>\n",
       "      <td>[226 Greenwood Avenue, Toronto, ON M4L 2R2, Ca...</td>\n",
       "      <td>$$</td>\n",
       "      <td>False</td>\n",
       "      <td>4.0</td>\n",
       "      <td>573</td>\n",
       "      <td>2022-12-04 12:44:12.200920</td>\n",
       "    </tr>\n",
       "    <tr>\n",
       "      <th>1</th>\n",
       "      <td>43.665269,-79.319796</td>\n",
       "      <td>burgers</td>\n",
       "      <td>[{'alias': 'burgers', 'title': 'Burgers'}]</td>\n",
       "      <td>The Burger's Priest</td>\n",
       "      <td>374.238073</td>\n",
       "      <td>43.666700</td>\n",
       "      <td>-79.315585</td>\n",
       "      <td>[1636 Queen Street E, Toronto, ON M4L 1G3, Can...</td>\n",
       "      <td>$$</td>\n",
       "      <td>False</td>\n",
       "      <td>3.5</td>\n",
       "      <td>498</td>\n",
       "      <td>2022-12-04 12:44:12.200939</td>\n",
       "    </tr>\n",
       "    <tr>\n",
       "      <th>2</th>\n",
       "      <td>43.665269,-79.319796</td>\n",
       "      <td>mexican</td>\n",
       "      <td>[{'alias': 'mexican', 'title': 'Mexican'}]</td>\n",
       "      <td>Chino Locos Original</td>\n",
       "      <td>467.122546</td>\n",
       "      <td>43.664482</td>\n",
       "      <td>-79.325501</td>\n",
       "      <td>[4 Greenwood Avenue, Toronto, ON M4L 2P4, Canada]</td>\n",
       "      <td>$</td>\n",
       "      <td>False</td>\n",
       "      <td>4.0</td>\n",
       "      <td>190</td>\n",
       "      <td>2022-12-04 12:44:12.200944</td>\n",
       "    </tr>\n",
       "    <tr>\n",
       "      <th>3</th>\n",
       "      <td>43.665269,-79.319796</td>\n",
       "      <td>halal</td>\n",
       "      <td>[{'alias': 'halal', 'title': 'Halal'}, {'alias...</td>\n",
       "      <td>Lahore Tikka House</td>\n",
       "      <td>787.473798</td>\n",
       "      <td>43.671480</td>\n",
       "      <td>-79.324510</td>\n",
       "      <td>[1365 Gerrard Street E, Toronto, ON M4L 1Z3, C...</td>\n",
       "      <td>$$</td>\n",
       "      <td>False</td>\n",
       "      <td>3.5</td>\n",
       "      <td>537</td>\n",
       "      <td>2022-12-04 12:44:12.200950</td>\n",
       "    </tr>\n",
       "    <tr>\n",
       "      <th>4</th>\n",
       "      <td>43.665269,-79.319796</td>\n",
       "      <td>italian</td>\n",
       "      <td>[{'alias': 'italian', 'title': 'Italian'}, {'a...</td>\n",
       "      <td>Gio Rana's Really Really Nice Restaurant</td>\n",
       "      <td>881.124117</td>\n",
       "      <td>43.663335</td>\n",
       "      <td>-79.330419</td>\n",
       "      <td>[1220 Queen Street East, Toronto, ON M4M 1L7, ...</td>\n",
       "      <td>$$$</td>\n",
       "      <td>False</td>\n",
       "      <td>4.0</td>\n",
       "      <td>227</td>\n",
       "      <td>2022-12-04 12:44:12.200955</td>\n",
       "    </tr>\n",
       "  </tbody>\n",
       "</table>\n",
       "</div>"
      ],
      "text/plain": [
       "               lat-long category_name  \\\n",
       "0  43.665269,-79.319796      egyptian   \n",
       "1  43.665269,-79.319796       burgers   \n",
       "2  43.665269,-79.319796       mexican   \n",
       "3  43.665269,-79.319796         halal   \n",
       "4  43.665269,-79.319796       italian   \n",
       "\n",
       "                                          categories  \\\n",
       "0  [{'alias': 'egyptian', 'title': 'Egyptian'}, {...   \n",
       "1         [{'alias': 'burgers', 'title': 'Burgers'}]   \n",
       "2         [{'alias': 'mexican', 'title': 'Mexican'}]   \n",
       "3  [{'alias': 'halal', 'title': 'Halal'}, {'alias...   \n",
       "4  [{'alias': 'italian', 'title': 'Italian'}, {'a...   \n",
       "\n",
       "                                       name     distance   latitude  \\\n",
       "0                                    Maha's  1004.992087  43.671670   \n",
       "1                       The Burger's Priest   374.238073  43.666700   \n",
       "2                      Chino Locos Original   467.122546  43.664482   \n",
       "3                        Lahore Tikka House   787.473798  43.671480   \n",
       "4  Gio Rana's Really Really Nice Restaurant   881.124117  43.663335   \n",
       "\n",
       "   longitude                                            address price  \\\n",
       "0 -79.328530  [226 Greenwood Avenue, Toronto, ON M4L 2R2, Ca...    $$   \n",
       "1 -79.315585  [1636 Queen Street E, Toronto, ON M4L 1G3, Can...    $$   \n",
       "2 -79.325501  [4 Greenwood Avenue, Toronto, ON M4L 2P4, Canada]     $   \n",
       "3 -79.324510  [1365 Gerrard Street E, Toronto, ON M4L 1Z3, C...    $$   \n",
       "4 -79.330419  [1220 Queen Street East, Toronto, ON M4M 1L7, ...   $$$   \n",
       "\n",
       "   is_closed  rating  rating_count               my_timestamp  \n",
       "0      False     4.0           573 2022-12-04 12:44:12.200920  \n",
       "1      False     3.5           498 2022-12-04 12:44:12.200939  \n",
       "2      False     4.0           190 2022-12-04 12:44:12.200944  \n",
       "3      False     3.5           537 2022-12-04 12:44:12.200950  \n",
       "4      False     4.0           227 2022-12-04 12:44:12.200955  "
      ]
     },
     "execution_count": 169,
     "metadata": {},
     "output_type": "execute_result"
    }
   ],
   "source": [
    "df_yelp.head()"
   ]
  },
  {
   "cell_type": "code",
   "execution_count": 170,
   "metadata": {},
   "outputs": [
    {
     "data": {
      "text/plain": [
       "(30828, 13)"
      ]
     },
     "execution_count": 170,
     "metadata": {},
     "output_type": "execute_result"
    }
   ],
   "source": [
    "df_yelp.shape"
   ]
  },
  {
   "cell_type": "markdown",
   "metadata": {},
   "source": [
    "### SAVE IT!!!"
   ]
  },
  {
   "cell_type": "code",
   "execution_count": 171,
   "metadata": {},
   "outputs": [],
   "source": [
    "df_yelp.to_csv(f'../data/yelpPOI/df_yelp{datetime.now()}.csv', index=False)"
   ]
  },
  {
   "cell_type": "markdown",
   "metadata": {},
   "source": [
    "Parse through the response to get the POI (such as restaurants, bars, etc) details you want (ratings, name, location, etc)\n",
    "\n",
    "## Cleaning and Normalizing the nested table values:\n",
    "\n",
    "### YELP POI:"
   ]
  },
  {
   "cell_type": "markdown",
   "metadata": {},
   "source": [
    "The function which created the DataFrame made sure that each POI had at least one category name and alias, but we can see above that many have two or even three which can be normalized to flatten the hierarchy."
   ]
  },
  {
   "cell_type": "code",
   "execution_count": 173,
   "metadata": {},
   "outputs": [
    {
     "data": {
      "text/html": [
       "<div>\n",
       "<style scoped>\n",
       "    .dataframe tbody tr th:only-of-type {\n",
       "        vertical-align: middle;\n",
       "    }\n",
       "\n",
       "    .dataframe tbody tr th {\n",
       "        vertical-align: top;\n",
       "    }\n",
       "\n",
       "    .dataframe thead th {\n",
       "        text-align: right;\n",
       "    }\n",
       "</style>\n",
       "<table border=\"1\" class=\"dataframe\">\n",
       "  <thead>\n",
       "    <tr style=\"text-align: right;\">\n",
       "      <th></th>\n",
       "      <th>0</th>\n",
       "      <th>1</th>\n",
       "      <th>2</th>\n",
       "    </tr>\n",
       "  </thead>\n",
       "  <tbody>\n",
       "    <tr>\n",
       "      <th>0</th>\n",
       "      <td>{'alias': 'egyptian', 'title': 'Egyptian'}</td>\n",
       "      <td>{'alias': 'vegan', 'title': 'Vegan'}</td>\n",
       "      <td>{'alias': 'sandwiches', 'title': 'Sandwiches'}</td>\n",
       "    </tr>\n",
       "    <tr>\n",
       "      <th>1</th>\n",
       "      <td>{'alias': 'italian', 'title': 'Italian'}</td>\n",
       "      <td>None</td>\n",
       "      <td>None</td>\n",
       "    </tr>\n",
       "    <tr>\n",
       "      <th>2</th>\n",
       "      <td>{'alias': 'burgers', 'title': 'Burgers'}</td>\n",
       "      <td>None</td>\n",
       "      <td>None</td>\n",
       "    </tr>\n",
       "    <tr>\n",
       "      <th>3</th>\n",
       "      <td>{'alias': 'newcanadian', 'title': 'Canadian (N...</td>\n",
       "      <td>None</td>\n",
       "      <td>None</td>\n",
       "    </tr>\n",
       "    <tr>\n",
       "      <th>4</th>\n",
       "      <td>{'alias': 'japanese', 'title': 'Japanese'}</td>\n",
       "      <td>{'alias': 'pubs', 'title': 'Pubs'}</td>\n",
       "      <td>None</td>\n",
       "    </tr>\n",
       "  </tbody>\n",
       "</table>\n",
       "</div>"
      ],
      "text/plain": [
       "                                                   0  \\\n",
       "0         {'alias': 'egyptian', 'title': 'Egyptian'}   \n",
       "1           {'alias': 'italian', 'title': 'Italian'}   \n",
       "2           {'alias': 'burgers', 'title': 'Burgers'}   \n",
       "3  {'alias': 'newcanadian', 'title': 'Canadian (N...   \n",
       "4         {'alias': 'japanese', 'title': 'Japanese'}   \n",
       "\n",
       "                                      1  \\\n",
       "0  {'alias': 'vegan', 'title': 'Vegan'}   \n",
       "1                                  None   \n",
       "2                                  None   \n",
       "3                                  None   \n",
       "4    {'alias': 'pubs', 'title': 'Pubs'}   \n",
       "\n",
       "                                                2  \n",
       "0  {'alias': 'sandwiches', 'title': 'Sandwiches'}  \n",
       "1                                            None  \n",
       "2                                            None  \n",
       "3                                            None  \n",
       "4                                            None  "
      ]
     },
     "execution_count": 173,
     "metadata": {},
     "output_type": "execute_result"
    }
   ],
   "source": [
    "# Clone a working copy:\n",
    "df = df_yelp.copy()\n",
    "\n",
    "# Normalize the categories:\n",
    "dfcat = pd.json_normalize(df['categories'][0])\n",
    "dfcat.head()"
   ]
  },
  {
   "cell_type": "code",
   "execution_count": 174,
   "metadata": {},
   "outputs": [
    {
     "data": {
      "text/html": [
       "<div>\n",
       "<style scoped>\n",
       "    .dataframe tbody tr th:only-of-type {\n",
       "        vertical-align: middle;\n",
       "    }\n",
       "\n",
       "    .dataframe tbody tr th {\n",
       "        vertical-align: top;\n",
       "    }\n",
       "\n",
       "    .dataframe thead th {\n",
       "        text-align: right;\n",
       "    }\n",
       "</style>\n",
       "<table border=\"1\" class=\"dataframe\">\n",
       "  <thead>\n",
       "    <tr style=\"text-align: right;\">\n",
       "      <th></th>\n",
       "      <th>alias</th>\n",
       "      <th>title</th>\n",
       "    </tr>\n",
       "  </thead>\n",
       "  <tbody>\n",
       "    <tr>\n",
       "      <th>0</th>\n",
       "      <td>egyptian</td>\n",
       "      <td>Egyptian</td>\n",
       "    </tr>\n",
       "    <tr>\n",
       "      <th>1</th>\n",
       "      <td>italian</td>\n",
       "      <td>Italian</td>\n",
       "    </tr>\n",
       "    <tr>\n",
       "      <th>2</th>\n",
       "      <td>burgers</td>\n",
       "      <td>Burgers</td>\n",
       "    </tr>\n",
       "    <tr>\n",
       "      <th>3</th>\n",
       "      <td>newcanadian</td>\n",
       "      <td>Canadian (New)</td>\n",
       "    </tr>\n",
       "    <tr>\n",
       "      <th>4</th>\n",
       "      <td>japanese</td>\n",
       "      <td>Japanese</td>\n",
       "    </tr>\n",
       "  </tbody>\n",
       "</table>\n",
       "</div>"
      ],
      "text/plain": [
       "         alias           title\n",
       "0     egyptian        Egyptian\n",
       "1      italian         Italian\n",
       "2      burgers         Burgers\n",
       "3  newcanadian  Canadian (New)\n",
       "4     japanese        Japanese"
      ]
     },
     "execution_count": 174,
     "metadata": {},
     "output_type": "execute_result"
    }
   ],
   "source": [
    "# normalize the resulting 3 columns into 3 tables in the example below:\n",
    "dfcat0 = pd.json_normalize(dfcat[0])\n",
    "dfcat1 = pd.json_normalize(dfcat[1])\n",
    "dfcat2 = pd.json_normalize(dfcat[2])\n",
    "dfcat0.head()"
   ]
  },
  {
   "cell_type": "code",
   "execution_count": 175,
   "metadata": {},
   "outputs": [
    {
     "data": {
      "text/html": [
       "<div>\n",
       "<style scoped>\n",
       "    .dataframe tbody tr th:only-of-type {\n",
       "        vertical-align: middle;\n",
       "    }\n",
       "\n",
       "    .dataframe tbody tr th {\n",
       "        vertical-align: top;\n",
       "    }\n",
       "\n",
       "    .dataframe thead th {\n",
       "        text-align: right;\n",
       "    }\n",
       "</style>\n",
       "<table border=\"1\" class=\"dataframe\">\n",
       "  <thead>\n",
       "    <tr style=\"text-align: right;\">\n",
       "      <th></th>\n",
       "      <th>lat-long</th>\n",
       "      <th>name</th>\n",
       "      <th>distance</th>\n",
       "      <th>latitude</th>\n",
       "      <th>longitude</th>\n",
       "      <th>address</th>\n",
       "      <th>price</th>\n",
       "      <th>is_closed</th>\n",
       "      <th>rating</th>\n",
       "      <th>rating_count</th>\n",
       "      <th>my_timestamp</th>\n",
       "      <th>cat1_alias</th>\n",
       "      <th>cat1_title</th>\n",
       "      <th>cat2_alias</th>\n",
       "      <th>cat2_title</th>\n",
       "      <th>cat3_alias</th>\n",
       "      <th>cat3_title</th>\n",
       "    </tr>\n",
       "  </thead>\n",
       "  <tbody>\n",
       "    <tr>\n",
       "      <th>0</th>\n",
       "      <td>43.665269,-79.319796</td>\n",
       "      <td>Maha's</td>\n",
       "      <td>1004.992087</td>\n",
       "      <td>43.67167</td>\n",
       "      <td>-79.32853</td>\n",
       "      <td>[226 Greenwood Avenue, Toronto, ON M4L 2R2, Ca...</td>\n",
       "      <td>$$</td>\n",
       "      <td>False</td>\n",
       "      <td>4.0</td>\n",
       "      <td>573</td>\n",
       "      <td>2022-12-04 12:44:12.200920</td>\n",
       "      <td>egyptian</td>\n",
       "      <td>Egyptian</td>\n",
       "      <td>vegan</td>\n",
       "      <td>Vegan</td>\n",
       "      <td>sandwiches</td>\n",
       "      <td>Sandwiches</td>\n",
       "    </tr>\n",
       "  </tbody>\n",
       "</table>\n",
       "</div>"
      ],
      "text/plain": [
       "               lat-long    name     distance  latitude  longitude  \\\n",
       "0  43.665269,-79.319796  Maha's  1004.992087  43.67167  -79.32853   \n",
       "\n",
       "                                             address price  is_closed  rating  \\\n",
       "0  [226 Greenwood Avenue, Toronto, ON M4L 2R2, Ca...    $$      False     4.0   \n",
       "\n",
       "   rating_count               my_timestamp cat1_alias cat1_title cat2_alias  \\\n",
       "0           573 2022-12-04 12:44:12.200920   egyptian   Egyptian      vegan   \n",
       "\n",
       "  cat2_title  cat3_alias  cat3_title  \n",
       "0      Vegan  sandwiches  Sandwiches  "
      ]
     },
     "execution_count": 175,
     "metadata": {},
     "output_type": "execute_result"
    }
   ],
   "source": [
    "# Add new category labels back onto the df: \n",
    "df['cat1_alias'] = dfcat0['alias']\n",
    "df['cat1_title'] = dfcat0['title']\n",
    "\n",
    "df['cat2_alias'] = dfcat1['alias']\n",
    "df['cat2_title'] = dfcat1['title']\n",
    "\n",
    "df['cat3_alias'] = dfcat2['alias']\n",
    "df['cat3_title'] = dfcat2['title']\n",
    "\n",
    "# Remove the now redundant 'category' and 'name' columns:\n",
    "df = df.drop(['categories', 'category_name'], axis = 1)\n",
    "\n",
    "df.head(1)"
   ]
  },
  {
   "cell_type": "markdown",
   "metadata": {},
   "source": [
    "the addresses look chunky which diminishes the aesthetic of the table, and I expect this format might be useful for printing them in mailing format.  I won't be using it for my analysis at this point anyway, but I would certainly research this more before I made decisions about changing the format.  \n"
   ]
  },
  {
   "cell_type": "code",
   "execution_count": 176,
   "metadata": {},
   "outputs": [
    {
     "data": {
      "text/html": [
       "<div>\n",
       "<style scoped>\n",
       "    .dataframe tbody tr th:only-of-type {\n",
       "        vertical-align: middle;\n",
       "    }\n",
       "\n",
       "    .dataframe tbody tr th {\n",
       "        vertical-align: top;\n",
       "    }\n",
       "\n",
       "    .dataframe thead th {\n",
       "        text-align: right;\n",
       "    }\n",
       "</style>\n",
       "<table border=\"1\" class=\"dataframe\">\n",
       "  <thead>\n",
       "    <tr style=\"text-align: right;\">\n",
       "      <th></th>\n",
       "      <th>lat-long</th>\n",
       "      <th>name</th>\n",
       "      <th>distance</th>\n",
       "      <th>latitude</th>\n",
       "      <th>longitude</th>\n",
       "      <th>price</th>\n",
       "      <th>is_closed</th>\n",
       "      <th>rating</th>\n",
       "      <th>rating_count</th>\n",
       "      <th>my_timestamp</th>\n",
       "      <th>cat1_title</th>\n",
       "      <th>cat2_title</th>\n",
       "      <th>cat3_title</th>\n",
       "    </tr>\n",
       "  </thead>\n",
       "  <tbody>\n",
       "    <tr>\n",
       "      <th>0</th>\n",
       "      <td>43.665269,-79.319796</td>\n",
       "      <td>Maha's</td>\n",
       "      <td>1004.992087</td>\n",
       "      <td>43.67167</td>\n",
       "      <td>-79.328530</td>\n",
       "      <td>$$</td>\n",
       "      <td>False</td>\n",
       "      <td>4.0</td>\n",
       "      <td>573</td>\n",
       "      <td>2022-12-04 12:44:12.200920</td>\n",
       "      <td>Egyptian</td>\n",
       "      <td>Vegan</td>\n",
       "      <td>Sandwiches</td>\n",
       "    </tr>\n",
       "    <tr>\n",
       "      <th>1</th>\n",
       "      <td>43.665269,-79.319796</td>\n",
       "      <td>The Burger's Priest</td>\n",
       "      <td>374.238073</td>\n",
       "      <td>43.66670</td>\n",
       "      <td>-79.315585</td>\n",
       "      <td>$$</td>\n",
       "      <td>False</td>\n",
       "      <td>3.5</td>\n",
       "      <td>498</td>\n",
       "      <td>2022-12-04 12:44:12.200939</td>\n",
       "      <td>Italian</td>\n",
       "      <td>NaN</td>\n",
       "      <td>NaN</td>\n",
       "    </tr>\n",
       "  </tbody>\n",
       "</table>\n",
       "</div>"
      ],
      "text/plain": [
       "               lat-long                 name     distance  latitude  \\\n",
       "0  43.665269,-79.319796               Maha's  1004.992087  43.67167   \n",
       "1  43.665269,-79.319796  The Burger's Priest   374.238073  43.66670   \n",
       "\n",
       "   longitude price  is_closed  rating  rating_count  \\\n",
       "0 -79.328530    $$      False     4.0           573   \n",
       "1 -79.315585    $$      False     3.5           498   \n",
       "\n",
       "                my_timestamp cat1_title cat2_title  cat3_title  \n",
       "0 2022-12-04 12:44:12.200920   Egyptian      Vegan  Sandwiches  \n",
       "1 2022-12-04 12:44:12.200939    Italian        NaN         NaN  "
      ]
     },
     "execution_count": 176,
     "metadata": {},
     "output_type": "execute_result"
    }
   ],
   "source": [
    "# Drop columns from our copy df not currently needed:\n",
    "df = df.drop(['address', 'cat1_alias', 'cat2_alias', 'cat3_alias'], axis = 1)\n",
    "df.head(2)"
   ]
  },
  {
   "cell_type": "markdown",
   "metadata": {},
   "source": [
    "flip the \"is_closed\" column to remove the confusing double negative, and enable foursquare comparison:"
   ]
  },
  {
   "cell_type": "code",
   "execution_count": 177,
   "metadata": {},
   "outputs": [
    {
     "data": {
      "text/html": [
       "<div>\n",
       "<style scoped>\n",
       "    .dataframe tbody tr th:only-of-type {\n",
       "        vertical-align: middle;\n",
       "    }\n",
       "\n",
       "    .dataframe tbody tr th {\n",
       "        vertical-align: top;\n",
       "    }\n",
       "\n",
       "    .dataframe thead th {\n",
       "        text-align: right;\n",
       "    }\n",
       "</style>\n",
       "<table border=\"1\" class=\"dataframe\">\n",
       "  <thead>\n",
       "    <tr style=\"text-align: right;\">\n",
       "      <th></th>\n",
       "      <th>lat-long</th>\n",
       "      <th>name</th>\n",
       "      <th>distance</th>\n",
       "      <th>latitude</th>\n",
       "      <th>longitude</th>\n",
       "      <th>price</th>\n",
       "      <th>is_open</th>\n",
       "      <th>rating</th>\n",
       "      <th>rating_count</th>\n",
       "      <th>my_timestamp</th>\n",
       "      <th>cat1_title</th>\n",
       "      <th>cat2_title</th>\n",
       "      <th>cat3_title</th>\n",
       "    </tr>\n",
       "  </thead>\n",
       "  <tbody>\n",
       "    <tr>\n",
       "      <th>0</th>\n",
       "      <td>43.665269,-79.319796</td>\n",
       "      <td>Maha's</td>\n",
       "      <td>1004.992087</td>\n",
       "      <td>43.67167</td>\n",
       "      <td>-79.328530</td>\n",
       "      <td>$$</td>\n",
       "      <td>True</td>\n",
       "      <td>4.0</td>\n",
       "      <td>573</td>\n",
       "      <td>2022-12-04 12:44:12.200920</td>\n",
       "      <td>Egyptian</td>\n",
       "      <td>Vegan</td>\n",
       "      <td>Sandwiches</td>\n",
       "    </tr>\n",
       "    <tr>\n",
       "      <th>1</th>\n",
       "      <td>43.665269,-79.319796</td>\n",
       "      <td>The Burger's Priest</td>\n",
       "      <td>374.238073</td>\n",
       "      <td>43.66670</td>\n",
       "      <td>-79.315585</td>\n",
       "      <td>$$</td>\n",
       "      <td>True</td>\n",
       "      <td>3.5</td>\n",
       "      <td>498</td>\n",
       "      <td>2022-12-04 12:44:12.200939</td>\n",
       "      <td>Italian</td>\n",
       "      <td>NaN</td>\n",
       "      <td>NaN</td>\n",
       "    </tr>\n",
       "  </tbody>\n",
       "</table>\n",
       "</div>"
      ],
      "text/plain": [
       "               lat-long                 name     distance  latitude  \\\n",
       "0  43.665269,-79.319796               Maha's  1004.992087  43.67167   \n",
       "1  43.665269,-79.319796  The Burger's Priest   374.238073  43.66670   \n",
       "\n",
       "   longitude price  is_open  rating  rating_count               my_timestamp  \\\n",
       "0 -79.328530    $$     True     4.0           573 2022-12-04 12:44:12.200920   \n",
       "1 -79.315585    $$     True     3.5           498 2022-12-04 12:44:12.200939   \n",
       "\n",
       "  cat1_title cat2_title  cat3_title  \n",
       "0   Egyptian      Vegan  Sandwiches  \n",
       "1    Italian        NaN         NaN  "
      ]
     },
     "execution_count": 177,
     "metadata": {},
     "output_type": "execute_result"
    }
   ],
   "source": [
    "df['is_closed'] = df['is_closed'] == False\n",
    "# Rename the heading to match:\n",
    "df = df.rename(columns = {'is_closed':'is_open'})\n",
    "df.head(2)"
   ]
  },
  {
   "cell_type": "markdown",
   "metadata": {},
   "source": [
    "Convert the timestamp data to the Toronto's time zone:"
   ]
  },
  {
   "cell_type": "code",
   "execution_count": 178,
   "metadata": {},
   "outputs": [],
   "source": [
    "from datetime import datetime\n",
    "import pytz"
   ]
  },
  {
   "cell_type": "code",
   "execution_count": 179,
   "metadata": {},
   "outputs": [
    {
     "data": {
      "text/plain": [
       "Timestamp('2022-12-04 00:09:56.323402-0500', tz='US/Eastern')"
      ]
     },
     "execution_count": 179,
     "metadata": {},
     "output_type": "execute_result"
    }
   ],
   "source": [
    "# create both timezone objects\n",
    "old_timezone = pytz.timezone(\"US/Mountain\")\n",
    "new_timezone = pytz.timezone(\"US/Eastern\")\n",
    "\n",
    "# two-step process\n",
    "localized_timestamp = old_timezone.localize(testdate)\n",
    "new_testdate = localized_timestamp.astimezone(new_timezone)\n",
    "new_testdate"
   ]
  },
  {
   "cell_type": "code",
   "execution_count": 180,
   "metadata": {},
   "outputs": [
    {
     "name": "stdout",
     "output_type": "stream",
     "text": [
      "2022-12-04 12:44:12.200920\n",
      "2022-12-04 14:44:12.200920-05:00\n"
     ]
    }
   ],
   "source": [
    "# create both timezone objects\n",
    "old_timezone = pytz.timezone(\"US/Mountain\")\n",
    "new_timezone = pytz.timezone(\"US/Eastern\")\n",
    "\n",
    "# Confirm current timezone\n",
    "print(df['my_timestamp'].iloc[0])\n",
    "\n",
    "# two-step process\n",
    "for i in range(df.shape[0]):\n",
    "  localized_timestamp = old_timezone.localize(df['my_timestamp'].iloc[i])\n",
    "  df['my_timestamp'].iloc[i] = localized_timestamp.astimezone(new_timezone)\n",
    "  df['my_timestamp'].iloc[i] = localized_timestamp.astimezone(new_timezone)\n",
    "\n",
    "\n",
    "# Has converted to new timezone:\n",
    "print(df['my_timestamp'].iloc[0])"
   ]
  },
  {
   "cell_type": "code",
   "execution_count": 181,
   "metadata": {},
   "outputs": [
    {
     "data": {
      "text/html": [
       "<div>\n",
       "<style scoped>\n",
       "    .dataframe tbody tr th:only-of-type {\n",
       "        vertical-align: middle;\n",
       "    }\n",
       "\n",
       "    .dataframe tbody tr th {\n",
       "        vertical-align: top;\n",
       "    }\n",
       "\n",
       "    .dataframe thead th {\n",
       "        text-align: right;\n",
       "    }\n",
       "</style>\n",
       "<table border=\"1\" class=\"dataframe\">\n",
       "  <thead>\n",
       "    <tr style=\"text-align: right;\">\n",
       "      <th></th>\n",
       "      <th>lat-long</th>\n",
       "      <th>name</th>\n",
       "      <th>distance</th>\n",
       "      <th>latitude</th>\n",
       "      <th>longitude</th>\n",
       "      <th>price</th>\n",
       "      <th>is_open</th>\n",
       "      <th>rating</th>\n",
       "      <th>rating_count</th>\n",
       "      <th>my_timestamp</th>\n",
       "      <th>cat1_title</th>\n",
       "      <th>cat2_title</th>\n",
       "      <th>cat3_title</th>\n",
       "    </tr>\n",
       "  </thead>\n",
       "  <tbody>\n",
       "    <tr>\n",
       "      <th>0</th>\n",
       "      <td>43.665269,-79.319796</td>\n",
       "      <td>Maha's</td>\n",
       "      <td>1005.0</td>\n",
       "      <td>43.67167</td>\n",
       "      <td>-79.328530</td>\n",
       "      <td>$$</td>\n",
       "      <td>True</td>\n",
       "      <td>4.0</td>\n",
       "      <td>573</td>\n",
       "      <td>2022-12-04 14:44:12.200920-05:00</td>\n",
       "      <td>Egyptian</td>\n",
       "      <td>Vegan</td>\n",
       "      <td>Sandwiches</td>\n",
       "    </tr>\n",
       "    <tr>\n",
       "      <th>1</th>\n",
       "      <td>43.665269,-79.319796</td>\n",
       "      <td>The Burger's Priest</td>\n",
       "      <td>374.2</td>\n",
       "      <td>43.66670</td>\n",
       "      <td>-79.315585</td>\n",
       "      <td>$$</td>\n",
       "      <td>True</td>\n",
       "      <td>3.5</td>\n",
       "      <td>498</td>\n",
       "      <td>2022-12-04 14:44:12.200939-05:00</td>\n",
       "      <td>Italian</td>\n",
       "      <td>NaN</td>\n",
       "      <td>NaN</td>\n",
       "    </tr>\n",
       "  </tbody>\n",
       "</table>\n",
       "</div>"
      ],
      "text/plain": [
       "               lat-long                 name  distance  latitude  longitude  \\\n",
       "0  43.665269,-79.319796               Maha's    1005.0  43.67167 -79.328530   \n",
       "1  43.665269,-79.319796  The Burger's Priest     374.2  43.66670 -79.315585   \n",
       "\n",
       "  price  is_open  rating  rating_count                      my_timestamp  \\\n",
       "0    $$     True     4.0           573  2022-12-04 14:44:12.200920-05:00   \n",
       "1    $$     True     3.5           498  2022-12-04 14:44:12.200939-05:00   \n",
       "\n",
       "  cat1_title cat2_title  cat3_title  \n",
       "0   Egyptian      Vegan  Sandwiches  \n",
       "1    Italian        NaN         NaN  "
      ]
     },
     "execution_count": 181,
     "metadata": {},
     "output_type": "execute_result"
    }
   ],
   "source": [
    "df['distance'] = round(df['distance'], 1)\n",
    "df.head(2)"
   ]
  },
  {
   "cell_type": "code",
   "execution_count": 182,
   "metadata": {},
   "outputs": [
    {
     "name": "stdout",
     "output_type": "stream",
     "text": [
      "2022-12-04 14:44:12.200920-05:00\n",
      "2022-12-04\n",
      "14:44:12.200920\n",
      "16\n"
     ]
    }
   ],
   "source": [
    "test = df['my_timestamp'].iloc[0]\n",
    "print(test)\n",
    "print(datetime.date(test))\n",
    "print(datetime.time(test))\n",
    "print(len('2022-12-04 00:09'))"
   ]
  },
  {
   "cell_type": "code",
   "execution_count": null,
   "metadata": {},
   "outputs": [],
   "source": []
  },
  {
   "cell_type": "markdown",
   "metadata": {},
   "source": [
    "##### Categorical encoding: price\n"
   ]
  },
  {
   "cell_type": "code",
   "execution_count": 183,
   "metadata": {},
   "outputs": [
    {
     "name": "stdout",
     "output_type": "stream",
     "text": [
      "$$      16243\n",
      "$        5225\n",
      "$$$      2891\n",
      "$$$$      929\n",
      "Name: price, dtype: int64\n",
      "False    25288\n",
      "True      5540\n",
      "Name: price, dtype: int64\n"
     ]
    },
    {
     "data": {
      "text/plain": [
       "array(['$$', '$', '$$$', None, '$$$$'], dtype=object)"
      ]
     },
     "execution_count": 183,
     "metadata": {},
     "output_type": "execute_result"
    }
   ],
   "source": [
    "print(df['price'].value_counts())\n",
    "print(df['price'].isna().value_counts())\n",
    "df['price'].unique()"
   ]
  },
  {
   "cell_type": "code",
   "execution_count": 184,
   "metadata": {},
   "outputs": [
    {
     "data": {
      "text/plain": [
       "{'$$': 2, '$': 1, '$$$': 3, None: None, '$$$$': 4}"
      ]
     },
     "execution_count": 184,
     "metadata": {},
     "output_type": "execute_result"
    }
   ],
   "source": [
    "# order in array above will be same as the keys,\n",
    "keys = df['price'].unique()\n",
    "# Setting ordinal numerical values to match the order:\n",
    "values = [2, 1, 3, None, 4]\n",
    "price_map = dict(zip(keys, values))\n",
    "price_map"
   ]
  },
  {
   "cell_type": "code",
   "execution_count": 185,
   "metadata": {},
   "outputs": [
    {
     "name": "stdout",
     "output_type": "stream",
     "text": [
      "2.0    16243\n",
      "1.0     5225\n",
      "3.0     2891\n",
      "4.0      929\n",
      "Name: price, dtype: int64\n"
     ]
    },
    {
     "data": {
      "text/html": [
       "<div>\n",
       "<style scoped>\n",
       "    .dataframe tbody tr th:only-of-type {\n",
       "        vertical-align: middle;\n",
       "    }\n",
       "\n",
       "    .dataframe tbody tr th {\n",
       "        vertical-align: top;\n",
       "    }\n",
       "\n",
       "    .dataframe thead th {\n",
       "        text-align: right;\n",
       "    }\n",
       "</style>\n",
       "<table border=\"1\" class=\"dataframe\">\n",
       "  <thead>\n",
       "    <tr style=\"text-align: right;\">\n",
       "      <th></th>\n",
       "      <th>lat-long</th>\n",
       "      <th>name</th>\n",
       "      <th>distance</th>\n",
       "      <th>latitude</th>\n",
       "      <th>longitude</th>\n",
       "      <th>price</th>\n",
       "      <th>is_open</th>\n",
       "      <th>rating</th>\n",
       "      <th>rating_count</th>\n",
       "      <th>my_timestamp</th>\n",
       "      <th>cat1_title</th>\n",
       "      <th>cat2_title</th>\n",
       "      <th>cat3_title</th>\n",
       "    </tr>\n",
       "  </thead>\n",
       "  <tbody>\n",
       "    <tr>\n",
       "      <th>0</th>\n",
       "      <td>43.665269,-79.319796</td>\n",
       "      <td>Maha's</td>\n",
       "      <td>1005.0</td>\n",
       "      <td>43.67167</td>\n",
       "      <td>-79.32853</td>\n",
       "      <td>2.0</td>\n",
       "      <td>True</td>\n",
       "      <td>4.0</td>\n",
       "      <td>573</td>\n",
       "      <td>2022-12-04 14:44:12.200920-05:00</td>\n",
       "      <td>Egyptian</td>\n",
       "      <td>Vegan</td>\n",
       "      <td>Sandwiches</td>\n",
       "    </tr>\n",
       "  </tbody>\n",
       "</table>\n",
       "</div>"
      ],
      "text/plain": [
       "               lat-long    name  distance  latitude  longitude  price  \\\n",
       "0  43.665269,-79.319796  Maha's    1005.0  43.67167  -79.32853    2.0   \n",
       "\n",
       "   is_open  rating  rating_count                      my_timestamp cat1_title  \\\n",
       "0     True     4.0           573  2022-12-04 14:44:12.200920-05:00   Egyptian   \n",
       "\n",
       "  cat2_title  cat3_title  \n",
       "0      Vegan  Sandwiches  "
      ]
     },
     "execution_count": 185,
     "metadata": {},
     "output_type": "execute_result"
    }
   ],
   "source": [
    "# Replace\n",
    "df['price'] = df['price'].map(price_map)\n",
    "# Validate counts unaffected:\n",
    "print(df['price'].value_counts())\n",
    "\n",
    "df.head(1)"
   ]
  },
  {
   "cell_type": "code",
   "execution_count": 186,
   "metadata": {},
   "outputs": [
    {
     "data": {
      "text/plain": [
       "Japanese                     6706\n",
       "Thai                         3617\n",
       "Italian                      3081\n",
       "Breakfast & Brunch           1868\n",
       "Pizza                        1866\n",
       "Seafood                      1847\n",
       "Egyptian                     1278\n",
       "Burgers                      1264\n",
       "Middle Eastern               1229\n",
       "Mexican                      1187\n",
       "Canadian (New)                653\n",
       "Ramen                         652\n",
       "Lounges                       647\n",
       "Sandwiches                    646\n",
       "Tapas/Small Plates            641\n",
       "Vietnamese                    631\n",
       "Ice Cream & Frozen Yogurt     626\n",
       "American (Traditional)        613\n",
       "French                        599\n",
       "Aquariums                     595\n",
       "Steakhouses                   582\n",
       "Name: cat1_title, dtype: int64"
      ]
     },
     "execution_count": 186,
     "metadata": {},
     "output_type": "execute_result"
    }
   ],
   "source": [
    "df['cat1_title'].value_counts()"
   ]
  },
  {
   "cell_type": "code",
   "execution_count": 187,
   "metadata": {},
   "outputs": [
    {
     "data": {
      "text/plain": [
       "43.665269,-79.319796             50\n",
       "43.6926825,-79.441042            50\n",
       "43.6617908,-79.361515            50\n",
       "43.649709,-79.364184             50\n",
       "43.666051,-79.374161             50\n",
       "43.7005976,-79.397345            50\n",
       "43.7029672,-79.3979073           50\n",
       "43.68871,-79.39264               50\n",
       "43.7696262,-79.5025943           50\n",
       "43.76521,-79.491281              50\n",
       "43.707049,-79.40966              50\n",
       "43.711751,-79.378615             50\n",
       "43.732975,-79.40401              50\n",
       "43.660274,-79.398049             50\n",
       "43.696631,-79.297436             50\n",
       "43.650077,-79.391291             50\n",
       "43.6765897,-79.3163022           50\n",
       "43.6535,-79.354068               50\n",
       "43.6704403,-79.45328549999999    50\n",
       "43.6548521,-79.35397680000001    50\n",
       "Name: lat-long, dtype: int64"
      ]
     },
     "execution_count": 187,
     "metadata": {},
     "output_type": "execute_result"
    }
   ],
   "source": [
    "df['lat-long'].value_counts().head(20)"
   ]
  },
  {
   "cell_type": "code",
   "execution_count": null,
   "metadata": {},
   "outputs": [],
   "source": []
  },
  {
   "cell_type": "markdown",
   "metadata": {},
   "source": [
    "Put your parsed results into a DataFrame"
   ]
  },
  {
   "cell_type": "markdown",
   "metadata": {},
   "source": []
  },
  {
   "cell_type": "markdown",
   "metadata": {},
   "source": [
    "# Comparing Results"
   ]
  },
  {
   "cell_type": "markdown",
   "metadata": {},
   "source": [
    "Which API provided you with more complete data? Provide an explanation. "
   ]
  },
  {
   "cell_type": "markdown",
   "metadata": {},
   "source": []
  },
  {
   "cell_type": "markdown",
   "metadata": {},
   "source": [
    "Get the top 10 restaurants according to their rating"
   ]
  },
  {
   "cell_type": "code",
   "execution_count": null,
   "metadata": {},
   "outputs": [],
   "source": []
  }
 ],
 "metadata": {
  "kernelspec": {
   "display_name": "Python 3.10.8 ('base_env')",
   "language": "python",
   "name": "python3"
  },
  "language_info": {
   "codemirror_mode": {
    "name": "ipython",
    "version": 3
   },
   "file_extension": ".py",
   "mimetype": "text/x-python",
   "name": "python",
   "nbconvert_exporter": "python",
   "pygments_lexer": "ipython3",
   "version": "3.10.8"
  },
  "vscode": {
   "interpreter": {
    "hash": "39512f3c2a1741d7f752d45a133d4514127029333ea14bc2f3c6c5e6759b9029"
   }
  }
 },
 "nbformat": 4,
 "nbformat_minor": 4
}
