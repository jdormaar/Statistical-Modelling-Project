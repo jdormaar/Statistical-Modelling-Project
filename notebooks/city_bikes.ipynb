{
 "cells": [
  {
   "cell_type": "markdown",
   "metadata": {},
   "source": [
    "# # W3P2 - PART2 - city_bikes\n",
    "\n",
    "assignment file part 1 \n",
    "\n",
    "----\n",
    "# CityBikes"
   ]
  },
  {
   "cell_type": "code",
   "execution_count": 1,
   "metadata": {},
   "outputs": [],
   "source": [
    "import requests\n",
    "import pandas as pd\n",
    "import json"
   ]
  },
  {
   "cell_type": "markdown",
   "metadata": {},
   "source": [
    "Starting with a broad search of all of the available cities:\n",
    "According to the [citybik.es](https://citybik.es/) home page, there are only 6 Canadian cities to choose from:  \n",
    "\n",
    "<img src=../images/citybik.es%20CA%20and%20US%20cities.png alt=../images/citybik.es%20CA%20and%20US%20cities.png width=\"800\"/>\n"
   ]
  },
  {
   "cell_type": "markdown",
   "metadata": {},
   "source": [
    "Test queries on the API:"
   ]
  },
  {
   "cell_type": "code",
   "execution_count": 38,
   "metadata": {},
   "outputs": [],
   "source": [
    "ctyBks = requests.get('https://api.citybik.es/v2/networks').json()"
   ]
  },
  {
   "cell_type": "code",
   "execution_count": 40,
   "metadata": {},
   "outputs": [
    {
     "data": {
      "text/plain": [
       "{'company': ['BCycle, LLC'],\n",
       " 'gbfs_href': 'https://gbfs.bcycle.com/bcycle_bublr/gbfs.json',\n",
       " 'href': '/v2/networks/bublr-bikes',\n",
       " 'id': 'bublr-bikes',\n",
       " 'location': {'city': 'Milwaukee, WI',\n",
       "  'country': 'US',\n",
       "  'latitude': 43.0369,\n",
       "  'longitude': -87.89667},\n",
       " 'name': 'Bublr Bikes'}"
      ]
     },
     "execution_count": 40,
     "metadata": {},
     "output_type": "execute_result"
    }
   ],
   "source": [
    "ctyBks['networks'][100]"
   ]
  },
  {
   "cell_type": "code",
   "execution_count": 58,
   "metadata": {},
   "outputs": [
    {
     "name": "stdout",
     "output_type": "stream",
     "text": [
      "614\n"
     ]
    }
   ],
   "source": [
    "# Number of total Networks:\n",
    "print(len(ctyBks['networks']))\n",
    "\n",
    "num_of_networks = len(ctyBks['networks'])"
   ]
  },
  {
   "cell_type": "markdown",
   "metadata": {},
   "source": [
    "_Test country and city locations in json file:_"
   ]
  },
  {
   "cell_type": "code",
   "execution_count": 59,
   "metadata": {},
   "outputs": [
    {
     "data": {
      "text/plain": [
       "'RU'"
      ]
     },
     "execution_count": 59,
     "metadata": {},
     "output_type": "execute_result"
    }
   ],
   "source": [
    "ctyBks['networks'][0]['location']['country']"
   ]
  },
  {
   "cell_type": "markdown",
   "metadata": {},
   "source": [
    "_Make sure my df-building plan is really a thing using simple example first:_"
   ]
  },
  {
   "cell_type": "code",
   "execution_count": 52,
   "metadata": {},
   "outputs": [
    {
     "name": "stdout",
     "output_type": "stream",
     "text": [
      "[{'a': 100, 'b': 100}, {'a': 220, 'b': 220}, {'a': 330, 'b': 330}]\n"
     ]
    },
    {
     "data": {
      "text/html": [
       "<div>\n",
       "<style scoped>\n",
       "    .dataframe tbody tr th:only-of-type {\n",
       "        vertical-align: middle;\n",
       "    }\n",
       "\n",
       "    .dataframe tbody tr th {\n",
       "        vertical-align: top;\n",
       "    }\n",
       "\n",
       "    .dataframe thead th {\n",
       "        text-align: right;\n",
       "    }\n",
       "</style>\n",
       "<table border=\"1\" class=\"dataframe\">\n",
       "  <thead>\n",
       "    <tr style=\"text-align: right;\">\n",
       "      <th></th>\n",
       "      <th>a</th>\n",
       "      <th>b</th>\n",
       "    </tr>\n",
       "  </thead>\n",
       "  <tbody>\n",
       "    <tr>\n",
       "      <th>0</th>\n",
       "      <td>100</td>\n",
       "      <td>100</td>\n",
       "    </tr>\n",
       "    <tr>\n",
       "      <th>1</th>\n",
       "      <td>220</td>\n",
       "      <td>220</td>\n",
       "    </tr>\n",
       "    <tr>\n",
       "      <th>2</th>\n",
       "      <td>330</td>\n",
       "      <td>330</td>\n",
       "    </tr>\n",
       "  </tbody>\n",
       "</table>\n",
       "</div>"
      ],
      "text/plain": [
       "     a    b\n",
       "0  100  100\n",
       "1  220  220\n",
       "2  330  330"
      ]
     },
     "execution_count": 52,
     "metadata": {},
     "output_type": "execute_result"
    }
   ],
   "source": [
    "test1 = [{'a': 100, 'b': 100}]\n",
    "test2 = [{'a': 220, 'b': 220}]\n",
    "test3 = [{'a': 330, 'b': 330}]\n",
    "fulltest = []\n",
    "\n",
    "fulltest.extend(test1)\n",
    "fulltest.extend(test2)\n",
    "fulltest.extend(test3)\n",
    "\n",
    "print(fulltest)\n",
    "testdf = pd.DataFrame(fulltest)\n",
    "testdf"
   ]
  },
  {
   "cell_type": "code",
   "execution_count": 110,
   "metadata": {},
   "outputs": [
    {
     "data": {
      "text/html": [
       "<div>\n",
       "<style scoped>\n",
       "    .dataframe tbody tr th:only-of-type {\n",
       "        vertical-align: middle;\n",
       "    }\n",
       "\n",
       "    .dataframe tbody tr th {\n",
       "        vertical-align: top;\n",
       "    }\n",
       "\n",
       "    .dataframe thead th {\n",
       "        text-align: right;\n",
       "    }\n",
       "</style>\n",
       "<table border=\"1\" class=\"dataframe\">\n",
       "  <thead>\n",
       "    <tr style=\"text-align: right;\">\n",
       "      <th></th>\n",
       "      <th>city</th>\n",
       "      <th>country</th>\n",
       "      <th>id</th>\n",
       "    </tr>\n",
       "  </thead>\n",
       "  <tbody>\n",
       "    <tr>\n",
       "      <th>0</th>\n",
       "      <td>Moscow</td>\n",
       "      <td>RU</td>\n",
       "      <td>velobike-moscow</td>\n",
       "    </tr>\n",
       "    <tr>\n",
       "      <th>1</th>\n",
       "      <td>Bærum</td>\n",
       "      <td>NO</td>\n",
       "      <td>baerum-bysykkel</td>\n",
       "    </tr>\n",
       "    <tr>\n",
       "      <th>2</th>\n",
       "      <td>Siena</td>\n",
       "      <td>IT</td>\n",
       "      <td>bicincitta-siena</td>\n",
       "    </tr>\n",
       "    <tr>\n",
       "      <th>3</th>\n",
       "      <td>Maroussi</td>\n",
       "      <td>GR</td>\n",
       "      <td>cyclopolis-maroussi</td>\n",
       "    </tr>\n",
       "    <tr>\n",
       "      <th>4</th>\n",
       "      <td>Slough</td>\n",
       "      <td>GB</td>\n",
       "      <td>cycle-hire-slough</td>\n",
       "    </tr>\n",
       "    <tr>\n",
       "      <th>5</th>\n",
       "      <td>Maroussi</td>\n",
       "      <td>GR</td>\n",
       "      <td>cyclopolis-nafplio</td>\n",
       "    </tr>\n",
       "    <tr>\n",
       "      <th>6</th>\n",
       "      <td>Parco dei Colli di Bergamo</td>\n",
       "      <td>IT</td>\n",
       "      <td>bicincitta-parco-dei-colli-di-bergamo</td>\n",
       "    </tr>\n",
       "    <tr>\n",
       "      <th>7</th>\n",
       "      <td>Maroussi</td>\n",
       "      <td>GR</td>\n",
       "      <td>cyclopolis-aigialeia</td>\n",
       "    </tr>\n",
       "    <tr>\n",
       "      <th>8</th>\n",
       "      <td>Marathon</td>\n",
       "      <td>GR</td>\n",
       "      <td>cyclopolis-marathon</td>\n",
       "    </tr>\n",
       "    <tr>\n",
       "      <th>9</th>\n",
       "      <td>Mantova</td>\n",
       "      <td>IT</td>\n",
       "      <td>bicincitta-mantova</td>\n",
       "    </tr>\n",
       "  </tbody>\n",
       "</table>\n",
       "</div>"
      ],
      "text/plain": [
       "                         city country                                     id\n",
       "0                      Moscow      RU                        velobike-moscow\n",
       "1                       Bærum      NO                        baerum-bysykkel\n",
       "2                       Siena      IT                       bicincitta-siena\n",
       "3                    Maroussi      GR                    cyclopolis-maroussi\n",
       "4                      Slough      GB                      cycle-hire-slough\n",
       "5                    Maroussi      GR                     cyclopolis-nafplio\n",
       "6  Parco dei Colli di Bergamo      IT  bicincitta-parco-dei-colli-di-bergamo\n",
       "7                    Maroussi      GR                   cyclopolis-aigialeia\n",
       "8                    Marathon      GR                    cyclopolis-marathon\n",
       "9                     Mantova      IT                     bicincitta-mantova"
      ]
     },
     "execution_count": 110,
     "metadata": {},
     "output_type": "execute_result"
    }
   ],
   "source": [
    "ctyBks_services = []\n",
    "for i in range(num_of_networks): \n",
    "    city = ctyBks['networks'][i]['location']['city']\n",
    "    country = ctyBks['networks'][i]['location']['country']\n",
    "    id = ctyBks['networks'][i]['id']\n",
    "    \n",
    "    ctyBks_services.extend([{'city': city, 'country': country, 'id': id}])\n",
    "\n",
    "ctyBksServiceSites = pd.DataFrame(ctyBks_services)\n",
    "ctyBksServiceSites.head(10)"
   ]
  },
  {
   "cell_type": "code",
   "execution_count": 71,
   "metadata": {},
   "outputs": [
    {
     "data": {
      "text/html": [
       "<div>\n",
       "<style scoped>\n",
       "    .dataframe tbody tr th:only-of-type {\n",
       "        vertical-align: middle;\n",
       "    }\n",
       "\n",
       "    .dataframe tbody tr th {\n",
       "        vertical-align: top;\n",
       "    }\n",
       "\n",
       "    .dataframe thead th {\n",
       "        text-align: right;\n",
       "    }\n",
       "</style>\n",
       "<table border=\"1\" class=\"dataframe\">\n",
       "  <thead>\n",
       "    <tr style=\"text-align: right;\">\n",
       "      <th></th>\n",
       "      <th>city</th>\n",
       "    </tr>\n",
       "    <tr>\n",
       "      <th>country</th>\n",
       "      <th></th>\n",
       "    </tr>\n",
       "  </thead>\n",
       "  <tbody>\n",
       "    <tr>\n",
       "      <th>IT</th>\n",
       "      <td>123</td>\n",
       "    </tr>\n",
       "    <tr>\n",
       "      <th>DE</th>\n",
       "      <td>73</td>\n",
       "    </tr>\n",
       "    <tr>\n",
       "      <th>PL</th>\n",
       "      <td>55</td>\n",
       "    </tr>\n",
       "    <tr>\n",
       "      <th>US</th>\n",
       "      <td>52</td>\n",
       "    </tr>\n",
       "    <tr>\n",
       "      <th>FR</th>\n",
       "      <td>42</td>\n",
       "    </tr>\n",
       "    <tr>\n",
       "      <th>HR</th>\n",
       "      <td>28</td>\n",
       "    </tr>\n",
       "    <tr>\n",
       "      <th>CZ</th>\n",
       "      <td>26</td>\n",
       "    </tr>\n",
       "    <tr>\n",
       "      <th>ES</th>\n",
       "      <td>26</td>\n",
       "    </tr>\n",
       "    <tr>\n",
       "      <th>GR</th>\n",
       "      <td>26</td>\n",
       "    </tr>\n",
       "    <tr>\n",
       "      <th>CH</th>\n",
       "      <td>20</td>\n",
       "    </tr>\n",
       "  </tbody>\n",
       "</table>\n",
       "</div>"
      ],
      "text/plain": [
       "         city\n",
       "country      \n",
       "IT        123\n",
       "DE         73\n",
       "PL         55\n",
       "US         52\n",
       "FR         42\n",
       "HR         28\n",
       "CZ         26\n",
       "ES         26\n",
       "GR         26\n",
       "CH         20"
      ]
     },
     "execution_count": 71,
     "metadata": {},
     "output_type": "execute_result"
    }
   ],
   "source": [
    "ctyBks_allCCodes = ctyBksServiceSites[['country', 'city']].groupby(['country']).count().sort_values('city', ascending=False)\n",
    "ctyBks_allCCodes.head(10)"
   ]
  },
  {
   "cell_type": "markdown",
   "metadata": {},
   "source": [
    "Collect only CA sites:"
   ]
  },
  {
   "cell_type": "code",
   "execution_count": 60,
   "metadata": {},
   "outputs": [],
   "source": [
    "ctyBks_CA = []\n",
    "for i in range(num_of_networks):\n",
    "  if ctyBks['networks'][i]['location']['country'] == 'CA':\n",
    "    \n",
    "    ctyBks_CA.append(ctyBks['networks'][i])\n"
   ]
  },
  {
   "cell_type": "code",
   "execution_count": 68,
   "metadata": {},
   "outputs": [
    {
     "name": "stdout",
     "output_type": "stream",
     "text": [
      "6\n"
     ]
    },
    {
     "data": {
      "text/plain": [
       "{'company': ['Motivate International, Inc.', 'PBSC Urban Solutions'],\n",
       " 'gbfs_href': 'https://tor.publicbikesystem.net/ube/gbfs/v1/',\n",
       " 'href': '/v2/networks/bixi-toronto',\n",
       " 'id': 'bixi-toronto',\n",
       " 'location': {'city': 'Toronto, ON',\n",
       "  'country': 'CA',\n",
       "  'latitude': 43.653226,\n",
       "  'longitude': -79.3831843},\n",
       " 'name': 'Bike Share Toronto'}"
      ]
     },
     "execution_count": 68,
     "metadata": {},
     "output_type": "execute_result"
    }
   ],
   "source": [
    "print(len(ctyBks_CA))\n",
    "ctyBks_CA[1]"
   ]
  },
  {
   "cell_type": "code",
   "execution_count": 20,
   "metadata": {},
   "outputs": [],
   "source": [
    "canadian_ntwrks = []\n",
    "for i in range(num_of_networks):\n",
    "  if ctyBks['networks'][i]['location']['country'] == 'CA':\n",
    "    \n",
    "    canadian_ntwrks.append(ctyBks['networks'][i])\n"
   ]
  },
  {
   "cell_type": "code",
   "execution_count": 72,
   "metadata": {},
   "outputs": [
    {
     "name": "stdout",
     "output_type": "stream",
     "text": [
      "6\n",
      "Montréal, QC\n",
      "Toronto, ON\n",
      "Hamilton, ON\n",
      "Vancouver\n",
      "Québec\n",
      "Saguenay\n"
     ]
    }
   ],
   "source": [
    "print(len(canadian_ntwrks))\n",
    "for i in range(6):\n",
    "  print(canadian_ntwrks[i]['location']['city'])"
   ]
  },
  {
   "cell_type": "markdown",
   "metadata": {},
   "source": [
    "Still only 6."
   ]
  },
  {
   "cell_type": "markdown",
   "metadata": {},
   "source": [
    "### Put it all together into a function:"
   ]
  },
  {
   "cell_type": "code",
   "execution_count": 74,
   "metadata": {},
   "outputs": [],
   "source": [
    "def ctyBksCityCountry_df(CCode):\n",
    "\n",
    "  ctyBks = requests.get('https://api.citybik.es/v2/networks').json()\n",
    "  num_of_networks = len(ctyBks['networks'])\n",
    "\n",
    "  ctyBks_CCode = []\n",
    "  for i in range(num_of_networks):\n",
    "    if ctyBks['networks'][i]['location']['country'] == CCode:\n",
    "  \n",
    "      city = ctyBks['networks'][i]['location']['city']\n",
    "      country = ctyBks['networks'][i]['location']['country']\n",
    "      id = ctyBks['networks'][i]['id']\n",
    "      \n",
    "      ctyBks_CCode.extend([{'city': city, 'country': country, 'id': id}])\n",
    "\n",
    "  ctyBks_CCode_sites = pd.DataFrame(ctyBks_CCode).sort_values('city')\n",
    "  return ctyBks_CCode_sites"
   ]
  },
  {
   "cell_type": "markdown",
   "metadata": {},
   "source": [
    "Try a Couple other Countries:"
   ]
  },
  {
   "cell_type": "code",
   "execution_count": 82,
   "metadata": {},
   "outputs": [
    {
     "data": {
      "text/html": [
       "<div>\n",
       "<style scoped>\n",
       "    .dataframe tbody tr th:only-of-type {\n",
       "        vertical-align: middle;\n",
       "    }\n",
       "\n",
       "    .dataframe tbody tr th {\n",
       "        vertical-align: top;\n",
       "    }\n",
       "\n",
       "    .dataframe thead th {\n",
       "        text-align: right;\n",
       "    }\n",
       "</style>\n",
       "<table border=\"1\" class=\"dataframe\">\n",
       "  <thead>\n",
       "    <tr style=\"text-align: right;\">\n",
       "      <th></th>\n",
       "      <th>city</th>\n",
       "      <th>country</th>\n",
       "      <th>id</th>\n",
       "    </tr>\n",
       "  </thead>\n",
       "  <tbody>\n",
       "    <tr>\n",
       "      <th>0</th>\n",
       "      <td>Cork</td>\n",
       "      <td>IE</td>\n",
       "      <td>cork</td>\n",
       "    </tr>\n",
       "    <tr>\n",
       "      <th>3</th>\n",
       "      <td>Dublin</td>\n",
       "      <td>IE</td>\n",
       "      <td>dublinbikes</td>\n",
       "    </tr>\n",
       "    <tr>\n",
       "      <th>2</th>\n",
       "      <td>Galway</td>\n",
       "      <td>IE</td>\n",
       "      <td>galway</td>\n",
       "    </tr>\n",
       "    <tr>\n",
       "      <th>1</th>\n",
       "      <td>Limerick</td>\n",
       "      <td>IE</td>\n",
       "      <td>limerick</td>\n",
       "    </tr>\n",
       "  </tbody>\n",
       "</table>\n",
       "</div>"
      ],
      "text/plain": [
       "       city country           id\n",
       "0      Cork      IE         cork\n",
       "3    Dublin      IE  dublinbikes\n",
       "2    Galway      IE       galway\n",
       "1  Limerick      IE     limerick"
      ]
     },
     "execution_count": 82,
     "metadata": {},
     "output_type": "execute_result"
    }
   ],
   "source": [
    "# I've always dreamed about travelling to Ireland!!\n",
    "Ireland = ctyBksCityCountry_df('IE')\n",
    "Ireland.head(5)"
   ]
  },
  {
   "cell_type": "code",
   "execution_count": 81,
   "metadata": {},
   "outputs": [
    {
     "data": {
      "text/html": [
       "<div>\n",
       "<style scoped>\n",
       "    .dataframe tbody tr th:only-of-type {\n",
       "        vertical-align: middle;\n",
       "    }\n",
       "\n",
       "    .dataframe tbody tr th {\n",
       "        vertical-align: top;\n",
       "    }\n",
       "\n",
       "    .dataframe thead th {\n",
       "        text-align: right;\n",
       "    }\n",
       "</style>\n",
       "<table border=\"1\" class=\"dataframe\">\n",
       "  <thead>\n",
       "    <tr style=\"text-align: right;\">\n",
       "      <th></th>\n",
       "      <th>city</th>\n",
       "      <th>country</th>\n",
       "      <th>id</th>\n",
       "    </tr>\n",
       "  </thead>\n",
       "  <tbody>\n",
       "    <tr>\n",
       "      <th>1</th>\n",
       "      <td>Dordrecht</td>\n",
       "      <td>NL</td>\n",
       "      <td>nextbike-dordrecht</td>\n",
       "    </tr>\n",
       "    <tr>\n",
       "      <th>0</th>\n",
       "      <td>Wageningen</td>\n",
       "      <td>NL</td>\n",
       "      <td>cykl</td>\n",
       "    </tr>\n",
       "  </tbody>\n",
       "</table>\n",
       "</div>"
      ],
      "text/plain": [
       "         city country                  id\n",
       "1   Dordrecht      NL  nextbike-dordrecht\n",
       "0  Wageningen      NL                cykl"
      ]
     },
     "execution_count": 81,
     "metadata": {},
     "output_type": "execute_result"
    }
   ],
   "source": [
    "# I have family in Netherland:\n",
    "Netherland = ctyBksCityCountry_df('NL')\n",
    "Netherland.head(5)"
   ]
  },
  {
   "cell_type": "code",
   "execution_count": 77,
   "metadata": {},
   "outputs": [
    {
     "data": {
      "text/html": [
       "<div>\n",
       "<style scoped>\n",
       "    .dataframe tbody tr th:only-of-type {\n",
       "        vertical-align: middle;\n",
       "    }\n",
       "\n",
       "    .dataframe tbody tr th {\n",
       "        vertical-align: top;\n",
       "    }\n",
       "\n",
       "    .dataframe thead th {\n",
       "        text-align: right;\n",
       "    }\n",
       "</style>\n",
       "<table border=\"1\" class=\"dataframe\">\n",
       "  <thead>\n",
       "    <tr style=\"text-align: right;\">\n",
       "      <th></th>\n",
       "      <th>city</th>\n",
       "      <th>country</th>\n",
       "      <th>id</th>\n",
       "    </tr>\n",
       "  </thead>\n",
       "  <tbody>\n",
       "    <tr>\n",
       "      <th>25</th>\n",
       "      <td>Athens</td>\n",
       "      <td>GR</td>\n",
       "      <td>athens-bikes</td>\n",
       "    </tr>\n",
       "    <tr>\n",
       "      <th>11</th>\n",
       "      <td>Didymoteicho</td>\n",
       "      <td>GR</td>\n",
       "      <td>easybike-didymoteicho</td>\n",
       "    </tr>\n",
       "    <tr>\n",
       "      <th>9</th>\n",
       "      <td>Florina</td>\n",
       "      <td>GR</td>\n",
       "      <td>cyclopolis-florina</td>\n",
       "    </tr>\n",
       "    <tr>\n",
       "      <th>12</th>\n",
       "      <td>Glyfada</td>\n",
       "      <td>GR</td>\n",
       "      <td>easybike-glyfada</td>\n",
       "    </tr>\n",
       "    <tr>\n",
       "      <th>13</th>\n",
       "      <td>Igoumenitsa</td>\n",
       "      <td>GR</td>\n",
       "      <td>easybike-igoumenitsa</td>\n",
       "    </tr>\n",
       "  </tbody>\n",
       "</table>\n",
       "</div>"
      ],
      "text/plain": [
       "            city country                     id\n",
       "25        Athens      GR           athens-bikes\n",
       "11  Didymoteicho      GR  easybike-didymoteicho\n",
       "9        Florina      GR     cyclopolis-florina\n",
       "12       Glyfada      GR       easybike-glyfada\n",
       "13   Igoumenitsa      GR   easybike-igoumenitsa"
      ]
     },
     "execution_count": 77,
     "metadata": {},
     "output_type": "execute_result"
    }
   ],
   "source": [
    "# Hercules is cool:\n",
    "Greece = ctyBksCityCountry_df('GR')\n",
    "Greece.head(5)"
   ]
  },
  {
   "cell_type": "code",
   "execution_count": 227,
   "metadata": {},
   "outputs": [
    {
     "data": {
      "text/html": [
       "<div>\n",
       "<style scoped>\n",
       "    .dataframe tbody tr th:only-of-type {\n",
       "        vertical-align: middle;\n",
       "    }\n",
       "\n",
       "    .dataframe tbody tr th {\n",
       "        vertical-align: top;\n",
       "    }\n",
       "\n",
       "    .dataframe thead th {\n",
       "        text-align: right;\n",
       "    }\n",
       "</style>\n",
       "<table border=\"1\" class=\"dataframe\">\n",
       "  <thead>\n",
       "    <tr style=\"text-align: right;\">\n",
       "      <th></th>\n",
       "      <th>city</th>\n",
       "      <th>country</th>\n",
       "      <th>id</th>\n",
       "    </tr>\n",
       "  </thead>\n",
       "  <tbody>\n",
       "    <tr>\n",
       "      <th>1</th>\n",
       "      <td>Ann Arbor, MI</td>\n",
       "      <td>US</td>\n",
       "      <td>arborbike</td>\n",
       "    </tr>\n",
       "    <tr>\n",
       "      <th>0</th>\n",
       "      <td>Aspen, CO</td>\n",
       "      <td>US</td>\n",
       "      <td>we-cycle</td>\n",
       "    </tr>\n",
       "    <tr>\n",
       "      <th>43</th>\n",
       "      <td>Atlanta, GA</td>\n",
       "      <td>US</td>\n",
       "      <td>relay-atlanta</td>\n",
       "    </tr>\n",
       "    <tr>\n",
       "      <th>2</th>\n",
       "      <td>Austin, TX</td>\n",
       "      <td>US</td>\n",
       "      <td>austin</td>\n",
       "    </tr>\n",
       "    <tr>\n",
       "      <th>6</th>\n",
       "      <td>Boise, ID</td>\n",
       "      <td>US</td>\n",
       "      <td>boise-greenbike</td>\n",
       "    </tr>\n",
       "  </tbody>\n",
       "</table>\n",
       "</div>"
      ],
      "text/plain": [
       "             city country               id\n",
       "1   Ann Arbor, MI      US        arborbike\n",
       "0       Aspen, CO      US         we-cycle\n",
       "43    Atlanta, GA      US    relay-atlanta\n",
       "2      Austin, TX      US           austin\n",
       "6       Boise, ID      US  boise-greenbike"
      ]
     },
     "execution_count": 227,
     "metadata": {},
     "output_type": "execute_result"
    }
   ],
   "source": [
    "# Peek at the egocentric nutty Cousin:\n",
    "USA = ctyBksCityCountry_df('US')\n",
    "USA.head(5)"
   ]
  },
  {
   "cell_type": "code",
   "execution_count": 83,
   "metadata": {},
   "outputs": [
    {
     "data": {
      "text/html": [
       "<div>\n",
       "<style scoped>\n",
       "    .dataframe tbody tr th:only-of-type {\n",
       "        vertical-align: middle;\n",
       "    }\n",
       "\n",
       "    .dataframe tbody tr th {\n",
       "        vertical-align: top;\n",
       "    }\n",
       "\n",
       "    .dataframe thead th {\n",
       "        text-align: right;\n",
       "    }\n",
       "</style>\n",
       "<table border=\"1\" class=\"dataframe\">\n",
       "  <thead>\n",
       "    <tr style=\"text-align: right;\">\n",
       "      <th></th>\n",
       "      <th>city</th>\n",
       "      <th>country</th>\n",
       "      <th>id</th>\n",
       "    </tr>\n",
       "  </thead>\n",
       "  <tbody>\n",
       "    <tr>\n",
       "      <th>99</th>\n",
       "      <td>Acquarica del Capo</td>\n",
       "      <td>IT</td>\n",
       "      <td>bicincitta-acquarica-del-capo</td>\n",
       "    </tr>\n",
       "    <tr>\n",
       "      <th>97</th>\n",
       "      <td>Acquaviva delle fonti</td>\n",
       "      <td>IT</td>\n",
       "      <td>bicincitta-acquaviva-delle-fonti</td>\n",
       "    </tr>\n",
       "    <tr>\n",
       "      <th>14</th>\n",
       "      <td>Alba</td>\n",
       "      <td>IT</td>\n",
       "      <td>alba</td>\n",
       "    </tr>\n",
       "    <tr>\n",
       "      <th>111</th>\n",
       "      <td>Alghero</td>\n",
       "      <td>IT</td>\n",
       "      <td>bicincitta-alghero</td>\n",
       "    </tr>\n",
       "    <tr>\n",
       "      <th>66</th>\n",
       "      <td>Andria</td>\n",
       "      <td>IT</td>\n",
       "      <td>andria</td>\n",
       "    </tr>\n",
       "  </tbody>\n",
       "</table>\n",
       "</div>"
      ],
      "text/plain": [
       "                      city country                                id\n",
       "99      Acquarica del Capo      IT     bicincitta-acquarica-del-capo\n",
       "97   Acquaviva delle fonti      IT  bicincitta-acquaviva-delle-fonti\n",
       "14                    Alba      IT                              alba\n",
       "111                Alghero      IT                bicincitta-alghero\n",
       "66                  Andria      IT                            andria"
      ]
     },
     "execution_count": 83,
     "metadata": {},
     "output_type": "execute_result"
    }
   ],
   "source": [
    "# If I traveled to Italy, I could eat well:\n",
    "Italy = ctyBksCityCountry_df('IT')\n",
    "Italy.head(5)"
   ]
  },
  {
   "cell_type": "markdown",
   "metadata": {},
   "source": [
    "## Send a request to CityBikes for the city of your choice. \n",
    "\n",
    "Sticking with Canada.  Its a tie between Toronto and Vancouver:"
   ]
  },
  {
   "cell_type": "code",
   "execution_count": 120,
   "metadata": {},
   "outputs": [],
   "source": [
    "dataSave = 0\n",
    "\n",
    "def ctyBks_cityData(cityName):\n",
    "  \"\"\"\n",
    "  input: Case insensitive string format of a city name, \n",
    "  output: [{dictionary}] from citybik.es API pertaining to the input city.\n",
    "  \"\"\"\n",
    "  ctyBksCity = str(cityName).lower()\n",
    "\n",
    "  ctyBks = requests.get('https://api.citybik.es/v2/networks').json()\n",
    "  num_of_networks = len(ctyBks['networks'])\n",
    "\n",
    "  cityData = []\n",
    "  for i in range(num_of_networks):\n",
    "    if ctyBksCity in ctyBks['networks'][i]['location']['city'].lower():\n",
    "      cityData.append(ctyBks['networks'][i])\n",
    "  \n",
    "  return cityData\n",
    "\n",
    "\n",
    "def ctyBks_cityStations(cityName):\n",
    "  \"\"\"\n",
    "  input: Case insensitive string format of a city name,\n",
    "  output: .json() get.request response from citybik.es API all stations to the input City.\n",
    "  \"\"\"\n",
    "  cityStations = ctyBks_cityData(cityName)\n",
    "\n",
    "  network_address = cityStations[0]['href']\n",
    "  url = f'https://api.citybik.es{network_address}'\n",
    "  stationData = requests.get(url).json()['network']['stations']\n",
    "\n",
    "  return stationData"
   ]
  },
  {
   "cell_type": "code",
   "execution_count": 219,
   "metadata": {},
   "outputs": [
    {
     "data": {
      "text/plain": [
       "[{'company': ['Vanncouver Bike Share Inc',\n",
       "   'CycleHop LLC',\n",
       "   'City of Vancouver',\n",
       "   'Smoove SAS'],\n",
       "  'href': '/v2/networks/mobibikes',\n",
       "  'id': 'mobibikes',\n",
       "  'location': {'city': 'Vancouver',\n",
       "   'country': 'CA',\n",
       "   'latitude': 49.2827,\n",
       "   'longitude': -123.1207},\n",
       "  'name': 'Mobi'}]"
      ]
     },
     "execution_count": 219,
     "metadata": {},
     "output_type": "execute_result"
    }
   ],
   "source": [
    "vanCtyBksData = ctyBks_cityData('vanCOUver')\n",
    "vanCtyBksData"
   ]
  },
  {
   "cell_type": "code",
   "execution_count": 218,
   "metadata": {},
   "outputs": [
    {
     "name": "stdout",
     "output_type": "stream",
     "text": [
      "Total number of bike Stations: 241\n"
     ]
    },
    {
     "data": {
      "text/plain": [
       "{'empty_slots': 16,\n",
       " 'extra': {'bank_card': False, 'slots': 35, 'status': 'online', 'uid': '0001'},\n",
       " 'free_bikes': 19,\n",
       " 'id': '7a19c49f486d7c0c02b3685d7b240448',\n",
       " 'latitude': 49.262487,\n",
       " 'longitude': -123.114397,\n",
       " 'name': '0001 10th & Cambie',\n",
       " 'timestamp': '2022-12-03T18:28:44.713000Z'}"
      ]
     },
     "execution_count": 218,
     "metadata": {},
     "output_type": "execute_result"
    }
   ],
   "source": [
    "ctyBksStns_Vanvouver = ctyBks_cityStations('vanCOUver')\n",
    "print(f'Total number of bike Stations: {len(ctyBksStns_Vanvouver)}')\n",
    "ctyBksStns_Vanvouver[0]"
   ]
  },
  {
   "cell_type": "code",
   "execution_count": 113,
   "metadata": {},
   "outputs": [
    {
     "data": {
      "text/plain": [
       "[{'company': ['Motivate International, Inc.', 'PBSC Urban Solutions'],\n",
       "  'gbfs_href': 'https://tor.publicbikesystem.net/ube/gbfs/v1/',\n",
       "  'href': '/v2/networks/bixi-toronto',\n",
       "  'id': 'bixi-toronto',\n",
       "  'location': {'city': 'Toronto, ON',\n",
       "   'country': 'CA',\n",
       "   'latitude': 43.653226,\n",
       "   'longitude': -79.3831843},\n",
       "  'name': 'Bike Share Toronto'}]"
      ]
     },
     "execution_count": 113,
     "metadata": {},
     "output_type": "execute_result"
    }
   ],
   "source": [
    "ctyBks_cityData('ToroNTO')"
   ]
  },
  {
   "cell_type": "code",
   "execution_count": 213,
   "metadata": {},
   "outputs": [
    {
     "name": "stdout",
     "output_type": "stream",
     "text": [
      "Total number of bike Stations: 655\n"
     ]
    },
    {
     "data": {
      "text/plain": [
       "{'empty_slots': 5,\n",
       " 'extra': {'address': 'Queen St E / Woodward Ave',\n",
       "  'altitude': 0.0,\n",
       "  'ebikes': 0,\n",
       "  'has_ebikes': True,\n",
       "  'last_updated': 1670091762,\n",
       "  'normal_bikes': 13,\n",
       "  'payment': ['key', 'transitcard', 'creditcard', 'phone'],\n",
       "  'payment-terminal': True,\n",
       "  'renting': 1,\n",
       "  'returning': 1,\n",
       "  'slots': 19,\n",
       "  'uid': '7303'},\n",
       " 'free_bikes': 13,\n",
       " 'id': 'fb337bbed72e2be090071e199899b2be',\n",
       " 'latitude': 43.665269,\n",
       " 'longitude': -79.319796,\n",
       " 'name': 'Queen St E / Woodward Ave',\n",
       " 'timestamp': '2022-12-03T18:27:11.540000Z'}"
      ]
     },
     "execution_count": 213,
     "metadata": {},
     "output_type": "execute_result"
    }
   ],
   "source": [
    "ctyBksStns_Toronto = ctyBks_cityStations('ToroNTO')\n",
    "print(f'Total number of bike Stations: {len(ctyBksStns_Toronto)}')\n",
    "ctyBksStns_Toronto[0]"
   ]
  },
  {
   "cell_type": "code",
   "execution_count": 123,
   "metadata": {},
   "outputs": [
    {
     "data": {
      "text/plain": [
       "{'empty_slots': 7,\n",
       " 'extra': {'address': 'Primrose Ave / Davenport Rd',\n",
       "  'altitude': 0.0,\n",
       "  'ebikes': 0,\n",
       "  'has_ebikes': True,\n",
       "  'last_updated': 1670056026,\n",
       "  'normal_bikes': 7,\n",
       "  'payment': ['key', 'transitcard', 'creditcard', 'phone'],\n",
       "  'payment-terminal': True,\n",
       "  'renting': 1,\n",
       "  'returning': 1,\n",
       "  'slots': 15,\n",
       "  'uid': '7301'},\n",
       " 'free_bikes': 7,\n",
       " 'id': '4ff88d5880e71aa40d34cfe5d09b0ca7',\n",
       " 'latitude': 43.67142,\n",
       " 'longitude': -79.445947,\n",
       " 'name': 'Primrose Ave / Davenport Rd',\n",
       " 'timestamp': '2022-12-03T08:31:55.830000Z'}"
      ]
     },
     "execution_count": 123,
     "metadata": {},
     "output_type": "execute_result"
    }
   ],
   "source": [
    "ctyBksStns_Toronto[1]"
   ]
  },
  {
   "cell_type": "markdown",
   "metadata": {},
   "source": [
    "Parse through the response to get the details you want for the bike stations in that city (latitude, longitude, number of bikes). "
   ]
  },
  {
   "cell_type": "code",
   "execution_count": 199,
   "metadata": {},
   "outputs": [],
   "source": [
    "def stationDataFrame(cityName):\n",
    "  data = ctyBks_cityStations(cityName)\n",
    "  df_list = []\n",
    "  for i in data:\n",
    "    stationData = {\n",
    "      'name': i['name']\n",
    "      , 'free_bikes': i['free_bikes']\n",
    "      , 'empty_slots': i['empty_slots']\n",
    "      , 'slots': i['extra']['slots']\n",
    "      , 'altitude': i['extra']['altitude']\n",
    "      , 'ebikes': i['extra']['ebikes']\n",
    "      , 'has_ebikes': i['extra']['has_ebikes']\n",
    "      , 'normal_bikes': i['extra']['normal_bikes']\n",
    "      , 'payment': i['extra']['payment']\n",
    "      , 'payment-terminal': i['extra']['payment-terminal']\n",
    "      , 'renting': i['extra']['renting']\n",
    "      , 'returning': i['extra']['returning']\n",
    "      , 'uid': i['extra']['uid']\n",
    "      , 'last_updated': i['extra']['last_updated']\n",
    "      , 'address': i['extra']['address']\n",
    "      , 'timestamp': i['timestamp']\n",
    "      , 'latitude': i['latitude']\n",
    "      , 'longitude': i['longitude']\n",
    "      , 'id': i['id']\n",
    "    }\n",
    "    df_list.append(stationData)\n",
    "  df = pd.DataFrame(df_list)\n",
    "\n",
    "  # Preserve each unique timestamped df with timestamped saves:\n",
    "  df.to_csv(f'../data/ctyBks_csv/df_ctybks_{cityName}({datetime.now()}).csv', index = False)\n",
    "  return df\n"
   ]
  },
  {
   "cell_type": "markdown",
   "metadata": {},
   "source": [
    "Put your parsed results into a DataFrame."
   ]
  },
  {
   "cell_type": "code",
   "execution_count": 220,
   "metadata": {},
   "outputs": [
    {
     "data": {
      "text/html": [
       "<div>\n",
       "<style scoped>\n",
       "    .dataframe tbody tr th:only-of-type {\n",
       "        vertical-align: middle;\n",
       "    }\n",
       "\n",
       "    .dataframe tbody tr th {\n",
       "        vertical-align: top;\n",
       "    }\n",
       "\n",
       "    .dataframe thead th {\n",
       "        text-align: right;\n",
       "    }\n",
       "</style>\n",
       "<table border=\"1\" class=\"dataframe\">\n",
       "  <thead>\n",
       "    <tr style=\"text-align: right;\">\n",
       "      <th></th>\n",
       "      <th>name</th>\n",
       "      <th>free_bikes</th>\n",
       "      <th>empty_slots</th>\n",
       "      <th>slots</th>\n",
       "      <th>altitude</th>\n",
       "      <th>ebikes</th>\n",
       "      <th>has_ebikes</th>\n",
       "      <th>normal_bikes</th>\n",
       "      <th>payment</th>\n",
       "      <th>payment-terminal</th>\n",
       "      <th>renting</th>\n",
       "      <th>returning</th>\n",
       "      <th>uid</th>\n",
       "      <th>last_updated</th>\n",
       "      <th>address</th>\n",
       "      <th>timestamp</th>\n",
       "      <th>latitude</th>\n",
       "      <th>longitude</th>\n",
       "      <th>id</th>\n",
       "    </tr>\n",
       "  </thead>\n",
       "  <tbody>\n",
       "    <tr>\n",
       "      <th>0</th>\n",
       "      <td>Queen St E / Woodward Ave</td>\n",
       "      <td>13</td>\n",
       "      <td>5</td>\n",
       "      <td>19</td>\n",
       "      <td>0.0</td>\n",
       "      <td>0</td>\n",
       "      <td>True</td>\n",
       "      <td>13</td>\n",
       "      <td>[key, transitcard, creditcard, phone]</td>\n",
       "      <td>True</td>\n",
       "      <td>1</td>\n",
       "      <td>1</td>\n",
       "      <td>7303</td>\n",
       "      <td>1670092301</td>\n",
       "      <td>Queen St E / Woodward Ave</td>\n",
       "      <td>2022-12-03T18:32:24.317000Z</td>\n",
       "      <td>43.665269</td>\n",
       "      <td>-79.319796</td>\n",
       "      <td>fb337bbed72e2be090071e199899b2be</td>\n",
       "    </tr>\n",
       "    <tr>\n",
       "      <th>1</th>\n",
       "      <td>Primrose Ave / Davenport Rd</td>\n",
       "      <td>7</td>\n",
       "      <td>7</td>\n",
       "      <td>15</td>\n",
       "      <td>0.0</td>\n",
       "      <td>0</td>\n",
       "      <td>True</td>\n",
       "      <td>7</td>\n",
       "      <td>[key, transitcard, creditcard, phone]</td>\n",
       "      <td>True</td>\n",
       "      <td>1</td>\n",
       "      <td>1</td>\n",
       "      <td>7301</td>\n",
       "      <td>1670092173</td>\n",
       "      <td>Primrose Ave / Davenport Rd</td>\n",
       "      <td>2022-12-03T18:32:24.323000Z</td>\n",
       "      <td>43.671420</td>\n",
       "      <td>-79.445947</td>\n",
       "      <td>4ff88d5880e71aa40d34cfe5d09b0ca7</td>\n",
       "    </tr>\n",
       "    <tr>\n",
       "      <th>2</th>\n",
       "      <td>Queen St. E / Rhodes Ave.</td>\n",
       "      <td>10</td>\n",
       "      <td>12</td>\n",
       "      <td>23</td>\n",
       "      <td>0.0</td>\n",
       "      <td>0</td>\n",
       "      <td>True</td>\n",
       "      <td>10</td>\n",
       "      <td>[key, transitcard, creditcard, phone]</td>\n",
       "      <td>True</td>\n",
       "      <td>1</td>\n",
       "      <td>1</td>\n",
       "      <td>7309</td>\n",
       "      <td>1670092289</td>\n",
       "      <td>Queen St. E / Rhodes Ave.</td>\n",
       "      <td>2022-12-03T18:32:24.324000Z</td>\n",
       "      <td>43.666224</td>\n",
       "      <td>-79.317693</td>\n",
       "      <td>a09c67c0b419654d907c9134b108e328</td>\n",
       "    </tr>\n",
       "    <tr>\n",
       "      <th>3</th>\n",
       "      <td>Bond St / Queen St E</td>\n",
       "      <td>12</td>\n",
       "      <td>12</td>\n",
       "      <td>25</td>\n",
       "      <td>0.0</td>\n",
       "      <td>0</td>\n",
       "      <td>True</td>\n",
       "      <td>12</td>\n",
       "      <td>[key, transitcard, creditcard, phone]</td>\n",
       "      <td>True</td>\n",
       "      <td>1</td>\n",
       "      <td>1</td>\n",
       "      <td>7045</td>\n",
       "      <td>1670092256</td>\n",
       "      <td>Bond St / Queen St E</td>\n",
       "      <td>2022-12-03T18:32:24.334000Z</td>\n",
       "      <td>43.653236</td>\n",
       "      <td>-79.376716</td>\n",
       "      <td>d6a9daee68070a8b106cfb598d81308c</td>\n",
       "    </tr>\n",
       "    <tr>\n",
       "      <th>4</th>\n",
       "      <td>Church St / Alexander St</td>\n",
       "      <td>0</td>\n",
       "      <td>12</td>\n",
       "      <td>15</td>\n",
       "      <td>0.0</td>\n",
       "      <td>0</td>\n",
       "      <td>True</td>\n",
       "      <td>0</td>\n",
       "      <td>[key, transitcard, creditcard, phone]</td>\n",
       "      <td>True</td>\n",
       "      <td>1</td>\n",
       "      <td>1</td>\n",
       "      <td>7044</td>\n",
       "      <td>1670092301</td>\n",
       "      <td>Church St / Alexander St</td>\n",
       "      <td>2022-12-03T18:32:24.334000Z</td>\n",
       "      <td>43.663722</td>\n",
       "      <td>-79.380288</td>\n",
       "      <td>8f8af40d9388c8a3962559e8681d3db7</td>\n",
       "    </tr>\n",
       "  </tbody>\n",
       "</table>\n",
       "</div>"
      ],
      "text/plain": [
       "                          name  free_bikes  empty_slots  slots  altitude  \\\n",
       "0    Queen St E / Woodward Ave          13            5     19       0.0   \n",
       "1  Primrose Ave / Davenport Rd           7            7     15       0.0   \n",
       "2    Queen St. E / Rhodes Ave.          10           12     23       0.0   \n",
       "3         Bond St / Queen St E          12           12     25       0.0   \n",
       "4     Church St / Alexander St           0           12     15       0.0   \n",
       "\n",
       "   ebikes  has_ebikes  normal_bikes                                payment  \\\n",
       "0       0        True            13  [key, transitcard, creditcard, phone]   \n",
       "1       0        True             7  [key, transitcard, creditcard, phone]   \n",
       "2       0        True            10  [key, transitcard, creditcard, phone]   \n",
       "3       0        True            12  [key, transitcard, creditcard, phone]   \n",
       "4       0        True             0  [key, transitcard, creditcard, phone]   \n",
       "\n",
       "   payment-terminal  renting  returning   uid  last_updated  \\\n",
       "0              True        1          1  7303    1670092301   \n",
       "1              True        1          1  7301    1670092173   \n",
       "2              True        1          1  7309    1670092289   \n",
       "3              True        1          1  7045    1670092256   \n",
       "4              True        1          1  7044    1670092301   \n",
       "\n",
       "                       address                    timestamp   latitude  \\\n",
       "0    Queen St E / Woodward Ave  2022-12-03T18:32:24.317000Z  43.665269   \n",
       "1  Primrose Ave / Davenport Rd  2022-12-03T18:32:24.323000Z  43.671420   \n",
       "2    Queen St. E / Rhodes Ave.  2022-12-03T18:32:24.324000Z  43.666224   \n",
       "3         Bond St / Queen St E  2022-12-03T18:32:24.334000Z  43.653236   \n",
       "4     Church St / Alexander St  2022-12-03T18:32:24.334000Z  43.663722   \n",
       "\n",
       "   longitude                                id  \n",
       "0 -79.319796  fb337bbed72e2be090071e199899b2be  \n",
       "1 -79.445947  4ff88d5880e71aa40d34cfe5d09b0ca7  \n",
       "2 -79.317693  a09c67c0b419654d907c9134b108e328  \n",
       "3 -79.376716  d6a9daee68070a8b106cfb598d81308c  \n",
       "4 -79.380288  8f8af40d9388c8a3962559e8681d3db7  "
      ]
     },
     "execution_count": 220,
     "metadata": {},
     "output_type": "execute_result"
    }
   ],
   "source": [
    "df = stationDataFrame('toronto')\n",
    "df.head()"
   ]
  },
  {
   "cell_type": "code",
   "execution_count": 202,
   "metadata": {},
   "outputs": [
    {
     "data": {
      "text/plain": [
       "(655, 19)"
      ]
     },
     "execution_count": 202,
     "metadata": {},
     "output_type": "execute_result"
    }
   ],
   "source": [
    "df.shape"
   ]
  },
  {
   "cell_type": "code",
   "execution_count": 204,
   "metadata": {},
   "outputs": [
    {
     "data": {
      "text/html": [
       "<div>\n",
       "<style scoped>\n",
       "    .dataframe tbody tr th:only-of-type {\n",
       "        vertical-align: middle;\n",
       "    }\n",
       "\n",
       "    .dataframe tbody tr th {\n",
       "        vertical-align: top;\n",
       "    }\n",
       "\n",
       "    .dataframe thead th {\n",
       "        text-align: right;\n",
       "    }\n",
       "</style>\n",
       "<table border=\"1\" class=\"dataframe\">\n",
       "  <thead>\n",
       "    <tr style=\"text-align: right;\">\n",
       "      <th></th>\n",
       "      <th>free_bikes</th>\n",
       "      <th>empty_slots</th>\n",
       "      <th>slots</th>\n",
       "      <th>altitude</th>\n",
       "      <th>ebikes</th>\n",
       "      <th>normal_bikes</th>\n",
       "      <th>renting</th>\n",
       "      <th>returning</th>\n",
       "      <th>last_updated</th>\n",
       "      <th>latitude</th>\n",
       "      <th>longitude</th>\n",
       "    </tr>\n",
       "  </thead>\n",
       "  <tbody>\n",
       "    <tr>\n",
       "      <th>count</th>\n",
       "      <td>655.000000</td>\n",
       "      <td>655.000000</td>\n",
       "      <td>655.000000</td>\n",
       "      <td>645.000000</td>\n",
       "      <td>655.000000</td>\n",
       "      <td>655.000000</td>\n",
       "      <td>655.0</td>\n",
       "      <td>655.0</td>\n",
       "      <td>6.550000e+02</td>\n",
       "      <td>655.000000</td>\n",
       "      <td>655.000000</td>\n",
       "    </tr>\n",
       "    <tr>\n",
       "      <th>mean</th>\n",
       "      <td>8.740458</td>\n",
       "      <td>9.421374</td>\n",
       "      <td>18.893130</td>\n",
       "      <td>0.173767</td>\n",
       "      <td>0.045802</td>\n",
       "      <td>8.694656</td>\n",
       "      <td>1.0</td>\n",
       "      <td>1.0</td>\n",
       "      <td>1.670066e+09</td>\n",
       "      <td>43.666004</td>\n",
       "      <td>-79.393227</td>\n",
       "    </tr>\n",
       "    <tr>\n",
       "      <th>std</th>\n",
       "      <td>6.739345</td>\n",
       "      <td>6.853837</td>\n",
       "      <td>6.273399</td>\n",
       "      <td>4.038028</td>\n",
       "      <td>0.578179</td>\n",
       "      <td>6.747627</td>\n",
       "      <td>0.0</td>\n",
       "      <td>0.0</td>\n",
       "      <td>7.871636e+01</td>\n",
       "      <td>0.028695</td>\n",
       "      <td>0.057671</td>\n",
       "    </tr>\n",
       "    <tr>\n",
       "      <th>min</th>\n",
       "      <td>0.000000</td>\n",
       "      <td>0.000000</td>\n",
       "      <td>0.000000</td>\n",
       "      <td>0.000000</td>\n",
       "      <td>0.000000</td>\n",
       "      <td>0.000000</td>\n",
       "      <td>1.0</td>\n",
       "      <td>1.0</td>\n",
       "      <td>1.670066e+09</td>\n",
       "      <td>43.588077</td>\n",
       "      <td>-79.545827</td>\n",
       "    </tr>\n",
       "    <tr>\n",
       "      <th>25%</th>\n",
       "      <td>3.000000</td>\n",
       "      <td>4.000000</td>\n",
       "      <td>15.000000</td>\n",
       "      <td>0.000000</td>\n",
       "      <td>0.000000</td>\n",
       "      <td>3.000000</td>\n",
       "      <td>1.0</td>\n",
       "      <td>1.0</td>\n",
       "      <td>1.670066e+09</td>\n",
       "      <td>43.648658</td>\n",
       "      <td>-79.425197</td>\n",
       "    </tr>\n",
       "    <tr>\n",
       "      <th>50%</th>\n",
       "      <td>7.000000</td>\n",
       "      <td>9.000000</td>\n",
       "      <td>19.000000</td>\n",
       "      <td>0.000000</td>\n",
       "      <td>0.000000</td>\n",
       "      <td>7.000000</td>\n",
       "      <td>1.0</td>\n",
       "      <td>1.0</td>\n",
       "      <td>1.670066e+09</td>\n",
       "      <td>43.660833</td>\n",
       "      <td>-79.393249</td>\n",
       "    </tr>\n",
       "    <tr>\n",
       "      <th>75%</th>\n",
       "      <td>13.000000</td>\n",
       "      <td>14.000000</td>\n",
       "      <td>22.000000</td>\n",
       "      <td>0.000000</td>\n",
       "      <td>0.000000</td>\n",
       "      <td>13.000000</td>\n",
       "      <td>1.0</td>\n",
       "      <td>1.0</td>\n",
       "      <td>1.670066e+09</td>\n",
       "      <td>43.676403</td>\n",
       "      <td>-79.369930</td>\n",
       "    </tr>\n",
       "    <tr>\n",
       "      <th>max</th>\n",
       "      <td>54.000000</td>\n",
       "      <td>44.000000</td>\n",
       "      <td>56.000000</td>\n",
       "      <td>102.080000</td>\n",
       "      <td>12.000000</td>\n",
       "      <td>54.000000</td>\n",
       "      <td>1.0</td>\n",
       "      <td>1.0</td>\n",
       "      <td>1.670066e+09</td>\n",
       "      <td>43.788319</td>\n",
       "      <td>-79.123505</td>\n",
       "    </tr>\n",
       "  </tbody>\n",
       "</table>\n",
       "</div>"
      ],
      "text/plain": [
       "       free_bikes  empty_slots       slots    altitude      ebikes  \\\n",
       "count  655.000000   655.000000  655.000000  645.000000  655.000000   \n",
       "mean     8.740458     9.421374   18.893130    0.173767    0.045802   \n",
       "std      6.739345     6.853837    6.273399    4.038028    0.578179   \n",
       "min      0.000000     0.000000    0.000000    0.000000    0.000000   \n",
       "25%      3.000000     4.000000   15.000000    0.000000    0.000000   \n",
       "50%      7.000000     9.000000   19.000000    0.000000    0.000000   \n",
       "75%     13.000000    14.000000   22.000000    0.000000    0.000000   \n",
       "max     54.000000    44.000000   56.000000  102.080000   12.000000   \n",
       "\n",
       "       normal_bikes  renting  returning  last_updated    latitude   longitude  \n",
       "count    655.000000    655.0      655.0  6.550000e+02  655.000000  655.000000  \n",
       "mean       8.694656      1.0        1.0  1.670066e+09   43.666004  -79.393227  \n",
       "std        6.747627      0.0        0.0  7.871636e+01    0.028695    0.057671  \n",
       "min        0.000000      1.0        1.0  1.670066e+09   43.588077  -79.545827  \n",
       "25%        3.000000      1.0        1.0  1.670066e+09   43.648658  -79.425197  \n",
       "50%        7.000000      1.0        1.0  1.670066e+09   43.660833  -79.393249  \n",
       "75%       13.000000      1.0        1.0  1.670066e+09   43.676403  -79.369930  \n",
       "max       54.000000      1.0        1.0  1.670066e+09   43.788319  -79.123505  "
      ]
     },
     "execution_count": 204,
     "metadata": {},
     "output_type": "execute_result"
    }
   ],
   "source": [
    "df.describe()"
   ]
  },
  {
   "cell_type": "code",
   "execution_count": 223,
   "metadata": {},
   "outputs": [],
   "source": [
    "import datetime as dt\n",
    "from datetime import datetime"
   ]
  },
  {
   "cell_type": "code",
   "execution_count": 224,
   "metadata": {},
   "outputs": [
    {
     "data": {
      "text/plain": [
       "str"
      ]
     },
     "execution_count": 224,
     "metadata": {},
     "output_type": "execute_result"
    }
   ],
   "source": [
    "type(df['timestamp'][0])"
   ]
  },
  {
   "cell_type": "code",
   "execution_count": 225,
   "metadata": {},
   "outputs": [
    {
     "name": "stdout",
     "output_type": "stream",
     "text": [
      "2022-12-03T18:32:24.600000Z\n",
      "2022-12-03\n",
      "18:32\n",
      "600000Z\n"
     ]
    }
   ],
   "source": [
    "print(df['timestamp'][100])\n",
    "date, time = df['timestamp'][100].split('T')\n",
    "print(date)\n",
    "time, tz = time.split('.')\n",
    "time = f'{time[:-3]}'\n",
    "print(time)\n",
    "print(tz)"
   ]
  },
  {
   "cell_type": "code",
   "execution_count": 226,
   "metadata": {},
   "outputs": [
    {
     "data": {
      "text/plain": [
       "'2022-12-03T18:32:24.600000Z'"
      ]
     },
     "execution_count": 226,
     "metadata": {},
     "output_type": "execute_result"
    }
   ],
   "source": [
    "df['timestamp'][100]"
   ]
  },
  {
   "cell_type": "code",
   "execution_count": null,
   "metadata": {},
   "outputs": [],
   "source": []
  }
 ],
 "metadata": {
  "kernelspec": {
   "display_name": "Python 3.10.8 ('base_env')",
   "language": "python",
   "name": "python3"
  },
  "language_info": {
   "codemirror_mode": {
    "name": "ipython",
    "version": 3
   },
   "file_extension": ".py",
   "mimetype": "text/x-python",
   "name": "python",
   "nbconvert_exporter": "python",
   "pygments_lexer": "ipython3",
   "version": "3.10.8"
  },
  "vscode": {
   "interpreter": {
    "hash": "39512f3c2a1741d7f752d45a133d4514127029333ea14bc2f3c6c5e6759b9029"
   }
  }
 },
 "nbformat": 4,
 "nbformat_minor": 4
}
